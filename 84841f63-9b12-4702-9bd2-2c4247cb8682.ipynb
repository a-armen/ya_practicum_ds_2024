{
 "cells": [
  {
   "cell_type": "markdown",
   "id": "cf3a5060",
   "metadata": {},
   "source": [
    "<div style=\"border:solid Purple 2px; padding: 40px\">\n",
    "\n",
    "<b>Привет, Армен!👋\n",
    "\n",
    "Меня зовут Эльвира, я буду ревьюером твоего проекта. Предлагаю общаться на «ты», но если это не удобно - дай мне знать, и мы перейдем на «вы».\n",
    "\n",
    "\n",
    "Ты можешь найти мои комментарии, обозначенные <font color='green'>зеленым</font>, <font color='gold'>желтым</font> и <font color='red'>красным</font> цветами, например:\n",
    "\n",
    "\n",
    "<div class=\"alert alert-success\">\n",
    "<h2> Комментарий ревьюера 😊<a class=\"tocSkip\"> </h2>\n",
    "    \n",
    "Такими комментариями я буду помечать отлично проделаную работу😉\n",
    "</div>\n",
    "    \n",
    "<div class=\"alert alert-warning\">\n",
    "<h2> Комментарий ревьюера 🤓<a class=\"tocSkip\"> </h2>\n",
    "        \n",
    "В таких комментариях я постараюсь подсказать тебе более элегантное или легкое решение, некоторые хитрости и фишки. Части проекта, помеченные такими комментариями, можно не исправлять, но рекомендую обратить на них внимание.</div>\n",
    "\n",
    "<div class=\"alert alert-block alert-danger\">\n",
    "<h2> Комментарий ревьюера ⛔️<a class=\"tocSkip\"></h2>\n",
    "    \n",
    "В случае, когда решение на отдельном шаге требует существенной переработки и внесения правок. Если ты видишь такой комментарий, значит здесть есть недочет, который следует исправить.\n",
    "</div>\n",
    "\n",
    "Ты также можешь реагировать на мои комментарии своими, выделяя их цветами и наиболее понравившимся тебе способом оформления, но явно  отличающимся от моих комментариев. Это нужно, чтобы не создавалась путаница🙃\n",
    "    \n",
    "`<div class=\"alert alert-info\"> <b>Комментарий студента:</b> Например, вот так.</div>`\n",
    "\n",
    "Чтобы сделать подобный блок, кликни здесь дважды и скопируй всю предыдущую строку ;)\n",
    "    \n",
    "Пожалуйста, не удаляй и не перемещай мои комментарии, они будут особенно полезны для нашей работы в случае повторной проверки проекта.</div></b>"
   ]
  },
  {
   "cell_type": "markdown",
   "id": "b7b3d396",
   "metadata": {},
   "source": [
    "# Статистический анализ данных\n",
    "\n",
    "Вы аналитик популярного сервиса аренды самокатов GoFast. Вам передали данные о некоторых пользователях из нескольких городов, а также об их поездках. Проанализируйте данные и проверьте некоторые гипотезы, которые могут помочь бизнесу вырасти.\n",
    "Чтобы совершать поездки по городу, пользователи сервиса GoFast пользуются мобильным приложением. Сервисом можно пользоваться:\n",
    "\n",
    "1. Без подписки:\n",
    "      - абонентская плата отсутствует;\n",
    "      - стоимость одной минуты поездки — 8 рублей;\n",
    "      - стоимость старта (начала поездки) — 50 рублей;\n",
    "\n",
    "\n",
    "2. С подпиской Ultra:\n",
    "      - абонентская плата — 199 рублей в месяц;\n",
    "      - стоимость одной минуты поездки — 6 рублей;\n",
    "      - стоимость старта — бесплатно.\n",
    "\n"
   ]
  },
  {
   "cell_type": "markdown",
   "id": "955736af",
   "metadata": {},
   "source": [
    "<div class=\"alert alert-warning\">\n",
    "<h2> Комментарий ревьюера 🤓<a class=\"tocSkip\"> </h2>\n",
    "    \n",
    "Введение можно улучшить, если в описании проекта мы добавим основные задачи, особенно с позиции бизнес задачи, которая решается, описание данных и краткий план работы, основные этапы, которые мы должны выполнить."
   ]
  },
  {
   "cell_type": "code",
   "execution_count": 1,
   "id": "72576667",
   "metadata": {},
   "outputs": [],
   "source": [
    "import pandas as pd\n",
    "import matplotlib.pyplot as plt\n",
    "import numpy as np\n",
    "import scipy.stats as st\n",
    "from scipy.stats import binom, poisson, norm\n",
    "from math import factorial, sqrt"
   ]
  },
  {
   "cell_type": "markdown",
   "id": "8236f26d",
   "metadata": {},
   "source": [
    "<div class=\"alert alert-success\">\n",
    "<h2> Комментарий ревьюера 😊<a class=\"tocSkip\"> </h2>\n",
    " \n",
    "Молодец, что загружаешь все библиотеки в начале проекта. Так сложней случайно удалить ячейку с загрузкой нужной библиотеки и сделать код не работающим. А получатель отчета сразу поймет, какие библиотеки ты используешь и какие ему нужно установить для запуска проекта.\n",
    "\n",
    "Все ли библиотеки используются? Лучше оставить только используемые в данном проекте)\n",
    "</div>"
   ]
  },
  {
   "cell_type": "markdown",
   "id": "c42cbe00",
   "metadata": {},
   "source": [
    "#### Шаг 1. Загрузка данных"
   ]
  },
  {
   "cell_type": "code",
   "execution_count": 2,
   "id": "eff9f206",
   "metadata": {},
   "outputs": [],
   "source": [
    "try:\n",
    "    data_users = pd.read_csv('/datasets/users_go.csv')\n",
    "    data_rides = pd.read_csv('/datasets/rides_go.csv')\n",
    "    data_subscriptions = pd.read_csv('/datasets/subscriptions_go.csv')\n",
    "    \n",
    "except:\n",
    "    data_users = pd.read_csv('users_go.csv')\n",
    "    data_rides = pd.read_csv('rides_go.csv')\n",
    "    data_subscriptions = pd.read_csv('subscriptions_go.csv')\n"
   ]
  },
  {
   "cell_type": "code",
   "execution_count": 3,
   "id": "f1169f52",
   "metadata": {},
   "outputs": [],
   "source": [
    "# функция получения информации о датафрейме\n",
    "def info_dataframe(dataframe):\n",
    "    print('Отображение таблицы:')\n",
    "    display(dataframe.head())\n",
    "    print()\n",
    "    print('Общая иинформация:')\n",
    "    display(dataframe.info())\n",
    "    print()\n",
    "    print('Пропуски в таблице:')\n",
    "    display(dataframe.isna().sum())\n",
    "    print()\n",
    "    print('Дубликаты в таблице:', dataframe.duplicated().sum())\n"
   ]
  },
  {
   "cell_type": "code",
   "execution_count": 4,
   "id": "237f0175",
   "metadata": {},
   "outputs": [],
   "source": [
    "# вспомогательная функция для отображения дубликатов и пропусков\n",
    "def dataframe_duplicated_isna(dataframe):\n",
    "    print('Пропуски в таблице:')\n",
    "    display(dataframe.isna().sum())\n",
    "    print()\n",
    "    print('Дубликаты в таблице:', dataframe.duplicated().sum())\n"
   ]
  },
  {
   "cell_type": "markdown",
   "id": "d2ee0106",
   "metadata": {},
   "source": [
    "<div class=\"alert alert-success\">\n",
    "<h2> Комментарий ревьюера 😊<a class=\"tocSkip\"> </h2>\n",
    " \n",
    "Здорово, что используешь функции для автоматизации) "
   ]
  },
  {
   "cell_type": "markdown",
   "id": "9ada049f",
   "metadata": {},
   "source": [
    "**Таблица \"пользователи\" (users_go)**"
   ]
  },
  {
   "cell_type": "code",
   "execution_count": 5,
   "id": "67f0d43f",
   "metadata": {},
   "outputs": [
    {
     "name": "stdout",
     "output_type": "stream",
     "text": [
      "Отображение таблицы:\n"
     ]
    },
    {
     "data": {
      "text/html": [
       "<div>\n",
       "<style scoped>\n",
       "    .dataframe tbody tr th:only-of-type {\n",
       "        vertical-align: middle;\n",
       "    }\n",
       "\n",
       "    .dataframe tbody tr th {\n",
       "        vertical-align: top;\n",
       "    }\n",
       "\n",
       "    .dataframe thead th {\n",
       "        text-align: right;\n",
       "    }\n",
       "</style>\n",
       "<table border=\"1\" class=\"dataframe\">\n",
       "  <thead>\n",
       "    <tr style=\"text-align: right;\">\n",
       "      <th></th>\n",
       "      <th>user_id</th>\n",
       "      <th>name</th>\n",
       "      <th>age</th>\n",
       "      <th>city</th>\n",
       "      <th>subscription_type</th>\n",
       "    </tr>\n",
       "  </thead>\n",
       "  <tbody>\n",
       "    <tr>\n",
       "      <th>0</th>\n",
       "      <td>1</td>\n",
       "      <td>Кира</td>\n",
       "      <td>22</td>\n",
       "      <td>Тюмень</td>\n",
       "      <td>ultra</td>\n",
       "    </tr>\n",
       "    <tr>\n",
       "      <th>1</th>\n",
       "      <td>2</td>\n",
       "      <td>Станислав</td>\n",
       "      <td>31</td>\n",
       "      <td>Омск</td>\n",
       "      <td>ultra</td>\n",
       "    </tr>\n",
       "    <tr>\n",
       "      <th>2</th>\n",
       "      <td>3</td>\n",
       "      <td>Алексей</td>\n",
       "      <td>20</td>\n",
       "      <td>Москва</td>\n",
       "      <td>ultra</td>\n",
       "    </tr>\n",
       "    <tr>\n",
       "      <th>3</th>\n",
       "      <td>4</td>\n",
       "      <td>Константин</td>\n",
       "      <td>26</td>\n",
       "      <td>Ростов-на-Дону</td>\n",
       "      <td>ultra</td>\n",
       "    </tr>\n",
       "    <tr>\n",
       "      <th>4</th>\n",
       "      <td>5</td>\n",
       "      <td>Адель</td>\n",
       "      <td>28</td>\n",
       "      <td>Омск</td>\n",
       "      <td>ultra</td>\n",
       "    </tr>\n",
       "  </tbody>\n",
       "</table>\n",
       "</div>"
      ],
      "text/plain": [
       "   user_id        name  age            city subscription_type\n",
       "0        1        Кира   22          Тюмень             ultra\n",
       "1        2   Станислав   31            Омск             ultra\n",
       "2        3     Алексей   20          Москва             ultra\n",
       "3        4  Константин   26  Ростов-на-Дону             ultra\n",
       "4        5       Адель   28            Омск             ultra"
      ]
     },
     "metadata": {},
     "output_type": "display_data"
    },
    {
     "name": "stdout",
     "output_type": "stream",
     "text": [
      "\n",
      "Общая иинформация:\n",
      "<class 'pandas.core.frame.DataFrame'>\n",
      "RangeIndex: 1565 entries, 0 to 1564\n",
      "Data columns (total 5 columns):\n",
      " #   Column             Non-Null Count  Dtype \n",
      "---  ------             --------------  ----- \n",
      " 0   user_id            1565 non-null   int64 \n",
      " 1   name               1565 non-null   object\n",
      " 2   age                1565 non-null   int64 \n",
      " 3   city               1565 non-null   object\n",
      " 4   subscription_type  1565 non-null   object\n",
      "dtypes: int64(2), object(3)\n",
      "memory usage: 61.3+ KB\n"
     ]
    },
    {
     "data": {
      "text/plain": [
       "None"
      ]
     },
     "metadata": {},
     "output_type": "display_data"
    },
    {
     "name": "stdout",
     "output_type": "stream",
     "text": [
      "\n",
      "Пропуски в таблице:\n"
     ]
    },
    {
     "data": {
      "text/plain": [
       "user_id              0\n",
       "name                 0\n",
       "age                  0\n",
       "city                 0\n",
       "subscription_type    0\n",
       "dtype: int64"
      ]
     },
     "metadata": {},
     "output_type": "display_data"
    },
    {
     "name": "stdout",
     "output_type": "stream",
     "text": [
      "\n",
      "Дубликаты в таблице: 31\n"
     ]
    }
   ],
   "source": [
    "info_dataframe(data_users)"
   ]
  },
  {
   "cell_type": "markdown",
   "id": "5f063acd",
   "metadata": {},
   "source": [
    "**Таблица \"поездки\" (rides_go)**"
   ]
  },
  {
   "cell_type": "code",
   "execution_count": 6,
   "id": "839706ca",
   "metadata": {},
   "outputs": [
    {
     "name": "stdout",
     "output_type": "stream",
     "text": [
      "Отображение таблицы:\n"
     ]
    },
    {
     "data": {
      "text/html": [
       "<div>\n",
       "<style scoped>\n",
       "    .dataframe tbody tr th:only-of-type {\n",
       "        vertical-align: middle;\n",
       "    }\n",
       "\n",
       "    .dataframe tbody tr th {\n",
       "        vertical-align: top;\n",
       "    }\n",
       "\n",
       "    .dataframe thead th {\n",
       "        text-align: right;\n",
       "    }\n",
       "</style>\n",
       "<table border=\"1\" class=\"dataframe\">\n",
       "  <thead>\n",
       "    <tr style=\"text-align: right;\">\n",
       "      <th></th>\n",
       "      <th>user_id</th>\n",
       "      <th>distance</th>\n",
       "      <th>duration</th>\n",
       "      <th>date</th>\n",
       "    </tr>\n",
       "  </thead>\n",
       "  <tbody>\n",
       "    <tr>\n",
       "      <th>0</th>\n",
       "      <td>1</td>\n",
       "      <td>4409.919140</td>\n",
       "      <td>25.599769</td>\n",
       "      <td>2021-01-01</td>\n",
       "    </tr>\n",
       "    <tr>\n",
       "      <th>1</th>\n",
       "      <td>1</td>\n",
       "      <td>2617.592153</td>\n",
       "      <td>15.816871</td>\n",
       "      <td>2021-01-18</td>\n",
       "    </tr>\n",
       "    <tr>\n",
       "      <th>2</th>\n",
       "      <td>1</td>\n",
       "      <td>754.159807</td>\n",
       "      <td>6.232113</td>\n",
       "      <td>2021-04-20</td>\n",
       "    </tr>\n",
       "    <tr>\n",
       "      <th>3</th>\n",
       "      <td>1</td>\n",
       "      <td>2694.783254</td>\n",
       "      <td>18.511000</td>\n",
       "      <td>2021-08-11</td>\n",
       "    </tr>\n",
       "    <tr>\n",
       "      <th>4</th>\n",
       "      <td>1</td>\n",
       "      <td>4028.687306</td>\n",
       "      <td>26.265803</td>\n",
       "      <td>2021-08-28</td>\n",
       "    </tr>\n",
       "  </tbody>\n",
       "</table>\n",
       "</div>"
      ],
      "text/plain": [
       "   user_id     distance   duration        date\n",
       "0        1  4409.919140  25.599769  2021-01-01\n",
       "1        1  2617.592153  15.816871  2021-01-18\n",
       "2        1   754.159807   6.232113  2021-04-20\n",
       "3        1  2694.783254  18.511000  2021-08-11\n",
       "4        1  4028.687306  26.265803  2021-08-28"
      ]
     },
     "metadata": {},
     "output_type": "display_data"
    },
    {
     "name": "stdout",
     "output_type": "stream",
     "text": [
      "\n",
      "Общая иинформация:\n",
      "<class 'pandas.core.frame.DataFrame'>\n",
      "RangeIndex: 18068 entries, 0 to 18067\n",
      "Data columns (total 4 columns):\n",
      " #   Column    Non-Null Count  Dtype  \n",
      "---  ------    --------------  -----  \n",
      " 0   user_id   18068 non-null  int64  \n",
      " 1   distance  18068 non-null  float64\n",
      " 2   duration  18068 non-null  float64\n",
      " 3   date      18068 non-null  object \n",
      "dtypes: float64(2), int64(1), object(1)\n",
      "memory usage: 564.8+ KB\n"
     ]
    },
    {
     "data": {
      "text/plain": [
       "None"
      ]
     },
     "metadata": {},
     "output_type": "display_data"
    },
    {
     "name": "stdout",
     "output_type": "stream",
     "text": [
      "\n",
      "Пропуски в таблице:\n"
     ]
    },
    {
     "data": {
      "text/plain": [
       "user_id     0\n",
       "distance    0\n",
       "duration    0\n",
       "date        0\n",
       "dtype: int64"
      ]
     },
     "metadata": {},
     "output_type": "display_data"
    },
    {
     "name": "stdout",
     "output_type": "stream",
     "text": [
      "\n",
      "Дубликаты в таблице: 0\n"
     ]
    }
   ],
   "source": [
    "info_dataframe(data_rides)"
   ]
  },
  {
   "cell_type": "markdown",
   "id": "8ac74613",
   "metadata": {},
   "source": [
    "**Таблица \"подписки\" (subscriptions_go)**"
   ]
  },
  {
   "cell_type": "code",
   "execution_count": 7,
   "id": "098c79e4",
   "metadata": {},
   "outputs": [
    {
     "name": "stdout",
     "output_type": "stream",
     "text": [
      "Отображение таблицы:\n"
     ]
    },
    {
     "data": {
      "text/html": [
       "<div>\n",
       "<style scoped>\n",
       "    .dataframe tbody tr th:only-of-type {\n",
       "        vertical-align: middle;\n",
       "    }\n",
       "\n",
       "    .dataframe tbody tr th {\n",
       "        vertical-align: top;\n",
       "    }\n",
       "\n",
       "    .dataframe thead th {\n",
       "        text-align: right;\n",
       "    }\n",
       "</style>\n",
       "<table border=\"1\" class=\"dataframe\">\n",
       "  <thead>\n",
       "    <tr style=\"text-align: right;\">\n",
       "      <th></th>\n",
       "      <th>subscription_type</th>\n",
       "      <th>minute_price</th>\n",
       "      <th>start_ride_price</th>\n",
       "      <th>subscription_fee</th>\n",
       "    </tr>\n",
       "  </thead>\n",
       "  <tbody>\n",
       "    <tr>\n",
       "      <th>0</th>\n",
       "      <td>free</td>\n",
       "      <td>8</td>\n",
       "      <td>50</td>\n",
       "      <td>0</td>\n",
       "    </tr>\n",
       "    <tr>\n",
       "      <th>1</th>\n",
       "      <td>ultra</td>\n",
       "      <td>6</td>\n",
       "      <td>0</td>\n",
       "      <td>199</td>\n",
       "    </tr>\n",
       "  </tbody>\n",
       "</table>\n",
       "</div>"
      ],
      "text/plain": [
       "  subscription_type  minute_price  start_ride_price  subscription_fee\n",
       "0              free             8                50                 0\n",
       "1             ultra             6                 0               199"
      ]
     },
     "metadata": {},
     "output_type": "display_data"
    },
    {
     "name": "stdout",
     "output_type": "stream",
     "text": [
      "\n",
      "Общая иинформация:\n",
      "<class 'pandas.core.frame.DataFrame'>\n",
      "RangeIndex: 2 entries, 0 to 1\n",
      "Data columns (total 4 columns):\n",
      " #   Column             Non-Null Count  Dtype \n",
      "---  ------             --------------  ----- \n",
      " 0   subscription_type  2 non-null      object\n",
      " 1   minute_price       2 non-null      int64 \n",
      " 2   start_ride_price   2 non-null      int64 \n",
      " 3   subscription_fee   2 non-null      int64 \n",
      "dtypes: int64(3), object(1)\n",
      "memory usage: 192.0+ bytes\n"
     ]
    },
    {
     "data": {
      "text/plain": [
       "None"
      ]
     },
     "metadata": {},
     "output_type": "display_data"
    },
    {
     "name": "stdout",
     "output_type": "stream",
     "text": [
      "\n",
      "Пропуски в таблице:\n"
     ]
    },
    {
     "data": {
      "text/plain": [
       "subscription_type    0\n",
       "minute_price         0\n",
       "start_ride_price     0\n",
       "subscription_fee     0\n",
       "dtype: int64"
      ]
     },
     "metadata": {},
     "output_type": "display_data"
    },
    {
     "name": "stdout",
     "output_type": "stream",
     "text": [
      "\n",
      "Дубликаты в таблице: 0\n"
     ]
    }
   ],
   "source": [
    "info_dataframe(data_subscriptions)"
   ]
  },
  {
   "cell_type": "markdown",
   "id": "93d69826",
   "metadata": {},
   "source": [
    "**Вывод:**\n",
    "\n",
    "1. Данные загрузились:\n",
    "    - данные о пользователях: **1565** записей и **5** колонок;\n",
    "    - данные о поездках: **18068** записей и **4** колонок;\n",
    "    - данные о подписках: **2** записей и **4** колонок;\n",
    "\n",
    "\n",
    "2. В таблице \"поездки\" (rides_go):\n",
    "   - поле `data` имеет тип `object`, а должен быть `datetime`\n",
    "\n",
    "\n",
    "3. Пропуски не обнаруженны.\n",
    "\n",
    "\n",
    "4. Дубликаты обнаруженны:\n",
    "    - `users_go`: **31**"
   ]
  },
  {
   "cell_type": "markdown",
   "id": "e95ebca7",
   "metadata": {},
   "source": [
    "#### Шаг 2. Предобработка данных"
   ]
  },
  {
   "cell_type": "markdown",
   "id": "105c9191",
   "metadata": {},
   "source": [
    "**Датафрейм users_go**\n",
    "\n",
    "Описание:\n",
    "- `user_id` - уникальный идентификатор пользователя\n",
    "- `name` -\tимя пользователя\n",
    "- `age`  -\tвозраст\n",
    "- `city` -\tгород\n",
    "- `subscription_type` -\tтип подписки (free, ultra)"
   ]
  },
  {
   "cell_type": "code",
   "execution_count": 8,
   "id": "ce8cb5ab",
   "metadata": {},
   "outputs": [
    {
     "name": "stdout",
     "output_type": "stream",
     "text": [
      "Пропуски в таблице:\n"
     ]
    },
    {
     "data": {
      "text/plain": [
       "user_id              0\n",
       "name                 0\n",
       "age                  0\n",
       "city                 0\n",
       "subscription_type    0\n",
       "dtype: int64"
      ]
     },
     "metadata": {},
     "output_type": "display_data"
    },
    {
     "name": "stdout",
     "output_type": "stream",
     "text": [
      "\n",
      "Дубликаты в таблице: 31\n"
     ]
    }
   ],
   "source": [
    "# проверим на дубликаты и пропуски еще раз\n",
    "dataframe_duplicated_isna(data_users)"
   ]
  },
  {
   "cell_type": "code",
   "execution_count": 9,
   "id": "9611f1e5",
   "metadata": {},
   "outputs": [],
   "source": [
    "# Удалим дубликаты\n",
    "data_users = data_users.drop_duplicates()"
   ]
  },
  {
   "cell_type": "code",
   "execution_count": 10,
   "id": "5c473a08",
   "metadata": {},
   "outputs": [
    {
     "name": "stdout",
     "output_type": "stream",
     "text": [
      "Пропуски в таблице:\n"
     ]
    },
    {
     "data": {
      "text/plain": [
       "user_id              0\n",
       "name                 0\n",
       "age                  0\n",
       "city                 0\n",
       "subscription_type    0\n",
       "dtype: int64"
      ]
     },
     "metadata": {},
     "output_type": "display_data"
    },
    {
     "name": "stdout",
     "output_type": "stream",
     "text": [
      "\n",
      "Дубликаты в таблице: 0\n"
     ]
    }
   ],
   "source": [
    "# перепроверим на наличие дубликатов еще раз\n",
    "dataframe_duplicated_isna(data_users)"
   ]
  },
  {
   "cell_type": "code",
   "execution_count": 11,
   "id": "aa1ffbd7",
   "metadata": {},
   "outputs": [
    {
     "name": "stdout",
     "output_type": "stream",
     "text": [
      "Уникальные записи:  8\n",
      "------------------------------\n",
      "Пятигорск         219\n",
      "Екатеринбург      204\n",
      "Ростов-на-Дону    198\n",
      "Краснодар         193\n",
      "Сочи              189\n",
      "Омск              183\n",
      "Тюмень            180\n",
      "Москва            168\n",
      "Name: city, dtype: int64\n"
     ]
    }
   ],
   "source": [
    "# посмотрим столбец city и оценим записи\n",
    "print('Уникальные записи: ', len(data_users['city'].unique()))\n",
    "print('---' * 10)\n",
    "print(data_users['city'].value_counts())"
   ]
  },
  {
   "cell_type": "markdown",
   "id": "3c7350a6",
   "metadata": {},
   "source": [
    "**Датафрейм rides_go**\n",
    "\n",
    "Описание:\n",
    "\n",
    "- `user_id` -\tуникальный идентификатор пользователя\n",
    "- `distance` -\tрасстояние, которое пользователь проехал в текущей сессии (в метрах)\n",
    "- `duration` -\tпродолжительность сессии (в минутах) — время с того момента, как пользователь нажал кнопку «Начать поездку» до момента, как он нажал кнопку «Завершить поездку»\n",
    "- `date` -\tдата совершения поездки"
   ]
  },
  {
   "cell_type": "code",
   "execution_count": 12,
   "id": "03eb8e18",
   "metadata": {},
   "outputs": [
    {
     "name": "stdout",
     "output_type": "stream",
     "text": [
      "Пропуски в таблице:\n"
     ]
    },
    {
     "data": {
      "text/plain": [
       "user_id     0\n",
       "distance    0\n",
       "duration    0\n",
       "date        0\n",
       "dtype: int64"
      ]
     },
     "metadata": {},
     "output_type": "display_data"
    },
    {
     "name": "stdout",
     "output_type": "stream",
     "text": [
      "\n",
      "Дубликаты в таблице: 0\n"
     ]
    }
   ],
   "source": [
    "# проверим на дубликаты и пропуски еще раз\n",
    "dataframe_duplicated_isna(data_rides)"
   ]
  },
  {
   "cell_type": "code",
   "execution_count": 13,
   "id": "21d21a95",
   "metadata": {},
   "outputs": [],
   "source": [
    "# Приведите столбец date к типу даты.\n",
    "data_rides['date'] = pd.to_datetime(data_rides['date'], format='%Y-%m-%d')"
   ]
  },
  {
   "cell_type": "code",
   "execution_count": 14,
   "id": "2be5ce01",
   "metadata": {},
   "outputs": [
    {
     "name": "stdout",
     "output_type": "stream",
     "text": [
      "<class 'pandas.core.frame.DataFrame'>\n",
      "RangeIndex: 18068 entries, 0 to 18067\n",
      "Data columns (total 4 columns):\n",
      " #   Column    Non-Null Count  Dtype         \n",
      "---  ------    --------------  -----         \n",
      " 0   user_id   18068 non-null  int64         \n",
      " 1   distance  18068 non-null  float64       \n",
      " 2   duration  18068 non-null  float64       \n",
      " 3   date      18068 non-null  datetime64[ns]\n",
      "dtypes: datetime64[ns](1), float64(2), int64(1)\n",
      "memory usage: 564.8 KB\n"
     ]
    }
   ],
   "source": [
    "# проверим формат данных у date\n",
    "data_rides.info()"
   ]
  },
  {
   "cell_type": "code",
   "execution_count": 15,
   "id": "19f0112e",
   "metadata": {},
   "outputs": [],
   "source": [
    "# Создадим новый столбец с номером месяца на основе столбца date.\n",
    "data_rides['month'] = data_rides['date'].dt.month"
   ]
  },
  {
   "cell_type": "markdown",
   "id": "e1b9e509",
   "metadata": {},
   "source": [
    "<div class=\"alert alert-warning\">\n",
    "<h2> Комментарий ревьюера 🤓<a class=\"tocSkip\"> </h2>\n",
    "    \n",
    "Будет хорошо проверить за какой период представлены данные, чтобы убедиться что данные за несколько лет не склеиются при агрегации по месяцам."
   ]
  },
  {
   "cell_type": "code",
   "execution_count": 16,
   "id": "7e260231",
   "metadata": {},
   "outputs": [
    {
     "data": {
      "text/html": [
       "<div>\n",
       "<style scoped>\n",
       "    .dataframe tbody tr th:only-of-type {\n",
       "        vertical-align: middle;\n",
       "    }\n",
       "\n",
       "    .dataframe tbody tr th {\n",
       "        vertical-align: top;\n",
       "    }\n",
       "\n",
       "    .dataframe thead th {\n",
       "        text-align: right;\n",
       "    }\n",
       "</style>\n",
       "<table border=\"1\" class=\"dataframe\">\n",
       "  <thead>\n",
       "    <tr style=\"text-align: right;\">\n",
       "      <th></th>\n",
       "      <th>user_id</th>\n",
       "      <th>distance</th>\n",
       "      <th>duration</th>\n",
       "      <th>date</th>\n",
       "      <th>month</th>\n",
       "    </tr>\n",
       "  </thead>\n",
       "  <tbody>\n",
       "    <tr>\n",
       "      <th>0</th>\n",
       "      <td>1</td>\n",
       "      <td>4409.919140</td>\n",
       "      <td>25.599769</td>\n",
       "      <td>2021-01-01</td>\n",
       "      <td>1</td>\n",
       "    </tr>\n",
       "    <tr>\n",
       "      <th>1</th>\n",
       "      <td>1</td>\n",
       "      <td>2617.592153</td>\n",
       "      <td>15.816871</td>\n",
       "      <td>2021-01-18</td>\n",
       "      <td>1</td>\n",
       "    </tr>\n",
       "    <tr>\n",
       "      <th>2</th>\n",
       "      <td>1</td>\n",
       "      <td>754.159807</td>\n",
       "      <td>6.232113</td>\n",
       "      <td>2021-04-20</td>\n",
       "      <td>4</td>\n",
       "    </tr>\n",
       "    <tr>\n",
       "      <th>3</th>\n",
       "      <td>1</td>\n",
       "      <td>2694.783254</td>\n",
       "      <td>18.511000</td>\n",
       "      <td>2021-08-11</td>\n",
       "      <td>8</td>\n",
       "    </tr>\n",
       "    <tr>\n",
       "      <th>4</th>\n",
       "      <td>1</td>\n",
       "      <td>4028.687306</td>\n",
       "      <td>26.265803</td>\n",
       "      <td>2021-08-28</td>\n",
       "      <td>8</td>\n",
       "    </tr>\n",
       "  </tbody>\n",
       "</table>\n",
       "</div>"
      ],
      "text/plain": [
       "   user_id     distance   duration       date  month\n",
       "0        1  4409.919140  25.599769 2021-01-01      1\n",
       "1        1  2617.592153  15.816871 2021-01-18      1\n",
       "2        1   754.159807   6.232113 2021-04-20      4\n",
       "3        1  2694.783254  18.511000 2021-08-11      8\n",
       "4        1  4028.687306  26.265803 2021-08-28      8"
      ]
     },
     "execution_count": 16,
     "metadata": {},
     "output_type": "execute_result"
    }
   ],
   "source": [
    "# проверим, что столбец с номером месяца создался корректно\n",
    "data_rides.head()"
   ]
  },
  {
   "cell_type": "markdown",
   "id": "1da7ee94",
   "metadata": {},
   "source": [
    "**Датафрейм subscriptions_go**\n",
    "\n",
    "Описание:\n",
    "\n",
    "- `subscription_type` -\tтип подписки\n",
    "- `minute_price` -\tстоимость одной минуты поездки по данной подписке\n",
    "- `start_ride_price` -\tстоимость начала поездки\n",
    "- `subscription_fee` -\tстоимость ежемесячного платежа\n"
   ]
  },
  {
   "cell_type": "code",
   "execution_count": 17,
   "id": "77ae3884",
   "metadata": {},
   "outputs": [
    {
     "name": "stdout",
     "output_type": "stream",
     "text": [
      "Пропуски в таблице:\n"
     ]
    },
    {
     "data": {
      "text/plain": [
       "subscription_type    0\n",
       "minute_price         0\n",
       "start_ride_price     0\n",
       "subscription_fee     0\n",
       "dtype: int64"
      ]
     },
     "metadata": {},
     "output_type": "display_data"
    },
    {
     "name": "stdout",
     "output_type": "stream",
     "text": [
      "\n",
      "Дубликаты в таблице: 0\n"
     ]
    }
   ],
   "source": [
    "# проверим на дубликаты и пропуски еще раз\n",
    "dataframe_duplicated_isna(data_subscriptions)"
   ]
  },
  {
   "cell_type": "code",
   "execution_count": 18,
   "id": "a413fbe8",
   "metadata": {},
   "outputs": [
    {
     "name": "stdout",
     "output_type": "stream",
     "text": [
      "Уникальные записи:  2\n",
      "------------------------------\n",
      "free     1\n",
      "ultra    1\n",
      "Name: subscription_type, dtype: int64\n"
     ]
    }
   ],
   "source": [
    "# посмотрим столбец subscription_type и оценим записи\n",
    "print('Уникальные записи: ', len(data_subscriptions['subscription_type'].unique()))\n",
    "print('---' * 10)\n",
    "print(data_subscriptions['subscription_type'].value_counts())"
   ]
  },
  {
   "cell_type": "markdown",
   "id": "85fb676e",
   "metadata": {},
   "source": [
    "**Вывод:**\n",
    "\n",
    "1. Обнаруженные дубликаты в датафрейме `users_go` удалены. \n",
    "2. Тип данных в столбце `date` изменен на `datetime`.\n",
    "3. Создан новый столбец `month` в датафрейме `rides_go` с номером месяца на основе столбца `date`.\n",
    "4. Пропущенных значений не обнаруженно."
   ]
  },
  {
   "cell_type": "markdown",
   "id": "61ce4ba0",
   "metadata": {},
   "source": [
    "<div class=\"alert alert-success\">\n",
    "<h2> Комментарий ревьюера 😊 <a class=\"tocSkip\"> </h2>\n",
    "\n",
    "Блок предобработки выполнен хорошо: необходимые столбцы добавлены, типы скорректированы, есть проверка на пропуски и дубликаты, молодец)\n",
    "</div>"
   ]
  },
  {
   "cell_type": "markdown",
   "id": "212593c7",
   "metadata": {},
   "source": [
    "#### Шаг 3. Исследовательский анализ данных"
   ]
  },
  {
   "cell_type": "markdown",
   "id": "96cf72a3",
   "metadata": {},
   "source": [
    "**3.1 Частота встречаемости городов**"
   ]
  },
  {
   "cell_type": "code",
   "execution_count": 19,
   "id": "d0f18b2d",
   "metadata": {},
   "outputs": [
    {
     "data": {
      "text/html": [
       "<div>\n",
       "<style scoped>\n",
       "    .dataframe tbody tr th:only-of-type {\n",
       "        vertical-align: middle;\n",
       "    }\n",
       "\n",
       "    .dataframe tbody tr th {\n",
       "        vertical-align: top;\n",
       "    }\n",
       "\n",
       "    .dataframe thead th {\n",
       "        text-align: right;\n",
       "    }\n",
       "</style>\n",
       "<table border=\"1\" class=\"dataframe\">\n",
       "  <thead>\n",
       "    <tr style=\"text-align: right;\">\n",
       "      <th></th>\n",
       "      <th>user_id</th>\n",
       "      <th>name</th>\n",
       "      <th>age</th>\n",
       "      <th>city</th>\n",
       "      <th>subscription_type</th>\n",
       "    </tr>\n",
       "  </thead>\n",
       "  <tbody>\n",
       "    <tr>\n",
       "      <th>0</th>\n",
       "      <td>1</td>\n",
       "      <td>Кира</td>\n",
       "      <td>22</td>\n",
       "      <td>Тюмень</td>\n",
       "      <td>ultra</td>\n",
       "    </tr>\n",
       "    <tr>\n",
       "      <th>1</th>\n",
       "      <td>2</td>\n",
       "      <td>Станислав</td>\n",
       "      <td>31</td>\n",
       "      <td>Омск</td>\n",
       "      <td>ultra</td>\n",
       "    </tr>\n",
       "    <tr>\n",
       "      <th>2</th>\n",
       "      <td>3</td>\n",
       "      <td>Алексей</td>\n",
       "      <td>20</td>\n",
       "      <td>Москва</td>\n",
       "      <td>ultra</td>\n",
       "    </tr>\n",
       "    <tr>\n",
       "      <th>3</th>\n",
       "      <td>4</td>\n",
       "      <td>Константин</td>\n",
       "      <td>26</td>\n",
       "      <td>Ростов-на-Дону</td>\n",
       "      <td>ultra</td>\n",
       "    </tr>\n",
       "    <tr>\n",
       "      <th>4</th>\n",
       "      <td>5</td>\n",
       "      <td>Адель</td>\n",
       "      <td>28</td>\n",
       "      <td>Омск</td>\n",
       "      <td>ultra</td>\n",
       "    </tr>\n",
       "  </tbody>\n",
       "</table>\n",
       "</div>"
      ],
      "text/plain": [
       "   user_id        name  age            city subscription_type\n",
       "0        1        Кира   22          Тюмень             ultra\n",
       "1        2   Станислав   31            Омск             ultra\n",
       "2        3     Алексей   20          Москва             ultra\n",
       "3        4  Константин   26  Ростов-на-Дону             ultra\n",
       "4        5       Адель   28            Омск             ultra"
      ]
     },
     "execution_count": 19,
     "metadata": {},
     "output_type": "execute_result"
    }
   ],
   "source": [
    "data_users.head()"
   ]
  },
  {
   "cell_type": "code",
   "execution_count": 20,
   "id": "69bcdb7f",
   "metadata": {},
   "outputs": [],
   "source": [
    "dataframe_user_city = data_users.pivot_table(index='city', values='user_id', aggfunc='count') \\\n",
    ".sort_values(by='user_id', ascending=False)"
   ]
  },
  {
   "cell_type": "code",
   "execution_count": 21,
   "id": "1c53e1ee",
   "metadata": {},
   "outputs": [
    {
     "data": {
      "text/html": [
       "<div>\n",
       "<style scoped>\n",
       "    .dataframe tbody tr th:only-of-type {\n",
       "        vertical-align: middle;\n",
       "    }\n",
       "\n",
       "    .dataframe tbody tr th {\n",
       "        vertical-align: top;\n",
       "    }\n",
       "\n",
       "    .dataframe thead th {\n",
       "        text-align: right;\n",
       "    }\n",
       "</style>\n",
       "<table border=\"1\" class=\"dataframe\">\n",
       "  <thead>\n",
       "    <tr style=\"text-align: right;\">\n",
       "      <th></th>\n",
       "      <th>user_id</th>\n",
       "    </tr>\n",
       "    <tr>\n",
       "      <th>city</th>\n",
       "      <th></th>\n",
       "    </tr>\n",
       "  </thead>\n",
       "  <tbody>\n",
       "    <tr>\n",
       "      <th>Пятигорск</th>\n",
       "      <td>219</td>\n",
       "    </tr>\n",
       "    <tr>\n",
       "      <th>Екатеринбург</th>\n",
       "      <td>204</td>\n",
       "    </tr>\n",
       "    <tr>\n",
       "      <th>Ростов-на-Дону</th>\n",
       "      <td>198</td>\n",
       "    </tr>\n",
       "    <tr>\n",
       "      <th>Краснодар</th>\n",
       "      <td>193</td>\n",
       "    </tr>\n",
       "    <tr>\n",
       "      <th>Сочи</th>\n",
       "      <td>189</td>\n",
       "    </tr>\n",
       "    <tr>\n",
       "      <th>Омск</th>\n",
       "      <td>183</td>\n",
       "    </tr>\n",
       "    <tr>\n",
       "      <th>Тюмень</th>\n",
       "      <td>180</td>\n",
       "    </tr>\n",
       "    <tr>\n",
       "      <th>Москва</th>\n",
       "      <td>168</td>\n",
       "    </tr>\n",
       "  </tbody>\n",
       "</table>\n",
       "</div>"
      ],
      "text/plain": [
       "                user_id\n",
       "city                   \n",
       "Пятигорск           219\n",
       "Екатеринбург        204\n",
       "Ростов-на-Дону      198\n",
       "Краснодар           193\n",
       "Сочи                189\n",
       "Омск                183\n",
       "Тюмень              180\n",
       "Москва              168"
      ]
     },
     "execution_count": 21,
     "metadata": {},
     "output_type": "execute_result"
    }
   ],
   "source": [
    "dataframe_user_city"
   ]
  },
  {
   "cell_type": "code",
   "execution_count": 22,
   "id": "ea642e0b",
   "metadata": {},
   "outputs": [
    {
     "data": {
      "image/png": "[encoded data removed]",
      "text/plain": [
       "<Figure size 432x288 with 1 Axes>"
      ]
     },
     "metadata": {
      "needs_background": "light"
     },
     "output_type": "display_data"
    }
   ],
   "source": [
    "dataframe_user_city.plot(kind='barh', grid=True)\n",
    "plt.title('Частота встречаемости городов')\n",
    "plt.xlabel('количество пользователей')\n",
    "plt.ylabel('город')\n",
    "plt.show()"
   ]
  },
  {
   "cell_type": "markdown",
   "id": "ffd77707",
   "metadata": {},
   "source": [
    "- Больше всего пользователей из Пятигорска: 219\n",
    "- Меньше всего пользователей из Москвы: 168\n",
    "- Всего датафрейм содержит данные о пользователях из 8 городов."
   ]
  },
  {
   "cell_type": "markdown",
   "id": "dcb03641",
   "metadata": {},
   "source": [
    "<div class=\"alert alert-success\">\n",
    "<h2> Комментарий ревьюера 😊 <a class=\"tocSkip\"> </h2>\n",
    "\n",
    "Отлично)"
   ]
  },
  {
   "cell_type": "markdown",
   "id": "aa433e51",
   "metadata": {},
   "source": [
    "**3.2 Соотношение пользователей с подпиской и без подписки**"
   ]
  },
  {
   "cell_type": "code",
   "execution_count": 23,
   "id": "aa966b2c",
   "metadata": {},
   "outputs": [
    {
     "data": {
      "text/html": [
       "<div>\n",
       "<style scoped>\n",
       "    .dataframe tbody tr th:only-of-type {\n",
       "        vertical-align: middle;\n",
       "    }\n",
       "\n",
       "    .dataframe tbody tr th {\n",
       "        vertical-align: top;\n",
       "    }\n",
       "\n",
       "    .dataframe thead th {\n",
       "        text-align: right;\n",
       "    }\n",
       "</style>\n",
       "<table border=\"1\" class=\"dataframe\">\n",
       "  <thead>\n",
       "    <tr style=\"text-align: right;\">\n",
       "      <th></th>\n",
       "      <th>user_id</th>\n",
       "      <th>name</th>\n",
       "      <th>age</th>\n",
       "      <th>city</th>\n",
       "      <th>subscription_type</th>\n",
       "    </tr>\n",
       "  </thead>\n",
       "  <tbody>\n",
       "    <tr>\n",
       "      <th>0</th>\n",
       "      <td>1</td>\n",
       "      <td>Кира</td>\n",
       "      <td>22</td>\n",
       "      <td>Тюмень</td>\n",
       "      <td>ultra</td>\n",
       "    </tr>\n",
       "    <tr>\n",
       "      <th>1</th>\n",
       "      <td>2</td>\n",
       "      <td>Станислав</td>\n",
       "      <td>31</td>\n",
       "      <td>Омск</td>\n",
       "      <td>ultra</td>\n",
       "    </tr>\n",
       "    <tr>\n",
       "      <th>2</th>\n",
       "      <td>3</td>\n",
       "      <td>Алексей</td>\n",
       "      <td>20</td>\n",
       "      <td>Москва</td>\n",
       "      <td>ultra</td>\n",
       "    </tr>\n",
       "    <tr>\n",
       "      <th>3</th>\n",
       "      <td>4</td>\n",
       "      <td>Константин</td>\n",
       "      <td>26</td>\n",
       "      <td>Ростов-на-Дону</td>\n",
       "      <td>ultra</td>\n",
       "    </tr>\n",
       "    <tr>\n",
       "      <th>4</th>\n",
       "      <td>5</td>\n",
       "      <td>Адель</td>\n",
       "      <td>28</td>\n",
       "      <td>Омск</td>\n",
       "      <td>ultra</td>\n",
       "    </tr>\n",
       "  </tbody>\n",
       "</table>\n",
       "</div>"
      ],
      "text/plain": [
       "   user_id        name  age            city subscription_type\n",
       "0        1        Кира   22          Тюмень             ultra\n",
       "1        2   Станислав   31            Омск             ultra\n",
       "2        3     Алексей   20          Москва             ultra\n",
       "3        4  Константин   26  Ростов-на-Дону             ultra\n",
       "4        5       Адель   28            Омск             ultra"
      ]
     },
     "execution_count": 23,
     "metadata": {},
     "output_type": "execute_result"
    }
   ],
   "source": [
    "data_users.head()"
   ]
  },
  {
   "cell_type": "code",
   "execution_count": 24,
   "id": "40e9251a",
   "metadata": {},
   "outputs": [],
   "source": [
    "dataframe_subs = data_users.pivot_table(index='subscription_type', values='user_id', aggfunc='count')"
   ]
  },
  {
   "cell_type": "code",
   "execution_count": 25,
   "id": "fe3aef68",
   "metadata": {},
   "outputs": [
    {
     "data": {
      "text/html": [
       "<div>\n",
       "<style scoped>\n",
       "    .dataframe tbody tr th:only-of-type {\n",
       "        vertical-align: middle;\n",
       "    }\n",
       "\n",
       "    .dataframe tbody tr th {\n",
       "        vertical-align: top;\n",
       "    }\n",
       "\n",
       "    .dataframe thead th {\n",
       "        text-align: right;\n",
       "    }\n",
       "</style>\n",
       "<table border=\"1\" class=\"dataframe\">\n",
       "  <thead>\n",
       "    <tr style=\"text-align: right;\">\n",
       "      <th></th>\n",
       "      <th>user_id</th>\n",
       "    </tr>\n",
       "    <tr>\n",
       "      <th>subscription_type</th>\n",
       "      <th></th>\n",
       "    </tr>\n",
       "  </thead>\n",
       "  <tbody>\n",
       "    <tr>\n",
       "      <th>free</th>\n",
       "      <td>835</td>\n",
       "    </tr>\n",
       "    <tr>\n",
       "      <th>ultra</th>\n",
       "      <td>699</td>\n",
       "    </tr>\n",
       "  </tbody>\n",
       "</table>\n",
       "</div>"
      ],
      "text/plain": [
       "                   user_id\n",
       "subscription_type         \n",
       "free                   835\n",
       "ultra                  699"
      ]
     },
     "execution_count": 25,
     "metadata": {},
     "output_type": "execute_result"
    }
   ],
   "source": [
    "dataframe_subs"
   ]
  },
  {
   "cell_type": "code",
   "execution_count": 26,
   "id": "20f080b6",
   "metadata": {},
   "outputs": [
    {
     "data": {
      "image/png": "[encoded data removed]",
      "text/plain": [
       "<Figure size 432x288 with 1 Axes>"
      ]
     },
     "metadata": {
      "needs_background": "light"
     },
     "output_type": "display_data"
    }
   ],
   "source": [
    "dataframe_subs.plot(kind='barh', grid=True)\n",
    "plt.title('Соотношение пользователей с подпиской и без подписки')\n",
    "plt.xlabel('количество пользователей')\n",
    "plt.ylabel('тип подписки')\n",
    "plt.show()"
   ]
  },
  {
   "cell_type": "markdown",
   "id": "00afe997",
   "metadata": {},
   "source": [
    "- Количество пользователей без подписки: 835\n",
    "- Количество пользователей с подпиской: 699"
   ]
  },
  {
   "cell_type": "markdown",
   "id": "c47a1bf9",
   "metadata": {},
   "source": [
    "<div class=\"alert alert-block alert-danger\">\n",
    "<h2> Комментарий ревьюера ⛔️<a class=\"tocSkip\"></h2>\n",
    "\n",
    "Необходимо добавить расчет с долей)"
   ]
  },
  {
   "cell_type": "markdown",
   "id": "8226dae4",
   "metadata": {},
   "source": [
    "<div class=\"alert alert-warning\">\n",
    "<h2> Комментарий ревьюера 🤓<a class=\"tocSkip\"> </h2>\n",
    "    \n",
    "Можно использовать круговую диаграмму"
   ]
  },
  {
   "cell_type": "markdown",
   "id": "4d0afdff",
   "metadata": {},
   "source": [
    "<div class=\"alert alert-info\"> <b>Комментарий студента:</b> Добавим расчет с долей</div>"
   ]
  },
  {
   "cell_type": "code",
   "execution_count": 27,
   "id": "65c004d7",
   "metadata": {},
   "outputs": [
    {
     "data": {
      "image/png": "[encoded data removed]",
      "text/plain": [
       "<Figure size 432x288 with 1 Axes>"
      ]
     },
     "metadata": {},
     "output_type": "display_data"
    }
   ],
   "source": [
    "data_users.groupby('subscription_type')['user_id'].count().plot(kind='pie', autopct='%1.0f%%', ylabel='')\n",
    "plt.title('Соотношение пользователей с подпиской и без подписки')\n",
    "plt.show()"
   ]
  },
  {
   "cell_type": "code",
   "execution_count": 28,
   "id": "6c1b17af",
   "metadata": {},
   "outputs": [
    {
     "name": "stdout",
     "output_type": "stream",
     "text": [
      "Соотношение пользователей с подпиской и без подписки: 0.837\n"
     ]
    }
   ],
   "source": [
    "coeff_ultra_free = round(data_users.query('subscription_type == \"ultra\"')['subscription_type'].count()/data_users.query('subscription_type == \"free\"')['subscription_type'].count(), 3)\n",
    "print('Соотношение пользователей с подпиской и без подписки:', coeff_ultra_free)"
   ]
  },
  {
   "cell_type": "markdown",
   "id": "ece4f16c",
   "metadata": {},
   "source": [
    "**3.3 Возраст пользователей**"
   ]
  },
  {
   "cell_type": "code",
   "execution_count": 29,
   "id": "45828b5b",
   "metadata": {},
   "outputs": [
    {
     "data": {
      "text/html": [
       "<div>\n",
       "<style scoped>\n",
       "    .dataframe tbody tr th:only-of-type {\n",
       "        vertical-align: middle;\n",
       "    }\n",
       "\n",
       "    .dataframe tbody tr th {\n",
       "        vertical-align: top;\n",
       "    }\n",
       "\n",
       "    .dataframe thead th {\n",
       "        text-align: right;\n",
       "    }\n",
       "</style>\n",
       "<table border=\"1\" class=\"dataframe\">\n",
       "  <thead>\n",
       "    <tr style=\"text-align: right;\">\n",
       "      <th></th>\n",
       "      <th>user_id</th>\n",
       "      <th>name</th>\n",
       "      <th>age</th>\n",
       "      <th>city</th>\n",
       "      <th>subscription_type</th>\n",
       "    </tr>\n",
       "  </thead>\n",
       "  <tbody>\n",
       "    <tr>\n",
       "      <th>0</th>\n",
       "      <td>1</td>\n",
       "      <td>Кира</td>\n",
       "      <td>22</td>\n",
       "      <td>Тюмень</td>\n",
       "      <td>ultra</td>\n",
       "    </tr>\n",
       "    <tr>\n",
       "      <th>1</th>\n",
       "      <td>2</td>\n",
       "      <td>Станислав</td>\n",
       "      <td>31</td>\n",
       "      <td>Омск</td>\n",
       "      <td>ultra</td>\n",
       "    </tr>\n",
       "    <tr>\n",
       "      <th>2</th>\n",
       "      <td>3</td>\n",
       "      <td>Алексей</td>\n",
       "      <td>20</td>\n",
       "      <td>Москва</td>\n",
       "      <td>ultra</td>\n",
       "    </tr>\n",
       "    <tr>\n",
       "      <th>3</th>\n",
       "      <td>4</td>\n",
       "      <td>Константин</td>\n",
       "      <td>26</td>\n",
       "      <td>Ростов-на-Дону</td>\n",
       "      <td>ultra</td>\n",
       "    </tr>\n",
       "    <tr>\n",
       "      <th>4</th>\n",
       "      <td>5</td>\n",
       "      <td>Адель</td>\n",
       "      <td>28</td>\n",
       "      <td>Омск</td>\n",
       "      <td>ultra</td>\n",
       "    </tr>\n",
       "  </tbody>\n",
       "</table>\n",
       "</div>"
      ],
      "text/plain": [
       "   user_id        name  age            city subscription_type\n",
       "0        1        Кира   22          Тюмень             ultra\n",
       "1        2   Станислав   31            Омск             ultra\n",
       "2        3     Алексей   20          Москва             ultra\n",
       "3        4  Константин   26  Ростов-на-Дону             ultra\n",
       "4        5       Адель   28            Омск             ultra"
      ]
     },
     "execution_count": 29,
     "metadata": {},
     "output_type": "execute_result"
    }
   ],
   "source": [
    "data_users.head()"
   ]
  },
  {
   "cell_type": "code",
   "execution_count": 30,
   "id": "21d21d33",
   "metadata": {},
   "outputs": [
    {
     "data": {
      "text/plain": [
       "count    1534.000000\n",
       "mean       24.903520\n",
       "std         4.572367\n",
       "min        12.000000\n",
       "25%        22.000000\n",
       "50%        25.000000\n",
       "75%        28.000000\n",
       "max        43.000000\n",
       "Name: age, dtype: float64"
      ]
     },
     "execution_count": 30,
     "metadata": {},
     "output_type": "execute_result"
    }
   ],
   "source": [
    "data_users['age'].describe()"
   ]
  },
  {
   "cell_type": "code",
   "execution_count": 31,
   "id": "2d8c6c3a",
   "metadata": {},
   "outputs": [
    {
     "data": {
      "text/html": [
       "<div>\n",
       "<style scoped>\n",
       "    .dataframe tbody tr th:only-of-type {\n",
       "        vertical-align: middle;\n",
       "    }\n",
       "\n",
       "    .dataframe tbody tr th {\n",
       "        vertical-align: top;\n",
       "    }\n",
       "\n",
       "    .dataframe thead th {\n",
       "        text-align: right;\n",
       "    }\n",
       "</style>\n",
       "<table border=\"1\" class=\"dataframe\">\n",
       "  <thead>\n",
       "    <tr style=\"text-align: right;\">\n",
       "      <th></th>\n",
       "      <th>user_id</th>\n",
       "    </tr>\n",
       "    <tr>\n",
       "      <th>age</th>\n",
       "      <th></th>\n",
       "    </tr>\n",
       "  </thead>\n",
       "  <tbody>\n",
       "    <tr>\n",
       "      <th>25</th>\n",
       "      <td>145</td>\n",
       "    </tr>\n",
       "    <tr>\n",
       "      <th>24</th>\n",
       "      <td>132</td>\n",
       "    </tr>\n",
       "    <tr>\n",
       "      <th>26</th>\n",
       "      <td>131</td>\n",
       "    </tr>\n",
       "    <tr>\n",
       "      <th>23</th>\n",
       "      <td>129</td>\n",
       "    </tr>\n",
       "    <tr>\n",
       "      <th>27</th>\n",
       "      <td>119</td>\n",
       "    </tr>\n",
       "    <tr>\n",
       "      <th>22</th>\n",
       "      <td>119</td>\n",
       "    </tr>\n",
       "    <tr>\n",
       "      <th>28</th>\n",
       "      <td>112</td>\n",
       "    </tr>\n",
       "    <tr>\n",
       "      <th>21</th>\n",
       "      <td>93</td>\n",
       "    </tr>\n",
       "    <tr>\n",
       "      <th>20</th>\n",
       "      <td>71</td>\n",
       "    </tr>\n",
       "    <tr>\n",
       "      <th>30</th>\n",
       "      <td>68</td>\n",
       "    </tr>\n",
       "    <tr>\n",
       "      <th>29</th>\n",
       "      <td>68</td>\n",
       "    </tr>\n",
       "    <tr>\n",
       "      <th>31</th>\n",
       "      <td>48</td>\n",
       "    </tr>\n",
       "    <tr>\n",
       "      <th>19</th>\n",
       "      <td>47</td>\n",
       "    </tr>\n",
       "    <tr>\n",
       "      <th>18</th>\n",
       "      <td>46</td>\n",
       "    </tr>\n",
       "    <tr>\n",
       "      <th>32</th>\n",
       "      <td>41</td>\n",
       "    </tr>\n",
       "    <tr>\n",
       "      <th>33</th>\n",
       "      <td>39</td>\n",
       "    </tr>\n",
       "    <tr>\n",
       "      <th>17</th>\n",
       "      <td>26</td>\n",
       "    </tr>\n",
       "    <tr>\n",
       "      <th>34</th>\n",
       "      <td>19</td>\n",
       "    </tr>\n",
       "    <tr>\n",
       "      <th>16</th>\n",
       "      <td>19</td>\n",
       "    </tr>\n",
       "    <tr>\n",
       "      <th>35</th>\n",
       "      <td>15</td>\n",
       "    </tr>\n",
       "    <tr>\n",
       "      <th>15</th>\n",
       "      <td>13</td>\n",
       "    </tr>\n",
       "    <tr>\n",
       "      <th>14</th>\n",
       "      <td>9</td>\n",
       "    </tr>\n",
       "    <tr>\n",
       "      <th>13</th>\n",
       "      <td>8</td>\n",
       "    </tr>\n",
       "    <tr>\n",
       "      <th>36</th>\n",
       "      <td>6</td>\n",
       "    </tr>\n",
       "    <tr>\n",
       "      <th>12</th>\n",
       "      <td>4</td>\n",
       "    </tr>\n",
       "    <tr>\n",
       "      <th>38</th>\n",
       "      <td>3</td>\n",
       "    </tr>\n",
       "    <tr>\n",
       "      <th>37</th>\n",
       "      <td>2</td>\n",
       "    </tr>\n",
       "    <tr>\n",
       "      <th>39</th>\n",
       "      <td>1</td>\n",
       "    </tr>\n",
       "    <tr>\n",
       "      <th>43</th>\n",
       "      <td>1</td>\n",
       "    </tr>\n",
       "  </tbody>\n",
       "</table>\n",
       "</div>"
      ],
      "text/plain": [
       "     user_id\n",
       "age         \n",
       "25       145\n",
       "24       132\n",
       "26       131\n",
       "23       129\n",
       "27       119\n",
       "22       119\n",
       "28       112\n",
       "21        93\n",
       "20        71\n",
       "30        68\n",
       "29        68\n",
       "31        48\n",
       "19        47\n",
       "18        46\n",
       "32        41\n",
       "33        39\n",
       "17        26\n",
       "34        19\n",
       "16        19\n",
       "35        15\n",
       "15        13\n",
       "14         9\n",
       "13         8\n",
       "36         6\n",
       "12         4\n",
       "38         3\n",
       "37         2\n",
       "39         1\n",
       "43         1"
      ]
     },
     "execution_count": 31,
     "metadata": {},
     "output_type": "execute_result"
    }
   ],
   "source": [
    "data_users.pivot_table(index='age', values='user_id', aggfunc='count').sort_values(by='user_id', ascending=False)"
   ]
  },
  {
   "cell_type": "code",
   "execution_count": 30,
   "id": "fdd3e85a",
   "metadata": {},
   "outputs": [
    {
     "data": {
      "image/png": "[encoded data removed]",
      "text/plain": [
       "<Figure size 432x288 with 1 Axes>"
      ]
     },
     "metadata": {
      "needs_background": "light"
     },
     "output_type": "display_data"
    }
   ],
   "source": [
    "data_users['age'].plot(kind='hist', grid=True, bins=50)\n",
    "plt.title('Соотношение пользователей с подпиской и без подписки')\n",
    "plt.xlabel('возраст пользователей')\n",
    "plt.ylabel('количество пользователей')\n",
    "plt.show()"
   ]
  },
  {
   "cell_type": "markdown",
   "id": "08d79145",
   "metadata": {},
   "source": [
    "<div class=\"alert alert-block alert-danger\">\n",
    "<h2> Комментарий ревьюера ⛔️<a class=\"tocSkip\"></h2>\n",
    "\n",
    "Нужно скорректировать кол-во корзин, чтобы не было дыр на графике)"
   ]
  },
  {
   "cell_type": "markdown",
   "id": "00292d6e",
   "metadata": {},
   "source": [
    "<div class=\"alert alert-info\"> <b>Комментарий студента:</b> Скорректировал количество корзин(bins)</div>"
   ]
  },
  {
   "cell_type": "code",
   "execution_count": 32,
   "id": "9240bc3c",
   "metadata": {},
   "outputs": [
    {
     "data": {
      "image/png": "[encoded data removed]",
      "text/plain": [
       "<Figure size 432x288 with 1 Axes>"
      ]
     },
     "metadata": {
      "needs_background": "light"
     },
     "output_type": "display_data"
    }
   ],
   "source": [
    "data_users['age'].plot(kind='hist', grid=True, bins=30)\n",
    "plt.title('Соотношение пользователей с подпиской и без подписки')\n",
    "plt.xlabel('возраст пользователей')\n",
    "plt.ylabel('количество пользователей')\n",
    "plt.show()"
   ]
  },
  {
   "cell_type": "markdown",
   "id": "ed2e4da0",
   "metadata": {},
   "source": [
    "- Максимальный возраст составляет 43 года.\n",
    "- Минимальный возрвст составляет 12 лет.\n",
    "- Медиана и средний возрвст почти совпадают и составляют: медиана - 25 и средний - 24.9\n",
    "- Выборка имеет нормальное распределение."
   ]
  },
  {
   "cell_type": "markdown",
   "id": "353fcece",
   "metadata": {},
   "source": [
    "**3.4 Расстояние, которое пользователь преодолел за одну поездку**"
   ]
  },
  {
   "cell_type": "code",
   "execution_count": 33,
   "id": "b6277f63",
   "metadata": {},
   "outputs": [
    {
     "data": {
      "text/html": [
       "<div>\n",
       "<style scoped>\n",
       "    .dataframe tbody tr th:only-of-type {\n",
       "        vertical-align: middle;\n",
       "    }\n",
       "\n",
       "    .dataframe tbody tr th {\n",
       "        vertical-align: top;\n",
       "    }\n",
       "\n",
       "    .dataframe thead th {\n",
       "        text-align: right;\n",
       "    }\n",
       "</style>\n",
       "<table border=\"1\" class=\"dataframe\">\n",
       "  <thead>\n",
       "    <tr style=\"text-align: right;\">\n",
       "      <th></th>\n",
       "      <th>user_id</th>\n",
       "      <th>distance</th>\n",
       "      <th>duration</th>\n",
       "      <th>date</th>\n",
       "      <th>month</th>\n",
       "    </tr>\n",
       "  </thead>\n",
       "  <tbody>\n",
       "    <tr>\n",
       "      <th>0</th>\n",
       "      <td>1</td>\n",
       "      <td>4409.919140</td>\n",
       "      <td>25.599769</td>\n",
       "      <td>2021-01-01</td>\n",
       "      <td>1</td>\n",
       "    </tr>\n",
       "    <tr>\n",
       "      <th>1</th>\n",
       "      <td>1</td>\n",
       "      <td>2617.592153</td>\n",
       "      <td>15.816871</td>\n",
       "      <td>2021-01-18</td>\n",
       "      <td>1</td>\n",
       "    </tr>\n",
       "    <tr>\n",
       "      <th>2</th>\n",
       "      <td>1</td>\n",
       "      <td>754.159807</td>\n",
       "      <td>6.232113</td>\n",
       "      <td>2021-04-20</td>\n",
       "      <td>4</td>\n",
       "    </tr>\n",
       "    <tr>\n",
       "      <th>3</th>\n",
       "      <td>1</td>\n",
       "      <td>2694.783254</td>\n",
       "      <td>18.511000</td>\n",
       "      <td>2021-08-11</td>\n",
       "      <td>8</td>\n",
       "    </tr>\n",
       "    <tr>\n",
       "      <th>4</th>\n",
       "      <td>1</td>\n",
       "      <td>4028.687306</td>\n",
       "      <td>26.265803</td>\n",
       "      <td>2021-08-28</td>\n",
       "      <td>8</td>\n",
       "    </tr>\n",
       "  </tbody>\n",
       "</table>\n",
       "</div>"
      ],
      "text/plain": [
       "   user_id     distance   duration       date  month\n",
       "0        1  4409.919140  25.599769 2021-01-01      1\n",
       "1        1  2617.592153  15.816871 2021-01-18      1\n",
       "2        1   754.159807   6.232113 2021-04-20      4\n",
       "3        1  2694.783254  18.511000 2021-08-11      8\n",
       "4        1  4028.687306  26.265803 2021-08-28      8"
      ]
     },
     "execution_count": 33,
     "metadata": {},
     "output_type": "execute_result"
    }
   ],
   "source": [
    "data_rides.head()"
   ]
  },
  {
   "cell_type": "code",
   "execution_count": 34,
   "id": "07702869",
   "metadata": {},
   "outputs": [
    {
     "data": {
      "text/plain": [
       "count    18068.000000\n",
       "mean      3070.659976\n",
       "std       1116.831209\n",
       "min          0.855683\n",
       "25%       2543.226360\n",
       "50%       3133.609994\n",
       "75%       3776.222735\n",
       "max       7211.007745\n",
       "Name: distance, dtype: float64"
      ]
     },
     "execution_count": 34,
     "metadata": {},
     "output_type": "execute_result"
    }
   ],
   "source": [
    "data_rides['distance'].describe()"
   ]
  },
  {
   "cell_type": "code",
   "execution_count": 35,
   "id": "93f59956",
   "metadata": {},
   "outputs": [
    {
     "data": {
      "image/png": "[encoded data removed]",
      "text/plain": [
       "<Figure size 432x288 with 1 Axes>"
      ]
     },
     "metadata": {
      "needs_background": "light"
     },
     "output_type": "display_data"
    }
   ],
   "source": [
    "data_rides.boxplot(column='distance')\n",
    "plt.title('Диаграмма размаха расстояния за одну поездку')\n",
    "plt.ylabel('расстояние в метрах')\n",
    "plt.show()"
   ]
  },
  {
   "cell_type": "code",
   "execution_count": 36,
   "id": "daee23bc",
   "metadata": {},
   "outputs": [
    {
     "data": {
      "image/png": "[encoded data removed]",
      "text/plain": [
       "<Figure size 432x288 with 1 Axes>"
      ]
     },
     "metadata": {
      "needs_background": "light"
     },
     "output_type": "display_data"
    }
   ],
   "source": [
    "data_rides['distance'].plot(kind='hist', grid=True, bins=50)\n",
    "plt.title('Расстояние за одну поездку')\n",
    "plt.xlabel('расстояние в метрах')\n",
    "plt.ylabel('количество пользователей')\n",
    "plt.show()"
   ]
  },
  {
   "cell_type": "markdown",
   "id": "625c4b46",
   "metadata": {},
   "source": [
    "- Медиана и среднее расстояние почти идентичны. \n",
    "- Среденее расстояние немного больше 3 километров. \n",
    "- Не большой пик примерно в диапазоне 500 - 600 метров. Возможно это расстояние например от работы до метро или от дома до остановки. "
   ]
  },
  {
   "cell_type": "markdown",
   "id": "dce30908",
   "metadata": {},
   "source": [
    "**3.5 Продолжительность поездок**"
   ]
  },
  {
   "cell_type": "code",
   "execution_count": 37,
   "id": "bda94a7b",
   "metadata": {},
   "outputs": [
    {
     "data": {
      "text/html": [
       "<div>\n",
       "<style scoped>\n",
       "    .dataframe tbody tr th:only-of-type {\n",
       "        vertical-align: middle;\n",
       "    }\n",
       "\n",
       "    .dataframe tbody tr th {\n",
       "        vertical-align: top;\n",
       "    }\n",
       "\n",
       "    .dataframe thead th {\n",
       "        text-align: right;\n",
       "    }\n",
       "</style>\n",
       "<table border=\"1\" class=\"dataframe\">\n",
       "  <thead>\n",
       "    <tr style=\"text-align: right;\">\n",
       "      <th></th>\n",
       "      <th>user_id</th>\n",
       "      <th>distance</th>\n",
       "      <th>duration</th>\n",
       "      <th>date</th>\n",
       "      <th>month</th>\n",
       "    </tr>\n",
       "  </thead>\n",
       "  <tbody>\n",
       "    <tr>\n",
       "      <th>0</th>\n",
       "      <td>1</td>\n",
       "      <td>4409.919140</td>\n",
       "      <td>25.599769</td>\n",
       "      <td>2021-01-01</td>\n",
       "      <td>1</td>\n",
       "    </tr>\n",
       "    <tr>\n",
       "      <th>1</th>\n",
       "      <td>1</td>\n",
       "      <td>2617.592153</td>\n",
       "      <td>15.816871</td>\n",
       "      <td>2021-01-18</td>\n",
       "      <td>1</td>\n",
       "    </tr>\n",
       "    <tr>\n",
       "      <th>2</th>\n",
       "      <td>1</td>\n",
       "      <td>754.159807</td>\n",
       "      <td>6.232113</td>\n",
       "      <td>2021-04-20</td>\n",
       "      <td>4</td>\n",
       "    </tr>\n",
       "    <tr>\n",
       "      <th>3</th>\n",
       "      <td>1</td>\n",
       "      <td>2694.783254</td>\n",
       "      <td>18.511000</td>\n",
       "      <td>2021-08-11</td>\n",
       "      <td>8</td>\n",
       "    </tr>\n",
       "    <tr>\n",
       "      <th>4</th>\n",
       "      <td>1</td>\n",
       "      <td>4028.687306</td>\n",
       "      <td>26.265803</td>\n",
       "      <td>2021-08-28</td>\n",
       "      <td>8</td>\n",
       "    </tr>\n",
       "  </tbody>\n",
       "</table>\n",
       "</div>"
      ],
      "text/plain": [
       "   user_id     distance   duration       date  month\n",
       "0        1  4409.919140  25.599769 2021-01-01      1\n",
       "1        1  2617.592153  15.816871 2021-01-18      1\n",
       "2        1   754.159807   6.232113 2021-04-20      4\n",
       "3        1  2694.783254  18.511000 2021-08-11      8\n",
       "4        1  4028.687306  26.265803 2021-08-28      8"
      ]
     },
     "execution_count": 37,
     "metadata": {},
     "output_type": "execute_result"
    }
   ],
   "source": [
    "data_rides.head()"
   ]
  },
  {
   "cell_type": "code",
   "execution_count": 38,
   "id": "20195be0",
   "metadata": {},
   "outputs": [
    {
     "data": {
      "text/plain": [
       "count    18068.000000\n",
       "mean        17.805011\n",
       "std          6.091051\n",
       "min          0.500000\n",
       "25%         13.597563\n",
       "50%         17.678395\n",
       "75%         21.724800\n",
       "max         40.823963\n",
       "Name: duration, dtype: float64"
      ]
     },
     "execution_count": 38,
     "metadata": {},
     "output_type": "execute_result"
    }
   ],
   "source": [
    "data_rides['duration'].describe()"
   ]
  },
  {
   "cell_type": "code",
   "execution_count": 39,
   "id": "a856e1e1",
   "metadata": {},
   "outputs": [
    {
     "data": {
      "image/png": "[encoded data removed]",
      "text/plain": [
       "<Figure size 432x288 with 1 Axes>"
      ]
     },
     "metadata": {
      "needs_background": "light"
     },
     "output_type": "display_data"
    }
   ],
   "source": [
    "data_rides['duration'].plot(kind='hist', grid=True, bins=100)\n",
    "plt.title('Продолжительность поездок')\n",
    "plt.xlabel('время в минутах')\n",
    "plt.ylabel('количество пользователей')\n",
    "plt.show()"
   ]
  },
  {
   "cell_type": "markdown",
   "id": "a8564c08",
   "metadata": {},
   "source": [
    "- Среднее время поездки 17.8 минут.\n",
    "- Медиана времени поездки составляет 17.7 минут\n"
   ]
  },
  {
   "cell_type": "markdown",
   "id": "510a6e43",
   "metadata": {},
   "source": [
    "**Вывод:**\n",
    "1. Частота встречаемости городов:\n",
    "    - Больше всего пользователей из Пятигорска: 219\n",
    "    - Меньше всего пользователей из Москвы: 168\n",
    "    - Всего датафрейм содержит данные о пользователях из 8 городов.\n",
    "   \n",
    "   \n",
    "2. Соотношение пользователей с подпиской и без подписки:\n",
    "    - Количество пользователей без подписки: 835\n",
    "    - Количество пользователей с подпиской: 699\n",
    "\n",
    "\n",
    "3. Возраст пользователей:\n",
    "    - Максимальный возраст составляет 43 года.\n",
    "    - Минимальный возрвст составляет 12 лет.\n",
    "    - Медиана и средний возрвст почти совпадают и составляют: медиана - 25 и средний - 24.9\n",
    "    - Выборка имеет нормальное распределение.\n",
    "    \n",
    "    \n",
    "4. Расстояние, которое пользователь преодолел за одну поездку:\n",
    "    - Медиана и среднее расстояние почти идентичны. \n",
    "    - Среденее расстояние немного больше 3 километров. \n",
    "    - Не большой пик примерно в диапазоне 500 - 600 метров. Возможно это расстояние например от работы до метро или от дома до остановки. \n",
    "    \n",
    "    \n",
    "5. Продолжительность поездок:\n",
    "    - Среднее время поездки 17.8 минут.\n",
    "    - Медиана времени поездки составляет 17.7 минут\n",
    "    - Выборка похожа на нормально распределение. "
   ]
  },
  {
   "cell_type": "markdown",
   "id": "36b3f094",
   "metadata": {},
   "source": [
    "<div class=\"alert alert-success\">\n",
    "<h2> Комментарий ревьюера 😊<a class=\"tocSkip\"> </h2>\n",
    "\n",
    "Отличная работа по исследовательскому анализу! Молодец, что используешь и боксплоты и метод .describe(), а также гистограммы для работы)"
   ]
  },
  {
   "cell_type": "markdown",
   "id": "4ef51331",
   "metadata": {},
   "source": [
    "#### Шаг 4. Объединение данных"
   ]
  },
  {
   "cell_type": "markdown",
   "id": "dfaeb104",
   "metadata": {},
   "source": [
    "**4.1 Объедините данные о пользователях, поездках и подписках в один датафрейм.**"
   ]
  },
  {
   "cell_type": "code",
   "execution_count": 40,
   "id": "99ace120",
   "metadata": {},
   "outputs": [],
   "source": [
    "users_rides_subs = data_users.merge(data_rides, on='user_id').merge(data_subscriptions, on='subscription_type')"
   ]
  },
  {
   "cell_type": "code",
   "execution_count": 45,
   "id": "97a3bb1e",
   "metadata": {},
   "outputs": [
    {
     "data": {
      "text/html": [
       "<div>\n",
       "<style scoped>\n",
       "    .dataframe tbody tr th:only-of-type {\n",
       "        vertical-align: middle;\n",
       "    }\n",
       "\n",
       "    .dataframe tbody tr th {\n",
       "        vertical-align: top;\n",
       "    }\n",
       "\n",
       "    .dataframe thead th {\n",
       "        text-align: right;\n",
       "    }\n",
       "</style>\n",
       "<table border=\"1\" class=\"dataframe\">\n",
       "  <thead>\n",
       "    <tr style=\"text-align: right;\">\n",
       "      <th></th>\n",
       "      <th>user_id</th>\n",
       "      <th>name</th>\n",
       "      <th>age</th>\n",
       "      <th>city</th>\n",
       "      <th>subscription_type</th>\n",
       "      <th>distance</th>\n",
       "      <th>duration</th>\n",
       "      <th>date</th>\n",
       "      <th>month</th>\n",
       "      <th>minute_price</th>\n",
       "      <th>start_ride_price</th>\n",
       "      <th>subscription_fee</th>\n",
       "    </tr>\n",
       "  </thead>\n",
       "  <tbody>\n",
       "    <tr>\n",
       "      <th>0</th>\n",
       "      <td>1</td>\n",
       "      <td>Кира</td>\n",
       "      <td>22</td>\n",
       "      <td>Тюмень</td>\n",
       "      <td>ultra</td>\n",
       "      <td>4409.919140</td>\n",
       "      <td>25.599769</td>\n",
       "      <td>2021-01-01</td>\n",
       "      <td>1</td>\n",
       "      <td>6</td>\n",
       "      <td>0</td>\n",
       "      <td>199</td>\n",
       "    </tr>\n",
       "    <tr>\n",
       "      <th>1</th>\n",
       "      <td>1</td>\n",
       "      <td>Кира</td>\n",
       "      <td>22</td>\n",
       "      <td>Тюмень</td>\n",
       "      <td>ultra</td>\n",
       "      <td>2617.592153</td>\n",
       "      <td>15.816871</td>\n",
       "      <td>2021-01-18</td>\n",
       "      <td>1</td>\n",
       "      <td>6</td>\n",
       "      <td>0</td>\n",
       "      <td>199</td>\n",
       "    </tr>\n",
       "    <tr>\n",
       "      <th>2</th>\n",
       "      <td>1</td>\n",
       "      <td>Кира</td>\n",
       "      <td>22</td>\n",
       "      <td>Тюмень</td>\n",
       "      <td>ultra</td>\n",
       "      <td>754.159807</td>\n",
       "      <td>6.232113</td>\n",
       "      <td>2021-04-20</td>\n",
       "      <td>4</td>\n",
       "      <td>6</td>\n",
       "      <td>0</td>\n",
       "      <td>199</td>\n",
       "    </tr>\n",
       "    <tr>\n",
       "      <th>3</th>\n",
       "      <td>1</td>\n",
       "      <td>Кира</td>\n",
       "      <td>22</td>\n",
       "      <td>Тюмень</td>\n",
       "      <td>ultra</td>\n",
       "      <td>2694.783254</td>\n",
       "      <td>18.511000</td>\n",
       "      <td>2021-08-11</td>\n",
       "      <td>8</td>\n",
       "      <td>6</td>\n",
       "      <td>0</td>\n",
       "      <td>199</td>\n",
       "    </tr>\n",
       "    <tr>\n",
       "      <th>4</th>\n",
       "      <td>1</td>\n",
       "      <td>Кира</td>\n",
       "      <td>22</td>\n",
       "      <td>Тюмень</td>\n",
       "      <td>ultra</td>\n",
       "      <td>4028.687306</td>\n",
       "      <td>26.265803</td>\n",
       "      <td>2021-08-28</td>\n",
       "      <td>8</td>\n",
       "      <td>6</td>\n",
       "      <td>0</td>\n",
       "      <td>199</td>\n",
       "    </tr>\n",
       "    <tr>\n",
       "      <th>...</th>\n",
       "      <td>...</td>\n",
       "      <td>...</td>\n",
       "      <td>...</td>\n",
       "      <td>...</td>\n",
       "      <td>...</td>\n",
       "      <td>...</td>\n",
       "      <td>...</td>\n",
       "      <td>...</td>\n",
       "      <td>...</td>\n",
       "      <td>...</td>\n",
       "      <td>...</td>\n",
       "      <td>...</td>\n",
       "    </tr>\n",
       "    <tr>\n",
       "      <th>18063</th>\n",
       "      <td>1534</td>\n",
       "      <td>Альберт</td>\n",
       "      <td>25</td>\n",
       "      <td>Краснодар</td>\n",
       "      <td>free</td>\n",
       "      <td>3781.098080</td>\n",
       "      <td>19.822962</td>\n",
       "      <td>2021-11-04</td>\n",
       "      <td>11</td>\n",
       "      <td>8</td>\n",
       "      <td>50</td>\n",
       "      <td>0</td>\n",
       "    </tr>\n",
       "    <tr>\n",
       "      <th>18064</th>\n",
       "      <td>1534</td>\n",
       "      <td>Альберт</td>\n",
       "      <td>25</td>\n",
       "      <td>Краснодар</td>\n",
       "      <td>free</td>\n",
       "      <td>2840.423057</td>\n",
       "      <td>21.409799</td>\n",
       "      <td>2021-11-16</td>\n",
       "      <td>11</td>\n",
       "      <td>8</td>\n",
       "      <td>50</td>\n",
       "      <td>0</td>\n",
       "    </tr>\n",
       "    <tr>\n",
       "      <th>18065</th>\n",
       "      <td>1534</td>\n",
       "      <td>Альберт</td>\n",
       "      <td>25</td>\n",
       "      <td>Краснодар</td>\n",
       "      <td>free</td>\n",
       "      <td>3826.185507</td>\n",
       "      <td>18.435051</td>\n",
       "      <td>2021-11-18</td>\n",
       "      <td>11</td>\n",
       "      <td>8</td>\n",
       "      <td>50</td>\n",
       "      <td>0</td>\n",
       "    </tr>\n",
       "    <tr>\n",
       "      <th>18066</th>\n",
       "      <td>1534</td>\n",
       "      <td>Альберт</td>\n",
       "      <td>25</td>\n",
       "      <td>Краснодар</td>\n",
       "      <td>free</td>\n",
       "      <td>2902.308661</td>\n",
       "      <td>16.674362</td>\n",
       "      <td>2021-11-27</td>\n",
       "      <td>11</td>\n",
       "      <td>8</td>\n",
       "      <td>50</td>\n",
       "      <td>0</td>\n",
       "    </tr>\n",
       "    <tr>\n",
       "      <th>18067</th>\n",
       "      <td>1534</td>\n",
       "      <td>Альберт</td>\n",
       "      <td>25</td>\n",
       "      <td>Краснодар</td>\n",
       "      <td>free</td>\n",
       "      <td>2371.711192</td>\n",
       "      <td>15.893917</td>\n",
       "      <td>2021-12-29</td>\n",
       "      <td>12</td>\n",
       "      <td>8</td>\n",
       "      <td>50</td>\n",
       "      <td>0</td>\n",
       "    </tr>\n",
       "  </tbody>\n",
       "</table>\n",
       "<p>18068 rows × 12 columns</p>\n",
       "</div>"
      ],
      "text/plain": [
       "       user_id     name  age       city subscription_type     distance  \\\n",
       "0            1     Кира   22     Тюмень             ultra  4409.919140   \n",
       "1            1     Кира   22     Тюмень             ultra  2617.592153   \n",
       "2            1     Кира   22     Тюмень             ultra   754.159807   \n",
       "3            1     Кира   22     Тюмень             ultra  2694.783254   \n",
       "4            1     Кира   22     Тюмень             ultra  4028.687306   \n",
       "...        ...      ...  ...        ...               ...          ...   \n",
       "18063     1534  Альберт   25  Краснодар              free  3781.098080   \n",
       "18064     1534  Альберт   25  Краснодар              free  2840.423057   \n",
       "18065     1534  Альберт   25  Краснодар              free  3826.185507   \n",
       "18066     1534  Альберт   25  Краснодар              free  2902.308661   \n",
       "18067     1534  Альберт   25  Краснодар              free  2371.711192   \n",
       "\n",
       "        duration       date  month  minute_price  start_ride_price  \\\n",
       "0      25.599769 2021-01-01      1             6                 0   \n",
       "1      15.816871 2021-01-18      1             6                 0   \n",
       "2       6.232113 2021-04-20      4             6                 0   \n",
       "3      18.511000 2021-08-11      8             6                 0   \n",
       "4      26.265803 2021-08-28      8             6                 0   \n",
       "...          ...        ...    ...           ...               ...   \n",
       "18063  19.822962 2021-11-04     11             8                50   \n",
       "18064  21.409799 2021-11-16     11             8                50   \n",
       "18065  18.435051 2021-11-18     11             8                50   \n",
       "18066  16.674362 2021-11-27     11             8                50   \n",
       "18067  15.893917 2021-12-29     12             8                50   \n",
       "\n",
       "       subscription_fee  \n",
       "0                   199  \n",
       "1                   199  \n",
       "2                   199  \n",
       "3                   199  \n",
       "4                   199  \n",
       "...                 ...  \n",
       "18063                 0  \n",
       "18064                 0  \n",
       "18065                 0  \n",
       "18066                 0  \n",
       "18067                 0  \n",
       "\n",
       "[18068 rows x 12 columns]"
      ]
     },
     "metadata": {},
     "output_type": "display_data"
    }
   ],
   "source": [
    "display(users_rides_subs)\n"
   ]
  },
  {
   "cell_type": "markdown",
   "id": "1bdd048e",
   "metadata": {},
   "source": [
    "<div class=\"alert alert-block alert-danger\">\n",
    "<h2> Комментарий ревьюера ⛔️<a class=\"tocSkip\"></h2>\n",
    "    \n",
    "Необходимо провести проверку размерности датафрейма после объединения и проверку на пропуски в объединенном датасете."
   ]
  },
  {
   "cell_type": "markdown",
   "id": "e5a25ec7",
   "metadata": {},
   "source": [
    "<div class=\"alert alert-info\"> <b>Комментарий студента:</b> Проверка на пропуски и общая иинформация о датасете.</div>"
   ]
  },
  {
   "cell_type": "code",
   "execution_count": 42,
   "id": "0b4845ec",
   "metadata": {},
   "outputs": [
    {
     "data": {
      "text/plain": [
       "user_id              0\n",
       "name                 0\n",
       "age                  0\n",
       "city                 0\n",
       "subscription_type    0\n",
       "distance             0\n",
       "duration             0\n",
       "date                 0\n",
       "month                0\n",
       "minute_price         0\n",
       "start_ride_price     0\n",
       "subscription_fee     0\n",
       "dtype: int64"
      ]
     },
     "metadata": {},
     "output_type": "display_data"
    }
   ],
   "source": [
    "display(users_rides_subs.isna().sum())"
   ]
  },
  {
   "cell_type": "code",
   "execution_count": 43,
   "id": "1a969bef",
   "metadata": {},
   "outputs": [
    {
     "name": "stdout",
     "output_type": "stream",
     "text": [
      "<class 'pandas.core.frame.DataFrame'>\n",
      "Int64Index: 18068 entries, 0 to 18067\n",
      "Data columns (total 12 columns):\n",
      " #   Column             Non-Null Count  Dtype         \n",
      "---  ------             --------------  -----         \n",
      " 0   user_id            18068 non-null  int64         \n",
      " 1   name               18068 non-null  object        \n",
      " 2   age                18068 non-null  int64         \n",
      " 3   city               18068 non-null  object        \n",
      " 4   subscription_type  18068 non-null  object        \n",
      " 5   distance           18068 non-null  float64       \n",
      " 6   duration           18068 non-null  float64       \n",
      " 7   date               18068 non-null  datetime64[ns]\n",
      " 8   month              18068 non-null  int64         \n",
      " 9   minute_price       18068 non-null  int64         \n",
      " 10  start_ride_price   18068 non-null  int64         \n",
      " 11  subscription_fee   18068 non-null  int64         \n",
      "dtypes: datetime64[ns](1), float64(2), int64(6), object(3)\n",
      "memory usage: 1.8+ MB\n"
     ]
    },
    {
     "data": {
      "text/plain": [
       "None"
      ]
     },
     "metadata": {},
     "output_type": "display_data"
    }
   ],
   "source": [
    "display(users_rides_subs.info())"
   ]
  },
  {
   "cell_type": "code",
   "execution_count": null,
   "id": "78034462",
   "metadata": {},
   "outputs": [],
   "source": []
  },
  {
   "cell_type": "markdown",
   "id": "757a0079",
   "metadata": {},
   "source": [
    "**4.2 Создать ещё два датафрейма из датафрейма, созданного на этапе объедините данные о пользователях, поездках и подписках в один датафрейм:**\n",
    "- c данными о пользователях без подписки;\n",
    "- с данными о пользователях с подпиской."
   ]
  },
  {
   "cell_type": "code",
   "execution_count": 46,
   "id": "7f53e7be",
   "metadata": {},
   "outputs": [],
   "source": [
    "dataframe_free_subs = users_rides_subs[users_rides_subs['subscription_type'] == 'free']"
   ]
  },
  {
   "cell_type": "code",
   "execution_count": 47,
   "id": "7d47d4c0",
   "metadata": {},
   "outputs": [],
   "source": [
    "dataframe_ultra_subs = users_rides_subs[users_rides_subs['subscription_type'] == 'ultra']"
   ]
  },
  {
   "cell_type": "code",
   "execution_count": 48,
   "id": "27e14d5e",
   "metadata": {},
   "outputs": [
    {
     "data": {
      "text/html": [
       "<div>\n",
       "<style scoped>\n",
       "    .dataframe tbody tr th:only-of-type {\n",
       "        vertical-align: middle;\n",
       "    }\n",
       "\n",
       "    .dataframe tbody tr th {\n",
       "        vertical-align: top;\n",
       "    }\n",
       "\n",
       "    .dataframe thead th {\n",
       "        text-align: right;\n",
       "    }\n",
       "</style>\n",
       "<table border=\"1\" class=\"dataframe\">\n",
       "  <thead>\n",
       "    <tr style=\"text-align: right;\">\n",
       "      <th></th>\n",
       "      <th>user_id</th>\n",
       "      <th>name</th>\n",
       "      <th>age</th>\n",
       "      <th>city</th>\n",
       "      <th>subscription_type</th>\n",
       "      <th>distance</th>\n",
       "      <th>duration</th>\n",
       "      <th>date</th>\n",
       "      <th>month</th>\n",
       "      <th>minute_price</th>\n",
       "      <th>start_ride_price</th>\n",
       "      <th>subscription_fee</th>\n",
       "    </tr>\n",
       "  </thead>\n",
       "  <tbody>\n",
       "    <tr>\n",
       "      <th>6500</th>\n",
       "      <td>700</td>\n",
       "      <td>Айдар</td>\n",
       "      <td>22</td>\n",
       "      <td>Омск</td>\n",
       "      <td>free</td>\n",
       "      <td>2515.690719</td>\n",
       "      <td>14.944286</td>\n",
       "      <td>2021-01-02</td>\n",
       "      <td>1</td>\n",
       "      <td>8</td>\n",
       "      <td>50</td>\n",
       "      <td>0</td>\n",
       "    </tr>\n",
       "    <tr>\n",
       "      <th>6501</th>\n",
       "      <td>700</td>\n",
       "      <td>Айдар</td>\n",
       "      <td>22</td>\n",
       "      <td>Омск</td>\n",
       "      <td>free</td>\n",
       "      <td>846.932642</td>\n",
       "      <td>16.234663</td>\n",
       "      <td>2021-02-01</td>\n",
       "      <td>2</td>\n",
       "      <td>8</td>\n",
       "      <td>50</td>\n",
       "      <td>0</td>\n",
       "    </tr>\n",
       "    <tr>\n",
       "      <th>6502</th>\n",
       "      <td>700</td>\n",
       "      <td>Айдар</td>\n",
       "      <td>22</td>\n",
       "      <td>Омск</td>\n",
       "      <td>free</td>\n",
       "      <td>4004.434142</td>\n",
       "      <td>20.016628</td>\n",
       "      <td>2021-02-04</td>\n",
       "      <td>2</td>\n",
       "      <td>8</td>\n",
       "      <td>50</td>\n",
       "      <td>0</td>\n",
       "    </tr>\n",
       "    <tr>\n",
       "      <th>6503</th>\n",
       "      <td>700</td>\n",
       "      <td>Айдар</td>\n",
       "      <td>22</td>\n",
       "      <td>Омск</td>\n",
       "      <td>free</td>\n",
       "      <td>1205.911290</td>\n",
       "      <td>9.782872</td>\n",
       "      <td>2021-02-10</td>\n",
       "      <td>2</td>\n",
       "      <td>8</td>\n",
       "      <td>50</td>\n",
       "      <td>0</td>\n",
       "    </tr>\n",
       "    <tr>\n",
       "      <th>6504</th>\n",
       "      <td>700</td>\n",
       "      <td>Айдар</td>\n",
       "      <td>22</td>\n",
       "      <td>Омск</td>\n",
       "      <td>free</td>\n",
       "      <td>3047.379435</td>\n",
       "      <td>17.427673</td>\n",
       "      <td>2021-02-14</td>\n",
       "      <td>2</td>\n",
       "      <td>8</td>\n",
       "      <td>50</td>\n",
       "      <td>0</td>\n",
       "    </tr>\n",
       "  </tbody>\n",
       "</table>\n",
       "</div>"
      ],
      "text/plain": [
       "      user_id   name  age  city subscription_type     distance   duration  \\\n",
       "6500      700  Айдар   22  Омск              free  2515.690719  14.944286   \n",
       "6501      700  Айдар   22  Омск              free   846.932642  16.234663   \n",
       "6502      700  Айдар   22  Омск              free  4004.434142  20.016628   \n",
       "6503      700  Айдар   22  Омск              free  1205.911290   9.782872   \n",
       "6504      700  Айдар   22  Омск              free  3047.379435  17.427673   \n",
       "\n",
       "           date  month  minute_price  start_ride_price  subscription_fee  \n",
       "6500 2021-01-02      1             8                50                 0  \n",
       "6501 2021-02-01      2             8                50                 0  \n",
       "6502 2021-02-04      2             8                50                 0  \n",
       "6503 2021-02-10      2             8                50                 0  \n",
       "6504 2021-02-14      2             8                50                 0  "
      ]
     },
     "execution_count": 48,
     "metadata": {},
     "output_type": "execute_result"
    }
   ],
   "source": [
    "dataframe_free_subs.head()"
   ]
  },
  {
   "cell_type": "code",
   "execution_count": 49,
   "id": "1abd8de4",
   "metadata": {},
   "outputs": [
    {
     "data": {
      "text/html": [
       "<div>\n",
       "<style scoped>\n",
       "    .dataframe tbody tr th:only-of-type {\n",
       "        vertical-align: middle;\n",
       "    }\n",
       "\n",
       "    .dataframe tbody tr th {\n",
       "        vertical-align: top;\n",
       "    }\n",
       "\n",
       "    .dataframe thead th {\n",
       "        text-align: right;\n",
       "    }\n",
       "</style>\n",
       "<table border=\"1\" class=\"dataframe\">\n",
       "  <thead>\n",
       "    <tr style=\"text-align: right;\">\n",
       "      <th></th>\n",
       "      <th>user_id</th>\n",
       "      <th>name</th>\n",
       "      <th>age</th>\n",
       "      <th>city</th>\n",
       "      <th>subscription_type</th>\n",
       "      <th>distance</th>\n",
       "      <th>duration</th>\n",
       "      <th>date</th>\n",
       "      <th>month</th>\n",
       "      <th>minute_price</th>\n",
       "      <th>start_ride_price</th>\n",
       "      <th>subscription_fee</th>\n",
       "    </tr>\n",
       "  </thead>\n",
       "  <tbody>\n",
       "    <tr>\n",
       "      <th>0</th>\n",
       "      <td>1</td>\n",
       "      <td>Кира</td>\n",
       "      <td>22</td>\n",
       "      <td>Тюмень</td>\n",
       "      <td>ultra</td>\n",
       "      <td>4409.919140</td>\n",
       "      <td>25.599769</td>\n",
       "      <td>2021-01-01</td>\n",
       "      <td>1</td>\n",
       "      <td>6</td>\n",
       "      <td>0</td>\n",
       "      <td>199</td>\n",
       "    </tr>\n",
       "    <tr>\n",
       "      <th>1</th>\n",
       "      <td>1</td>\n",
       "      <td>Кира</td>\n",
       "      <td>22</td>\n",
       "      <td>Тюмень</td>\n",
       "      <td>ultra</td>\n",
       "      <td>2617.592153</td>\n",
       "      <td>15.816871</td>\n",
       "      <td>2021-01-18</td>\n",
       "      <td>1</td>\n",
       "      <td>6</td>\n",
       "      <td>0</td>\n",
       "      <td>199</td>\n",
       "    </tr>\n",
       "    <tr>\n",
       "      <th>2</th>\n",
       "      <td>1</td>\n",
       "      <td>Кира</td>\n",
       "      <td>22</td>\n",
       "      <td>Тюмень</td>\n",
       "      <td>ultra</td>\n",
       "      <td>754.159807</td>\n",
       "      <td>6.232113</td>\n",
       "      <td>2021-04-20</td>\n",
       "      <td>4</td>\n",
       "      <td>6</td>\n",
       "      <td>0</td>\n",
       "      <td>199</td>\n",
       "    </tr>\n",
       "    <tr>\n",
       "      <th>3</th>\n",
       "      <td>1</td>\n",
       "      <td>Кира</td>\n",
       "      <td>22</td>\n",
       "      <td>Тюмень</td>\n",
       "      <td>ultra</td>\n",
       "      <td>2694.783254</td>\n",
       "      <td>18.511000</td>\n",
       "      <td>2021-08-11</td>\n",
       "      <td>8</td>\n",
       "      <td>6</td>\n",
       "      <td>0</td>\n",
       "      <td>199</td>\n",
       "    </tr>\n",
       "    <tr>\n",
       "      <th>4</th>\n",
       "      <td>1</td>\n",
       "      <td>Кира</td>\n",
       "      <td>22</td>\n",
       "      <td>Тюмень</td>\n",
       "      <td>ultra</td>\n",
       "      <td>4028.687306</td>\n",
       "      <td>26.265803</td>\n",
       "      <td>2021-08-28</td>\n",
       "      <td>8</td>\n",
       "      <td>6</td>\n",
       "      <td>0</td>\n",
       "      <td>199</td>\n",
       "    </tr>\n",
       "  </tbody>\n",
       "</table>\n",
       "</div>"
      ],
      "text/plain": [
       "   user_id  name  age    city subscription_type     distance   duration  \\\n",
       "0        1  Кира   22  Тюмень             ultra  4409.919140  25.599769   \n",
       "1        1  Кира   22  Тюмень             ultra  2617.592153  15.816871   \n",
       "2        1  Кира   22  Тюмень             ultra   754.159807   6.232113   \n",
       "3        1  Кира   22  Тюмень             ultra  2694.783254  18.511000   \n",
       "4        1  Кира   22  Тюмень             ultra  4028.687306  26.265803   \n",
       "\n",
       "        date  month  minute_price  start_ride_price  subscription_fee  \n",
       "0 2021-01-01      1             6                 0               199  \n",
       "1 2021-01-18      1             6                 0               199  \n",
       "2 2021-04-20      4             6                 0               199  \n",
       "3 2021-08-11      8             6                 0               199  \n",
       "4 2021-08-28      8             6                 0               199  "
      ]
     },
     "execution_count": 49,
     "metadata": {},
     "output_type": "execute_result"
    }
   ],
   "source": [
    "dataframe_ultra_subs.head()"
   ]
  },
  {
   "cell_type": "markdown",
   "id": "10b0054d",
   "metadata": {},
   "source": [
    "**4.3 Визуализируйте информацию о расстоянии и времени поездок для пользователей обеих категорий.**"
   ]
  },
  {
   "cell_type": "code",
   "execution_count": 50,
   "id": "b678daf2",
   "metadata": {},
   "outputs": [
    {
     "data": {
      "image/png": "[encoded data removed]",
      "text/plain": [
       "<Figure size 432x288 with 1 Axes>"
      ]
     },
     "metadata": {
      "needs_background": "light"
     },
     "output_type": "display_data"
    }
   ],
   "source": [
    "dataframe_free_subs['distance'].plot(kind='hist', grid=True, bins=30, label='free')\n",
    "dataframe_ultra_subs['distance'].plot(kind='hist', grid=True, bins=30, label='ultra')\n",
    "\n",
    "plt.title('Расстояние одной поездки для пользователей: с подпиской - ultra и без подписки - free')\n",
    "plt.xlabel('расстояние в метрах')\n",
    "plt.ylabel('количество пользователей')\n",
    "plt.legend(loc='upper left')\n",
    "plt.show()"
   ]
  },
  {
   "cell_type": "markdown",
   "id": "8b26f170",
   "metadata": {},
   "source": [
    "<div class=\"alert alert-success\">\n",
    "<h2> Комментарий ревьюера 😊<a class=\"tocSkip\"> </h2>\n",
    "\n",
    "Здорово, что совмещаешь распределения, также можно добавить параметр alpha, чтобы настроить прозрачность)"
   ]
  },
  {
   "cell_type": "code",
   "execution_count": 51,
   "id": "324ceeca",
   "metadata": {},
   "outputs": [
    {
     "data": {
      "image/png": "[encoded data removed]",
      "text/plain": [
       "<Figure size 432x288 with 1 Axes>"
      ]
     },
     "metadata": {
      "needs_background": "light"
     },
     "output_type": "display_data"
    }
   ],
   "source": [
    "dataframe_free_subs['duration'].plot(kind='hist', grid=True, bins=30, label='free')\n",
    "dataframe_ultra_subs['duration'].plot(kind='hist', grid=True, bins=30, label='ultra')\n",
    "\n",
    "plt.title('Время одной поездки для пользователей: с подпиской - ultra и без подписки - free')\n",
    "plt.xlabel('время в минутах')\n",
    "plt.ylabel('количество пользователей')\n",
    "plt.legend(loc='upper left')\n",
    "plt.show()"
   ]
  },
  {
   "cell_type": "markdown",
   "id": "e16792ef",
   "metadata": {},
   "source": [
    "**Вывод:**\n",
    "\n",
    "- Объединили данные о пользователях, поездках и подписках в один датафрейм.\n",
    "- Создали ещё два датафрейма из датафрейма с данными о пользователях с подпиской и без подписки.\n",
    "- Пользователи без подписок совершают более длительные поездки, но по времени более равномерно распределены.\n",
    "- Пользователи с подпиской предпочитают более долгие по времени передвижения, но меньшую дистанцию."
   ]
  },
  {
   "cell_type": "markdown",
   "id": "4b589e78",
   "metadata": {},
   "source": [
    "<div class=\"alert alert-success\">\n",
    "<h2> Комментарий ревьюера 😊<a class=\"tocSkip\"> </h2>\n",
    "\n",
    "Молодец, что обращаешь внимание на сходства или различия профилей пользователей с платной и бесплатной подписками."
   ]
  },
  {
   "cell_type": "markdown",
   "id": "05c7f4be",
   "metadata": {},
   "source": [
    "<div class=\"alert alert-warning\">\n",
    "<h2> Комментарий ревьюера 🤓<a class=\"tocSkip\"> </h2>\n",
    "\n",
    "Здесь тоже можно использовать метод describe() для расчета описательных статистик."
   ]
  },
  {
   "cell_type": "markdown",
   "id": "402d620f",
   "metadata": {},
   "source": [
    "#### Шаг 5. Подсчёт выручки"
   ]
  },
  {
   "cell_type": "markdown",
   "id": "45092fe6",
   "metadata": {},
   "source": [
    "**5.1 Создайте датафрейм с агрегированными данными о поездках на основе датафрейма с объединёнными данными из шага 4:** \n",
    "- найдите суммарное расстояние;\n",
    "- количество поездок;\n",
    "- суммарное время для каждого пользователя за каждый месяц."
   ]
  },
  {
   "cell_type": "code",
   "execution_count": 52,
   "id": "568dda7b",
   "metadata": {},
   "outputs": [
    {
     "data": {
      "text/html": [
       "<div>\n",
       "<style scoped>\n",
       "    .dataframe tbody tr th:only-of-type {\n",
       "        vertical-align: middle;\n",
       "    }\n",
       "\n",
       "    .dataframe tbody tr th {\n",
       "        vertical-align: top;\n",
       "    }\n",
       "\n",
       "    .dataframe thead th {\n",
       "        text-align: right;\n",
       "    }\n",
       "</style>\n",
       "<table border=\"1\" class=\"dataframe\">\n",
       "  <thead>\n",
       "    <tr style=\"text-align: right;\">\n",
       "      <th></th>\n",
       "      <th>user_id</th>\n",
       "      <th>name</th>\n",
       "      <th>age</th>\n",
       "      <th>city</th>\n",
       "      <th>subscription_type</th>\n",
       "      <th>distance</th>\n",
       "      <th>duration</th>\n",
       "      <th>date</th>\n",
       "      <th>month</th>\n",
       "      <th>minute_price</th>\n",
       "      <th>start_ride_price</th>\n",
       "      <th>subscription_fee</th>\n",
       "    </tr>\n",
       "  </thead>\n",
       "  <tbody>\n",
       "    <tr>\n",
       "      <th>0</th>\n",
       "      <td>1</td>\n",
       "      <td>Кира</td>\n",
       "      <td>22</td>\n",
       "      <td>Тюмень</td>\n",
       "      <td>ultra</td>\n",
       "      <td>4409.919140</td>\n",
       "      <td>25.599769</td>\n",
       "      <td>2021-01-01</td>\n",
       "      <td>1</td>\n",
       "      <td>6</td>\n",
       "      <td>0</td>\n",
       "      <td>199</td>\n",
       "    </tr>\n",
       "    <tr>\n",
       "      <th>1</th>\n",
       "      <td>1</td>\n",
       "      <td>Кира</td>\n",
       "      <td>22</td>\n",
       "      <td>Тюмень</td>\n",
       "      <td>ultra</td>\n",
       "      <td>2617.592153</td>\n",
       "      <td>15.816871</td>\n",
       "      <td>2021-01-18</td>\n",
       "      <td>1</td>\n",
       "      <td>6</td>\n",
       "      <td>0</td>\n",
       "      <td>199</td>\n",
       "    </tr>\n",
       "    <tr>\n",
       "      <th>2</th>\n",
       "      <td>1</td>\n",
       "      <td>Кира</td>\n",
       "      <td>22</td>\n",
       "      <td>Тюмень</td>\n",
       "      <td>ultra</td>\n",
       "      <td>754.159807</td>\n",
       "      <td>6.232113</td>\n",
       "      <td>2021-04-20</td>\n",
       "      <td>4</td>\n",
       "      <td>6</td>\n",
       "      <td>0</td>\n",
       "      <td>199</td>\n",
       "    </tr>\n",
       "    <tr>\n",
       "      <th>3</th>\n",
       "      <td>1</td>\n",
       "      <td>Кира</td>\n",
       "      <td>22</td>\n",
       "      <td>Тюмень</td>\n",
       "      <td>ultra</td>\n",
       "      <td>2694.783254</td>\n",
       "      <td>18.511000</td>\n",
       "      <td>2021-08-11</td>\n",
       "      <td>8</td>\n",
       "      <td>6</td>\n",
       "      <td>0</td>\n",
       "      <td>199</td>\n",
       "    </tr>\n",
       "    <tr>\n",
       "      <th>4</th>\n",
       "      <td>1</td>\n",
       "      <td>Кира</td>\n",
       "      <td>22</td>\n",
       "      <td>Тюмень</td>\n",
       "      <td>ultra</td>\n",
       "      <td>4028.687306</td>\n",
       "      <td>26.265803</td>\n",
       "      <td>2021-08-28</td>\n",
       "      <td>8</td>\n",
       "      <td>6</td>\n",
       "      <td>0</td>\n",
       "      <td>199</td>\n",
       "    </tr>\n",
       "  </tbody>\n",
       "</table>\n",
       "</div>"
      ],
      "text/plain": [
       "   user_id  name  age    city subscription_type     distance   duration  \\\n",
       "0        1  Кира   22  Тюмень             ultra  4409.919140  25.599769   \n",
       "1        1  Кира   22  Тюмень             ultra  2617.592153  15.816871   \n",
       "2        1  Кира   22  Тюмень             ultra   754.159807   6.232113   \n",
       "3        1  Кира   22  Тюмень             ultra  2694.783254  18.511000   \n",
       "4        1  Кира   22  Тюмень             ultra  4028.687306  26.265803   \n",
       "\n",
       "        date  month  minute_price  start_ride_price  subscription_fee  \n",
       "0 2021-01-01      1             6                 0               199  \n",
       "1 2021-01-18      1             6                 0               199  \n",
       "2 2021-04-20      4             6                 0               199  \n",
       "3 2021-08-11      8             6                 0               199  \n",
       "4 2021-08-28      8             6                 0               199  "
      ]
     },
     "execution_count": 52,
     "metadata": {},
     "output_type": "execute_result"
    }
   ],
   "source": [
    "users_rides_subs.head()"
   ]
  },
  {
   "cell_type": "code",
   "execution_count": 53,
   "id": "4e7add41",
   "metadata": {},
   "outputs": [],
   "source": [
    "# округлим время поездки до следующего целого числа и преобразована в целый тип\n",
    "users_rides_subs['duration'] = np.ceil(users_rides_subs['duration']).astype('int')"
   ]
  },
  {
   "cell_type": "code",
   "execution_count": 54,
   "id": "a3e0ebed",
   "metadata": {},
   "outputs": [],
   "source": [
    "agg_users_rides_subs = users_rides_subs.pivot_table(\n",
    "    index=['user_id','month'],\n",
    "    \n",
    "    values=['city', \n",
    "            'subscription_type', \n",
    "            'distance', \n",
    "            'duration', \n",
    "            'date', \n",
    "            'minute_price', \n",
    "            'start_ride_price', \n",
    "            'subscription_fee'],\n",
    "    \n",
    "    aggfunc={'city':'first',\n",
    "             'subscription_type':'first',\n",
    "             'distance':'sum',\n",
    "             'duration':'sum',\n",
    "             'date':'count',\n",
    "             'minute_price':'first',\n",
    "             'start_ride_price':'first',\n",
    "             'subscription_fee':'first'},\n",
    "    fill_value=0\n",
    ").rename(columns={\n",
    "    'date':'ride_count',\n",
    "    'distance': 'distance_sum',\n",
    "    'duration': 'duration_sum'\n",
    "})"
   ]
  },
  {
   "cell_type": "code",
   "execution_count": 55,
   "id": "cd27960c",
   "metadata": {},
   "outputs": [
    {
     "data": {
      "text/html": [
       "<div>\n",
       "<style scoped>\n",
       "    .dataframe tbody tr th:only-of-type {\n",
       "        vertical-align: middle;\n",
       "    }\n",
       "\n",
       "    .dataframe tbody tr th {\n",
       "        vertical-align: top;\n",
       "    }\n",
       "\n",
       "    .dataframe thead th {\n",
       "        text-align: right;\n",
       "    }\n",
       "</style>\n",
       "<table border=\"1\" class=\"dataframe\">\n",
       "  <thead>\n",
       "    <tr style=\"text-align: right;\">\n",
       "      <th></th>\n",
       "      <th></th>\n",
       "      <th>city</th>\n",
       "      <th>ride_count</th>\n",
       "      <th>distance_sum</th>\n",
       "      <th>duration_sum</th>\n",
       "      <th>minute_price</th>\n",
       "      <th>start_ride_price</th>\n",
       "      <th>subscription_fee</th>\n",
       "      <th>subscription_type</th>\n",
       "    </tr>\n",
       "    <tr>\n",
       "      <th>user_id</th>\n",
       "      <th>month</th>\n",
       "      <th></th>\n",
       "      <th></th>\n",
       "      <th></th>\n",
       "      <th></th>\n",
       "      <th></th>\n",
       "      <th></th>\n",
       "      <th></th>\n",
       "      <th></th>\n",
       "    </tr>\n",
       "  </thead>\n",
       "  <tbody>\n",
       "    <tr>\n",
       "      <th rowspan=\"6\" valign=\"top\">1</th>\n",
       "      <th>1</th>\n",
       "      <td>Тюмень</td>\n",
       "      <td>2</td>\n",
       "      <td>7027.511294</td>\n",
       "      <td>42</td>\n",
       "      <td>6</td>\n",
       "      <td>0</td>\n",
       "      <td>199</td>\n",
       "      <td>ultra</td>\n",
       "    </tr>\n",
       "    <tr>\n",
       "      <th>4</th>\n",
       "      <td>Тюмень</td>\n",
       "      <td>1</td>\n",
       "      <td>754.159807</td>\n",
       "      <td>7</td>\n",
       "      <td>6</td>\n",
       "      <td>0</td>\n",
       "      <td>199</td>\n",
       "      <td>ultra</td>\n",
       "    </tr>\n",
       "    <tr>\n",
       "      <th>8</th>\n",
       "      <td>Тюмень</td>\n",
       "      <td>2</td>\n",
       "      <td>6723.470560</td>\n",
       "      <td>46</td>\n",
       "      <td>6</td>\n",
       "      <td>0</td>\n",
       "      <td>199</td>\n",
       "      <td>ultra</td>\n",
       "    </tr>\n",
       "    <tr>\n",
       "      <th>10</th>\n",
       "      <td>Тюмень</td>\n",
       "      <td>2</td>\n",
       "      <td>5809.911100</td>\n",
       "      <td>32</td>\n",
       "      <td>6</td>\n",
       "      <td>0</td>\n",
       "      <td>199</td>\n",
       "      <td>ultra</td>\n",
       "    </tr>\n",
       "    <tr>\n",
       "      <th>11</th>\n",
       "      <td>Тюмень</td>\n",
       "      <td>3</td>\n",
       "      <td>7003.499363</td>\n",
       "      <td>56</td>\n",
       "      <td>6</td>\n",
       "      <td>0</td>\n",
       "      <td>199</td>\n",
       "      <td>ultra</td>\n",
       "    </tr>\n",
       "    <tr>\n",
       "      <th>12</th>\n",
       "      <td>Тюмень</td>\n",
       "      <td>2</td>\n",
       "      <td>6751.629942</td>\n",
       "      <td>28</td>\n",
       "      <td>6</td>\n",
       "      <td>0</td>\n",
       "      <td>199</td>\n",
       "      <td>ultra</td>\n",
       "    </tr>\n",
       "    <tr>\n",
       "      <th rowspan=\"7\" valign=\"top\">2</th>\n",
       "      <th>3</th>\n",
       "      <td>Омск</td>\n",
       "      <td>3</td>\n",
       "      <td>10187.723006</td>\n",
       "      <td>63</td>\n",
       "      <td>6</td>\n",
       "      <td>0</td>\n",
       "      <td>199</td>\n",
       "      <td>ultra</td>\n",
       "    </tr>\n",
       "    <tr>\n",
       "      <th>4</th>\n",
       "      <td>Омск</td>\n",
       "      <td>2</td>\n",
       "      <td>6164.381824</td>\n",
       "      <td>40</td>\n",
       "      <td>6</td>\n",
       "      <td>0</td>\n",
       "      <td>199</td>\n",
       "      <td>ultra</td>\n",
       "    </tr>\n",
       "    <tr>\n",
       "      <th>6</th>\n",
       "      <td>Омск</td>\n",
       "      <td>1</td>\n",
       "      <td>3255.338202</td>\n",
       "      <td>14</td>\n",
       "      <td>6</td>\n",
       "      <td>0</td>\n",
       "      <td>199</td>\n",
       "      <td>ultra</td>\n",
       "    </tr>\n",
       "    <tr>\n",
       "      <th>7</th>\n",
       "      <td>Омск</td>\n",
       "      <td>2</td>\n",
       "      <td>6780.722964</td>\n",
       "      <td>48</td>\n",
       "      <td>6</td>\n",
       "      <td>0</td>\n",
       "      <td>199</td>\n",
       "      <td>ultra</td>\n",
       "    </tr>\n",
       "    <tr>\n",
       "      <th>8</th>\n",
       "      <td>Омск</td>\n",
       "      <td>1</td>\n",
       "      <td>923.007439</td>\n",
       "      <td>7</td>\n",
       "      <td>6</td>\n",
       "      <td>0</td>\n",
       "      <td>199</td>\n",
       "      <td>ultra</td>\n",
       "    </tr>\n",
       "    <tr>\n",
       "      <th>10</th>\n",
       "      <td>Омск</td>\n",
       "      <td>1</td>\n",
       "      <td>2824.636598</td>\n",
       "      <td>19</td>\n",
       "      <td>6</td>\n",
       "      <td>0</td>\n",
       "      <td>199</td>\n",
       "      <td>ultra</td>\n",
       "    </tr>\n",
       "    <tr>\n",
       "      <th>12</th>\n",
       "      <td>Омск</td>\n",
       "      <td>1</td>\n",
       "      <td>3828.248580</td>\n",
       "      <td>12</td>\n",
       "      <td>6</td>\n",
       "      <td>0</td>\n",
       "      <td>199</td>\n",
       "      <td>ultra</td>\n",
       "    </tr>\n",
       "    <tr>\n",
       "      <th rowspan=\"7\" valign=\"top\">3</th>\n",
       "      <th>1</th>\n",
       "      <td>Москва</td>\n",
       "      <td>1</td>\n",
       "      <td>3061.777147</td>\n",
       "      <td>13</td>\n",
       "      <td>6</td>\n",
       "      <td>0</td>\n",
       "      <td>199</td>\n",
       "      <td>ultra</td>\n",
       "    </tr>\n",
       "    <tr>\n",
       "      <th>2</th>\n",
       "      <td>Москва</td>\n",
       "      <td>2</td>\n",
       "      <td>5421.152016</td>\n",
       "      <td>39</td>\n",
       "      <td>6</td>\n",
       "      <td>0</td>\n",
       "      <td>199</td>\n",
       "      <td>ultra</td>\n",
       "    </tr>\n",
       "    <tr>\n",
       "      <th>4</th>\n",
       "      <td>Москва</td>\n",
       "      <td>1</td>\n",
       "      <td>2956.651632</td>\n",
       "      <td>21</td>\n",
       "      <td>6</td>\n",
       "      <td>0</td>\n",
       "      <td>199</td>\n",
       "      <td>ultra</td>\n",
       "    </tr>\n",
       "    <tr>\n",
       "      <th>5</th>\n",
       "      <td>Москва</td>\n",
       "      <td>3</td>\n",
       "      <td>9064.026918</td>\n",
       "      <td>63</td>\n",
       "      <td>6</td>\n",
       "      <td>0</td>\n",
       "      <td>199</td>\n",
       "      <td>ultra</td>\n",
       "    </tr>\n",
       "    <tr>\n",
       "      <th>7</th>\n",
       "      <td>Москва</td>\n",
       "      <td>3</td>\n",
       "      <td>10919.595403</td>\n",
       "      <td>67</td>\n",
       "      <td>6</td>\n",
       "      <td>0</td>\n",
       "      <td>199</td>\n",
       "      <td>ultra</td>\n",
       "    </tr>\n",
       "    <tr>\n",
       "      <th>9</th>\n",
       "      <td>Москва</td>\n",
       "      <td>1</td>\n",
       "      <td>2891.012822</td>\n",
       "      <td>23</td>\n",
       "      <td>6</td>\n",
       "      <td>0</td>\n",
       "      <td>199</td>\n",
       "      <td>ultra</td>\n",
       "    </tr>\n",
       "    <tr>\n",
       "      <th>12</th>\n",
       "      <td>Москва</td>\n",
       "      <td>1</td>\n",
       "      <td>2593.381928</td>\n",
       "      <td>13</td>\n",
       "      <td>6</td>\n",
       "      <td>0</td>\n",
       "      <td>199</td>\n",
       "      <td>ultra</td>\n",
       "    </tr>\n",
       "  </tbody>\n",
       "</table>\n",
       "</div>"
      ],
      "text/plain": [
       "                 city  ride_count  distance_sum  duration_sum  minute_price  \\\n",
       "user_id month                                                                 \n",
       "1       1      Тюмень           2   7027.511294            42             6   \n",
       "        4      Тюмень           1    754.159807             7             6   \n",
       "        8      Тюмень           2   6723.470560            46             6   \n",
       "        10     Тюмень           2   5809.911100            32             6   \n",
       "        11     Тюмень           3   7003.499363            56             6   \n",
       "        12     Тюмень           2   6751.629942            28             6   \n",
       "2       3        Омск           3  10187.723006            63             6   \n",
       "        4        Омск           2   6164.381824            40             6   \n",
       "        6        Омск           1   3255.338202            14             6   \n",
       "        7        Омск           2   6780.722964            48             6   \n",
       "        8        Омск           1    923.007439             7             6   \n",
       "        10       Омск           1   2824.636598            19             6   \n",
       "        12       Омск           1   3828.248580            12             6   \n",
       "3       1      Москва           1   3061.777147            13             6   \n",
       "        2      Москва           2   5421.152016            39             6   \n",
       "        4      Москва           1   2956.651632            21             6   \n",
       "        5      Москва           3   9064.026918            63             6   \n",
       "        7      Москва           3  10919.595403            67             6   \n",
       "        9      Москва           1   2891.012822            23             6   \n",
       "        12     Москва           1   2593.381928            13             6   \n",
       "\n",
       "               start_ride_price  subscription_fee subscription_type  \n",
       "user_id month                                                        \n",
       "1       1                     0               199             ultra  \n",
       "        4                     0               199             ultra  \n",
       "        8                     0               199             ultra  \n",
       "        10                    0               199             ultra  \n",
       "        11                    0               199             ultra  \n",
       "        12                    0               199             ultra  \n",
       "2       3                     0               199             ultra  \n",
       "        4                     0               199             ultra  \n",
       "        6                     0               199             ultra  \n",
       "        7                     0               199             ultra  \n",
       "        8                     0               199             ultra  \n",
       "        10                    0               199             ultra  \n",
       "        12                    0               199             ultra  \n",
       "3       1                     0               199             ultra  \n",
       "        2                     0               199             ultra  \n",
       "        4                     0               199             ultra  \n",
       "        5                     0               199             ultra  \n",
       "        7                     0               199             ultra  \n",
       "        9                     0               199             ultra  \n",
       "        12                    0               199             ultra  "
      ]
     },
     "execution_count": 55,
     "metadata": {},
     "output_type": "execute_result"
    }
   ],
   "source": [
    "agg_users_rides_subs.head(20)"
   ]
  },
  {
   "cell_type": "markdown",
   "id": "9c08de43",
   "metadata": {},
   "source": [
    "<div class=\"alert alert-success\">\n",
    "<h2> Комментарий ревьюера 😊<a class=\"tocSkip\"> </h2>\n",
    "\n",
    "Замечательная работа со сводной таблицей!)"
   ]
  },
  {
   "cell_type": "markdown",
   "id": "ffb55edd",
   "metadata": {},
   "source": [
    "**5.2 Добавить столбец с помесячной выручкой, которую принёс каждый пользователь.**"
   ]
  },
  {
   "cell_type": "code",
   "execution_count": 56,
   "id": "a5f71085",
   "metadata": {},
   "outputs": [],
   "source": [
    "agg_users_rides_subs['income_month'] = (\n",
    "    (agg_users_rides_subs['minute_price'] * agg_users_rides_subs['duration_sum']) + \\\n",
    "    (agg_users_rides_subs['ride_count'] * agg_users_rides_subs['start_ride_price']) + \\\n",
    "    agg_users_rides_subs['subscription_fee']\n",
    ")"
   ]
  },
  {
   "cell_type": "code",
   "execution_count": 57,
   "id": "b54363ae",
   "metadata": {},
   "outputs": [
    {
     "data": {
      "text/html": [
       "<div>\n",
       "<style scoped>\n",
       "    .dataframe tbody tr th:only-of-type {\n",
       "        vertical-align: middle;\n",
       "    }\n",
       "\n",
       "    .dataframe tbody tr th {\n",
       "        vertical-align: top;\n",
       "    }\n",
       "\n",
       "    .dataframe thead th {\n",
       "        text-align: right;\n",
       "    }\n",
       "</style>\n",
       "<table border=\"1\" class=\"dataframe\">\n",
       "  <thead>\n",
       "    <tr style=\"text-align: right;\">\n",
       "      <th></th>\n",
       "      <th></th>\n",
       "      <th>city</th>\n",
       "      <th>ride_count</th>\n",
       "      <th>distance_sum</th>\n",
       "      <th>duration_sum</th>\n",
       "      <th>minute_price</th>\n",
       "      <th>start_ride_price</th>\n",
       "      <th>subscription_fee</th>\n",
       "      <th>subscription_type</th>\n",
       "      <th>income_month</th>\n",
       "    </tr>\n",
       "    <tr>\n",
       "      <th>user_id</th>\n",
       "      <th>month</th>\n",
       "      <th></th>\n",
       "      <th></th>\n",
       "      <th></th>\n",
       "      <th></th>\n",
       "      <th></th>\n",
       "      <th></th>\n",
       "      <th></th>\n",
       "      <th></th>\n",
       "      <th></th>\n",
       "    </tr>\n",
       "  </thead>\n",
       "  <tbody>\n",
       "    <tr>\n",
       "      <th rowspan=\"5\" valign=\"top\">1</th>\n",
       "      <th>1</th>\n",
       "      <td>Тюмень</td>\n",
       "      <td>2</td>\n",
       "      <td>7027.511294</td>\n",
       "      <td>42</td>\n",
       "      <td>6</td>\n",
       "      <td>0</td>\n",
       "      <td>199</td>\n",
       "      <td>ultra</td>\n",
       "      <td>451</td>\n",
       "    </tr>\n",
       "    <tr>\n",
       "      <th>4</th>\n",
       "      <td>Тюмень</td>\n",
       "      <td>1</td>\n",
       "      <td>754.159807</td>\n",
       "      <td>7</td>\n",
       "      <td>6</td>\n",
       "      <td>0</td>\n",
       "      <td>199</td>\n",
       "      <td>ultra</td>\n",
       "      <td>241</td>\n",
       "    </tr>\n",
       "    <tr>\n",
       "      <th>8</th>\n",
       "      <td>Тюмень</td>\n",
       "      <td>2</td>\n",
       "      <td>6723.470560</td>\n",
       "      <td>46</td>\n",
       "      <td>6</td>\n",
       "      <td>0</td>\n",
       "      <td>199</td>\n",
       "      <td>ultra</td>\n",
       "      <td>475</td>\n",
       "    </tr>\n",
       "    <tr>\n",
       "      <th>10</th>\n",
       "      <td>Тюмень</td>\n",
       "      <td>2</td>\n",
       "      <td>5809.911100</td>\n",
       "      <td>32</td>\n",
       "      <td>6</td>\n",
       "      <td>0</td>\n",
       "      <td>199</td>\n",
       "      <td>ultra</td>\n",
       "      <td>391</td>\n",
       "    </tr>\n",
       "    <tr>\n",
       "      <th>11</th>\n",
       "      <td>Тюмень</td>\n",
       "      <td>3</td>\n",
       "      <td>7003.499363</td>\n",
       "      <td>56</td>\n",
       "      <td>6</td>\n",
       "      <td>0</td>\n",
       "      <td>199</td>\n",
       "      <td>ultra</td>\n",
       "      <td>535</td>\n",
       "    </tr>\n",
       "    <tr>\n",
       "      <th>...</th>\n",
       "      <th>...</th>\n",
       "      <td>...</td>\n",
       "      <td>...</td>\n",
       "      <td>...</td>\n",
       "      <td>...</td>\n",
       "      <td>...</td>\n",
       "      <td>...</td>\n",
       "      <td>...</td>\n",
       "      <td>...</td>\n",
       "      <td>...</td>\n",
       "    </tr>\n",
       "    <tr>\n",
       "      <th rowspan=\"5\" valign=\"top\">1534</th>\n",
       "      <th>6</th>\n",
       "      <td>Краснодар</td>\n",
       "      <td>2</td>\n",
       "      <td>3409.468534</td>\n",
       "      <td>26</td>\n",
       "      <td>8</td>\n",
       "      <td>50</td>\n",
       "      <td>0</td>\n",
       "      <td>free</td>\n",
       "      <td>308</td>\n",
       "    </tr>\n",
       "    <tr>\n",
       "      <th>8</th>\n",
       "      <td>Краснодар</td>\n",
       "      <td>2</td>\n",
       "      <td>7622.453034</td>\n",
       "      <td>48</td>\n",
       "      <td>8</td>\n",
       "      <td>50</td>\n",
       "      <td>0</td>\n",
       "      <td>free</td>\n",
       "      <td>484</td>\n",
       "    </tr>\n",
       "    <tr>\n",
       "      <th>9</th>\n",
       "      <td>Краснодар</td>\n",
       "      <td>1</td>\n",
       "      <td>4928.173852</td>\n",
       "      <td>23</td>\n",
       "      <td>8</td>\n",
       "      <td>50</td>\n",
       "      <td>0</td>\n",
       "      <td>free</td>\n",
       "      <td>234</td>\n",
       "    </tr>\n",
       "    <tr>\n",
       "      <th>11</th>\n",
       "      <td>Краснодар</td>\n",
       "      <td>4</td>\n",
       "      <td>13350.015305</td>\n",
       "      <td>78</td>\n",
       "      <td>8</td>\n",
       "      <td>50</td>\n",
       "      <td>0</td>\n",
       "      <td>free</td>\n",
       "      <td>824</td>\n",
       "    </tr>\n",
       "    <tr>\n",
       "      <th>12</th>\n",
       "      <td>Краснодар</td>\n",
       "      <td>1</td>\n",
       "      <td>2371.711192</td>\n",
       "      <td>16</td>\n",
       "      <td>8</td>\n",
       "      <td>50</td>\n",
       "      <td>0</td>\n",
       "      <td>free</td>\n",
       "      <td>178</td>\n",
       "    </tr>\n",
       "  </tbody>\n",
       "</table>\n",
       "<p>11331 rows × 9 columns</p>\n",
       "</div>"
      ],
      "text/plain": [
       "                    city  ride_count  distance_sum  duration_sum  \\\n",
       "user_id month                                                      \n",
       "1       1         Тюмень           2   7027.511294            42   \n",
       "        4         Тюмень           1    754.159807             7   \n",
       "        8         Тюмень           2   6723.470560            46   \n",
       "        10        Тюмень           2   5809.911100            32   \n",
       "        11        Тюмень           3   7003.499363            56   \n",
       "...                  ...         ...           ...           ...   \n",
       "1534    6      Краснодар           2   3409.468534            26   \n",
       "        8      Краснодар           2   7622.453034            48   \n",
       "        9      Краснодар           1   4928.173852            23   \n",
       "        11     Краснодар           4  13350.015305            78   \n",
       "        12     Краснодар           1   2371.711192            16   \n",
       "\n",
       "               minute_price  start_ride_price  subscription_fee  \\\n",
       "user_id month                                                     \n",
       "1       1                 6                 0               199   \n",
       "        4                 6                 0               199   \n",
       "        8                 6                 0               199   \n",
       "        10                6                 0               199   \n",
       "        11                6                 0               199   \n",
       "...                     ...               ...               ...   \n",
       "1534    6                 8                50                 0   \n",
       "        8                 8                50                 0   \n",
       "        9                 8                50                 0   \n",
       "        11                8                50                 0   \n",
       "        12                8                50                 0   \n",
       "\n",
       "              subscription_type  income_month  \n",
       "user_id month                                  \n",
       "1       1                 ultra           451  \n",
       "        4                 ultra           241  \n",
       "        8                 ultra           475  \n",
       "        10                ultra           391  \n",
       "        11                ultra           535  \n",
       "...                         ...           ...  \n",
       "1534    6                  free           308  \n",
       "        8                  free           484  \n",
       "        9                  free           234  \n",
       "        11                 free           824  \n",
       "        12                 free           178  \n",
       "\n",
       "[11331 rows x 9 columns]"
      ]
     },
     "execution_count": 57,
     "metadata": {},
     "output_type": "execute_result"
    }
   ],
   "source": [
    "agg_users_rides_subs"
   ]
  },
  {
   "cell_type": "code",
   "execution_count": 58,
   "id": "d5f85ee9",
   "metadata": {},
   "outputs": [
    {
     "name": "stdout",
     "output_type": "stream",
     "text": [
      "subscription_type\n",
      "free     329.0\n",
      "ultra    363.0\n",
      "Name: income_month, dtype: float64\n"
     ]
    }
   ],
   "source": [
    "print(np.ceil(agg_users_rides_subs.groupby('subscription_type')['income_month'].mean()))"
   ]
  },
  {
   "cell_type": "code",
   "execution_count": 59,
   "id": "d5d14e71",
   "metadata": {},
   "outputs": [
    {
     "data": {
      "text/html": [
       "<div>\n",
       "<style scoped>\n",
       "    .dataframe tbody tr th:only-of-type {\n",
       "        vertical-align: middle;\n",
       "    }\n",
       "\n",
       "    .dataframe tbody tr th {\n",
       "        vertical-align: top;\n",
       "    }\n",
       "\n",
       "    .dataframe thead th {\n",
       "        text-align: right;\n",
       "    }\n",
       "</style>\n",
       "<table border=\"1\" class=\"dataframe\">\n",
       "  <thead>\n",
       "    <tr style=\"text-align: right;\">\n",
       "      <th></th>\n",
       "      <th>ride_count</th>\n",
       "      <th>distance_sum</th>\n",
       "      <th>duration_sum</th>\n",
       "      <th>minute_price</th>\n",
       "      <th>start_ride_price</th>\n",
       "      <th>subscription_fee</th>\n",
       "      <th>income_month</th>\n",
       "    </tr>\n",
       "  </thead>\n",
       "  <tbody>\n",
       "    <tr>\n",
       "      <th>count</th>\n",
       "      <td>11331.000000</td>\n",
       "      <td>11331.000000</td>\n",
       "      <td>11331.000000</td>\n",
       "      <td>11331.000000</td>\n",
       "      <td>11331.000000</td>\n",
       "      <td>11331.000000</td>\n",
       "      <td>11331.000000</td>\n",
       "    </tr>\n",
       "    <tr>\n",
       "      <th>mean</th>\n",
       "      <td>1.594564</td>\n",
       "      <td>4896.362584</td>\n",
       "      <td>29.186127</td>\n",
       "      <td>7.199894</td>\n",
       "      <td>29.997352</td>\n",
       "      <td>79.610537</td>\n",
       "      <td>342.303504</td>\n",
       "    </tr>\n",
       "    <tr>\n",
       "      <th>std</th>\n",
       "      <td>0.831604</td>\n",
       "      <td>2911.516556</td>\n",
       "      <td>16.752464</td>\n",
       "      <td>0.979861</td>\n",
       "      <td>24.496519</td>\n",
       "      <td>97.496144</td>\n",
       "      <td>153.875346</td>\n",
       "    </tr>\n",
       "    <tr>\n",
       "      <th>min</th>\n",
       "      <td>1.000000</td>\n",
       "      <td>2.570787</td>\n",
       "      <td>1.000000</td>\n",
       "      <td>6.000000</td>\n",
       "      <td>0.000000</td>\n",
       "      <td>0.000000</td>\n",
       "      <td>58.000000</td>\n",
       "    </tr>\n",
       "    <tr>\n",
       "      <th>25%</th>\n",
       "      <td>1.000000</td>\n",
       "      <td>2972.202146</td>\n",
       "      <td>17.000000</td>\n",
       "      <td>6.000000</td>\n",
       "      <td>0.000000</td>\n",
       "      <td>0.000000</td>\n",
       "      <td>234.000000</td>\n",
       "    </tr>\n",
       "    <tr>\n",
       "      <th>50%</th>\n",
       "      <td>1.000000</td>\n",
       "      <td>3988.723985</td>\n",
       "      <td>24.000000</td>\n",
       "      <td>8.000000</td>\n",
       "      <td>50.000000</td>\n",
       "      <td>0.000000</td>\n",
       "      <td>319.000000</td>\n",
       "    </tr>\n",
       "    <tr>\n",
       "      <th>75%</th>\n",
       "      <td>2.000000</td>\n",
       "      <td>6421.375890</td>\n",
       "      <td>38.000000</td>\n",
       "      <td>8.000000</td>\n",
       "      <td>50.000000</td>\n",
       "      <td>199.000000</td>\n",
       "      <td>415.000000</td>\n",
       "    </tr>\n",
       "    <tr>\n",
       "      <th>max</th>\n",
       "      <td>7.000000</td>\n",
       "      <td>23429.487786</td>\n",
       "      <td>143.000000</td>\n",
       "      <td>8.000000</td>\n",
       "      <td>50.000000</td>\n",
       "      <td>199.000000</td>\n",
       "      <td>1444.000000</td>\n",
       "    </tr>\n",
       "  </tbody>\n",
       "</table>\n",
       "</div>"
      ],
      "text/plain": [
       "         ride_count  distance_sum  duration_sum  minute_price  \\\n",
       "count  11331.000000  11331.000000  11331.000000  11331.000000   \n",
       "mean       1.594564   4896.362584     29.186127      7.199894   \n",
       "std        0.831604   2911.516556     16.752464      0.979861   \n",
       "min        1.000000      2.570787      1.000000      6.000000   \n",
       "25%        1.000000   2972.202146     17.000000      6.000000   \n",
       "50%        1.000000   3988.723985     24.000000      8.000000   \n",
       "75%        2.000000   6421.375890     38.000000      8.000000   \n",
       "max        7.000000  23429.487786    143.000000      8.000000   \n",
       "\n",
       "       start_ride_price  subscription_fee  income_month  \n",
       "count      11331.000000      11331.000000  11331.000000  \n",
       "mean          29.997352         79.610537    342.303504  \n",
       "std           24.496519         97.496144    153.875346  \n",
       "min            0.000000          0.000000     58.000000  \n",
       "25%            0.000000          0.000000    234.000000  \n",
       "50%           50.000000          0.000000    319.000000  \n",
       "75%           50.000000        199.000000    415.000000  \n",
       "max           50.000000        199.000000   1444.000000  "
      ]
     },
     "execution_count": 59,
     "metadata": {},
     "output_type": "execute_result"
    }
   ],
   "source": [
    "agg_users_rides_subs.describe()"
   ]
  },
  {
   "cell_type": "code",
   "execution_count": 54,
   "id": "9d0a5db0",
   "metadata": {},
   "outputs": [
    {
     "data": {
      "text/plain": [
       "55480684.44"
      ]
     },
     "execution_count": 54,
     "metadata": {},
     "output_type": "execute_result"
    }
   ],
   "source": [
    "round(agg_users_rides_subs['distance_sum'].sum(), 2)"
   ]
  },
  {
   "cell_type": "markdown",
   "id": "7815aed4",
   "metadata": {},
   "source": [
    "<div class=\"alert alert-warning\">\n",
    "<h2> Комментарий ревьюера 🤓<a class=\"tocSkip\"> </h2>\n",
    "\n",
    "Можно провести дополнительное исследование выручки: построить распределения по тарифам"
   ]
  },
  {
   "cell_type": "markdown",
   "id": "03e2eb96",
   "metadata": {},
   "source": [
    "**Вывод:**\n",
    "1. Создан датафрейм с агрегированными данными о поездках на основе датафрейма с объединёнными данными.\n",
    "2. В датафрейм добавлен столбец с помесячной выручкой, которую принёс каждый пользователь."
   ]
  },
  {
   "cell_type": "markdown",
   "id": "ae861d3e",
   "metadata": {},
   "source": [
    "<div class=\"alert alert-success\">\n",
    "<h2> Комментарий ревьюера 😊<a class=\"tocSkip\"> </h2>\n",
    "\n",
    "Выручка рассчитана верно, молодец!)"
   ]
  },
  {
   "cell_type": "markdown",
   "id": "41545ac0",
   "metadata": {},
   "source": [
    "#### Шаг 6. Проверка гипотез"
   ]
  },
  {
   "cell_type": "markdown",
   "id": "52bc0c28",
   "metadata": {},
   "source": [
    "**Продакт-менеджеры сервиса хотят увеличить количество пользователей с подпиской. Для этого они будут проводить различные акции, но сначала нужно выяснить несколько важных моментов.**"
   ]
  },
  {
   "cell_type": "markdown",
   "id": "f8243e98",
   "metadata": {},
   "source": [
    "**6.1 Важно понять, тратят ли пользователи с подпиской больше времени на поездки? Если да, то пользователи с подпиской могут быть «выгоднее» для компании. Проверьте гипотезу. Используйте исходные данные о продолжительности каждой сессии — отдельно для подписчиков и тех, у кого нет подписки.**"
   ]
  },
  {
   "cell_type": "markdown",
   "id": "7b2a3eef",
   "metadata": {},
   "source": [
    "Сравнием два датафрейма `dataframe_free_subs` и  `dataframe_ultra_subs` и проверим гипотезы:\n",
    "- Нулевая гипотеза: среднее время поездок пользователей без подписок и с подписками равны;\n",
    "- Альтернативная гипотеза: пользователи с подпиской тратят больше времени на поездки, чем пользователи без подписки."
   ]
  },
  {
   "cell_type": "code",
   "execution_count": 60,
   "id": "450c2183",
   "metadata": {},
   "outputs": [
    {
     "name": "stdout",
     "output_type": "stream",
     "text": [
      "p-значение: 1.2804098316645618e-34\n",
      "Отвергаем нулевую гипотезу\n"
     ]
    }
   ],
   "source": [
    "alpha = 0.05\n",
    "\n",
    "result = st.ttest_ind(dataframe_ultra_subs['duration'], dataframe_free_subs['duration'], alternative='greater')\n",
    "\n",
    "print('p-значение:', result.pvalue)\n",
    "\n",
    "if result.pvalue < alpha:\n",
    "    print('Отвергаем нулевую гипотезу')\n",
    "else:\n",
    "    print('Не отвергаем нулевую гипотезу')\n"
   ]
  },
  {
   "cell_type": "code",
   "execution_count": 61,
   "id": "97da66cd",
   "metadata": {},
   "outputs": [
    {
     "name": "stdout",
     "output_type": "stream",
     "text": [
      "Среднее время поездки пользователей с подпиской 18.5\n",
      "Среднее время поездки пользователей без подпиской 17.4\n"
     ]
    }
   ],
   "source": [
    "# проверяем \n",
    "print('Среднее время поездки пользователей с подпиской', round(dataframe_ultra_subs['duration'].mean(), 1))\n",
    "print('Среднее время поездки пользователей без подпиской', round(dataframe_free_subs['duration'].mean(), 1))"
   ]
  },
  {
   "cell_type": "markdown",
   "id": "c3c44668",
   "metadata": {},
   "source": [
    "Гипотеза верна: среднее время поездок пользователей с подпиской больше, чем у пользователей без подписок.\n",
    "Различие между двумя гипотезами не случайное, значит нулевую гипотезу можно отклонить."
   ]
  },
  {
   "cell_type": "markdown",
   "id": "85a92758",
   "metadata": {},
   "source": [
    "<div class=\"alert alert-success\">\n",
    "<h2> Комментарий ревьюера 😊<a class=\"tocSkip\"> </h2>\n",
    "\n",
    "Гипотезы составлены верно, и тест проведен правильно)"
   ]
  },
  {
   "cell_type": "markdown",
   "id": "424728f3",
   "metadata": {},
   "source": [
    "<div class=\"alert alert-block alert-danger\">\n",
    "<h2> Комментарий ревьюера ⛔️<a class=\"tocSkip\"></h2>\n",
    "\n",
    "Мы не можем утверждать, что гипотеза верна, так как мы проверили гипотезы на основе ВЫБОРОК. Поскольку нулевая гипотеза выдвигается на основе анализа ВЫБОРОЧНЫХ данных, то она может оказаться как правильной, так и неправильной. Более того, мы не сможем на 100% гарантировать её истинность либо ложность даже после статистической проверки! Ибо любая, самая «надёжная» выборка все равно остаётся выборкой и может нас дезинформировать (пусть с очень малой вероятностью). Т.е. мы смогли бы так утверждать, если бы проверили всевозможные поездки. Но т.к. мы проверяли лишь небольшую выборку, у нас лишь есть основания полагать, что эти выборки равны. \n",
    "    \n",
    "Корректнее написать о том, что у нас нет/есть оснований утверждать,среднее время поездок пользователей с подпиской больше, чем у пользователей без подписок. Такие выводы очень важная часть статистических анализов. Поэтому давай исправим)\n",
    "    \n",
    "Если будет интересно, то вот пара ссылок на доп. материалы по статистике:</s>\n",
    "\n",
    "http://www.mathprofi.ru/statisticheskie_gipotezy.html\n",
    "\n",
    "https://allatambov.github.io/psms/pdf/hypo-test.pdf </div>"
   ]
  },
  {
   "cell_type": "markdown",
   "id": "cbf815c3",
   "metadata": {},
   "source": [
    "<div class=\"alert alert-info\"> <b>Комментарий студента:</b>Корректное описание вывода гипотезы</div>"
   ]
  },
  {
   "cell_type": "markdown",
   "id": "d85c6f2d",
   "metadata": {},
   "source": [
    "По результатам данной гипотезе мы можем утверждать, что среднее время поездок пользователя с подпиской больше, чем у пользователей без подписок. "
   ]
  },
  {
   "cell_type": "markdown",
   "id": "366fc17f",
   "metadata": {},
   "source": [
    "**6.2 Расстояние одной поездки в 3130 метров — оптимальное с точки зрения износа самоката. Можно ли сказать, что среднее расстояние, которое проезжают пользователи с подпиской за одну поездку, не превышает 3130 метров? Проверьте гипотезу и сделайте выводы.**"
   ]
  },
  {
   "cell_type": "markdown",
   "id": "b21478ba",
   "metadata": {},
   "source": [
    "Датафрейм `dataframe_ultra_subs` и проверим гипотезы:\n",
    "- Нулевая гипотеза: среднее расстояние поездки пользователей с подпиской равна 3130 метров;\n",
    "- Альтернативная гипотеза: среднее расстояние поездки пользователей с подпиской меньше 3130 метров;"
   ]
  },
  {
   "cell_type": "code",
   "execution_count": 57,
   "id": "8a93d2f3",
   "metadata": {},
   "outputs": [
    {
     "name": "stdout",
     "output_type": "stream",
     "text": [
      "p-значение: 0.08046311521502146\n",
      "Не получилось отвергнуть нулевую гипотезу\n"
     ]
    }
   ],
   "source": [
    "interested_value = 3130\n",
    "\n",
    "alpha = 0.05\n",
    "\n",
    "results = st.ttest_1samp(\n",
    "    dataframe_ultra_subs['distance'], \n",
    "    interested_value,\n",
    "      alternative='less')\n",
    "\n",
    "print('p-значение:', results.pvalue)\n",
    "\n",
    "if (results.pvalue < alpha):\n",
    "    print('Отвергаем нулевую гипотезу')\n",
    "else:\n",
    "    print('Не получилось отвергнуть нулевую гипотезу')"
   ]
  },
  {
   "cell_type": "code",
   "execution_count": 63,
   "id": "fb1755d8",
   "metadata": {},
   "outputs": [
    {
     "name": "stdout",
     "output_type": "stream",
     "text": [
      "Среднее расстояние поездки пользователей с подпиской 3115.4\n"
     ]
    }
   ],
   "source": [
    "# проверка\n",
    "print('Среднее расстояние поездки пользователей с подпиской', round(dataframe_ultra_subs['distance'].mean(), 1))"
   ]
  },
  {
   "cell_type": "markdown",
   "id": "aee70cd4",
   "metadata": {},
   "source": [
    "<div class=\"alert alert-block alert-danger\">\n",
    "<h2> Комментарий ревьюера ⛔️<a class=\"tocSkip\"></h2> \n",
    "   \n",
    "Поскольку оптимальное расстояние по износу составляет 3130 м, значит большее расстояние приводит к повышенному износу самоката. Следовательно, имеет смысл сформулировать альтернативную гипотезу \"Подписчики в среднем проезжают расстояние больше оптимального\" и соответственно в статистическом тесте использовать параметр alternative = 'greater'.\n",
    "    "
   ]
  },
  {
   "cell_type": "markdown",
   "id": "95b5a49c",
   "metadata": {},
   "source": [
    "<div class=\"alert alert-info\"> <b>Комментарий студента:</b> Изменение параметра alternative</div>"
   ]
  },
  {
   "cell_type": "code",
   "execution_count": 62,
   "id": "aeb8862b",
   "metadata": {},
   "outputs": [
    {
     "name": "stdout",
     "output_type": "stream",
     "text": [
      "p-значение: 0.9195368847849785\n",
      "Не получилось отвергнуть нулевую гипотезу\n"
     ]
    }
   ],
   "source": [
    "interested_value = 3130\n",
    "\n",
    "alpha = 0.05\n",
    "\n",
    "results = st.ttest_1samp(\n",
    "    dataframe_ultra_subs['distance'], \n",
    "    interested_value,\n",
    "      alternative='greater')\n",
    "\n",
    "print('p-значение:', results.pvalue)\n",
    "\n",
    "if (results.pvalue < alpha):\n",
    "    print('Отвергаем нулевую гипотезу')\n",
    "else:\n",
    "    print('Не получилось отвергнуть нулевую гипотезу')"
   ]
  },
  {
   "cell_type": "markdown",
   "id": "5c211200",
   "metadata": {},
   "source": [
    "Действительно  среднее расстояние поездки пользователей с подпиской меньше 3130 метров. Так как р-значение больше уровня статической значимости, нет причин, чтобы отвергнуть нулевую гипотезу."
   ]
  },
  {
   "cell_type": "markdown",
   "id": "93726bda",
   "metadata": {},
   "source": [
    "<div class=\"alert alert-warning\">\n",
    "<h2> Комментарий ревьюера 🤓<a class=\"tocSkip\"> </h2>\n",
    "    \n",
    "Вывод стоит сформулировать применительно к запросу бизнеса: с точки зрения износа самоката."
   ]
  },
  {
   "cell_type": "markdown",
   "id": "94f07a9f",
   "metadata": {},
   "source": [
    "**6.3 Проверьте гипотезу о том, будет ли помесячная выручка от пользователей с подпиской по месяцам выше, чем выручка от пользователей без подписки. Сделайте вывод.**"
   ]
  },
  {
   "cell_type": "markdown",
   "id": "233d53c5",
   "metadata": {},
   "source": [
    "Сравнием два датафрейма `dataframe_free_subs` и  `dataframe_ultra_subs` и проверим гипотезы:\n",
    "- Нулевая гипотеза: помесячная выручка от пользователей с подпиской и без подписки равны;\n",
    "- Альтернативная гипотеза: помесячная выручка от пользователей с подпиской больше чем у пользователей без подписки."
   ]
  },
  {
   "cell_type": "code",
   "execution_count": 64,
   "id": "e9863667",
   "metadata": {},
   "outputs": [
    {
     "name": "stdout",
     "output_type": "stream",
     "text": [
      "p-значение: 1.8850394384715216e-31\n",
      "Отвергаем нулевую гипотезу\n"
     ]
    }
   ],
   "source": [
    "# две выборки с подсчитаной помесячной выручкой\n",
    "agg_free_subs = agg_users_rides_subs[agg_users_rides_subs['subscription_type'] == 'free']\n",
    "agg_ultra_subs = agg_users_rides_subs[agg_users_rides_subs['subscription_type'] == 'ultra']\n",
    "\n",
    "alpha = 0.05\n",
    "\n",
    "result = st.ttest_ind(agg_ultra_subs['income_month'], agg_free_subs['income_month'], alternative='greater')\n",
    "\n",
    "print('p-значение:', result.pvalue)\n",
    "\n",
    "if result.pvalue < alpha:\n",
    "    print('Отвергаем нулевую гипотезу')\n",
    "else:\n",
    "    print('Не отвергаем нулевую гипотезу')\n"
   ]
  },
  {
   "cell_type": "code",
   "execution_count": 65,
   "id": "f1e81ccb",
   "metadata": {},
   "outputs": [
    {
     "name": "stdout",
     "output_type": "stream",
     "text": [
      "Среднее помесячная выручка пользователей с подпиской 362.79\n",
      "Среднее помесячная выручка пользователей без подписок 328.64\n"
     ]
    }
   ],
   "source": [
    "# проверка\n",
    "print('Среднее помесячная выручка пользователей с подпиской', round(agg_ultra_subs['income_month'].mean(), 2))\n",
    "print('Среднее помесячная выручка пользователей без подписок', round(agg_free_subs['income_month'].mean(), 2))"
   ]
  },
  {
   "cell_type": "markdown",
   "id": "bc0e38b5",
   "metadata": {},
   "source": [
    "Можем отвергнуть нулевую гипотезу, так как р-значение меньше заданного уровня значимости. \n",
    "Помесячная выручка у пользователей с подпиской больше чем у пользователей без подписок."
   ]
  },
  {
   "cell_type": "markdown",
   "id": "4e6bd404",
   "metadata": {},
   "source": [
    "<div class=\"alert alert-success\">\n",
    "<h2> Комментарий ревьюера 😊<a class=\"tocSkip\"> </h2>\n",
    "\n",
    "Статистический анализ проведен верно)"
   ]
  },
  {
   "cell_type": "markdown",
   "id": "3071baf7",
   "metadata": {},
   "source": [
    "**6.4 Представьте такую ситуацию: техническая команда сервиса обновила сервера, с которыми взаимодействует мобильное приложение. Она надеется, что из-за этого количество обращений в техподдержку значимо снизилось. Некоторый файл содержит для каждого пользователя данные о количестве обращений до обновления и после него. Какой тест вам понадобился бы для проверки этой гипотезы?**"
   ]
  },
  {
   "cell_type": "markdown",
   "id": "f7d3db0b",
   "metadata": {},
   "source": [
    "Некоторые пользователи могут содержаться в двух выборках: до обновления и после обновления.\n",
    "Выборки не будут независимыми, применим ttest_rel(alternative='less'). Гипотеза будет односторонней.\n",
    "\n",
    "Нулевая гипотеза: число обращений остался на том же уровне;\n",
    "Альтернативная гипотеза: число обращений уменьшилось."
   ]
  },
  {
   "cell_type": "markdown",
   "id": "789fd3ea",
   "metadata": {},
   "source": [
    "<div class=\"alert alert-success\">\n",
    "<h2> Комментарий ревьюера 😊<a class=\"tocSkip\"> </h2>\n",
    "\n",
    "Верно)"
   ]
  },
  {
   "cell_type": "markdown",
   "id": "35122526",
   "metadata": {},
   "source": [
    "**Вывод:**\n",
    "\n",
    "1. Среднее время поездок пользователей с подпиской больше, чем у пользователей без подписок. Получается, что пользователи с подпиской активнее используют сервис и проводят время на самокатах больше. \n",
    "\n",
    "2. Среднее расстояние поездки пользователей с подпиской меньше 3130 метров. Разнообразие длинных и коротких поездок может быть вызвано различными целями, погодными условиями или например расстояниями до заданных точек поездки.  \n",
    "\n",
    "3. Помесячная выручка у пользователей с подпиской больше чем у пользователей без подписок. Значит что подписки приносят дополнительный доход в том числе с учетом месячной платы.\n",
    "\n",
    "\n",
    "Получается, что пользователи с подпиской более выгодней в плане: \n",
    "- времени проведенного в пути,\n",
    "- месячной выручки.\n"
   ]
  },
  {
   "cell_type": "markdown",
   "id": "61213c5e",
   "metadata": {},
   "source": [
    "#### Шаг 7. Распределения"
   ]
  },
  {
   "cell_type": "markdown",
   "id": "26a82703",
   "metadata": {},
   "source": [
    "**7.1 Отделу маркетинга GoFast поставили задачу: нужно провести акцию с раздачей промокодов на один бесплатный месяц подписки, в рамках которой как минимум 100 существующих клиентов должны продлить эту подписку. То есть по завершении периода действия подписки пользователь может либо отказаться от неё, либо продлить, совершив соответствующий платёж. Эта акция уже проводилась ранее и по итогу выяснилось, что после бесплатного пробного периода подписку продлевают 10 % пользователей. Выясните, какое минимальное количество промокодов нужно разослать, чтобы вероятность не выполнить план была примерно 5 %. Подберите параметры распределения, описывающего эту ситуацию, постройте график распределения и сформулируйте ответ на вопрос о количестве промокодов.**"
   ]
  },
  {
   "cell_type": "markdown",
   "id": "98b17ebe",
   "metadata": {},
   "source": [
    "Воспользуемся биномиальным распределением"
   ]
  },
  {
   "cell_type": "code",
   "execution_count": 66,
   "id": "0f5aec23",
   "metadata": {},
   "outputs": [
    {
     "data": {
      "text/plain": [
       "<BarContainer object of 1001 artists>"
      ]
     },
     "execution_count": 66,
     "metadata": {},
     "output_type": "execute_result"
    },
    {
     "data": {
      "image/png": "[encoded data removed]",
      "text/plain": [
       "<Figure size 432x288 with 1 Axes>"
      ]
     },
     "metadata": {
      "needs_background": "light"
     },
     "output_type": "display_data"
    }
   ],
   "source": [
    "n = 1000 # количество попыток\n",
    "p = 0.1 # вероятность успеха\n",
    "\n",
    "distr = []\n",
    "\n",
    "for k in range(0, n + 1):\n",
    "    choose = factorial(n) / (factorial(k) * factorial(n - k))\n",
    "    prob = choose * p**k * (1 - p)**(n - k) \n",
    "    distr.append(prob)\n",
    "    \n",
    "plt.bar(range(0, n + 1), distr)"
   ]
  },
  {
   "cell_type": "code",
   "execution_count": 67,
   "id": "596cd38d",
   "metadata": {},
   "outputs": [
    {
     "name": "stdout",
     "output_type": "stream",
     "text": [
      "Минимальное число промокодов: 1172\n"
     ]
    }
   ],
   "source": [
    "# в диапазоне (n-500, n+500) определим инимальное кол-во промокодов\n",
    "for n in range(500, 1500):\n",
    "    if binom.cdf(100, n, p) < 0.05:\n",
    "        print('Минимальное число промокодов:', n)\n",
    "        break"
   ]
  },
  {
   "cell_type": "markdown",
   "id": "4f6d3cde",
   "metadata": {},
   "source": [
    "Для акции раздачи промокодов цель которого получить не менее 100 продлений подписок, с вероятностью невыполнения не больше 5%, необходимо сделать рассылку не менее 1172 промокодов."
   ]
  },
  {
   "cell_type": "markdown",
   "id": "0b28d000",
   "metadata": {},
   "source": [
    "<div class=\"alert alert-success\">\n",
    "<h2> Комментарий ревьюера 😊<a class=\"tocSkip\"> </h2>\n",
    "\n",
    "Верно)"
   ]
  },
  {
   "cell_type": "markdown",
   "id": "bd13f616",
   "metadata": {},
   "source": [
    "**7.2 Отдел маркетинга рассылает клиентам push-уведомления в мобильном приложении. Клиенты могут открыть его или не открывать. Известно, что уведомления открывают около 40 % получивших клиентов. Отдел планирует разослать 1 млн уведомлений. С помощью аппроксимации постройте примерный график распределения и оцените вероятность того, что уведомление откроют не более 399,5 тыс. пользователей.**"
   ]
  },
  {
   "cell_type": "markdown",
   "id": "025029ad",
   "metadata": {},
   "source": [
    "Аппроксимируем биномиальное распределение нормальным "
   ]
  },
  {
   "cell_type": "code",
   "execution_count": 68,
   "id": "78b39aa0",
   "metadata": {},
   "outputs": [
    {
     "name": "stdout",
     "output_type": "stream",
     "text": [
      "Вероятность, что push-уведомления откроют не более 399500 пользователей: 0.15\n"
     ]
    }
   ],
   "source": [
    "n = 1000000\n",
    "p = 0.4\n",
    "\n",
    "mu = n * p\n",
    "sigma = sqrt(n * p * (1 - p))\n",
    "\n",
    "distr = st.norm(mu, sigma) \n",
    "\n",
    "x = 399500\n",
    "\n",
    "# считаем вероятность получить значение, равное x или меньше \n",
    "result = distr.cdf(x)\n",
    "\n",
    "print('Вероятность, что push-уведомления откроют не более 399500 пользователей:', round(result, 2))"
   ]
  },
  {
   "cell_type": "markdown",
   "id": "3a3486de",
   "metadata": {},
   "source": [
    "В условиях акции рассылки 1 млн. push-уведомлений вероятность, что их откроют не более 399500 пользователей составляет 15%."
   ]
  },
  {
   "cell_type": "markdown",
   "id": "d759886f",
   "metadata": {},
   "source": [
    "<div class=\"alert alert-success\">\n",
    "<h2> Комментарий ревьюера 😊<a class=\"tocSkip\"> </h2>\n",
    "\n",
    "Очень хорошо)"
   ]
  },
  {
   "cell_type": "markdown",
   "id": "d0fc94cb",
   "metadata": {},
   "source": [
    "#### Вывод"
   ]
  },
  {
   "cell_type": "markdown",
   "id": "61999a1b",
   "metadata": {},
   "source": [
    "**Общий вывод:**\n",
    "\n",
    "1. Были поставлены задачи:\n",
    "    - Откройте файл с данными и изучите общую информацию.\n",
    "    - Предобработка данных, скорректировать типы данных, избавиться от дубликатов.\n",
    "    - Провести иследовательский анализ данных.\n",
    "    - Объединение данных.\n",
    "    - Подсчет выручки\n",
    "    - Проверка гипотез\n",
    "    - Распределения\n",
    "\n",
    "\n",
    "2. Проведена предобработка данных:\n",
    "    - Обнаруженные дубликаты в датафрейме `users_go` удалены. \n",
    "    - Тип данных в столбце `date` изменен на `datetime`.\n",
    "    - Создан новый столбец `month` в датафрейме `rides_go` с номером месяца на основе столбца `date`.\n",
    "    - Пропущенных значений не обнаруженно.\n",
    "    \n",
    "3. При иследовании данных удалось выяснить:\n",
    "    - Из 8-ми городов, больше всего пользователей из Пятигорска (**219**), а меньше всего из Москвы (**168**).\n",
    "    - Соотношение пользователей без подписки (**835**) больше, чем пользователей с подпиской(**699**). Пользователи без подписок совершают более длительные поездки, но по времени более равномерно распределены. Пользователи с подпиской предпочитают более долгие по времени передвижения, но меньшую дистанцию.\n",
    "    - Средний возраст пользователей 24.9 лет.\n",
    "    - Среднее расстояние, большинства поездок немного больше 3-х км. составляет примерно 550 м. Возможно это расстояние например от работы до метро или от дома до остановки. \n",
    "    - Среднее время поездки составляет 17.8 минут.\n",
    "    \n",
    "\n",
    "4. Расчеты:\n",
    "    - Средняя помесечная выручка компания имеет больше от пользователей с подпиской, чем от пользователей без подписки.\n",
    "    - Также были подтверждены следующие гипотезы:\n",
    "        - среднее время поездок пользователей с подпиской больше, чем у пользователей без подписок.\n",
    "        - среднее расстояние поездки пользователей с подпиской меньше 3130 метров. \n",
    "        - помесячная выручка у пользователей с подпиской больше чем у пользователей без подписок.\n",
    "        \n",
    "    - Расчеты для отдела маркетинга:\n",
    "        - для акции раздачи промокодов цель которого получить не менее 100 продлений подписок, с вероятностью невыполнения не больше 5%, необходимо сделать рассылку не менее 1172 промокодов.\n",
    "        - в условиях акции рассылки 1 млн. push-уведомлений вероятность, что их откроют не более 399500 пользователей составляет 15%."
   ]
  },
  {
   "cell_type": "markdown",
   "id": "606a6afe",
   "metadata": {},
   "source": [
    "<div class=\"alert alert-block alert-danger\">\n",
    "<h2> Комментарий ревьюера ⛔️<a class=\"tocSkip\"></h2>\n",
    "    \n",
    "В выводе нужно аргументированно ответить на главный вопрос исследования: являются ли пользователи с подпиской более выгодными для компании?"
   ]
  },
  {
   "cell_type": "markdown",
   "id": "27d555e3",
   "metadata": {},
   "source": [
    "<div class=\"alert alert-info\"> <b>Комментарий студента:</b> Аргументированный вывод</div>"
   ]
  },
  {
   "cell_type": "markdown",
   "id": "bc68894a",
   "metadata": {},
   "source": [
    "- Пользователи с подпиской проводят больше времени в поездках на самокатах, что является более выгодным для компании.\n",
    "\n",
    "- Пользователи с подпиской в среднем проезжают на самокате не более 3130 метров за одну поездку, но значение близко к оптимальному с точки зрения износа самоката.\n",
    "\n",
    "- Месечная выручка от пользователей с подпиской выше, чем выручка от пользователей без подписки, это различие статически значимо."
   ]
  },
  {
   "cell_type": "markdown",
   "id": "2f21ae8b",
   "metadata": {},
   "source": [
    "<div style=\"border:solid Purple 2px; padding: 40px\">\n",
    "\n",
    "<h2> Общий комментарий ревьюера 😊<a class=\"tocSkip\"> </h2>\n",
    "    <br/>\n",
    "Ты проделал замечательную работу. Все расчеты проведены совершенно верно, также не могу не выделить аккуратность работы в целом и работу с анализами, функциями и методами!  Однако, есть несколько важных моментов, которые стоит улучшить, чтобы проект стал действительно идеальным!\n",
    "\n",
    "Необходимо доработать:\n",
    "    \n",
    "* Проверка на пропуски\n",
    "* Выводы по тестам\n",
    "* Остальные комментарии ты найдешь в работе\n",
    "\n",
    "**Желаю удачи и жду твой проект на повторное ревью! Если у тебя вдруг есть какие–либо вопросы, то я с радостью отвечу на них 😊**\n",
    "    \n",
    "Также оставлю дополнительный материал по визуализации, если будет интересно:\n",
    "    \n",
    "\n",
    "* книга Александра Богачева [Графики, которые убеждают всех](https://book24.ru/product/grafiki-kotorye-ubezhdayut-vsekh-5873820/)\n",
    "* [cheatsheet по визуализации](https://extremepresentation.typepad.com/.a/6a00d8341bfd2e53ef0111683a7591970c-pi)\n",
    "* бесплатный курс от Яндекс.Практикум [Визуальныe презентации](https://practicum.yandex.ru/visual-presentation/)\n",
    "* Формат таблиц в pandas с помощью style. В том числе цветовое выделение. (https://habr.com/ru/post/521894/)\n",
    "* Основные компоненты matplotlib (https://pyprog.pro/mpl/mpl_main_components.html)\n",
    "* 50 оттенков matplotlib — The Master Plots (с полным кодом на Python) (https://habr.com/ru/post/468295/)\n",
    "* Построение графиков с использованием двух осей. (https://matplotlib.org/stable/gallery/subplots_axes_and_figures/two_scales.html)\n",
    "* Сайт, подробно представлюящий практически все типы визуализаций. (https://datavizproject.com/)\n",
    "* Шпаргалка по визуализации данных в Python с помощью Plotly (https://habr.com/ru/post/502958/)\n",
    "</div> "
   ]
  },
  {
   "cell_type": "code",
   "execution_count": null,
   "id": "82253d49",
   "metadata": {},
   "outputs": [],
   "source": []
  }
 ],
 "metadata": {
  "ExecuteTimeLog": [
   {
    "duration": 1322,
    "start_time": "2024-03-31T18:19:01.030Z"
   },
   {
    "duration": 306,
    "start_time": "2024-03-31T18:19:27.301Z"
   },
   {
    "duration": 3,
    "start_time": "2024-03-31T18:19:39.452Z"
   },
   {
    "duration": 3,
    "start_time": "2024-03-31T18:19:50.995Z"
   },
   {
    "duration": 28,
    "start_time": "2024-03-31T18:20:19.965Z"
   },
   {
    "duration": 29,
    "start_time": "2024-03-31T18:21:01.132Z"
   },
   {
    "duration": 19,
    "start_time": "2024-03-31T18:21:29.104Z"
   },
   {
    "duration": 8,
    "start_time": "2024-03-31T18:22:58.497Z"
   },
   {
    "duration": 5,
    "start_time": "2024-03-31T18:23:10.551Z"
   },
   {
    "duration": 9,
    "start_time": "2024-03-31T18:23:19.649Z"
   },
   {
    "duration": 7,
    "start_time": "2024-03-31T18:23:30.768Z"
   },
   {
    "duration": 11,
    "start_time": "2024-03-31T18:24:05.510Z"
   },
   {
    "duration": 7,
    "start_time": "2024-03-31T18:24:18.667Z"
   },
   {
    "duration": 11,
    "start_time": "2024-03-31T18:24:28.827Z"
   },
   {
    "duration": 5,
    "start_time": "2024-03-31T18:24:49.564Z"
   },
   {
    "duration": 9,
    "start_time": "2024-03-31T18:24:59.417Z"
   },
   {
    "duration": 7,
    "start_time": "2024-03-31T18:25:31.112Z"
   },
   {
    "duration": 7,
    "start_time": "2024-03-31T18:25:49.618Z"
   },
   {
    "duration": 9,
    "start_time": "2024-03-31T18:27:14.898Z"
   },
   {
    "duration": 10,
    "start_time": "2024-03-31T18:27:28.482Z"
   },
   {
    "duration": 6,
    "start_time": "2024-03-31T18:27:39.785Z"
   },
   {
    "duration": 174,
    "start_time": "2024-03-31T18:27:51.685Z"
   },
   {
    "duration": 9,
    "start_time": "2024-03-31T18:28:42.195Z"
   },
   {
    "duration": 9,
    "start_time": "2024-03-31T18:29:01.168Z"
   },
   {
    "duration": 6,
    "start_time": "2024-03-31T18:29:08.950Z"
   },
   {
    "duration": 143,
    "start_time": "2024-03-31T18:29:20.217Z"
   },
   {
    "duration": 8,
    "start_time": "2024-03-31T18:30:15.134Z"
   },
   {
    "duration": 7,
    "start_time": "2024-03-31T18:30:24.946Z"
   },
   {
    "duration": 13,
    "start_time": "2024-03-31T18:30:35.285Z"
   },
   {
    "duration": 217,
    "start_time": "2024-03-31T18:30:49.470Z"
   },
   {
    "duration": 8,
    "start_time": "2024-03-31T18:31:39.117Z"
   },
   {
    "duration": 8,
    "start_time": "2024-03-31T18:31:58.868Z"
   },
   {
    "duration": 129,
    "start_time": "2024-03-31T18:32:09.669Z"
   },
   {
    "duration": 201,
    "start_time": "2024-03-31T18:32:22.790Z"
   },
   {
    "duration": 9,
    "start_time": "2024-03-31T18:33:14.597Z"
   },
   {
    "duration": 9,
    "start_time": "2024-03-31T18:33:25.218Z"
   },
   {
    "duration": 266,
    "start_time": "2024-03-31T18:33:36.902Z"
   },
   {
    "duration": 16,
    "start_time": "2024-03-31T18:35:56.402Z"
   },
   {
    "duration": 21,
    "start_time": "2024-03-31T18:36:06.148Z"
   },
   {
    "duration": 8,
    "start_time": "2024-03-31T18:36:37.446Z"
   },
   {
    "duration": 5,
    "start_time": "2024-03-31T18:36:46.986Z"
   },
   {
    "duration": 12,
    "start_time": "2024-03-31T18:37:06.803Z"
   },
   {
    "duration": 13,
    "start_time": "2024-03-31T18:37:17.325Z"
   },
   {
    "duration": 313,
    "start_time": "2024-03-31T18:37:49.075Z"
   },
   {
    "duration": 251,
    "start_time": "2024-03-31T18:38:13.839Z"
   },
   {
    "duration": 14,
    "start_time": "2024-03-31T18:40:04.301Z"
   },
   {
    "duration": 4,
    "start_time": "2024-03-31T18:40:17.102Z"
   },
   {
    "duration": 34,
    "start_time": "2024-03-31T18:40:29.575Z"
   },
   {
    "duration": 13,
    "start_time": "2024-03-31T18:40:39.033Z"
   },
   {
    "duration": 5,
    "start_time": "2024-03-31T18:41:21.717Z"
   },
   {
    "duration": 23,
    "start_time": "2024-03-31T18:41:31.810Z"
   },
   {
    "duration": 6,
    "start_time": "2024-03-31T18:41:58.044Z"
   },
   {
    "duration": 27,
    "start_time": "2024-03-31T18:42:17.236Z"
   },
   {
    "duration": 5,
    "start_time": "2024-03-31T18:43:01.420Z"
   },
   {
    "duration": 6,
    "start_time": "2024-03-31T18:46:05.174Z"
   },
   {
    "duration": 4,
    "start_time": "2024-03-31T18:46:16.206Z"
   },
   {
    "duration": 5,
    "start_time": "2024-03-31T18:47:51.454Z"
   },
   {
    "duration": 4,
    "start_time": "2024-03-31T18:48:01.579Z"
   },
   {
    "duration": 10,
    "start_time": "2024-03-31T18:49:17.987Z"
   },
   {
    "duration": 5,
    "start_time": "2024-03-31T18:49:29.803Z"
   },
   {
    "duration": 1474,
    "start_time": "2024-03-31T18:53:16.525Z"
   },
   {
    "duration": 93,
    "start_time": "2024-03-31T18:53:29.097Z"
   },
   {
    "duration": 6,
    "start_time": "2024-03-31T18:54:50.133Z"
   },
   {
    "duration": 1133,
    "start_time": "2024-03-31T19:10:21.411Z"
   },
   {
    "duration": 312,
    "start_time": "2024-03-31T19:10:22.546Z"
   },
   {
    "duration": 4,
    "start_time": "2024-03-31T19:10:22.859Z"
   },
   {
    "duration": 9,
    "start_time": "2024-03-31T19:10:22.865Z"
   },
   {
    "duration": 29,
    "start_time": "2024-03-31T19:10:22.875Z"
   },
   {
    "duration": 28,
    "start_time": "2024-03-31T19:10:22.906Z"
   },
   {
    "duration": 55,
    "start_time": "2024-03-31T19:10:22.935Z"
   },
   {
    "duration": 8,
    "start_time": "2024-03-31T19:10:22.991Z"
   },
   {
    "duration": 22,
    "start_time": "2024-03-31T19:10:23.001Z"
   },
   {
    "duration": 25,
    "start_time": "2024-03-31T19:10:23.026Z"
   },
   {
    "duration": 6,
    "start_time": "2024-03-31T19:10:23.052Z"
   },
   {
    "duration": 38,
    "start_time": "2024-03-31T19:10:23.059Z"
   },
   {
    "duration": 7,
    "start_time": "2024-03-31T19:10:23.099Z"
   },
   {
    "duration": 12,
    "start_time": "2024-03-31T19:10:23.108Z"
   },
   {
    "duration": 10,
    "start_time": "2024-03-31T19:10:23.122Z"
   },
   {
    "duration": 8,
    "start_time": "2024-03-31T19:10:23.134Z"
   },
   {
    "duration": 10,
    "start_time": "2024-03-31T19:10:23.144Z"
   },
   {
    "duration": 6,
    "start_time": "2024-03-31T19:10:23.180Z"
   },
   {
    "duration": 10,
    "start_time": "2024-03-31T19:10:23.188Z"
   },
   {
    "duration": 15,
    "start_time": "2024-03-31T19:10:23.200Z"
   },
   {
    "duration": 10,
    "start_time": "2024-03-31T19:10:23.216Z"
   },
   {
    "duration": 187,
    "start_time": "2024-03-31T19:10:23.227Z"
   },
   {
    "duration": 8,
    "start_time": "2024-03-31T19:10:23.416Z"
   },
   {
    "duration": 8,
    "start_time": "2024-03-31T19:10:23.426Z"
   },
   {
    "duration": 5,
    "start_time": "2024-03-31T19:10:23.436Z"
   },
   {
    "duration": 168,
    "start_time": "2024-03-31T19:10:23.442Z"
   },
   {
    "duration": 8,
    "start_time": "2024-03-31T19:10:23.612Z"
   },
   {
    "duration": 8,
    "start_time": "2024-03-31T19:10:23.624Z"
   },
   {
    "duration": 16,
    "start_time": "2024-03-31T19:10:23.633Z"
   },
   {
    "duration": 220,
    "start_time": "2024-03-31T19:10:23.650Z"
   },
   {
    "duration": 15,
    "start_time": "2024-03-31T19:10:23.872Z"
   },
   {
    "duration": 12,
    "start_time": "2024-03-31T19:10:23.888Z"
   },
   {
    "duration": 146,
    "start_time": "2024-03-31T19:10:23.901Z"
   },
   {
    "duration": 241,
    "start_time": "2024-03-31T19:10:24.049Z"
   },
   {
    "duration": 8,
    "start_time": "2024-03-31T19:10:24.292Z"
   },
   {
    "duration": 9,
    "start_time": "2024-03-31T19:10:24.302Z"
   },
   {
    "duration": 277,
    "start_time": "2024-03-31T19:10:24.313Z"
   },
   {
    "duration": 17,
    "start_time": "2024-03-31T19:10:24.591Z"
   },
   {
    "duration": 19,
    "start_time": "2024-03-31T19:10:24.609Z"
   },
   {
    "duration": 7,
    "start_time": "2024-03-31T19:10:24.629Z"
   },
   {
    "duration": 10,
    "start_time": "2024-03-31T19:10:24.637Z"
   },
   {
    "duration": 34,
    "start_time": "2024-03-31T19:10:24.649Z"
   },
   {
    "duration": 14,
    "start_time": "2024-03-31T19:10:24.685Z"
   },
   {
    "duration": 339,
    "start_time": "2024-03-31T19:10:24.701Z"
   },
   {
    "duration": 317,
    "start_time": "2024-03-31T19:10:25.042Z"
   },
   {
    "duration": 12,
    "start_time": "2024-03-31T19:10:25.360Z"
   },
   {
    "duration": 10,
    "start_time": "2024-03-31T19:10:25.373Z"
   },
   {
    "duration": 35,
    "start_time": "2024-03-31T19:10:25.384Z"
   },
   {
    "duration": 12,
    "start_time": "2024-03-31T19:10:25.420Z"
   },
   {
    "duration": 8,
    "start_time": "2024-03-31T19:10:25.434Z"
   },
   {
    "duration": 44,
    "start_time": "2024-03-31T19:10:25.443Z"
   },
   {
    "duration": 5,
    "start_time": "2024-03-31T19:10:25.489Z"
   },
   {
    "duration": 29,
    "start_time": "2024-03-31T19:10:25.496Z"
   },
   {
    "duration": 5,
    "start_time": "2024-03-31T19:10:25.526Z"
   },
   {
    "duration": 6,
    "start_time": "2024-03-31T19:10:25.532Z"
   },
   {
    "duration": 13,
    "start_time": "2024-03-31T19:10:25.539Z"
   },
   {
    "duration": 28,
    "start_time": "2024-03-31T19:10:25.553Z"
   },
   {
    "duration": 8,
    "start_time": "2024-03-31T19:10:25.583Z"
   },
   {
    "duration": 13,
    "start_time": "2024-03-31T19:10:25.593Z"
   },
   {
    "duration": 3,
    "start_time": "2024-03-31T19:10:25.608Z"
   },
   {
    "duration": 2336,
    "start_time": "2024-03-31T19:10:25.614Z"
   },
   {
    "duration": 90,
    "start_time": "2024-03-31T19:10:27.951Z"
   },
   {
    "duration": 5,
    "start_time": "2024-03-31T19:10:28.043Z"
   },
   {
    "duration": 1120,
    "start_time": "2024-03-31T19:31:43.726Z"
   },
   {
    "duration": 71,
    "start_time": "2024-03-31T19:31:44.848Z"
   },
   {
    "duration": 3,
    "start_time": "2024-03-31T19:31:44.921Z"
   },
   {
    "duration": 5,
    "start_time": "2024-03-31T19:31:44.926Z"
   },
   {
    "duration": 31,
    "start_time": "2024-03-31T19:31:44.932Z"
   },
   {
    "duration": 30,
    "start_time": "2024-03-31T19:31:44.965Z"
   },
   {
    "duration": 21,
    "start_time": "2024-03-31T19:31:44.996Z"
   },
   {
    "duration": 16,
    "start_time": "2024-03-31T19:31:45.018Z"
   },
   {
    "duration": 45,
    "start_time": "2024-03-31T19:31:45.036Z"
   },
   {
    "duration": 52,
    "start_time": "2024-03-31T19:31:45.084Z"
   },
   {
    "duration": 18,
    "start_time": "2024-03-31T19:31:45.137Z"
   },
   {
    "duration": 39,
    "start_time": "2024-03-31T19:31:45.157Z"
   },
   {
    "duration": 10,
    "start_time": "2024-03-31T19:31:45.197Z"
   },
   {
    "duration": 47,
    "start_time": "2024-03-31T19:31:45.209Z"
   },
   {
    "duration": 15,
    "start_time": "2024-03-31T19:31:45.258Z"
   },
   {
    "duration": 29,
    "start_time": "2024-03-31T19:31:45.275Z"
   },
   {
    "duration": 30,
    "start_time": "2024-03-31T19:31:45.306Z"
   },
   {
    "duration": 45,
    "start_time": "2024-03-31T19:31:45.338Z"
   },
   {
    "duration": 25,
    "start_time": "2024-03-31T19:31:45.384Z"
   },
   {
    "duration": 30,
    "start_time": "2024-03-31T19:31:45.411Z"
   },
   {
    "duration": 51,
    "start_time": "2024-03-31T19:31:45.442Z"
   },
   {
    "duration": 205,
    "start_time": "2024-03-31T19:31:45.494Z"
   },
   {
    "duration": 9,
    "start_time": "2024-03-31T19:31:45.701Z"
   },
   {
    "duration": 11,
    "start_time": "2024-03-31T19:31:45.712Z"
   },
   {
    "duration": 10,
    "start_time": "2024-03-31T19:31:45.724Z"
   },
   {
    "duration": 159,
    "start_time": "2024-03-31T19:31:45.735Z"
   },
   {
    "duration": 8,
    "start_time": "2024-03-31T19:31:45.896Z"
   },
   {
    "duration": 15,
    "start_time": "2024-03-31T19:31:45.908Z"
   },
   {
    "duration": 20,
    "start_time": "2024-03-31T19:31:45.924Z"
   },
   {
    "duration": 217,
    "start_time": "2024-03-31T19:31:45.946Z"
   },
   {
    "duration": 9,
    "start_time": "2024-03-31T19:31:46.165Z"
   },
   {
    "duration": 13,
    "start_time": "2024-03-31T19:31:46.181Z"
   },
   {
    "duration": 143,
    "start_time": "2024-03-31T19:31:46.196Z"
   },
   {
    "duration": 217,
    "start_time": "2024-03-31T19:31:46.341Z"
   },
   {
    "duration": 9,
    "start_time": "2024-03-31T19:31:46.560Z"
   },
   {
    "duration": 13,
    "start_time": "2024-03-31T19:31:46.582Z"
   },
   {
    "duration": 284,
    "start_time": "2024-03-31T19:31:46.599Z"
   },
   {
    "duration": 17,
    "start_time": "2024-03-31T19:31:46.884Z"
   },
   {
    "duration": 22,
    "start_time": "2024-03-31T19:31:46.902Z"
   },
   {
    "duration": 6,
    "start_time": "2024-03-31T19:31:46.926Z"
   },
   {
    "duration": 9,
    "start_time": "2024-03-31T19:31:46.934Z"
   },
   {
    "duration": 24,
    "start_time": "2024-03-31T19:31:46.944Z"
   },
   {
    "duration": 12,
    "start_time": "2024-03-31T19:31:46.981Z"
   },
   {
    "duration": 336,
    "start_time": "2024-03-31T19:31:46.995Z"
   },
   {
    "duration": 266,
    "start_time": "2024-03-31T19:31:47.333Z"
   },
   {
    "duration": 12,
    "start_time": "2024-03-31T19:31:47.601Z"
   },
   {
    "duration": 13,
    "start_time": "2024-03-31T19:31:47.615Z"
   },
   {
    "duration": 32,
    "start_time": "2024-03-31T19:31:47.630Z"
   },
   {
    "duration": 22,
    "start_time": "2024-03-31T19:31:47.663Z"
   },
   {
    "duration": 6,
    "start_time": "2024-03-31T19:31:47.687Z"
   },
   {
    "duration": 33,
    "start_time": "2024-03-31T19:31:47.695Z"
   },
   {
    "duration": 5,
    "start_time": "2024-03-31T19:31:47.729Z"
   },
   {
    "duration": 46,
    "start_time": "2024-03-31T19:31:47.736Z"
   },
   {
    "duration": 4,
    "start_time": "2024-03-31T19:31:47.784Z"
   },
   {
    "duration": 6,
    "start_time": "2024-03-31T19:31:47.790Z"
   },
   {
    "duration": 11,
    "start_time": "2024-03-31T19:31:47.797Z"
   },
   {
    "duration": 5,
    "start_time": "2024-03-31T19:31:47.810Z"
   },
   {
    "duration": 5,
    "start_time": "2024-03-31T19:31:47.817Z"
   },
   {
    "duration": 22,
    "start_time": "2024-03-31T19:31:47.824Z"
   },
   {
    "duration": 35,
    "start_time": "2024-03-31T19:31:47.848Z"
   },
   {
    "duration": 1560,
    "start_time": "2024-03-31T19:31:47.885Z"
   },
   {
    "duration": 94,
    "start_time": "2024-03-31T19:31:49.447Z"
   },
   {
    "duration": 5,
    "start_time": "2024-03-31T19:31:49.543Z"
   },
   {
    "duration": 10,
    "start_time": "2024-03-31T19:57:36.265Z"
   },
   {
    "duration": 7,
    "start_time": "2024-03-31T19:58:22.089Z"
   }
  ],
  "kernelspec": {
   "display_name": "Python 3 (ipykernel)",
   "language": "python",
   "name": "python3"
  },
  "language_info": {
   "codemirror_mode": {
    "name": "ipython",
    "version": 3
   },
   "file_extension": ".py",
   "mimetype": "text/x-python",
   "name": "python",
   "nbconvert_exporter": "python",
   "pygments_lexer": "ipython3",
   "version": "3.9.12"
  },
  "toc": {
   "base_numbering": 1,
   "nav_menu": {},
   "number_sections": true,
   "sideBar": true,
   "skip_h1_title": true,
   "title_cell": "Table of Contents",
   "title_sidebar": "Contents",
   "toc_cell": false,
   "toc_position": {},
   "toc_section_display": true,
   "toc_window_display": false
  }
 },
 "nbformat": 4,
 "nbformat_minor": 5
}
