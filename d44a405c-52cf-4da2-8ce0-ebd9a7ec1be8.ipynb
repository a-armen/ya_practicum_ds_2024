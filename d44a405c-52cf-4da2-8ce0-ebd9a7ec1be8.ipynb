{
 "cells": [
  {
   "cell_type": "markdown",
   "metadata": {},
   "source": [
    "<span style=\"color: blue; font-size: 20px; font-weight: bold;\">Комментарий ревьюера</span>\n",
    "\n",
    "<span style=\"color: blue\">Привет, Армен! Это снова Павел Григорьев, и я буду проверять этот проект.<br>Моя основная цель - не указать на совершённые тобой ошибки, а поделиться своим опытом и помочь тебе совершенствоваться как профессионалу.<br>Спасибо за проделанную работу!</span>\n",
    "<details>\n",
    "\t<summary><u>Инструкция по организационным моментам (кликабельно)</u>⤵</summary>\n",
    "<span style=\"color: blue\">Я буду использовать различные цвета, чтобы было удобнее воспринимать мои комментарии:</span>\n",
    "\n",
    "\n",
    "---\n",
    "\n",
    "\n",
    "<span style=\"color: blue\">синий текст - просто текст комментария</span>\n",
    "\n",
    "<span style=\"color: green\">✔️ и зеленый текст - все отлично</span>\n",
    "\n",
    "<span style=\"color: orange\">⚠️ и оранжевый текст - сделано все правильно, однако есть рекомендации, на что стоит обратить внимание</span>\n",
    "\n",
    "<span style=\"color: red\">❌ и красный текст - есть недочеты</span>\n",
    "\n",
    "\n",
    "</details>    \n",
    "</br>\n",
    "<span style=\"color: blue\">Пожалуйста, не удаляй мои комментарии в случае возврата работы, так будет проще разобраться, какие были недочеты, а также сразу увидеть исправленное.</span>\n",
    "\n",
    "<span style=\"color: blue\">Ответы на мои комментарии лучше тоже помечать.<br>\n",
    "Например: </span><br><span style=\"color: purple; font-weight: bold\">Комментарий студента</span>\n",
    "\n",
    "<span style=\"color: blue; font-weight: bold;\">Давай смотреть, что получилось!</span>"
   ]
  },
  {
   "cell_type": "markdown",
   "metadata": {},
   "source": [
    "<span style=\"color: blue; font-size: 18px; font-weight: bold;\">Комментарий ревьюера 2</span>\n",
    "\n",
    "<span style=\"color: blue\">Привет еще раз. Спасибо, за исправления. Оформление комментариев по работе сохраняется. Только обозначим, что это вторая итерация.</span> "
   ]
  },
  {
   "cell_type": "markdown",
   "metadata": {
    "toc": true
   },
   "source": [
    "<h1>Содержание<span class=\"tocSkip\"></span></h1>\n",
    "<div class=\"toc\"><ul class=\"toc-item\"><li><span><a href=\"#Подготовка\" data-toc-modified-id=\"Подготовка-1\"><span class=\"toc-item-num\">1&nbsp;&nbsp;</span>Подготовка</a></span></li><li><span><a href=\"#Обучение\" data-toc-modified-id=\"Обучение-2\"><span class=\"toc-item-num\">2&nbsp;&nbsp;</span>Обучение</a></span></li><li><span><a href=\"#Выводы\" data-toc-modified-id=\"Выводы-3\"><span class=\"toc-item-num\">3&nbsp;&nbsp;</span>Выводы</a></span></li><li><span><a href=\"#Чек-лист-проверки\" data-toc-modified-id=\"Чек-лист-проверки-4\"><span class=\"toc-item-num\">4&nbsp;&nbsp;</span>Чек-лист проверки</a></span></li></ul></div>"
   ]
  },
  {
   "cell_type": "markdown",
   "metadata": {},
   "source": [
    "# Проект для «Викишоп»"
   ]
  },
  {
   "cell_type": "markdown",
   "metadata": {},
   "source": [
    "Интернет-магазин «Викишоп» запускает новый сервис. Теперь пользователи могут редактировать и дополнять описания товаров, как в вики-сообществах. То есть клиенты предлагают свои правки и комментируют изменения других. Магазину нужен инструмент, который будет искать токсичные комментарии и отправлять их на модерацию. \n",
    "\n",
    "Обучите модель классифицировать комментарии на позитивные и негативные. В вашем распоряжении набор данных с разметкой о токсичности правок.\n",
    "\n",
    "Постройте модель со значением метрики качества *F1* не меньше 0.75. \n",
    "\n",
    "**Инструкция по выполнению проекта**\n",
    "\n",
    "1. Загрузите и подготовьте данные.\n",
    "2. Обучите разные модели. \n",
    "3. Сделайте выводы.\n",
    "\n",
    "Для выполнения проекта применять *BERT* необязательно, но вы можете попробовать.\n",
    "\n",
    "**Описание данных**\n",
    "\n",
    "Данные находятся в файле `toxic_comments.csv`. Столбец *text* в нём содержит текст комментария, а *toxic* — целевой признак."
   ]
  },
  {
   "cell_type": "code",
   "execution_count": 1,
   "metadata": {},
   "outputs": [],
   "source": [
    "!pip install contractions -q"
   ]
  },
  {
   "cell_type": "code",
   "execution_count": 2,
   "metadata": {},
   "outputs": [],
   "source": [
    "#!pip install scikit-learn==1.1.3 -q"
   ]
  },
  {
   "cell_type": "code",
   "execution_count": 2,
   "metadata": {},
   "outputs": [],
   "source": [
    "# импорт необходимых библиотек\n",
    "\n",
    "import pandas as pd\n",
    "import numpy as np\n",
    "import re\n",
    "import nltk\n",
    "import contractions\n",
    "import matplotlib.pyplot as plt\n",
    "\n",
    "from tqdm.notebook import tqdm\n",
    "tqdm.pandas()\n",
    "\n",
    "from nltk.corpus import wordnet\n",
    "from nltk.tokenize import word_tokenize \n",
    "from nltk.stem import WordNetLemmatizer \n",
    "from nltk.corpus import stopwords \n",
    "\n",
    "from sklearn.model_selection import train_test_split, RandomizedSearchCV, GridSearchCV\n",
    "from sklearn.svm import LinearSVC\n",
    "from sklearn.tree import DecisionTreeClassifier\n",
    "from sklearn.pipeline import Pipeline\n",
    "from sklearn.feature_extraction.text import TfidfVectorizer\n",
    "from sklearn.linear_model import LogisticRegression\n",
    "from sklearn.metrics import f1_score\n",
    "\n",
    "import warnings\n",
    "warnings.filterwarnings(\"ignore\")"
   ]
  },
  {
   "cell_type": "markdown",
   "metadata": {},
   "source": [
    "<font color='blue'><b>Комментарий ревьюера: </b></font> ✔️\\\n",
    "<font color='green'> Хорошее оформление импортов! \\\n",
    "Импорты собраны в одной ячейке, разделены на функциональные группы пустой строкой.</font>"
   ]
  },
  {
   "cell_type": "code",
   "execution_count": 3,
   "metadata": {},
   "outputs": [],
   "source": [
    "# константы\n",
    "RANDOM_STATE = 42\n",
    "TEST_SIZE = 0.1\n",
    "\n",
    "SERVER_PATH_DATASET = '/datasets/toxic_comments.csv'\n",
    "LOCAL_PATH_DATASET = 'toxic_comments.csv'"
   ]
  },
  {
   "cell_type": "code",
   "execution_count": 4,
   "metadata": {},
   "outputs": [],
   "source": [
    "try:\n",
    "    toxic_comments = pd.read_csv(SERVER_PATH_DATASET)\n",
    "    \n",
    "except:\n",
    "    toxic_comments = pd.read_csv(LOCAL_PATH_DATASET)"
   ]
  },
  {
   "cell_type": "markdown",
   "metadata": {},
   "source": [
    "## Подготовка"
   ]
  },
  {
   "cell_type": "code",
   "execution_count": 5,
   "metadata": {},
   "outputs": [
    {
     "data": {
      "text/html": [
       "<div>\n",
       "<style scoped>\n",
       "    .dataframe tbody tr th:only-of-type {\n",
       "        vertical-align: middle;\n",
       "    }\n",
       "\n",
       "    .dataframe tbody tr th {\n",
       "        vertical-align: top;\n",
       "    }\n",
       "\n",
       "    .dataframe thead th {\n",
       "        text-align: right;\n",
       "    }\n",
       "</style>\n",
       "<table border=\"1\" class=\"dataframe\">\n",
       "  <thead>\n",
       "    <tr style=\"text-align: right;\">\n",
       "      <th></th>\n",
       "      <th>Unnamed: 0</th>\n",
       "      <th>text</th>\n",
       "      <th>toxic</th>\n",
       "    </tr>\n",
       "  </thead>\n",
       "  <tbody>\n",
       "    <tr>\n",
       "      <th>0</th>\n",
       "      <td>0</td>\n",
       "      <td>Explanation\\nWhy the edits made under my usern...</td>\n",
       "      <td>0</td>\n",
       "    </tr>\n",
       "    <tr>\n",
       "      <th>1</th>\n",
       "      <td>1</td>\n",
       "      <td>D'aww! He matches this background colour I'm s...</td>\n",
       "      <td>0</td>\n",
       "    </tr>\n",
       "    <tr>\n",
       "      <th>2</th>\n",
       "      <td>2</td>\n",
       "      <td>Hey man, I'm really not trying to edit war. It...</td>\n",
       "      <td>0</td>\n",
       "    </tr>\n",
       "    <tr>\n",
       "      <th>3</th>\n",
       "      <td>3</td>\n",
       "      <td>\"\\nMore\\nI can't make any real suggestions on ...</td>\n",
       "      <td>0</td>\n",
       "    </tr>\n",
       "    <tr>\n",
       "      <th>4</th>\n",
       "      <td>4</td>\n",
       "      <td>You, sir, are my hero. Any chance you remember...</td>\n",
       "      <td>0</td>\n",
       "    </tr>\n",
       "  </tbody>\n",
       "</table>\n",
       "</div>"
      ],
      "text/plain": [
       "   Unnamed: 0                                               text  toxic\n",
       "0           0  Explanation\\nWhy the edits made under my usern...      0\n",
       "1           1  D'aww! He matches this background colour I'm s...      0\n",
       "2           2  Hey man, I'm really not trying to edit war. It...      0\n",
       "3           3  \"\\nMore\\nI can't make any real suggestions on ...      0\n",
       "4           4  You, sir, are my hero. Any chance you remember...      0"
      ]
     },
     "execution_count": 5,
     "metadata": {},
     "output_type": "execute_result"
    }
   ],
   "source": [
    "toxic_comments.head()"
   ]
  },
  {
   "cell_type": "code",
   "execution_count": 6,
   "metadata": {},
   "outputs": [
    {
     "name": "stdout",
     "output_type": "stream",
     "text": [
      "<class 'pandas.core.frame.DataFrame'>\n",
      "RangeIndex: 159292 entries, 0 to 159291\n",
      "Data columns (total 3 columns):\n",
      " #   Column      Non-Null Count   Dtype \n",
      "---  ------      --------------   ----- \n",
      " 0   Unnamed: 0  159292 non-null  int64 \n",
      " 1   text        159292 non-null  object\n",
      " 2   toxic       159292 non-null  int64 \n",
      "dtypes: int64(2), object(1)\n",
      "memory usage: 3.6+ MB\n"
     ]
    }
   ],
   "source": [
    "toxic_comments.info()"
   ]
  },
  {
   "cell_type": "markdown",
   "metadata": {},
   "source": [
    "- данные загрузились корректно\n",
    "- столбец `Unnamed: 0` не несет никакой информации (его стоит убрать)\n",
    "- по общей информации видно, что пропуски отсутствуют\n",
    "- типы в датасете отображаются верно"
   ]
  },
  {
   "cell_type": "markdown",
   "metadata": {},
   "source": [
    "<font color='blue'><b>Комментарий ревьюера: </b></font> ✔️\\\n",
    "<font color='green'>Данные загружены корректно, первичный осмотр проведен.</font>"
   ]
  },
  {
   "cell_type": "code",
   "execution_count": 7,
   "metadata": {},
   "outputs": [],
   "source": [
    "new_toxic_comments = toxic_comments.drop(['Unnamed: 0'], axis=1)"
   ]
  },
  {
   "cell_type": "markdown",
   "metadata": {},
   "source": [
    "- возможно это старый индекс от которого забыли избавиться"
   ]
  },
  {
   "cell_type": "code",
   "execution_count": 8,
   "metadata": {},
   "outputs": [
    {
     "data": {
      "text/plain": [
       "0"
      ]
     },
     "execution_count": 8,
     "metadata": {},
     "output_type": "execute_result"
    }
   ],
   "source": [
    "new_toxic_comments.duplicated().sum()"
   ]
  },
  {
   "cell_type": "markdown",
   "metadata": {},
   "source": [
    "- дубликаты в датасете отсутствуют"
   ]
  },
  {
   "cell_type": "markdown",
   "metadata": {},
   "source": [
    "**Построим шрафик классов целевой переменной**"
   ]
  },
  {
   "cell_type": "code",
   "execution_count": 9,
   "metadata": {},
   "outputs": [
    {
     "data": {
      "image/png": "[encoded data removed]",
      "text/plain": [
       "<Figure size 432x288 with 1 Axes>"
      ]
     },
     "metadata": {
      "needs_background": "light"
     },
     "output_type": "display_data"
    }
   ],
   "source": [
    "new_toxic_comments['toxic'].value_counts().plot(kind='bar', \n",
    "                                                color='Orange',\n",
    "                                                xlabel='toxic', \n",
    "                                                ylabel='Частота', \n",
    "                                                title='Распределение классов целевой переменной');\n",
    "plt.grid()"
   ]
  },
  {
   "cell_type": "code",
   "execution_count": 10,
   "metadata": {},
   "outputs": [
    {
     "data": {
      "text/plain": [
       "Text(0.5, 1.0, 'Распределение типов коментариев')"
      ]
     },
     "execution_count": 10,
     "metadata": {},
     "output_type": "execute_result"
    },
    {
     "data": {
      "image/png": "[encoded data removed]",
      "text/plain": [
       "<Figure size 432x288 with 1 Axes>"
      ]
     },
     "metadata": {},
     "output_type": "display_data"
    }
   ],
   "source": [
    "plt.pie(new_toxic_comments['toxic'].value_counts(),\n",
    "       labels=['Позитивные', 'Негативные'],\n",
    "       autopct='%1.1f%%',\n",
    "       startangle=18,\n",
    "       explode=(0.5, 0),\n",
    "       shadow=True,\n",
    "       radius=1.10)\n",
    "plt.title('Распределение типов коментариев')"
   ]
  },
  {
   "cell_type": "markdown",
   "metadata": {},
   "source": [
    "- в исходной выборке наблюдается несбалансированность классов"
   ]
  },
  {
   "cell_type": "markdown",
   "metadata": {},
   "source": [
    "<font color='blue'><b>Комментарий ревьюера: </b></font> ✔️\\\n",
    "<font color='green'> Мы обнаружили серьёзный дисбаланс при исследовании данных. Как дополнительные материалы, рекомендую статью <a href='https://dyakonov.org/2021/05/27/imbalance/'>Дисбаланс классов</a>, очень классная, как и весь блог Дьяконова. Ещё такой <a href='https://github.com/Dyakonov/ml_hacks/blob/master/book_disbalance_public_v1.ipynb'>ноутбук</a> есть.</font>"
   ]
  },
  {
   "cell_type": "markdown",
   "metadata": {},
   "source": [
    "**Выполним лемматизацию текста и устраним ненужные символы**"
   ]
  },
  {
   "cell_type": "code",
   "execution_count": 11,
   "metadata": {},
   "outputs": [
    {
     "name": "stderr",
     "output_type": "stream",
     "text": [
      "[nltk_data] Downloading package punkt to /home/jovyan/nltk_data...\n",
      "[nltk_data]   Package punkt is already up-to-date!\n",
      "[nltk_data] Downloading package wordnet to /home/jovyan/nltk_data...\n",
      "[nltk_data]   Package wordnet is already up-to-date!\n",
      "[nltk_data] Downloading package stopwords to /home/jovyan/nltk_data...\n",
      "[nltk_data]   Package stopwords is already up-to-date!\n",
      "[nltk_data] Downloading package averaged_perceptron_tagger to\n",
      "[nltk_data]     /home/jovyan/nltk_data...\n",
      "[nltk_data]   Unzipping taggers/averaged_perceptron_tagger.zip.\n",
      "[nltk_data] Downloading package omw-1.4 to /home/jovyan/nltk_data...\n"
     ]
    },
    {
     "data": {
      "text/plain": [
       "True"
      ]
     },
     "execution_count": 11,
     "metadata": {},
     "output_type": "execute_result"
    }
   ],
   "source": [
    "nltk.download('punkt')\n",
    "nltk.download('wordnet')\n",
    "nltk.download('stopwords')\n",
    "nltk.download('averaged_perceptron_tagger')\n",
    "nltk.download('omw-1.4')"
   ]
  },
  {
   "cell_type": "code",
   "execution_count": 12,
   "metadata": {},
   "outputs": [],
   "source": [
    "#функция для проставления pos-тегов, чтобы у слов правильно определялась часть речи\n",
    "def get_wordnet_pos(word):\n",
    "    tag = nltk.pos_tag([word])[0][1][0].upper()\n",
    "    tag_dict = {\"J\": wordnet.ADJ,\n",
    "                \"N\": wordnet.NOUN,\n",
    "                \"V\": wordnet.VERB,\n",
    "                \"R\": wordnet.ADV}\n",
    "    return tag_dict.get(tag, wordnet.NOUN)\n",
    "\n",
    "\n",
    "#функция для лемматизации слов\n",
    "def lemmatize(text):\n",
    "    lemmatizer = WordNetLemmatizer()\n",
    "    lemmatized_words = [lemmatizer.lemmatize(w, get_wordnet_pos(w)) for w in nltk.word_tokenize(text)]\n",
    "    lemmatized_words = \" \".join(lemmatized_words)\n",
    "    \n",
    "    return lemmatized_words\n",
    "\n",
    "\n",
    "#функция для очистки текста от знаков препинания, приведение к нижнему регистру \n",
    "def clear_text(text):\n",
    "    text = text.lower()\n",
    "    text = contractions.fix(text)\n",
    "    text = re.sub(r'[^a-zA-Z\\' ]', ' ', text)\n",
    "    text = text.replace('\\n', '')\n",
    "    text_join = \" \".join(text.split())\n",
    "    return text_join\n",
    "\n",
    "\n",
    "#очистка текста\n",
    "new_toxic_comments['clean_text'] = new_toxic_comments['text'].apply(clear_text)"
   ]
  },
  {
   "cell_type": "markdown",
   "metadata": {},
   "source": [
    "<font color='blue'><b>Комментарий ревьюера: </b></font> ✔️\\\n",
    "<font color='green'> Хороший выбор Лемматизатора! Про другие инструменты для лемматизации можно почитать [тут](https://webdevblog.ru/podhody-lemmatizacii-s-primerami-v-python/)</font>"
   ]
  },
  {
   "cell_type": "code",
   "execution_count": 13,
   "metadata": {},
   "outputs": [
    {
     "data": {
      "text/html": [
       "<div>\n",
       "<style scoped>\n",
       "    .dataframe tbody tr th:only-of-type {\n",
       "        vertical-align: middle;\n",
       "    }\n",
       "\n",
       "    .dataframe tbody tr th {\n",
       "        vertical-align: top;\n",
       "    }\n",
       "\n",
       "    .dataframe thead th {\n",
       "        text-align: right;\n",
       "    }\n",
       "</style>\n",
       "<table border=\"1\" class=\"dataframe\">\n",
       "  <thead>\n",
       "    <tr style=\"text-align: right;\">\n",
       "      <th></th>\n",
       "      <th>text</th>\n",
       "      <th>toxic</th>\n",
       "      <th>clean_text</th>\n",
       "    </tr>\n",
       "  </thead>\n",
       "  <tbody>\n",
       "    <tr>\n",
       "      <th>0</th>\n",
       "      <td>Explanation\\nWhy the edits made under my usern...</td>\n",
       "      <td>0</td>\n",
       "      <td>explanation why the edits made under my userna...</td>\n",
       "    </tr>\n",
       "    <tr>\n",
       "      <th>1</th>\n",
       "      <td>D'aww! He matches this background colour I'm s...</td>\n",
       "      <td>0</td>\n",
       "      <td>d'aww he matches this background colour i am s...</td>\n",
       "    </tr>\n",
       "    <tr>\n",
       "      <th>2</th>\n",
       "      <td>Hey man, I'm really not trying to edit war. It...</td>\n",
       "      <td>0</td>\n",
       "      <td>hey man i am really not trying to edit war it ...</td>\n",
       "    </tr>\n",
       "    <tr>\n",
       "      <th>3</th>\n",
       "      <td>\"\\nMore\\nI can't make any real suggestions on ...</td>\n",
       "      <td>0</td>\n",
       "      <td>more i cannot make any real suggestions on imp...</td>\n",
       "    </tr>\n",
       "    <tr>\n",
       "      <th>4</th>\n",
       "      <td>You, sir, are my hero. Any chance you remember...</td>\n",
       "      <td>0</td>\n",
       "      <td>you sir are my hero any chance you remember wh...</td>\n",
       "    </tr>\n",
       "  </tbody>\n",
       "</table>\n",
       "</div>"
      ],
      "text/plain": [
       "                                                text  toxic  \\\n",
       "0  Explanation\\nWhy the edits made under my usern...      0   \n",
       "1  D'aww! He matches this background colour I'm s...      0   \n",
       "2  Hey man, I'm really not trying to edit war. It...      0   \n",
       "3  \"\\nMore\\nI can't make any real suggestions on ...      0   \n",
       "4  You, sir, are my hero. Any chance you remember...      0   \n",
       "\n",
       "                                          clean_text  \n",
       "0  explanation why the edits made under my userna...  \n",
       "1  d'aww he matches this background colour i am s...  \n",
       "2  hey man i am really not trying to edit war it ...  \n",
       "3  more i cannot make any real suggestions on imp...  \n",
       "4  you sir are my hero any chance you remember wh...  "
      ]
     },
     "execution_count": 13,
     "metadata": {},
     "output_type": "execute_result"
    }
   ],
   "source": [
    "new_toxic_comments.head()"
   ]
  },
  {
   "cell_type": "markdown",
   "metadata": {},
   "source": [
    "<font color='blue'><b>Комментарий ревьюера: </b></font> ✔️\\\n",
    "<font color='green'>Очистка сделана верно! Мы оставили только символы Латинского алфавита и привели к нижнему регистру!</font>"
   ]
  },
  {
   "cell_type": "code",
   "execution_count": 14,
   "metadata": {},
   "outputs": [
    {
     "data": {
      "application/vnd.jupyter.widget-view+json": {
       "model_id": "098dbd360b434f678ef5b45e0b760b5a",
       "version_major": 2,
       "version_minor": 0
      },
      "text/plain": [
       "  0%|          | 0/159292 [00:00<?, ?it/s]"
      ]
     },
     "metadata": {},
     "output_type": "display_data"
    }
   ],
   "source": [
    "#лемматизация текста\n",
    "new_toxic_comments['lemm_text'] = new_toxic_comments['clean_text'].progress_apply(lemmatize)"
   ]
  },
  {
   "cell_type": "code",
   "execution_count": 15,
   "metadata": {},
   "outputs": [
    {
     "data": {
      "text/html": [
       "<div>\n",
       "<style scoped>\n",
       "    .dataframe tbody tr th:only-of-type {\n",
       "        vertical-align: middle;\n",
       "    }\n",
       "\n",
       "    .dataframe tbody tr th {\n",
       "        vertical-align: top;\n",
       "    }\n",
       "\n",
       "    .dataframe thead th {\n",
       "        text-align: right;\n",
       "    }\n",
       "</style>\n",
       "<table border=\"1\" class=\"dataframe\">\n",
       "  <thead>\n",
       "    <tr style=\"text-align: right;\">\n",
       "      <th></th>\n",
       "      <th>text</th>\n",
       "      <th>toxic</th>\n",
       "      <th>clean_text</th>\n",
       "      <th>lemm_text</th>\n",
       "    </tr>\n",
       "  </thead>\n",
       "  <tbody>\n",
       "    <tr>\n",
       "      <th>0</th>\n",
       "      <td>Explanation\\nWhy the edits made under my usern...</td>\n",
       "      <td>0</td>\n",
       "      <td>explanation why the edits made under my userna...</td>\n",
       "      <td>explanation why the edits make under my userna...</td>\n",
       "    </tr>\n",
       "    <tr>\n",
       "      <th>1</th>\n",
       "      <td>D'aww! He matches this background colour I'm s...</td>\n",
       "      <td>0</td>\n",
       "      <td>d'aww he matches this background colour i am s...</td>\n",
       "      <td>d'aww he match this background colour i be see...</td>\n",
       "    </tr>\n",
       "    <tr>\n",
       "      <th>2</th>\n",
       "      <td>Hey man, I'm really not trying to edit war. It...</td>\n",
       "      <td>0</td>\n",
       "      <td>hey man i am really not trying to edit war it ...</td>\n",
       "      <td>hey man i be really not try to edit war it be ...</td>\n",
       "    </tr>\n",
       "    <tr>\n",
       "      <th>3</th>\n",
       "      <td>\"\\nMore\\nI can't make any real suggestions on ...</td>\n",
       "      <td>0</td>\n",
       "      <td>more i cannot make any real suggestions on imp...</td>\n",
       "      <td>more i can not make any real suggestion on imp...</td>\n",
       "    </tr>\n",
       "    <tr>\n",
       "      <th>4</th>\n",
       "      <td>You, sir, are my hero. Any chance you remember...</td>\n",
       "      <td>0</td>\n",
       "      <td>you sir are my hero any chance you remember wh...</td>\n",
       "      <td>you sir be my hero any chance you remember wha...</td>\n",
       "    </tr>\n",
       "  </tbody>\n",
       "</table>\n",
       "</div>"
      ],
      "text/plain": [
       "                                                text  toxic  \\\n",
       "0  Explanation\\nWhy the edits made under my usern...      0   \n",
       "1  D'aww! He matches this background colour I'm s...      0   \n",
       "2  Hey man, I'm really not trying to edit war. It...      0   \n",
       "3  \"\\nMore\\nI can't make any real suggestions on ...      0   \n",
       "4  You, sir, are my hero. Any chance you remember...      0   \n",
       "\n",
       "                                          clean_text  \\\n",
       "0  explanation why the edits made under my userna...   \n",
       "1  d'aww he matches this background colour i am s...   \n",
       "2  hey man i am really not trying to edit war it ...   \n",
       "3  more i cannot make any real suggestions on imp...   \n",
       "4  you sir are my hero any chance you remember wh...   \n",
       "\n",
       "                                           lemm_text  \n",
       "0  explanation why the edits make under my userna...  \n",
       "1  d'aww he match this background colour i be see...  \n",
       "2  hey man i be really not try to edit war it be ...  \n",
       "3  more i can not make any real suggestion on imp...  \n",
       "4  you sir be my hero any chance you remember wha...  "
      ]
     },
     "execution_count": 15,
     "metadata": {},
     "output_type": "execute_result"
    }
   ],
   "source": [
    "new_toxic_comments.head()"
   ]
  },
  {
   "cell_type": "markdown",
   "metadata": {},
   "source": [
    "<font color='blue'><b>Комментарий ревьюера: </b></font> ✔️\\\n",
    "<font color='green'>Здорово что выводишь данные, так удобно отлаживать код, сразу видно, что функция работает корректно.</font>"
   ]
  },
  {
   "cell_type": "markdown",
   "metadata": {},
   "source": [
    "**Разделение на тренировочную и тестовую выборки**"
   ]
  },
  {
   "cell_type": "code",
   "execution_count": 16,
   "metadata": {},
   "outputs": [],
   "source": [
    "X = new_toxic_comments.drop(['toxic'], axis=1)\n",
    "y = new_toxic_comments['toxic']\n",
    "\n",
    "X_train, X_test, y_train, y_test = train_test_split(\n",
    "    X, \n",
    "    y, \n",
    "    test_size=TEST_SIZE, \n",
    "    random_state=RANDOM_STATE\n",
    ")\n"
   ]
  },
  {
   "cell_type": "code",
   "execution_count": 17,
   "metadata": {},
   "outputs": [
    {
     "name": "stdout",
     "output_type": "stream",
     "text": [
      "(143362,) (15930,)\n",
      "(143362,) (15930,)\n"
     ]
    }
   ],
   "source": [
    "corpus_train = X_train['lemm_text'].values\n",
    "corpus_test = X_test['lemm_text'].values\n",
    "\n",
    "\n",
    "print(corpus_train.shape, corpus_test.shape)\n",
    "print(y_train.shape, y_test.shape)"
   ]
  },
  {
   "cell_type": "markdown",
   "metadata": {},
   "source": [
    "<font color='blue'><b>Комментарий ревьюера: </b></font> ✔️\\\n",
    "<font color='green'> Здорово , что у нас есть выборка для тестов!</font>"
   ]
  },
  {
   "cell_type": "markdown",
   "metadata": {},
   "source": [
    "**Токенизация столбца с подготовленным текстом**"
   ]
  },
  {
   "cell_type": "code",
   "execution_count": 18,
   "metadata": {},
   "outputs": [],
   "source": [
    "# stop_words = list(stopwords.words('english'))\n",
    "# count = TfidfVectorizer(stop_words=stop_words)\n",
    "# tf_idf_train = count.fit_transform(X_train['lemm_text'])\n",
    "# tf_idf_test = count.transform(X_test['lemm_text'])"
   ]
  },
  {
   "cell_type": "code",
   "execution_count": 18,
   "metadata": {},
   "outputs": [
    {
     "name": "stdout",
     "output_type": "stream",
     "text": [
      "(143362, 142761) (15930, 142761)\n"
     ]
    }
   ],
   "source": [
    "STOPWORDS = list(stopwords.words('english'))\n",
    "count = TfidfVectorizer(stop_words=STOPWORDS)\n",
    "tf_idf_train = count.fit_transform(corpus_train)\n",
    "tf_idf_test = count.transform(corpus_test)\n",
    "\n",
    "print(tf_idf_train.shape, tf_idf_test.shape)"
   ]
  },
  {
   "cell_type": "markdown",
   "metadata": {},
   "source": [
    "<font color='blue'><b>Комментарий ревьюера: </b></font> ✔️\\\n",
    "<font color='green'> Убрали частые неинформативные слова!</font>"
   ]
  },
  {
   "cell_type": "markdown",
   "metadata": {},
   "source": [
    "<font color='blue'><b>Комментарий ревьюера: </b></font> ❌\\\n",
    "<font color='red'> ~~Ниже ты используешь кроссвалидацию, в этом случае нужно соединить Векторизатор с моделью через Pipeline, что бы не происходило утечек во время кроссвалидации. Сейчас Векторизатор обучен на всех данных участвующих в кроссвалидации.~~<br> Материалы по Pipeline:<br> [О Пайплайн](https://dzen.ru/a/YBBkKJBsUV9MPret)<br>\n",
    "\n",
    "[Примеры работы с текстами](https://scikit-learn.org/stable/auto_examples/model_selection/plot_grid_search_text_feature_extraction.html)</font>"
   ]
  },
  {
   "cell_type": "markdown",
   "metadata": {},
   "source": [
    "<div style=\"background: #B0E0E6; padding: 5px; border: 1px solid SteelBlue; border-radius: 5px;\">\n",
    "    <font color='4682B4'><u><b>КОММЕНТАРИЙ СТУДЕНТА</b></u></font>\n",
    "    <br />\n",
    "    <font color='4682B4'>Объединил и настроил векторизатор с моделями через pipeline</font>\n",
    "</div>\n"
   ]
  },
  {
   "cell_type": "markdown",
   "metadata": {},
   "source": [
    "<font color='blue'><b>Комментарий ревьюера 2: </b></font> ✔️\\\n",
    "<font color='green'>Классно, что используешь pipeline. Так можно избежать утечек даже при кроссвалидации моделей. \\\n",
    "С Pipeline можно подбирать гиперпараметры не только к классификатору, но и к предобработчикам.</font>"
   ]
  },
  {
   "cell_type": "markdown",
   "metadata": {},
   "source": [
    "**Вывод:**\n",
    "\n",
    "- данные загрузились корректно\n",
    "- столбец `Unnamed: 0` не несет никакой информации, его стоит убрать. Возможно это старый индекс от которого забыли избавиться\n",
    "- по общей информации видно, что пропуски отсутствуют\n",
    "- типы в датасете отображаются верно\n",
    "- в исходной выборке наблюдается несбалансированность классов: \n",
    "    - позитивных - 89.8%\n",
    "    - негативных - 10.2%\n",
    "- выполнили лемматизацию текста\n",
    "- устраним ненужные символы\n",
    "- разделили на тренировочную и тестовую выборки\n",
    "- выполнена токенизация столбца с подготовленным текстом"
   ]
  },
  {
   "cell_type": "markdown",
   "metadata": {},
   "source": [
    "## Обучение"
   ]
  },
  {
   "cell_type": "markdown",
   "metadata": {},
   "source": [
    "**LogisticRegression**"
   ]
  },
  {
   "cell_type": "code",
   "execution_count": 20,
   "metadata": {},
   "outputs": [
    {
     "name": "stdout",
     "output_type": "stream",
     "text": [
      "Параметры лучшей модели: {'penalty': 'l1', 'C': 4}\n",
      "Метрика f1 для лучшей модели на тренировочной выборке: 0.773\n"
     ]
    }
   ],
   "source": [
    "# model_lr = LogisticRegression(solver='liblinear', random_state=RANDOM_STATE)\n",
    "\n",
    "# param_lr = {\n",
    "#     'penalty': ['l1', 'l2'],\n",
    "#     'C': list(range(1, 15, 3))\n",
    "# }\n",
    "\n",
    "# randomized_search_lr = RandomizedSearchCV(\n",
    "#     model_lr,\n",
    "#     param_lr,\n",
    "#     cv=5,\n",
    "#     scoring='f1',\n",
    "#     n_jobs=-1\n",
    "# ).fit(tf_idf_train, y_train)\n",
    "\n",
    "# print(f'Параметры лучшей модели: {randomized_search_lr.best_params_}')\n",
    "# print(f'Метрика f1 для лучшей модели на тренировочной выборке: {round(randomized_search_lr.best_score_, 3)}')\n"
   ]
  },
  {
   "cell_type": "code",
   "execution_count": 19,
   "metadata": {},
   "outputs": [
    {
     "name": "stdout",
     "output_type": "stream",
     "text": [
      "Fitting 5 folds for each of 8 candidates, totalling 40 fits\n",
      "[CV 1/5] END lr__C=1, lr__solver=newton-cg, tf_idf__min_df=1; total time=  27.6s\n",
      "[CV 2/5] END lr__C=1, lr__solver=newton-cg, tf_idf__min_df=1; total time=  27.4s\n",
      "[CV 3/5] END lr__C=1, lr__solver=newton-cg, tf_idf__min_df=1; total time=  27.3s\n",
      "[CV 4/5] END lr__C=1, lr__solver=newton-cg, tf_idf__min_df=1; total time=  26.6s\n",
      "[CV 5/5] END lr__C=1, lr__solver=newton-cg, tf_idf__min_df=1; total time=  26.7s\n",
      "[CV 1/5] END lr__C=1, lr__solver=newton-cg, tf_idf__min_df=2; total time=  22.0s\n",
      "[CV 2/5] END lr__C=1, lr__solver=newton-cg, tf_idf__min_df=2; total time=  21.5s\n",
      "[CV 3/5] END lr__C=1, lr__solver=newton-cg, tf_idf__min_df=2; total time=  19.9s\n",
      "[CV 4/5] END lr__C=1, lr__solver=newton-cg, tf_idf__min_df=2; total time=  23.1s\n",
      "[CV 5/5] END lr__C=1, lr__solver=newton-cg, tf_idf__min_df=2; total time=  20.7s\n",
      "[CV 1/5] END lr__C=1, lr__solver=liblinear, tf_idf__min_df=1; total time=  14.0s\n",
      "[CV 2/5] END lr__C=1, lr__solver=liblinear, tf_idf__min_df=1; total time=  15.4s\n",
      "[CV 3/5] END lr__C=1, lr__solver=liblinear, tf_idf__min_df=1; total time=  14.1s\n",
      "[CV 4/5] END lr__C=1, lr__solver=liblinear, tf_idf__min_df=1; total time=  15.3s\n",
      "[CV 5/5] END lr__C=1, lr__solver=liblinear, tf_idf__min_df=1; total time=  15.1s\n",
      "[CV 1/5] END lr__C=1, lr__solver=liblinear, tf_idf__min_df=2; total time=  13.4s\n",
      "[CV 2/5] END lr__C=1, lr__solver=liblinear, tf_idf__min_df=2; total time=  14.7s\n",
      "[CV 3/5] END lr__C=1, lr__solver=liblinear, tf_idf__min_df=2; total time=  13.2s\n",
      "[CV 4/5] END lr__C=1, lr__solver=liblinear, tf_idf__min_df=2; total time=  13.3s\n",
      "[CV 5/5] END lr__C=1, lr__solver=liblinear, tf_idf__min_df=2; total time=  13.4s\n",
      "[CV 1/5] END lr__C=10, lr__solver=newton-cg, tf_idf__min_df=1; total time=  40.5s\n",
      "[CV 2/5] END lr__C=10, lr__solver=newton-cg, tf_idf__min_df=1; total time=  43.0s\n",
      "[CV 3/5] END lr__C=10, lr__solver=newton-cg, tf_idf__min_df=1; total time=  40.4s\n",
      "[CV 4/5] END lr__C=10, lr__solver=newton-cg, tf_idf__min_df=1; total time=  39.1s\n",
      "[CV 5/5] END lr__C=10, lr__solver=newton-cg, tf_idf__min_df=1; total time=  41.9s\n",
      "[CV 1/5] END lr__C=10, lr__solver=newton-cg, tf_idf__min_df=2; total time=  31.4s\n",
      "[CV 2/5] END lr__C=10, lr__solver=newton-cg, tf_idf__min_df=2; total time=  31.2s\n",
      "[CV 3/5] END lr__C=10, lr__solver=newton-cg, tf_idf__min_df=2; total time=  30.9s\n",
      "[CV 4/5] END lr__C=10, lr__solver=newton-cg, tf_idf__min_df=2; total time=  32.1s\n",
      "[CV 5/5] END lr__C=10, lr__solver=newton-cg, tf_idf__min_df=2; total time=  30.3s\n",
      "[CV 1/5] END lr__C=10, lr__solver=liblinear, tf_idf__min_df=1; total time=  21.1s\n",
      "[CV 2/5] END lr__C=10, lr__solver=liblinear, tf_idf__min_df=1; total time=  20.9s\n",
      "[CV 3/5] END lr__C=10, lr__solver=liblinear, tf_idf__min_df=1; total time=  21.1s\n",
      "[CV 4/5] END lr__C=10, lr__solver=liblinear, tf_idf__min_df=1; total time=  21.3s\n",
      "[CV 5/5] END lr__C=10, lr__solver=liblinear, tf_idf__min_df=1; total time=  20.8s\n",
      "[CV 1/5] END lr__C=10, lr__solver=liblinear, tf_idf__min_df=2; total time=  19.9s\n",
      "[CV 2/5] END lr__C=10, lr__solver=liblinear, tf_idf__min_df=2; total time=  20.2s\n",
      "[CV 3/5] END lr__C=10, lr__solver=liblinear, tf_idf__min_df=2; total time=  18.8s\n",
      "[CV 4/5] END lr__C=10, lr__solver=liblinear, tf_idf__min_df=2; total time=  18.5s\n",
      "[CV 5/5] END lr__C=10, lr__solver=liblinear, tf_idf__min_df=2; total time=  18.8s\n",
      "Параметры лучшей модели: {'tf_idf__min_df': 1, 'lr__solver': 'newton-cg', 'lr__C': 10}\n",
      "Метрика f1 для лучшей модели на тренировочной выборке: 0.773\n"
     ]
    }
   ],
   "source": [
    "pipeline = Pipeline([\n",
    "    ('tf_idf', TfidfVectorizer(stop_words=STOPWORDS)),\n",
    "    ('lr', LogisticRegression())\n",
    "])\n",
    "\n",
    "param = {\n",
    "    'tf_idf__min_df': range(1, 3, 1),\n",
    "    'lr__C': [1, 10],\n",
    "    'lr__solver': ['newton-cg', 'liblinear']\n",
    "}\n",
    "\n",
    "rand_search_cv_lr = RandomizedSearchCV(pipeline, param, verbose=5, scoring='f1')\n",
    "\n",
    "rand_search_cv_lr.fit(corpus_train, y_train)\n",
    "\n",
    "print(f'Параметры лучшей модели: {rand_search_cv_lr.best_params_}')\n",
    "print(f'Метрика f1 для лучшей модели на тренировочной выборке: {round(rand_search_cv_lr.best_score_, 3)}')\n"
   ]
  },
  {
   "cell_type": "markdown",
   "metadata": {},
   "source": [
    "<font color='blue'><b>Комментарий ревьюера: </b></font> ✔️\\\n",
    "<font color='green'>Здорово что оценка кроссвалидацией.</font>"
   ]
  },
  {
   "cell_type": "markdown",
   "metadata": {},
   "source": [
    "**DecisionTreeClassifier**"
   ]
  },
  {
   "cell_type": "code",
   "execution_count": 24,
   "metadata": {},
   "outputs": [
    {
     "name": "stdout",
     "output_type": "stream",
     "text": [
      "Параметры лучшей модели\n",
      ": {'models__max_depth': 8}\n",
      "Метрика f1 для лучшей модели на тренировочной выборке: 0.583\n"
     ]
    }
   ],
   "source": [
    "# pipe_final_dtc = Pipeline([\n",
    "#     ('models', DecisionTreeClassifier(random_state=RANDOM_STATE))\n",
    "# ])\n",
    "\n",
    "# param_grid_dtc = {\n",
    "#     'models__max_depth': [4, 6, 8]\n",
    "# }\n",
    "\n",
    "# grid_search_cv_dtc = GridSearchCV(\n",
    "#     pipe_final_dtc,\n",
    "#     param_grid_dtc,\n",
    "#     cv=5,\n",
    "#     scoring='f1'\n",
    "# ).fit(tf_idf_train, y_train)\n",
    "\n",
    "# print(f'Параметры лучшей модели\\n: {grid_search_cv_dtc.best_params_}')\n",
    "# print(f'Метрика f1 для лучшей модели на тренировочной выборке: {round(grid_search_cv_dtc.best_score_, 3)}')\n"
   ]
  },
  {
   "cell_type": "code",
   "execution_count": 20,
   "metadata": {},
   "outputs": [
    {
     "name": "stdout",
     "output_type": "stream",
     "text": [
      "Параметры лучшей модели: {'dtc__max_depth': 8, 'tf_idf__min_df': 1}\n",
      "Метрика f1 для лучшей модели на тренировочной выборке: 0.584\n"
     ]
    }
   ],
   "source": [
    "pipeline_dtc = Pipeline([\n",
    "    ('tf_idf', TfidfVectorizer(stop_words=STOPWORDS)),\n",
    "    ('dtc', DecisionTreeClassifier())\n",
    "])\n",
    "\n",
    "param_dtc = {\n",
    "    'tf_idf__min_df': range(1, 3, 1),\n",
    "    'dtc__max_depth': [4, 6, 8]\n",
    "}\n",
    "\n",
    "grid_cv_dtc = GridSearchCV(pipeline_dtc, param_dtc, cv=5, scoring='f1')\n",
    "\n",
    "grid_cv_dtc.fit(corpus_train, y_train)\n",
    "\n",
    "print(f'Параметры лучшей модели: {grid_cv_dtc.best_params_}')\n",
    "print(f'Метрика f1 для лучшей модели на тренировочной выборке: {round(grid_cv_dtc.best_score_, 3)}')\n"
   ]
  },
  {
   "cell_type": "markdown",
   "metadata": {},
   "source": [
    "<span style=\"color: blue; font-weight: bold\">Комментарий ревьюера : </span> ✔️\\\n",
    "<span style=\"color: green\"> 👍</span>"
   ]
  },
  {
   "cell_type": "markdown",
   "metadata": {},
   "source": [
    "**LinearSVC**"
   ]
  },
  {
   "cell_type": "code",
   "execution_count": 25,
   "metadata": {
    "scrolled": true
   },
   "outputs": [
    {
     "name": "stdout",
     "output_type": "stream",
     "text": [
      "Параметры лучшей модели: {'model': LinearSVC(C=15, random_state=42), 'model__C': 15}\n",
      "Метрика f1 для лучшей модели на тренировочной выборке: 0.734\n"
     ]
    }
   ],
   "source": [
    "# pipe_final_lsvc = Pipeline([\n",
    "#     ('model', LinearSVC(random_state=RANDOM_STATE))\n",
    "# ])\n",
    "\n",
    "# param_grid_lsvc = [{\n",
    "#     'model': [LinearSVC(random_state=RANDOM_STATE)],\n",
    "#     'model__C': list(range(15, 20, 1))\n",
    "# }]\n",
    "\n",
    "# grid_search_lsvc = GridSearchCV(\n",
    "#     pipe_final_lsvc,\n",
    "#     param_grid_lsvc,\n",
    "#     cv=5,\n",
    "#     scoring='f1',\n",
    "#     n_jobs=-1\n",
    "# ).fit(tf_idf_train, y_train)\n",
    "\n",
    "# print(f'Параметры лучшей модели: {grid_search_lsvc.best_params_}')\n",
    "# print(f'Метрика f1 для лучшей модели на тренировочной выборке: {round(grid_search_lsvc.best_score_, 3)}')\n"
   ]
  },
  {
   "cell_type": "code",
   "execution_count": 21,
   "metadata": {},
   "outputs": [
    {
     "name": "stdout",
     "output_type": "stream",
     "text": [
      "Параметры лучшей модели: {'lsvc': LinearSVC(C=15, random_state=42), 'lsvc__C': 15, 'tf_idf__min_df': 1}\n",
      "Метрика f1 для лучшей модели на тренировочной выборке: 0.736\n"
     ]
    }
   ],
   "source": [
    "pipeline_lsvc = Pipeline([\n",
    "    ('tf_idf', TfidfVectorizer(stop_words=STOPWORDS)),\n",
    "    ('lsvc', LinearSVC())\n",
    "])\n",
    "\n",
    "param_lsvc = {\n",
    "    'tf_idf__min_df': range(1, 3, 1),\n",
    "    'lsvc__C': list(range(15, 20, 1)),\n",
    "    'lsvc': [LinearSVC(random_state=RANDOM_STATE)]\n",
    "}\n",
    "\n",
    "grid_cv_lsvc = GridSearchCV(pipeline_lsvc, param_lsvc, cv=5, scoring='f1', n_jobs=-1)\n",
    "\n",
    "grid_cv_lsvc.fit(corpus_train, y_train)\n",
    "\n",
    "print(f'Параметры лучшей модели: {grid_cv_lsvc.best_params_}')\n",
    "print(f'Метрика f1 для лучшей модели на тренировочной выборке: {round(grid_cv_lsvc.best_score_, 3)}')\n"
   ]
  },
  {
   "cell_type": "markdown",
   "metadata": {},
   "source": [
    "<span style=\"color: blue; font-weight: bold\">Комментарий ревьюера : </span> ✔️\\\n",
    "<span style=\"color: green\"> 👍</span>"
   ]
  },
  {
   "cell_type": "markdown",
   "metadata": {},
   "source": [
    "**Тестовая метрика**"
   ]
  },
  {
   "cell_type": "markdown",
   "metadata": {},
   "source": [
    "По результатам кросс-валидации и поиска лучшей модели была выбрана модель логистической регрессии. Рассчитаем с помощью неёё метрику на тестовой выборке."
   ]
  },
  {
   "cell_type": "code",
   "execution_count": 22,
   "metadata": {},
   "outputs": [
    {
     "name": "stdout",
     "output_type": "stream",
     "text": [
      "Метрика f1 на тестовой выборке для логистической регрессии:       0.781\n"
     ]
    }
   ],
   "source": [
    "predict_lr = rand_search_cv_lr.best_estimator_.predict(corpus_test)\n",
    "print(f'Метрика f1 на тестовой выборке для логистической регрессии: \\\n",
    "      {round(f1_score(y_test, predict_lr), 3)}')"
   ]
  },
  {
   "cell_type": "markdown",
   "metadata": {},
   "source": [
    "<font color='blue'><b>Комментарий ревьюера: </b></font> ✔️\\\n",
    "<font color='green'>Тестирование проведено верно.</font>"
   ]
  },
  {
   "cell_type": "markdown",
   "metadata": {},
   "source": [
    "**Вывод:**\n",
    "\n",
    "\n",
    "- Обучили 3 модели:\n",
    "    - `LogisticRegression`: метрика f1 для лучшей модели на тренировочной выборке: 0.773\n",
    "    - `DecisionTreeClassifier` : метрика f1 для лучшей модели на тренировочной выборке: 0.583\n",
    "    - `LinearSVC`: метрика f1 для лучшей модели на тренировочной выборке: 0.734\n",
    "\n",
    "- Тестовая метрика лучшей модели:\n",
    "     - `LogisticRegression`: Метрика f1 на тестовой выборке для логистической регрессии:  0.787"
   ]
  },
  {
   "cell_type": "markdown",
   "metadata": {},
   "source": [
    "<span style=\"color: blue; font-weight: bold\">Комментарий ревьюера : </span> ✔️\\\n",
    "<span style=\"color: green\"> 👍</span>"
   ]
  },
  {
   "cell_type": "markdown",
   "metadata": {},
   "source": [
    "## Выводы"
   ]
  },
  {
   "cell_type": "markdown",
   "metadata": {},
   "source": [
    "- данные загрузились корректно\n",
    "- столбец `Unnamed: 0` не несет никакой информации, его стоит убрать. Возможно это старый индекс от которого забыли избавиться\n",
    "- по общей информации видно, что пропуски отсутствуют\n",
    "- типы в датасете отображаются верно\n",
    "- в исходной выборке наблюдается несбалансированность классов: \n",
    "    - позитивных - 89.8%\n",
    "    - негативных - 10.2%\n",
    "- выполнили лемматизацию текста\n",
    "- устраним ненужные символы\n",
    "- разделили на тренировочную и тестовую выборки\n",
    "- выполнена токенизация столбца с подготовленным текстом\n",
    "\n",
    "- Обучили 3 модели:\n",
    "    - `LogisticRegression`: метрика f1 для лучшей модели на тренировочной выборке: 0.773\n",
    "    - `DecisionTreeClassifier` : метрика f1 для лучшей модели на тренировочной выборке: 0.583\n",
    "    - `LinearSVC`: метрика f1 для лучшей модели на тренировочной выборке: 0.734\n",
    "\n",
    "- Тестовая метрика лучшей модели:\n",
    "     - `LogisticRegression`: Метрика f1 на тестовой выборке для логистической регрессии:  0.783\n",
    "     \n",
    "\n",
    "**Рекомендация: для интернет-магазин «Викишоп» подойдет модель `LogisticRegression` со значернием метрики `F1 = 0.773` которая удовлетворяет условию поставленной задачи. Она поможет найти токсичные коментарии, чтобы отправить их на модерацию.**\n"
   ]
  },
  {
   "cell_type": "markdown",
   "metadata": {},
   "source": [
    "<font color='blue'><b>Комментарий ревьюера: </b></font> ✔️\\\n",
    "<font color='green'> Очень приятно видеть вывод в конце проекта!\\\n",
    "Приведены ответы на главные вопросы проекта.</font>"
   ]
  },
  {
   "cell_type": "markdown",
   "metadata": {},
   "source": [
    "<font color='blue'><b>Итоговый комментарий ревьюера</b></font>\\\n",
    "<font color='green'>Армен, хороший проект получился!\n",
    "Большое спасибо за проделанную работу. Видно, что приложено много усилий.\n",
    "</font>\n",
    "\n",
    "<font color='blue'>Что нужно исправить:</font>\n",
    "<ul><font color='red'>Поправь векторизацию при кросс-валидации.</font></ul>\n",
    "\n",
    "<font color='blue'><b>Жду новую версию проекта :)</b></font>"
   ]
  },
  {
   "cell_type": "markdown",
   "metadata": {},
   "source": [
    "<font color='blue'><b>Итоговый комментарий ревьюера 2</b></font>\\\n",
    "<font color='green'> Армен, проект принят! \\\n",
    "Все этапы пройдены. Все рекомендации учтены.\\\n",
    "Надеюсь, тебе понравился процесс выполнения и результат.</font> \\\n",
    "<font color='blue'><b>Спасибо, удачи в освоении профессии!</b></font>"
   ]
  },
  {
   "cell_type": "markdown",
   "metadata": {},
   "source": [
    "<font color='green'><b>Полезные (и просто интересные) материалы:</b> \\\n",
    "Для работы с текстами используют и другие подходы. Например, сейчас активно используются RNN (LSTM) и трансформеры (BERT и другие с улицы Сезам, например, ELMO). НО! Они не являются панацеей, не всегда они нужны, так как и TF-IDF или Word2Vec + модели из классического ML тоже могут справляться. \\\n",
    "BERT тяжелый, существует много его вариаций для разных задач, есть готовые модели, есть надстройки над библиотекой transformers. Если, обучать BERT на GPU (можно в Google Colab или Kaggle), то должно быть побыстрее.\\\n",
    "https://huggingface.co/transformers/model_doc/bert.html \\\n",
    "https://colah.github.io/posts/2015-08-Understanding-LSTMs/ - Про LSTM \\\n",
    "https://web.stanford.edu/~jurafsky/slp3/10.pdf - про энкодер-декодер модели, этеншены\\\n",
    "https://pytorch.org/tutorials/beginner/transformer_tutorial.html - официальный гайд\n",
    "по трансформеру от создателей pytorch\\\n",
    "Библиотеки: allennlp, fairseq, transformers, tensorflow-text — множествореализованных\n",
    "методов для трансформеров методов NLP \\\n",
    "Word2Vec https://radimrehurek.com/gensim/models/word2vec.html\n",
    "\n",
    "<font color='green'>Пример BERT с GPU:\n",
    "```python\n",
    "%%time\n",
    "from tqdm import notebook\n",
    "batch_size = 2 # для примера возьмем такой батч, где будет всего две строки датасета\n",
    "embeddings = []\n",
    "model.cuda()   # закидываем модель на GPU\n",
    "for i in notebook.tqdm(range(input_ids.shape[0] // batch_size)):\n",
    "        batch = torch.LongTensor(input_ids[batch_size*i:batch_size*(i+1)]).cuda() # закидываем тензор на GPU\n",
    "        attention_mask_batch = torch.LongTensor(attention_mask[batch_size*i:batch_size*(i+1)]).cuda()\n",
    "\n",
    "        with torch.no_grad():\n",
    "            batch_embeddings = model(batch, attention_mask=attention_mask_batch)\n",
    "\n",
    "        embeddings.append(batch_embeddings[0][:,0,:].cpu().numpy()) # перевод обратно на проц, чтобы в нумпай кинуть\n",
    "        del batch\n",
    "        del attention_mask_batch\n",
    "        del batch_embeddings\n",
    "\n",
    "features = np.concatenate(embeddings)\n",
    "```\n",
    "Можно сделать предварительную проверку на наличие GPU.\\\n",
    "Например, так: ```device = torch.device(\"cuda:0\") if torch.cuda.is_available() else torch.device(\"cpu\")```\\\n",
    "Тогда вместо .cuda() нужно писать .to(device)\n",
    "\n",
    "Если понравилась работа с текстами, то можешь посмотреть очень интересный (но очень-очень сложный) курс лекций: https://github.com/yandexdataschool/nlp_course .\n",
    "\n",
    "\n",
    "NLP от Samsung https://stepik.org/course/54098/promo \\\n",
    "NLP от Huawei https://ods.ai/tracks/nlp-course-spring-2024 \\\n",
    "Transformers от Hugging Face https://huggingface.co/learn/nlp-course/ru/chapter1/1\n",
    "</font>"
   ]
  },
  {
   "cell_type": "markdown",
   "metadata": {},
   "source": [
    "## Чек-лист проверки"
   ]
  },
  {
   "cell_type": "markdown",
   "metadata": {},
   "source": [
    "- [x]  Jupyter Notebook открыт\n",
    "- [x]  Весь код выполняется без ошибок\n",
    "- [x]  Ячейки с кодом расположены в порядке исполнения\n",
    "- [x]  Данные загружены и подготовлены\n",
    "- [x]  Модели обучены\n",
    "- [x]  Значение метрики *F1* не меньше 0.75\n",
    "- [x]  Выводы написаны"
   ]
  }
 ],
 "metadata": {
  "ExecuteTimeLog": [
   {
    "duration": 1502,
    "start_time": "2024-08-23T16:36:57.665Z"
   },
   {
    "duration": 4207,
    "start_time": "2024-08-23T16:37:23.326Z"
   },
   {
    "duration": 558,
    "start_time": "2024-08-23T16:37:31.206Z"
   },
   {
    "duration": 3,
    "start_time": "2024-08-23T16:38:00.041Z"
   },
   {
    "duration": 3762,
    "start_time": "2024-08-23T16:38:20.757Z"
   },
   {
    "duration": 10,
    "start_time": "2024-08-23T16:39:14.232Z"
   },
   {
    "duration": 34,
    "start_time": "2024-08-23T16:39:20.461Z"
   },
   {
    "duration": 10,
    "start_time": "2024-08-23T16:40:42.756Z"
   },
   {
    "duration": 234,
    "start_time": "2024-08-23T16:40:45.173Z"
   },
   {
    "duration": 152,
    "start_time": "2024-08-23T16:41:56.788Z"
   },
   {
    "duration": 139,
    "start_time": "2024-08-23T16:42:11.725Z"
   },
   {
    "duration": 2329,
    "start_time": "2024-08-23T16:43:39.568Z"
   },
   {
    "duration": 10313,
    "start_time": "2024-08-23T16:44:27.684Z"
   },
   {
    "duration": 8,
    "start_time": "2024-08-23T16:44:42.939Z"
   },
   {
    "duration": 1352289,
    "start_time": "2024-08-23T16:45:22.991Z"
   },
   {
    "duration": 8,
    "start_time": "2024-08-23T17:08:03.950Z"
   },
   {
    "duration": 59,
    "start_time": "2024-08-23T17:09:04.178Z"
   },
   {
    "duration": 7391,
    "start_time": "2024-08-23T17:09:15.819Z"
   },
   {
    "duration": 798361,
    "start_time": "2024-08-23T17:11:26.667Z"
   },
   {
    "duration": 156249,
    "start_time": "2024-08-23T17:25:14.683Z"
   },
   {
    "duration": 312703,
    "start_time": "2024-08-23T17:29:34.645Z"
   },
   {
    "duration": 215105,
    "start_time": "2024-08-23T17:35:22.918Z"
   },
   {
    "duration": 7734,
    "start_time": "2024-08-23T17:39:24.059Z"
   },
   {
    "duration": 9,
    "start_time": "2024-08-23T17:39:35.372Z"
   },
   {
    "duration": 89803,
    "start_time": "2024-08-23T17:40:24.221Z"
   },
   {
    "duration": 2592,
    "start_time": "2024-08-23T17:44:59.033Z"
   },
   {
    "duration": 3,
    "start_time": "2024-08-23T17:45:01.628Z"
   },
   {
    "duration": 1500,
    "start_time": "2024-08-23T17:45:01.633Z"
   },
   {
    "duration": 4,
    "start_time": "2024-08-23T17:45:03.135Z"
   },
   {
    "duration": 1125,
    "start_time": "2024-08-23T17:45:03.141Z"
   },
   {
    "duration": 12,
    "start_time": "2024-08-23T17:45:04.267Z"
   },
   {
    "duration": 53,
    "start_time": "2024-08-23T17:45:04.280Z"
   },
   {
    "duration": 14,
    "start_time": "2024-08-23T17:45:04.335Z"
   },
   {
    "duration": 322,
    "start_time": "2024-08-23T17:45:04.351Z"
   },
   {
    "duration": 164,
    "start_time": "2024-08-23T17:45:04.676Z"
   },
   {
    "duration": 206,
    "start_time": "2024-08-23T17:45:04.841Z"
   },
   {
    "duration": 341,
    "start_time": "2024-08-23T17:45:05.048Z"
   },
   {
    "duration": 9498,
    "start_time": "2024-08-23T17:45:05.391Z"
   },
   {
    "duration": 13,
    "start_time": "2024-08-23T17:45:14.890Z"
   },
   {
    "duration": 1470134,
    "start_time": "2024-08-23T17:45:14.905Z"
   },
   {
    "duration": 11,
    "start_time": "2024-08-23T18:09:45.042Z"
   },
   {
    "duration": 105,
    "start_time": "2024-08-23T18:09:45.054Z"
   },
   {
    "duration": 8256,
    "start_time": "2024-08-23T18:09:45.160Z"
   },
   {
    "duration": 1146661,
    "start_time": "2024-08-23T18:09:53.418Z"
   },
   {
    "duration": 0,
    "start_time": "2024-08-23T18:29:00.080Z"
   },
   {
    "duration": 0,
    "start_time": "2024-08-23T18:29:00.082Z"
   },
   {
    "duration": 0,
    "start_time": "2024-08-23T18:29:00.083Z"
   },
   {
    "duration": 4,
    "start_time": "2024-08-23T18:29:15.203Z"
   },
   {
    "duration": 2816,
    "start_time": "2024-08-23T18:43:16.114Z"
   },
   {
    "duration": 3,
    "start_time": "2024-08-23T18:43:18.932Z"
   },
   {
    "duration": 1507,
    "start_time": "2024-08-23T18:43:18.937Z"
   },
   {
    "duration": 3,
    "start_time": "2024-08-23T18:43:20.446Z"
   },
   {
    "duration": 1069,
    "start_time": "2024-08-23T18:43:20.451Z"
   },
   {
    "duration": 14,
    "start_time": "2024-08-23T18:43:21.522Z"
   },
   {
    "duration": 86,
    "start_time": "2024-08-23T18:43:21.537Z"
   },
   {
    "duration": 9,
    "start_time": "2024-08-23T18:43:21.625Z"
   },
   {
    "duration": 247,
    "start_time": "2024-08-23T18:43:21.635Z"
   },
   {
    "duration": 172,
    "start_time": "2024-08-23T18:43:21.884Z"
   },
   {
    "duration": 219,
    "start_time": "2024-08-23T18:43:22.058Z"
   },
   {
    "duration": 354,
    "start_time": "2024-08-23T18:43:22.278Z"
   },
   {
    "duration": 7706,
    "start_time": "2024-08-23T18:43:22.634Z"
   },
   {
    "duration": 9,
    "start_time": "2024-08-23T18:43:30.341Z"
   },
   {
    "duration": 1369254,
    "start_time": "2024-08-23T18:43:30.352Z"
   },
   {
    "duration": 9,
    "start_time": "2024-08-23T19:06:19.608Z"
   },
   {
    "duration": 99,
    "start_time": "2024-08-23T19:06:19.619Z"
   },
   {
    "duration": 7083,
    "start_time": "2024-08-23T19:06:19.719Z"
   },
   {
    "duration": 4,
    "start_time": "2024-08-23T19:06:26.804Z"
   },
   {
    "duration": 421820,
    "start_time": "2024-08-23T19:06:26.809Z"
   },
   {
    "duration": 3,
    "start_time": "2024-08-23T19:13:28.631Z"
   },
   {
    "duration": 48,
    "start_time": "2024-08-23T19:13:28.636Z"
   },
   {
    "duration": 4,
    "start_time": "2024-08-23T19:13:28.686Z"
   },
   {
    "duration": 277576,
    "start_time": "2024-08-23T19:25:17.915Z"
   },
   {
    "duration": 207601,
    "start_time": "2024-08-23T19:30:21.116Z"
   },
   {
    "duration": 12,
    "start_time": "2024-08-23T19:34:45.689Z"
   },
   {
    "duration": 3962,
    "start_time": "2024-08-25T17:55:37.862Z"
   },
   {
    "duration": 1724,
    "start_time": "2024-08-25T17:55:44.568Z"
   },
   {
    "duration": 3,
    "start_time": "2024-08-25T17:56:02.249Z"
   },
   {
    "duration": 3690,
    "start_time": "2024-08-25T17:56:03.130Z"
   },
   {
    "duration": 10,
    "start_time": "2024-08-25T17:56:10.822Z"
   },
   {
    "duration": 32,
    "start_time": "2024-08-25T17:56:14.248Z"
   },
   {
    "duration": 10,
    "start_time": "2024-08-25T17:56:17.600Z"
   },
   {
    "duration": 207,
    "start_time": "2024-08-25T17:56:20.661Z"
   },
   {
    "duration": 120,
    "start_time": "2024-08-25T17:56:23.856Z"
   },
   {
    "duration": 97,
    "start_time": "2024-08-25T17:56:27.048Z"
   },
   {
    "duration": 1371,
    "start_time": "2024-08-25T17:56:32.837Z"
   },
   {
    "duration": 5890,
    "start_time": "2024-08-25T17:56:41.672Z"
   },
   {
    "duration": 7,
    "start_time": "2024-08-25T17:56:59.921Z"
   },
   {
    "duration": 1078719,
    "start_time": "2024-08-25T17:57:07.916Z"
   },
   {
    "duration": 10,
    "start_time": "2024-08-25T18:15:40.223Z"
   },
   {
    "duration": 98,
    "start_time": "2024-08-25T18:15:46.695Z"
   },
   {
    "duration": 4,
    "start_time": "2024-08-25T18:15:50.477Z"
   },
   {
    "duration": 6427,
    "start_time": "2024-08-25T18:15:55.849Z"
   },
   {
    "duration": 994097,
    "start_time": "2024-08-25T18:16:18.204Z"
   },
   {
    "duration": 256515,
    "start_time": "2024-08-25T18:33:35.397Z"
   },
   {
    "duration": 563059,
    "start_time": "2024-08-25T18:38:12.184Z"
   },
   {
    "duration": 636,
    "start_time": "2024-08-25T18:49:02.815Z"
   }
  ],
  "kernelspec": {
   "display_name": "Python 3 (ipykernel)",
   "language": "python",
   "name": "python3"
  },
  "language_info": {
   "codemirror_mode": {
    "name": "ipython",
    "version": 3
   },
   "file_extension": ".py",
   "mimetype": "text/x-python",
   "name": "python",
   "nbconvert_exporter": "python",
   "pygments_lexer": "ipython3",
   "version": "3.9.12"
  },
  "toc": {
   "base_numbering": 1,
   "nav_menu": {},
   "number_sections": true,
   "sideBar": true,
   "skip_h1_title": true,
   "title_cell": "Содержание",
   "title_sidebar": "Contents",
   "toc_cell": true,
   "toc_position": {
    "height": "calc(100% - 180px)",
    "left": "10px",
    "top": "150px",
    "width": "302.391px"
   },
   "toc_section_display": true,
   "toc_window_display": false
  }
 },
 "nbformat": 4,
 "nbformat_minor": 2
}
