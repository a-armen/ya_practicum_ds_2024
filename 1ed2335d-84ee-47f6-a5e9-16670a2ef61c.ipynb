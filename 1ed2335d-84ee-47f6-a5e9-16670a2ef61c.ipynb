{
 "cells": [
  {
   "cell_type": "markdown",
   "metadata": {},
   "source": [
    "<div class=\"alert alert-info\">\n",
    "Привет, Армен! Меня зовут Светлана Чих и я буду проверять твой проект. Моя основная цель — не указать на совершенные тобою ошибки, а поделиться своим опытом и помочь тебе. Предлагаю общаться на «ты». Но если это не удобно - дай знать, и мы перейдем на «вы».\n",
    "\n",
    "<div class=\"alert alert-success\">\n",
    "<b>👍 Успех:</b> Зелёным цветом отмечены удачные и элегантные решения, на которые можно опираться в будущих проектах.\n",
    "</div>\n",
    "<div class=\"alert alert-warning\">\n",
    "<b>🤔 Рекомендация:</b> Жёлтым цветом выделено то, что в следующий раз можно сделать по-другому. Ты можешь учесть эти комментарии при выполнении будущих заданий или доработать проект сейчас (однако это не обязательно).\n",
    "</div>\n",
    "<div class=\"alert alert-danger\">\n",
    "<b>😔 Необходимо исправить:</b> Красным цветом выделены комментарии, без исправления которых, я не смогу принять проект :(\n",
    "</div>\n",
    "<div class=\"alert alert-info\">\n",
    "<b>👂 Совет:</b> Какие-то дополнительные материалы\n",
    "</div>\n",
    "Давай работать над проектом в диалоге: если ты что-то меняешь в проекте по моим рекомендациям — пиши об этом.\n",
    "Мне будет легче отследить изменения, если ты выделишь свои комментарии:\n",
    "<div class=\"alert alert-info\"> <b>🎓 Комментарий студента:</b> Например, вот так.</div>\n",
    "Пожалуйста, не перемещай, не изменяй и не удаляй мои комментарии. Всё это поможет выполнить повторную проверку твоего проекта быстрее.\n",
    " </div>"
   ]
  },
  {
   "cell_type": "markdown",
   "metadata": {
    "id": "-VFbjcb3Awb7"
   },
   "source": [
    "# Исследование объявлений о продаже квартир\n",
    "\n",
    "В вашем распоряжении данные сервиса Яндекс Недвижимость — архив объявлений о продаже квартир в Санкт-Петербурге и соседних населённых пунктах за несколько лет. Вам нужно научиться определять рыночную стоимость объектов недвижимости. Для этого проведите исследовательский анализ данных и установите параметры, влияющие на цену объектов. Это позволит построить автоматизированную систему: она отследит аномалии и мошенническую деятельность.\n",
    "\n",
    "По каждой квартире на продажу доступны два вида данных. Первые вписаны пользователем, вторые — получены автоматически на основе картографических данных. Например, расстояние до центра, аэропорта и других объектов — эти данные автоматически получены из геосервисов. Количество парков и водоёмов также заполняется без участия пользователя."
   ]
  },
  {
   "cell_type": "markdown",
   "metadata": {
    "id": "aeFLH07FAwb9"
   },
   "source": [
    "### Откройте файл с данными и изучите общую информацию"
   ]
  },
  {
   "cell_type": "code",
   "execution_count": 56,
   "metadata": {
    "id": "7MZxY65pAwb9"
   },
   "outputs": [],
   "source": [
    "import pandas as pd\n",
    "import matplotlib.pyplot as plt\n",
    "\n",
    "try:\n",
    "    data = pd.read_csv('/datasets/real_estate_data.csv', sep='\\t')\n",
    "except:\n",
    "    data = pd.read_csv('real_estate_data.csv', sep='\\t')\n"
   ]
  },
  {
   "cell_type": "markdown",
   "metadata": {},
   "source": [
    "<div class=\"alert alert-success\">\n",
    "<b>👍 Успех:</b> Импортированы нужные библиотеки, датасет загружен\n",
    "</div>"
   ]
  },
  {
   "cell_type": "markdown",
   "metadata": {},
   "source": [
    "**Общая информация о полученном датафрейме.**"
   ]
  },
  {
   "cell_type": "code",
   "execution_count": 57,
   "metadata": {},
   "outputs": [
    {
     "data": {
      "text/html": [
       "<div>\n",
       "<style scoped>\n",
       "    .dataframe tbody tr th:only-of-type {\n",
       "        vertical-align: middle;\n",
       "    }\n",
       "\n",
       "    .dataframe tbody tr th {\n",
       "        vertical-align: top;\n",
       "    }\n",
       "\n",
       "    .dataframe thead th {\n",
       "        text-align: right;\n",
       "    }\n",
       "</style>\n",
       "<table border=\"1\" class=\"dataframe\">\n",
       "  <thead>\n",
       "    <tr style=\"text-align: right;\">\n",
       "      <th></th>\n",
       "      <th>total_images</th>\n",
       "      <th>last_price</th>\n",
       "      <th>total_area</th>\n",
       "      <th>first_day_exposition</th>\n",
       "      <th>rooms</th>\n",
       "      <th>ceiling_height</th>\n",
       "      <th>floors_total</th>\n",
       "      <th>living_area</th>\n",
       "      <th>floor</th>\n",
       "      <th>is_apartment</th>\n",
       "      <th>...</th>\n",
       "      <th>kitchen_area</th>\n",
       "      <th>balcony</th>\n",
       "      <th>locality_name</th>\n",
       "      <th>airports_nearest</th>\n",
       "      <th>cityCenters_nearest</th>\n",
       "      <th>parks_around3000</th>\n",
       "      <th>parks_nearest</th>\n",
       "      <th>ponds_around3000</th>\n",
       "      <th>ponds_nearest</th>\n",
       "      <th>days_exposition</th>\n",
       "    </tr>\n",
       "  </thead>\n",
       "  <tbody>\n",
       "    <tr>\n",
       "      <th>0</th>\n",
       "      <td>20</td>\n",
       "      <td>13000000.0</td>\n",
       "      <td>108.0</td>\n",
       "      <td>2019-03-07T00:00:00</td>\n",
       "      <td>3</td>\n",
       "      <td>2.70</td>\n",
       "      <td>16.0</td>\n",
       "      <td>51.0</td>\n",
       "      <td>8</td>\n",
       "      <td>NaN</td>\n",
       "      <td>...</td>\n",
       "      <td>25.0</td>\n",
       "      <td>NaN</td>\n",
       "      <td>Санкт-Петербург</td>\n",
       "      <td>18863.0</td>\n",
       "      <td>16028.0</td>\n",
       "      <td>1.0</td>\n",
       "      <td>482.0</td>\n",
       "      <td>2.0</td>\n",
       "      <td>755.0</td>\n",
       "      <td>NaN</td>\n",
       "    </tr>\n",
       "    <tr>\n",
       "      <th>1</th>\n",
       "      <td>7</td>\n",
       "      <td>3350000.0</td>\n",
       "      <td>40.4</td>\n",
       "      <td>2018-12-04T00:00:00</td>\n",
       "      <td>1</td>\n",
       "      <td>NaN</td>\n",
       "      <td>11.0</td>\n",
       "      <td>18.6</td>\n",
       "      <td>1</td>\n",
       "      <td>NaN</td>\n",
       "      <td>...</td>\n",
       "      <td>11.0</td>\n",
       "      <td>2.0</td>\n",
       "      <td>посёлок Шушары</td>\n",
       "      <td>12817.0</td>\n",
       "      <td>18603.0</td>\n",
       "      <td>0.0</td>\n",
       "      <td>NaN</td>\n",
       "      <td>0.0</td>\n",
       "      <td>NaN</td>\n",
       "      <td>81.0</td>\n",
       "    </tr>\n",
       "    <tr>\n",
       "      <th>2</th>\n",
       "      <td>10</td>\n",
       "      <td>5196000.0</td>\n",
       "      <td>56.0</td>\n",
       "      <td>2015-08-20T00:00:00</td>\n",
       "      <td>2</td>\n",
       "      <td>NaN</td>\n",
       "      <td>5.0</td>\n",
       "      <td>34.3</td>\n",
       "      <td>4</td>\n",
       "      <td>NaN</td>\n",
       "      <td>...</td>\n",
       "      <td>8.3</td>\n",
       "      <td>0.0</td>\n",
       "      <td>Санкт-Петербург</td>\n",
       "      <td>21741.0</td>\n",
       "      <td>13933.0</td>\n",
       "      <td>1.0</td>\n",
       "      <td>90.0</td>\n",
       "      <td>2.0</td>\n",
       "      <td>574.0</td>\n",
       "      <td>558.0</td>\n",
       "    </tr>\n",
       "    <tr>\n",
       "      <th>3</th>\n",
       "      <td>0</td>\n",
       "      <td>64900000.0</td>\n",
       "      <td>159.0</td>\n",
       "      <td>2015-07-24T00:00:00</td>\n",
       "      <td>3</td>\n",
       "      <td>NaN</td>\n",
       "      <td>14.0</td>\n",
       "      <td>NaN</td>\n",
       "      <td>9</td>\n",
       "      <td>NaN</td>\n",
       "      <td>...</td>\n",
       "      <td>NaN</td>\n",
       "      <td>0.0</td>\n",
       "      <td>Санкт-Петербург</td>\n",
       "      <td>28098.0</td>\n",
       "      <td>6800.0</td>\n",
       "      <td>2.0</td>\n",
       "      <td>84.0</td>\n",
       "      <td>3.0</td>\n",
       "      <td>234.0</td>\n",
       "      <td>424.0</td>\n",
       "    </tr>\n",
       "    <tr>\n",
       "      <th>4</th>\n",
       "      <td>2</td>\n",
       "      <td>10000000.0</td>\n",
       "      <td>100.0</td>\n",
       "      <td>2018-06-19T00:00:00</td>\n",
       "      <td>2</td>\n",
       "      <td>3.03</td>\n",
       "      <td>14.0</td>\n",
       "      <td>32.0</td>\n",
       "      <td>13</td>\n",
       "      <td>NaN</td>\n",
       "      <td>...</td>\n",
       "      <td>41.0</td>\n",
       "      <td>NaN</td>\n",
       "      <td>Санкт-Петербург</td>\n",
       "      <td>31856.0</td>\n",
       "      <td>8098.0</td>\n",
       "      <td>2.0</td>\n",
       "      <td>112.0</td>\n",
       "      <td>1.0</td>\n",
       "      <td>48.0</td>\n",
       "      <td>121.0</td>\n",
       "    </tr>\n",
       "  </tbody>\n",
       "</table>\n",
       "<p>5 rows × 22 columns</p>\n",
       "</div>"
      ],
      "text/plain": [
       "   total_images  last_price  total_area first_day_exposition  rooms  \\\n",
       "0            20  13000000.0       108.0  2019-03-07T00:00:00      3   \n",
       "1             7   3350000.0        40.4  2018-12-04T00:00:00      1   \n",
       "2            10   5196000.0        56.0  2015-08-20T00:00:00      2   \n",
       "3             0  64900000.0       159.0  2015-07-24T00:00:00      3   \n",
       "4             2  10000000.0       100.0  2018-06-19T00:00:00      2   \n",
       "\n",
       "   ceiling_height  floors_total  living_area  floor is_apartment  ...  \\\n",
       "0            2.70          16.0         51.0      8          NaN  ...   \n",
       "1             NaN          11.0         18.6      1          NaN  ...   \n",
       "2             NaN           5.0         34.3      4          NaN  ...   \n",
       "3             NaN          14.0          NaN      9          NaN  ...   \n",
       "4            3.03          14.0         32.0     13          NaN  ...   \n",
       "\n",
       "   kitchen_area  balcony    locality_name  airports_nearest  \\\n",
       "0          25.0      NaN  Санкт-Петербург           18863.0   \n",
       "1          11.0      2.0   посёлок Шушары           12817.0   \n",
       "2           8.3      0.0  Санкт-Петербург           21741.0   \n",
       "3           NaN      0.0  Санкт-Петербург           28098.0   \n",
       "4          41.0      NaN  Санкт-Петербург           31856.0   \n",
       "\n",
       "  cityCenters_nearest  parks_around3000  parks_nearest  ponds_around3000  \\\n",
       "0             16028.0               1.0          482.0               2.0   \n",
       "1             18603.0               0.0            NaN               0.0   \n",
       "2             13933.0               1.0           90.0               2.0   \n",
       "3              6800.0               2.0           84.0               3.0   \n",
       "4              8098.0               2.0          112.0               1.0   \n",
       "\n",
       "   ponds_nearest  days_exposition  \n",
       "0          755.0              NaN  \n",
       "1            NaN             81.0  \n",
       "2          574.0            558.0  \n",
       "3          234.0            424.0  \n",
       "4           48.0            121.0  \n",
       "\n",
       "[5 rows x 22 columns]"
      ]
     },
     "execution_count": 57,
     "metadata": {},
     "output_type": "execute_result"
    }
   ],
   "source": [
    "# посмотрим первые 10 строк датасета\n",
    "data.head()"
   ]
  },
  {
   "cell_type": "code",
   "execution_count": 58,
   "metadata": {},
   "outputs": [
    {
     "name": "stdout",
     "output_type": "stream",
     "text": [
      "<class 'pandas.core.frame.DataFrame'>\n",
      "RangeIndex: 23699 entries, 0 to 23698\n",
      "Data columns (total 22 columns):\n",
      " #   Column                Non-Null Count  Dtype  \n",
      "---  ------                --------------  -----  \n",
      " 0   total_images          23699 non-null  int64  \n",
      " 1   last_price            23699 non-null  float64\n",
      " 2   total_area            23699 non-null  float64\n",
      " 3   first_day_exposition  23699 non-null  object \n",
      " 4   rooms                 23699 non-null  int64  \n",
      " 5   ceiling_height        14504 non-null  float64\n",
      " 6   floors_total          23613 non-null  float64\n",
      " 7   living_area           21796 non-null  float64\n",
      " 8   floor                 23699 non-null  int64  \n",
      " 9   is_apartment          2775 non-null   object \n",
      " 10  studio                23699 non-null  bool   \n",
      " 11  open_plan             23699 non-null  bool   \n",
      " 12  kitchen_area          21421 non-null  float64\n",
      " 13  balcony               12180 non-null  float64\n",
      " 14  locality_name         23650 non-null  object \n",
      " 15  airports_nearest      18157 non-null  float64\n",
      " 16  cityCenters_nearest   18180 non-null  float64\n",
      " 17  parks_around3000      18181 non-null  float64\n",
      " 18  parks_nearest         8079 non-null   float64\n",
      " 19  ponds_around3000      18181 non-null  float64\n",
      " 20  ponds_nearest         9110 non-null   float64\n",
      " 21  days_exposition       20518 non-null  float64\n",
      "dtypes: bool(2), float64(14), int64(3), object(3)\n",
      "memory usage: 3.7+ MB\n"
     ]
    }
   ],
   "source": [
    "# получим сводную информацию о датасете\n",
    "data.info()"
   ]
  },
  {
   "cell_type": "code",
   "execution_count": 59,
   "metadata": {},
   "outputs": [
    {
     "data": {
      "text/plain": [
       "(23699, 22)"
      ]
     },
     "execution_count": 59,
     "metadata": {},
     "output_type": "execute_result"
    }
   ],
   "source": [
    "# информация о размере таблицы\n",
    "data.shape"
   ]
  },
  {
   "cell_type": "code",
   "execution_count": 60,
   "metadata": {},
   "outputs": [
    {
     "data": {
      "text/plain": [
       "0"
      ]
     },
     "execution_count": 60,
     "metadata": {},
     "output_type": "execute_result"
    }
   ],
   "source": [
    "# проверка на отсутствие явных дубликатов\n",
    "data.duplicated().sum()"
   ]
  },
  {
   "cell_type": "code",
   "execution_count": 61,
   "metadata": {},
   "outputs": [
    {
     "data": {
      "text/plain": [
       "total_images                0\n",
       "last_price                  0\n",
       "total_area                  0\n",
       "first_day_exposition        0\n",
       "rooms                       0\n",
       "ceiling_height           9195\n",
       "floors_total               86\n",
       "living_area              1903\n",
       "floor                       0\n",
       "is_apartment            20924\n",
       "studio                      0\n",
       "open_plan                   0\n",
       "kitchen_area             2278\n",
       "balcony                 11519\n",
       "locality_name              49\n",
       "airports_nearest         5542\n",
       "cityCenters_nearest      5519\n",
       "parks_around3000         5518\n",
       "parks_nearest           15620\n",
       "ponds_around3000         5518\n",
       "ponds_nearest           14589\n",
       "days_exposition          3181\n",
       "dtype: int64"
      ]
     },
     "execution_count": 61,
     "metadata": {},
     "output_type": "execute_result"
    }
   ],
   "source": [
    "# подсчет пропусков в датасете\n",
    "data.isna().sum()"
   ]
  },
  {
   "cell_type": "markdown",
   "metadata": {},
   "source": [
    "**Построим гистограмму для всех числовых столбцов таблицы на одном графике.**"
   ]
  },
  {
   "cell_type": "code",
   "execution_count": 62,
   "metadata": {},
   "outputs": [
    {
     "data": {
      "text/plain": [
       "array([[<AxesSubplot:title={'center':'total_images'}>,\n",
       "        <AxesSubplot:title={'center':'last_price'}>,\n",
       "        <AxesSubplot:title={'center':'total_area'}>,\n",
       "        <AxesSubplot:title={'center':'rooms'}>],\n",
       "       [<AxesSubplot:title={'center':'ceiling_height'}>,\n",
       "        <AxesSubplot:title={'center':'floors_total'}>,\n",
       "        <AxesSubplot:title={'center':'living_area'}>,\n",
       "        <AxesSubplot:title={'center':'floor'}>],\n",
       "       [<AxesSubplot:title={'center':'kitchen_area'}>,\n",
       "        <AxesSubplot:title={'center':'balcony'}>,\n",
       "        <AxesSubplot:title={'center':'airports_nearest'}>,\n",
       "        <AxesSubplot:title={'center':'cityCenters_nearest'}>],\n",
       "       [<AxesSubplot:title={'center':'parks_around3000'}>,\n",
       "        <AxesSubplot:title={'center':'parks_nearest'}>,\n",
       "        <AxesSubplot:title={'center':'ponds_around3000'}>,\n",
       "        <AxesSubplot:title={'center':'ponds_nearest'}>],\n",
       "       [<AxesSubplot:title={'center':'days_exposition'}>, <AxesSubplot:>,\n",
       "        <AxesSubplot:>, <AxesSubplot:>]], dtype=object)"
      ]
     },
     "execution_count": 62,
     "metadata": {},
     "output_type": "execute_result"
    },
    {
     "data": {
      "image/png": "[encoded data removed]",
      "text/plain": [
       "<Figure size 1080x1440 with 20 Axes>"
      ]
     },
     "metadata": {
      "needs_background": "light"
     },
     "output_type": "display_data"
    }
   ],
   "source": [
    "data.hist(figsize=(15, 20))"
   ]
  },
  {
   "cell_type": "markdown",
   "metadata": {},
   "source": [
    "**Вывод:** \n",
    "\n",
    "Данных достаточно для дальнейшей работы.\n",
    "1. Датафрейм вкючает в себя **22** столбца и **23698** строк. \n",
    "\n",
    "\n",
    "2. Явные дубликаты отсутствуют. \n",
    "\n",
    "\n",
    "3. Пропуски в датасете присутствуют в столбцах:\n",
    "    - `ceiling_height`            \n",
    "    - `floors_total`               \n",
    "    - `living_area`               \n",
    "    - `is_apartment`             \n",
    "    - `kitchen_area`              \n",
    "    - `balcony`                 \n",
    "    - `locality_name`              \n",
    "    - `airports_nearest`          \n",
    "    - `cityCenters_nearest`       \n",
    "    - `parks_around3000`          \n",
    "    - `parks_nearest`            \n",
    "    - `ponds_around3000`          \n",
    "    - `ponds_nearest`            \n",
    "    - `days_exposition`           \n",
    "    \n",
    "    Пропуски могут быть связаны с человеческим фактором, например, если продавец не указал число балконов, то,       скорее всего, в его квартире их нет или отсутствие апартаментов.\n",
    "    Также, пропуски могут возникнуть по техническим причинам.\n",
    "\n",
    "\n",
    "4. В названии столбцов есть не соответствие со стилем:\n",
    "      - `cityCenters_nearest`  -> `city_centers_nearest`\n",
    "      - `parks_around3000`     -> `parks_around_3000`\n",
    "      - `ponds_around3000`     -> `ponds_around_3000`\n",
    "\n",
    "\n",
    "5. С типами также есть не соответствия:\n",
    "    - `first_day_exposition`\n",
    "    - `is_apartment`        \n",
    "    - `floors_total`         \n",
    "    - `balcony`              \n",
    "    - `parks_around3000`     \n",
    "    - `ponds_around3000`     \n",
    "    - `days_exposition`      \n",
    "    \n",
    "    \n",
    "6. По некоторым графикам видно, что качество данных не достаточно точное. Например в гистограмме `rooms` не может начинаться с 0 или `ceiling_height` имеет максимальную высоту в 100 м.\n",
    "\n",
    "\n",
    "7. Описание столбцов в датасете:\n",
    "      - `airports_nearest` — расстояние до ближайшего аэропорта в метрах (м);\n",
    "      - `balcony` — число балконов;\n",
    "      - `ceiling_height` — высота потолков (м);\n",
    "      - `cityCenters_nearest` — расстояние до центра города (м);\n",
    "      - `days_exposition` — сколько дней было размещено объявление (от публикации до снятия);\n",
    "      - `first_day_exposition` — дата публикации;\n",
    "      - `floor` — этаж;\n",
    "      - `floors_total` — всего этажей в доме;\n",
    "      - `is_apartment` — апартаменты (булев тип);\n",
    "      - `kitchen_area` — площадь кухни в квадратных метрах (м²);\n",
    "      - `last_price` — цена на момент снятия с публикации;\n",
    "      - `living_area` — жилая площадь в квадратных метрах (м²);\n",
    "      - `locality_name` — название населённого пункта;\n",
    "      - `open_plan` — свободная планировка (булев тип);\n",
    "      - `parks_around3000` — число парков в радиусе 3 км;\n",
    "      - `parks_nearest` — расстояние до ближайшего парка (м);\n",
    "      - `ponds_around3000` — число водоёмов в радиусе 3 км;\n",
    "      - `ponds_nearest` — расстояние до ближайшего водоёма (м);\n",
    "      - `rooms` — число комнат;\n",
    "      - `studio` — квартира-студия (булев тип);\n",
    "      - `total_area` — общая площадь квартиры в квадратных метрах (м²);\n",
    "      - `total_images` — число фотографий квартиры в объявлении.\n",
    "      "
   ]
  },
  {
   "cell_type": "markdown",
   "metadata": {},
   "source": [
    "<div class=\"alert alert-success\">\n",
    "<b>👍 Успех:</b> Датасет просмотрен! Молодец, что подробно описал данные\n",
    "</div>"
   ]
  },
  {
   "cell_type": "markdown",
   "metadata": {
    "id": "-O5NtivEAwb9"
   },
   "source": [
    "### Выполните предобработку данных"
   ]
  },
  {
   "cell_type": "markdown",
   "metadata": {
    "id": "7v3vAeTuAwb-"
   },
   "source": [
    "**Приведем названия столбцов к нормальному виду и преобразуем столбец с форматом даты**"
   ]
  },
  {
   "cell_type": "code",
   "execution_count": 63,
   "metadata": {},
   "outputs": [],
   "source": [
    "# Приведем к нормальному виду названия столбцов\n",
    "data = data.rename(\n",
    "    columns={\n",
    "        'cityCenters_nearest': 'city_centers_nearest',\n",
    "        'parks_around3000': 'parks_around_3000',\n",
    "        'ponds_around3000': 'ponds_around_3000'\n",
    "    }\n",
    ")"
   ]
  },
  {
   "cell_type": "code",
   "execution_count": 64,
   "metadata": {},
   "outputs": [],
   "source": [
    "# преобразовали в тип дата\n",
    "data['first_day_exposition'] = pd.to_datetime(data['first_day_exposition'], format='%Y-%m-%dT%H:%M:%S')"
   ]
  },
  {
   "cell_type": "markdown",
   "metadata": {},
   "source": [
    "**Замена пропусков и преобразование типов данных**"
   ]
  },
  {
   "cell_type": "markdown",
   "metadata": {},
   "source": [
    "В таблице `is_apartment` - выявлено **20924** пропусков. Скорее всего такое большое число пропусков       образовалось по техническим причинам. Данные в столбце описаны в виде **False** и **True**, то сделаем вывод, что при **True** - апартаменты присутствуют, а при **False** -    апартаменты отсутствуют. Дополнительной информации нет, значит возьмем пропуски за **False**.\n",
    "     "
   ]
  },
  {
   "cell_type": "code",
   "execution_count": 65,
   "metadata": {},
   "outputs": [],
   "source": [
    "# Тип столбца определили как булевый. Значит если True - апартамент иеется, а если False - апартамент отсутствует.\n",
    "# Заполним пропущенные ячейки занчениями False. Переведем в тип bool. \n",
    "data['is_apartment'] = data['is_apartment'].fillna(value=False).astype('bool')"
   ]
  },
  {
   "cell_type": "markdown",
   "metadata": {},
   "source": [
    "<div class=\"alert alert-success\">\n",
    "<b>👍 Успех:</b> Все верно!\n",
    "</div>"
   ]
  },
  {
   "cell_type": "markdown",
   "metadata": {},
   "source": [
    "В таблице `floors_total` - найдено **86** пропусков. В данном случае пропусков мало, значит это могло произойти по причине человеческого фактора. Пропуски запонили 0. \n",
    "   \n",
    "   Таблица `days_exposition` имеет **3181** пропусков. Она показывает сколько дней было размещено объявление. Такое количество пропусков может быть по причине технического фактора, заполним пропуски нулевыми значениями. \n",
    "\n",
    "   В таблицах `parks_around_3000` и `ponds_around_3000` найдено по **5518** пропусков. Данные показывают число водоемов и парков в радиусе 3 км. Данные определены  по картографическим показателям. Будем считать, что рядом с жилыми объектами нет парков и водоемов в радиусе 3 км, значит заполним пропуски нулевым значением.\n",
    "   \n",
    "   В таблице `balcony` найдено **11519** пропусков. Будем считать пропуск за отсутствие балкона и заполним его нулевым значением."
   ]
  },
  {
   "cell_type": "markdown",
   "metadata": {},
   "source": [
    "<div class=\"alert alert-danger\">\n",
    "<s><b>😔 Необходимо исправить:</b> В доме может быть 0 этажей? Пропуски в days_exposition означают, что объявление активно. Данные по паркам и водоемам заполнять не нужно, заполнение 0 некорректно</s>\n",
    "</div>"
   ]
  },
  {
   "cell_type": "code",
   "execution_count": 11,
   "metadata": {},
   "outputs": [],
   "source": [
    "# Заменим пропуски на нулевые значения и переопределим типы  \n",
    "#data['floors_total'] = data['floors_total'].fillna(0).astype('int')\n",
    "#data['days_exposition'] = data['days_exposition'].fillna(0).astype('int')\n",
    "#data['parks_around_3000'] = data['parks_around_3000'].fillna(0).astype('int')\n",
    "#data['ponds_around_3000'] = data['ponds_around_3000'].fillna(0).astype('int')\n",
    "#data['balcony'] = data['balcony'].fillna(0).astype('int')"
   ]
  },
  {
   "cell_type": "markdown",
   "metadata": {},
   "source": [
    "<div class=\"alert alert-info\"> <b>🎓 Комментарий студента:</b> \n",
    "Закоментировал прошлый код, чтобы не запутаться! \n",
    "    В таблице floors_total - найдено 86 пропусков. В данном случае пропусков мало, значит это могло произойти по причине человеческого фактора. Пропуски запонили значениями из таблицы floor. \n",
    "</div>\n"
   ]
  },
  {
   "cell_type": "code",
   "execution_count": 66,
   "metadata": {},
   "outputs": [],
   "source": [
    "data['floors_total'] = data['floors_total'].fillna(data['floor']).astype('int')\n",
    "data['balcony'] = data['balcony'].fillna(0).astype('int')\n"
   ]
  },
  {
   "cell_type": "code",
   "execution_count": 67,
   "metadata": {},
   "outputs": [],
   "source": [
    "data['days_exposition'] = data['days_exposition'].astype('int', errors='ignore')\n",
    "data['parks_around_3000'] = data['parks_around_3000'].astype('int', errors='ignore')\n",
    "data['ponds_around_3000'] = data['ponds_around_3000'].astype('int', errors='ignore')\n"
   ]
  },
  {
   "cell_type": "markdown",
   "metadata": {},
   "source": [
    "Таблица `ceiling_height` имеет **9195** пропусков. Заполним пропуски медианным значением. Такое количество пропусков может быть по причине технического фактора.\n",
    "  \n",
    "  В таблицах `living_area` - **1903**  пропусков и `kitchen_area` - **2278** пропусков, которые обозначают жилую площадь и площадь кухни заполним медианным значением. В данном случае скорей всего пропуски могли образоваться по техническим фактором. "
   ]
  },
  {
   "cell_type": "markdown",
   "metadata": {},
   "source": [
    "<div class=\"alert alert-success\">\n",
    "<b>👍 Успех:</b> Все верно!\n",
    "</div>"
   ]
  },
  {
   "cell_type": "markdown",
   "metadata": {},
   "source": [
    "<div class=\"alert alert-danger\">\n",
    "<s><b>😔 Необходимо исправить:</b> Пропуски в жилой площади и площади кухни нельзя заполнять медианным значением, у нас слишком разные данные, в квартире разное количество комнат. Здесь можно посчитать коэффициент отношения жилой площади к общей и заполнить пропуски с помощью этого коэффициента. В некоторых квартирах может не быть кухни, поэтому и площади кухни нет</s>\n",
    "</div>"
   ]
  },
  {
   "cell_type": "code",
   "execution_count": 14,
   "metadata": {},
   "outputs": [],
   "source": [
    "# Пропуски можно заменить медианным значением\n",
    "#data.loc[data['ceiling_height'].isna(), 'ceiling_height'] = data['ceiling_height'].median()\n",
    "#data.loc[data['living_area'].isna(), 'living_area'] = data['living_area'].median()\n",
    "#data.loc[data['kitchen_area'].isna(), 'kitchen_area'] = data['kitchen_area'].median()\n"
   ]
  },
  {
   "cell_type": "markdown",
   "metadata": {},
   "source": [
    "<div class=\"alert alert-info\"> <b>🎓 Комментарий студента:</b> \n",
    "    Жилая площадь и площадь кухни  зависит от общей площади. Заполнил пропуски значениями от общей площади. \n",
    "</div>"
   ]
  },
  {
   "cell_type": "code",
   "execution_count": 68,
   "metadata": {},
   "outputs": [],
   "source": [
    "data.loc[data['ceiling_height'].isna(), 'ceiling_height'] = data['ceiling_height'].median()"
   ]
  },
  {
   "cell_type": "code",
   "execution_count": 69,
   "metadata": {},
   "outputs": [
    {
     "data": {
      "text/html": [
       "<div>\n",
       "<style scoped>\n",
       "    .dataframe tbody tr th:only-of-type {\n",
       "        vertical-align: middle;\n",
       "    }\n",
       "\n",
       "    .dataframe tbody tr th {\n",
       "        vertical-align: top;\n",
       "    }\n",
       "\n",
       "    .dataframe thead th {\n",
       "        text-align: right;\n",
       "    }\n",
       "</style>\n",
       "<table border=\"1\" class=\"dataframe\">\n",
       "  <thead>\n",
       "    <tr style=\"text-align: right;\">\n",
       "      <th></th>\n",
       "      <th>living_area</th>\n",
       "      <th>kitchen_area</th>\n",
       "    </tr>\n",
       "  </thead>\n",
       "  <tbody>\n",
       "    <tr>\n",
       "      <th>count</th>\n",
       "      <td>21796.000000</td>\n",
       "      <td>21421.000000</td>\n",
       "    </tr>\n",
       "    <tr>\n",
       "      <th>mean</th>\n",
       "      <td>34.457852</td>\n",
       "      <td>10.569807</td>\n",
       "    </tr>\n",
       "    <tr>\n",
       "      <th>std</th>\n",
       "      <td>22.030445</td>\n",
       "      <td>5.905438</td>\n",
       "    </tr>\n",
       "    <tr>\n",
       "      <th>min</th>\n",
       "      <td>2.000000</td>\n",
       "      <td>1.300000</td>\n",
       "    </tr>\n",
       "    <tr>\n",
       "      <th>25%</th>\n",
       "      <td>18.600000</td>\n",
       "      <td>7.000000</td>\n",
       "    </tr>\n",
       "    <tr>\n",
       "      <th>50%</th>\n",
       "      <td>30.000000</td>\n",
       "      <td>9.100000</td>\n",
       "    </tr>\n",
       "    <tr>\n",
       "      <th>75%</th>\n",
       "      <td>42.300000</td>\n",
       "      <td>12.000000</td>\n",
       "    </tr>\n",
       "    <tr>\n",
       "      <th>max</th>\n",
       "      <td>409.700000</td>\n",
       "      <td>112.000000</td>\n",
       "    </tr>\n",
       "  </tbody>\n",
       "</table>\n",
       "</div>"
      ],
      "text/plain": [
       "        living_area  kitchen_area\n",
       "count  21796.000000  21421.000000\n",
       "mean      34.457852     10.569807\n",
       "std       22.030445      5.905438\n",
       "min        2.000000      1.300000\n",
       "25%       18.600000      7.000000\n",
       "50%       30.000000      9.100000\n",
       "75%       42.300000     12.000000\n",
       "max      409.700000    112.000000"
      ]
     },
     "execution_count": 69,
     "metadata": {},
     "output_type": "execute_result"
    }
   ],
   "source": [
    "data.loc[:, ['living_area', 'kitchen_area']].describe()"
   ]
  },
  {
   "cell_type": "code",
   "execution_count": 70,
   "metadata": {},
   "outputs": [
    {
     "name": "stdout",
     "output_type": "stream",
     "text": [
      "Доля жилой площади к общей площади: 57%\n",
      "Доля площади кухни к общей площади: 17%\n"
     ]
    }
   ],
   "source": [
    "print('Доля жилой площади к общей площади: {:.0%}'.format((data['living_area'] / data['total_area']).median()))\n",
    "print('Доля площади кухни к общей площади: {:.0%}'.format((data['kitchen_area'] / data['total_area']).median()))"
   ]
  },
  {
   "cell_type": "code",
   "execution_count": 71,
   "metadata": {},
   "outputs": [],
   "source": [
    "data['living_area'] = data['living_area'].fillna(data['total_area'] * 0.57)\n",
    "data['kitchen_area'] = data['kitchen_area'].fillna(data['total_area'] * 0.17)"
   ]
  },
  {
   "cell_type": "code",
   "execution_count": 19,
   "metadata": {},
   "outputs": [],
   "source": [
    "#data['living_area'].isna().sum()\n",
    "#data['kitchen_area'].isna().sum()"
   ]
  },
  {
   "cell_type": "markdown",
   "metadata": {},
   "source": [
    "<div class=\"alert alert-success\">\n",
    "<b>👍 Успех:</b> Все верно!\n",
    "</div>"
   ]
  },
  {
   "cell_type": "markdown",
   "metadata": {},
   "source": [
    "Таблицы `airports_nearest` - **5542**, `city_сenters_nearest` - **5519**, `parks_nearest` - **15620**, `ponds_nearest` - **14589** имеют пропуски. Эти данные характеризующие расстояния до ближайшего аэропорта, центра города, парка и водоема имеют достаточно большие пропуски. Эти данные получены автоматически на основе картографических данных. Скорее всего эти данные не будут существенно влиять на цену недвижемости. Заполним пропуски нулевыми значениями."
   ]
  },
  {
   "cell_type": "markdown",
   "metadata": {},
   "source": [
    "<div class=\"alert alert-danger\">\n",
    "<s><b>😔 Необходимо исправить:</b> Эти пропуски заполнять не нужно, заполнение 0 исказит данные, то есть кваритры будут находиться в аэропортах, в центре города (ведь расстояние до него 0), в парках и водоемах</s>\n",
    "</div>"
   ]
  },
  {
   "cell_type": "code",
   "execution_count": 20,
   "metadata": {},
   "outputs": [],
   "source": [
    "# Избавимся от пропусков в данных которые определяют дистанцию до аэропорта, центра города, парка и водоема\n",
    "#columns_nearest = ['airports_nearest', 'city_centers_nearest', 'parks_nearest', 'ponds_nearest']\n",
    "#data[columns_nearest] = data[columns_nearest].fillna(0.0)"
   ]
  },
  {
   "cell_type": "markdown",
   "metadata": {},
   "source": [
    "<div class=\"alert alert-info\"> <b>🎓 Комментарий студента:</b> \n",
    "    Столбцы которые получают данные автоматически с сервисов не заполняем!\n",
    "</div>"
   ]
  },
  {
   "cell_type": "markdown",
   "metadata": {},
   "source": [
    "<div class=\"alert alert-success\">\n",
    "<b>👍 Успех:</b> Все верно!\n",
    "</div>"
   ]
  },
  {
   "cell_type": "markdown",
   "metadata": {},
   "source": [
    "В таблице `locality_name` до обработки было **365** уникальных значений, но эти данные имели неявные дубликаты. Одни и теже локации назывались по разному. После обработки и отсечения неявных дубликатов осталось **322** уникальных значений. Создал таблицу с уникальными названиями локаций и поместил новые данные в `locality_name_replace`."
   ]
  },
  {
   "cell_type": "code",
   "execution_count": 21,
   "metadata": {},
   "outputs": [],
   "source": [
    "# В имеющиеся пропуски вставим значение 'неизвестный' и переведем данные в нижний регистр\n",
    "#data['locality_name'] = data['locality_name'].fillna('неизвестный')\n",
    "#data['locality_name'] = data['locality_name'].str.lower()\n",
    "\n",
    "# Устраним пропуски в таблице locality_name и избавимся от неявных дубликатов\n",
    "# data['locality_name_replace'] = (\n",
    "#     data['locality_name']\n",
    "#     .str.replace('ё', 'е')\n",
    "#     .replace(['поселок городского типа', 'городской поселок', 'поселок станции','поселок при железнодорожной станции', 'коттеджный поселок'], 'поселок', regex=True)\n",
    "# )\n",
    "\n",
    "# data['locality_name'].nunique() - data['locality_name_replace'].nunique()"
   ]
  },
  {
   "cell_type": "code",
   "execution_count": 22,
   "metadata": {},
   "outputs": [],
   "source": [
    "# for location in data['locality_name'].unique():\n",
    "#     print(location)"
   ]
  },
  {
   "cell_type": "code",
   "execution_count": 72,
   "metadata": {},
   "outputs": [],
   "source": [
    "data['locality_name'] = data['locality_name'].str.lower()\n",
    "\n",
    "# Устраним пропуски в таблице locality_name и избавимся от неявных дубликатов\n",
    "data['locality_name_replace'] = (\n",
    "    data['locality_name']\n",
    "    .str.replace('ё', 'е')\n",
    "    .replace(['поселок городского типа', 'городской поселок', 'поселок станции','поселок при железнодорожной станции', 'коттеджный поселок'], 'поселок', regex=True)\n",
    "    .replace(['садоводческое некоммерческое товарищество'], 'садоводческое товарищество', regex=True)\n",
    ")\n"
   ]
  },
  {
   "cell_type": "markdown",
   "metadata": {},
   "source": [
    "<div class=\"alert alert-danger\">\n",
    "<s><b>😔 Необходимо исправить:</b> Зачем нам даные, где населенный пункт неизвестен? Сколько таких данных?</s>\n",
    "</div>"
   ]
  },
  {
   "cell_type": "code",
   "execution_count": 73,
   "metadata": {},
   "outputs": [
    {
     "name": "stdout",
     "output_type": "stream",
     "text": [
      "Количество уникальных локаций стало: 319\n"
     ]
    }
   ],
   "source": [
    "print('Количество уникальных локаций стало:', len(data['locality_name_replace'].unique()))"
   ]
  },
  {
   "cell_type": "code",
   "execution_count": 74,
   "metadata": {},
   "outputs": [],
   "source": [
    "data.dropna(subset=['locality_name_replace'], inplace=True)"
   ]
  },
  {
   "cell_type": "code",
   "execution_count": 75,
   "metadata": {},
   "outputs": [
    {
     "data": {
      "text/plain": [
       "0"
      ]
     },
     "execution_count": 75,
     "metadata": {},
     "output_type": "execute_result"
    }
   ],
   "source": [
    "data['locality_name_replace'].isna().sum()"
   ]
  },
  {
   "cell_type": "markdown",
   "metadata": {},
   "source": [
    "<div class=\"alert alert-info\"> <b>🎓 Комментарий студента:</b> \n",
    "    Убрал параметр \"неизвестен\". Пропусков всего 49.\n",
    "</div>"
   ]
  },
  {
   "cell_type": "markdown",
   "metadata": {},
   "source": [
    "<div class=\"alert alert-warning\">\n",
    "<b>🤔 Рекомендация:</b> Эти данные лучше удалить, строки без населенного пункта нам не нужны, их количество менее 1%\n",
    "</div>"
   ]
  },
  {
   "cell_type": "code",
   "execution_count": 76,
   "metadata": {},
   "outputs": [
    {
     "data": {
      "text/html": [
       "<div>\n",
       "<style scoped>\n",
       "    .dataframe tbody tr th:only-of-type {\n",
       "        vertical-align: middle;\n",
       "    }\n",
       "\n",
       "    .dataframe tbody tr th {\n",
       "        vertical-align: top;\n",
       "    }\n",
       "\n",
       "    .dataframe thead th {\n",
       "        text-align: right;\n",
       "    }\n",
       "</style>\n",
       "<table border=\"1\" class=\"dataframe\">\n",
       "  <thead>\n",
       "    <tr style=\"text-align: right;\">\n",
       "      <th></th>\n",
       "      <th>total_images</th>\n",
       "      <th>last_price</th>\n",
       "      <th>total_area</th>\n",
       "      <th>first_day_exposition</th>\n",
       "      <th>rooms</th>\n",
       "      <th>ceiling_height</th>\n",
       "      <th>floors_total</th>\n",
       "      <th>living_area</th>\n",
       "      <th>floor</th>\n",
       "      <th>is_apartment</th>\n",
       "      <th>...</th>\n",
       "      <th>balcony</th>\n",
       "      <th>locality_name</th>\n",
       "      <th>airports_nearest</th>\n",
       "      <th>city_centers_nearest</th>\n",
       "      <th>parks_around_3000</th>\n",
       "      <th>parks_nearest</th>\n",
       "      <th>ponds_around_3000</th>\n",
       "      <th>ponds_nearest</th>\n",
       "      <th>days_exposition</th>\n",
       "      <th>locality_name_replace</th>\n",
       "    </tr>\n",
       "  </thead>\n",
       "  <tbody>\n",
       "    <tr>\n",
       "      <th>0</th>\n",
       "      <td>20</td>\n",
       "      <td>13000000.0</td>\n",
       "      <td>108.0</td>\n",
       "      <td>2019-03-07</td>\n",
       "      <td>3</td>\n",
       "      <td>2.70</td>\n",
       "      <td>16</td>\n",
       "      <td>51.00</td>\n",
       "      <td>8</td>\n",
       "      <td>False</td>\n",
       "      <td>...</td>\n",
       "      <td>0</td>\n",
       "      <td>санкт-петербург</td>\n",
       "      <td>18863.0</td>\n",
       "      <td>16028.0</td>\n",
       "      <td>1.0</td>\n",
       "      <td>482.0</td>\n",
       "      <td>2.0</td>\n",
       "      <td>755.0</td>\n",
       "      <td>NaN</td>\n",
       "      <td>санкт-петербург</td>\n",
       "    </tr>\n",
       "    <tr>\n",
       "      <th>1</th>\n",
       "      <td>7</td>\n",
       "      <td>3350000.0</td>\n",
       "      <td>40.4</td>\n",
       "      <td>2018-12-04</td>\n",
       "      <td>1</td>\n",
       "      <td>2.65</td>\n",
       "      <td>11</td>\n",
       "      <td>18.60</td>\n",
       "      <td>1</td>\n",
       "      <td>False</td>\n",
       "      <td>...</td>\n",
       "      <td>2</td>\n",
       "      <td>посёлок шушары</td>\n",
       "      <td>12817.0</td>\n",
       "      <td>18603.0</td>\n",
       "      <td>0.0</td>\n",
       "      <td>NaN</td>\n",
       "      <td>0.0</td>\n",
       "      <td>NaN</td>\n",
       "      <td>81.0</td>\n",
       "      <td>поселок шушары</td>\n",
       "    </tr>\n",
       "    <tr>\n",
       "      <th>2</th>\n",
       "      <td>10</td>\n",
       "      <td>5196000.0</td>\n",
       "      <td>56.0</td>\n",
       "      <td>2015-08-20</td>\n",
       "      <td>2</td>\n",
       "      <td>2.65</td>\n",
       "      <td>5</td>\n",
       "      <td>34.30</td>\n",
       "      <td>4</td>\n",
       "      <td>False</td>\n",
       "      <td>...</td>\n",
       "      <td>0</td>\n",
       "      <td>санкт-петербург</td>\n",
       "      <td>21741.0</td>\n",
       "      <td>13933.0</td>\n",
       "      <td>1.0</td>\n",
       "      <td>90.0</td>\n",
       "      <td>2.0</td>\n",
       "      <td>574.0</td>\n",
       "      <td>558.0</td>\n",
       "      <td>санкт-петербург</td>\n",
       "    </tr>\n",
       "    <tr>\n",
       "      <th>3</th>\n",
       "      <td>0</td>\n",
       "      <td>64900000.0</td>\n",
       "      <td>159.0</td>\n",
       "      <td>2015-07-24</td>\n",
       "      <td>3</td>\n",
       "      <td>2.65</td>\n",
       "      <td>14</td>\n",
       "      <td>90.63</td>\n",
       "      <td>9</td>\n",
       "      <td>False</td>\n",
       "      <td>...</td>\n",
       "      <td>0</td>\n",
       "      <td>санкт-петербург</td>\n",
       "      <td>28098.0</td>\n",
       "      <td>6800.0</td>\n",
       "      <td>2.0</td>\n",
       "      <td>84.0</td>\n",
       "      <td>3.0</td>\n",
       "      <td>234.0</td>\n",
       "      <td>424.0</td>\n",
       "      <td>санкт-петербург</td>\n",
       "    </tr>\n",
       "    <tr>\n",
       "      <th>4</th>\n",
       "      <td>2</td>\n",
       "      <td>10000000.0</td>\n",
       "      <td>100.0</td>\n",
       "      <td>2018-06-19</td>\n",
       "      <td>2</td>\n",
       "      <td>3.03</td>\n",
       "      <td>14</td>\n",
       "      <td>32.00</td>\n",
       "      <td>13</td>\n",
       "      <td>False</td>\n",
       "      <td>...</td>\n",
       "      <td>0</td>\n",
       "      <td>санкт-петербург</td>\n",
       "      <td>31856.0</td>\n",
       "      <td>8098.0</td>\n",
       "      <td>2.0</td>\n",
       "      <td>112.0</td>\n",
       "      <td>1.0</td>\n",
       "      <td>48.0</td>\n",
       "      <td>121.0</td>\n",
       "      <td>санкт-петербург</td>\n",
       "    </tr>\n",
       "  </tbody>\n",
       "</table>\n",
       "<p>5 rows × 23 columns</p>\n",
       "</div>"
      ],
      "text/plain": [
       "   total_images  last_price  total_area first_day_exposition  rooms  \\\n",
       "0            20  13000000.0       108.0           2019-03-07      3   \n",
       "1             7   3350000.0        40.4           2018-12-04      1   \n",
       "2            10   5196000.0        56.0           2015-08-20      2   \n",
       "3             0  64900000.0       159.0           2015-07-24      3   \n",
       "4             2  10000000.0       100.0           2018-06-19      2   \n",
       "\n",
       "   ceiling_height  floors_total  living_area  floor  is_apartment  ...  \\\n",
       "0            2.70            16        51.00      8         False  ...   \n",
       "1            2.65            11        18.60      1         False  ...   \n",
       "2            2.65             5        34.30      4         False  ...   \n",
       "3            2.65            14        90.63      9         False  ...   \n",
       "4            3.03            14        32.00     13         False  ...   \n",
       "\n",
       "   balcony    locality_name  airports_nearest  city_centers_nearest  \\\n",
       "0        0  санкт-петербург           18863.0               16028.0   \n",
       "1        2   посёлок шушары           12817.0               18603.0   \n",
       "2        0  санкт-петербург           21741.0               13933.0   \n",
       "3        0  санкт-петербург           28098.0                6800.0   \n",
       "4        0  санкт-петербург           31856.0                8098.0   \n",
       "\n",
       "  parks_around_3000  parks_nearest  ponds_around_3000  ponds_nearest  \\\n",
       "0               1.0          482.0                2.0          755.0   \n",
       "1               0.0            NaN                0.0            NaN   \n",
       "2               1.0           90.0                2.0          574.0   \n",
       "3               2.0           84.0                3.0          234.0   \n",
       "4               2.0          112.0                1.0           48.0   \n",
       "\n",
       "   days_exposition  locality_name_replace  \n",
       "0              NaN        санкт-петербург  \n",
       "1             81.0         поселок шушары  \n",
       "2            558.0        санкт-петербург  \n",
       "3            424.0        санкт-петербург  \n",
       "4            121.0        санкт-петербург  \n",
       "\n",
       "[5 rows x 23 columns]"
      ]
     },
     "execution_count": 76,
     "metadata": {},
     "output_type": "execute_result"
    }
   ],
   "source": [
    "# проверка датасета\n",
    "data.head()"
   ]
  },
  {
   "cell_type": "code",
   "execution_count": 77,
   "metadata": {},
   "outputs": [
    {
     "data": {
      "text/plain": [
       "total_images                 0\n",
       "last_price                   0\n",
       "total_area                   0\n",
       "first_day_exposition         0\n",
       "rooms                        0\n",
       "ceiling_height               0\n",
       "floors_total                 0\n",
       "living_area                  0\n",
       "floor                        0\n",
       "is_apartment                 0\n",
       "studio                       0\n",
       "open_plan                    0\n",
       "kitchen_area                 0\n",
       "balcony                      0\n",
       "locality_name                0\n",
       "airports_nearest          5534\n",
       "city_centers_nearest      5511\n",
       "parks_around_3000         5510\n",
       "parks_nearest            15586\n",
       "ponds_around_3000         5510\n",
       "ponds_nearest            14565\n",
       "days_exposition           3180\n",
       "locality_name_replace        0\n",
       "dtype: int64"
      ]
     },
     "execution_count": 77,
     "metadata": {},
     "output_type": "execute_result"
    }
   ],
   "source": [
    "data.isna().sum()"
   ]
  },
  {
   "cell_type": "markdown",
   "metadata": {},
   "source": [
    "**Обработка аномальных данных**"
   ]
  },
  {
   "cell_type": "markdown",
   "metadata": {},
   "source": [
    "**ceiling_height:**"
   ]
  },
  {
   "cell_type": "code",
   "execution_count": 29,
   "metadata": {},
   "outputs": [],
   "source": [
    "# Поиск аномальных значений в ceiling_height\n",
    "# print(sorted(data['ceiling_height'].unique()))\n",
    "# print(len(data['ceiling_height'].unique()))\n",
    "# print(data['ceiling_height'].describe())\n",
    "\n",
    "# print()\n",
    "\n",
    "# # построим диаграмму размаха для числа комнат\n",
    "# data.boxplot('ceiling_height')\n",
    "# plt.ylabel('высота потолков')\n",
    "# plt.ylim(1.5, 110)\n",
    "# plt.show()"
   ]
  },
  {
   "cell_type": "code",
   "execution_count": 30,
   "metadata": {},
   "outputs": [],
   "source": [
    "# Устраним из таблицы строки с аномальными значениями\n",
    "# Рассмотрим таблицу ceiling_height, медианая высота потолка составляет 2.65\n",
    "# 2 все что ниже - это подвальные помещения\n",
    "# 7 все что выше - это не соответствует диапазону высоты\n",
    "\n",
    "# data = data.query('2 < ceiling_height < 7')\n",
    "\n",
    "# print('Количество уникальных значений:', len(data['ceiling_height'].unique()))\n",
    "# print(data['ceiling_height'].describe())\n",
    "\n",
    "# data.boxplot('ceiling_height', figsize=(9,7))\n",
    "# plt.ylabel('высота потолков')\n",
    "# plt.ylim(1.5, 7)\n",
    "# plt.show()\n"
   ]
  },
  {
   "cell_type": "markdown",
   "metadata": {},
   "source": [
    "<div class=\"alert alert-danger\">\n",
    "<s><b>😔 Необходимо исправить:</b> Ошибочные данные можно исправить, а не удалять. Графики должны быть оформлены, у них должен быть заголовок, подписи осей и при необходимости легенда. Оформить графики нужно по всей работе</s>\n",
    "</div>"
   ]
  },
  {
   "cell_type": "code",
   "execution_count": 78,
   "metadata": {},
   "outputs": [
    {
     "data": {
      "text/html": [
       "<div>\n",
       "<style scoped>\n",
       "    .dataframe tbody tr th:only-of-type {\n",
       "        vertical-align: middle;\n",
       "    }\n",
       "\n",
       "    .dataframe tbody tr th {\n",
       "        vertical-align: top;\n",
       "    }\n",
       "\n",
       "    .dataframe thead th {\n",
       "        text-align: right;\n",
       "    }\n",
       "</style>\n",
       "<table border=\"1\" class=\"dataframe\">\n",
       "  <thead>\n",
       "    <tr style=\"text-align: right;\">\n",
       "      <th></th>\n",
       "      <th>total_images</th>\n",
       "      <th>last_price</th>\n",
       "      <th>total_area</th>\n",
       "      <th>rooms</th>\n",
       "      <th>ceiling_height</th>\n",
       "      <th>floors_total</th>\n",
       "      <th>living_area</th>\n",
       "      <th>floor</th>\n",
       "      <th>kitchen_area</th>\n",
       "      <th>balcony</th>\n",
       "      <th>airports_nearest</th>\n",
       "      <th>city_centers_nearest</th>\n",
       "      <th>parks_around_3000</th>\n",
       "      <th>parks_nearest</th>\n",
       "      <th>ponds_around_3000</th>\n",
       "      <th>ponds_nearest</th>\n",
       "      <th>days_exposition</th>\n",
       "    </tr>\n",
       "  </thead>\n",
       "  <tbody>\n",
       "    <tr>\n",
       "      <th>count</th>\n",
       "      <td>23650.000000</td>\n",
       "      <td>2.365000e+04</td>\n",
       "      <td>23650.000000</td>\n",
       "      <td>23650.000000</td>\n",
       "      <td>23650.000000</td>\n",
       "      <td>23650.000000</td>\n",
       "      <td>23650.000000</td>\n",
       "      <td>23650.000000</td>\n",
       "      <td>23650.000000</td>\n",
       "      <td>23650.000000</td>\n",
       "      <td>18116.000000</td>\n",
       "      <td>18139.000000</td>\n",
       "      <td>18140.000000</td>\n",
       "      <td>8064.000000</td>\n",
       "      <td>18140.000000</td>\n",
       "      <td>9085.000000</td>\n",
       "      <td>20470.000000</td>\n",
       "    </tr>\n",
       "    <tr>\n",
       "      <th>mean</th>\n",
       "      <td>9.862326</td>\n",
       "      <td>6.541127e+06</td>\n",
       "      <td>60.329069</td>\n",
       "      <td>2.070106</td>\n",
       "      <td>2.724311</td>\n",
       "      <td>10.673784</td>\n",
       "      <td>34.577306</td>\n",
       "      <td>5.893277</td>\n",
       "      <td>10.474956</td>\n",
       "      <td>0.591712</td>\n",
       "      <td>28803.225878</td>\n",
       "      <td>14197.860742</td>\n",
       "      <td>0.611577</td>\n",
       "      <td>490.830729</td>\n",
       "      <td>0.769680</td>\n",
       "      <td>518.059879</td>\n",
       "      <td>180.753200</td>\n",
       "    </tr>\n",
       "    <tr>\n",
       "      <th>std</th>\n",
       "      <td>5.682278</td>\n",
       "      <td>1.089640e+07</td>\n",
       "      <td>35.661808</td>\n",
       "      <td>1.078620</td>\n",
       "      <td>0.989255</td>\n",
       "      <td>6.593455</td>\n",
       "      <td>22.355180</td>\n",
       "      <td>4.883317</td>\n",
       "      <td>6.017172</td>\n",
       "      <td>0.959662</td>\n",
       "      <td>12637.314144</td>\n",
       "      <td>8606.830295</td>\n",
       "      <td>0.802003</td>\n",
       "      <td>342.554386</td>\n",
       "      <td>0.937948</td>\n",
       "      <td>277.841733</td>\n",
       "      <td>219.777916</td>\n",
       "    </tr>\n",
       "    <tr>\n",
       "      <th>min</th>\n",
       "      <td>0.000000</td>\n",
       "      <td>1.219000e+04</td>\n",
       "      <td>12.000000</td>\n",
       "      <td>0.000000</td>\n",
       "      <td>1.000000</td>\n",
       "      <td>1.000000</td>\n",
       "      <td>2.000000</td>\n",
       "      <td>1.000000</td>\n",
       "      <td>1.300000</td>\n",
       "      <td>0.000000</td>\n",
       "      <td>0.000000</td>\n",
       "      <td>181.000000</td>\n",
       "      <td>0.000000</td>\n",
       "      <td>1.000000</td>\n",
       "      <td>0.000000</td>\n",
       "      <td>13.000000</td>\n",
       "      <td>1.000000</td>\n",
       "    </tr>\n",
       "    <tr>\n",
       "      <th>25%</th>\n",
       "      <td>6.000000</td>\n",
       "      <td>3.400000e+06</td>\n",
       "      <td>40.000000</td>\n",
       "      <td>1.000000</td>\n",
       "      <td>2.600000</td>\n",
       "      <td>5.000000</td>\n",
       "      <td>19.000000</td>\n",
       "      <td>2.000000</td>\n",
       "      <td>7.000000</td>\n",
       "      <td>0.000000</td>\n",
       "      <td>18575.750000</td>\n",
       "      <td>9241.000000</td>\n",
       "      <td>0.000000</td>\n",
       "      <td>288.000000</td>\n",
       "      <td>0.000000</td>\n",
       "      <td>293.000000</td>\n",
       "      <td>45.000000</td>\n",
       "    </tr>\n",
       "    <tr>\n",
       "      <th>50%</th>\n",
       "      <td>9.000000</td>\n",
       "      <td>4.650000e+06</td>\n",
       "      <td>52.000000</td>\n",
       "      <td>2.000000</td>\n",
       "      <td>2.650000</td>\n",
       "      <td>9.000000</td>\n",
       "      <td>30.000000</td>\n",
       "      <td>4.000000</td>\n",
       "      <td>9.000000</td>\n",
       "      <td>0.000000</td>\n",
       "      <td>26756.500000</td>\n",
       "      <td>13105.000000</td>\n",
       "      <td>0.000000</td>\n",
       "      <td>454.500000</td>\n",
       "      <td>1.000000</td>\n",
       "      <td>502.000000</td>\n",
       "      <td>95.000000</td>\n",
       "    </tr>\n",
       "    <tr>\n",
       "      <th>75%</th>\n",
       "      <td>14.000000</td>\n",
       "      <td>6.799000e+06</td>\n",
       "      <td>69.700000</td>\n",
       "      <td>3.000000</td>\n",
       "      <td>2.700000</td>\n",
       "      <td>16.000000</td>\n",
       "      <td>42.100000</td>\n",
       "      <td>8.000000</td>\n",
       "      <td>12.000000</td>\n",
       "      <td>1.000000</td>\n",
       "      <td>37294.000000</td>\n",
       "      <td>16293.000000</td>\n",
       "      <td>1.000000</td>\n",
       "      <td>612.000000</td>\n",
       "      <td>1.000000</td>\n",
       "      <td>730.000000</td>\n",
       "      <td>231.000000</td>\n",
       "    </tr>\n",
       "    <tr>\n",
       "      <th>max</th>\n",
       "      <td>50.000000</td>\n",
       "      <td>7.630000e+08</td>\n",
       "      <td>900.000000</td>\n",
       "      <td>19.000000</td>\n",
       "      <td>100.000000</td>\n",
       "      <td>60.000000</td>\n",
       "      <td>409.700000</td>\n",
       "      <td>33.000000</td>\n",
       "      <td>112.000000</td>\n",
       "      <td>5.000000</td>\n",
       "      <td>84869.000000</td>\n",
       "      <td>65968.000000</td>\n",
       "      <td>3.000000</td>\n",
       "      <td>3190.000000</td>\n",
       "      <td>3.000000</td>\n",
       "      <td>1344.000000</td>\n",
       "      <td>1580.000000</td>\n",
       "    </tr>\n",
       "  </tbody>\n",
       "</table>\n",
       "</div>"
      ],
      "text/plain": [
       "       total_images    last_price    total_area         rooms  ceiling_height  \\\n",
       "count  23650.000000  2.365000e+04  23650.000000  23650.000000    23650.000000   \n",
       "mean       9.862326  6.541127e+06     60.329069      2.070106        2.724311   \n",
       "std        5.682278  1.089640e+07     35.661808      1.078620        0.989255   \n",
       "min        0.000000  1.219000e+04     12.000000      0.000000        1.000000   \n",
       "25%        6.000000  3.400000e+06     40.000000      1.000000        2.600000   \n",
       "50%        9.000000  4.650000e+06     52.000000      2.000000        2.650000   \n",
       "75%       14.000000  6.799000e+06     69.700000      3.000000        2.700000   \n",
       "max       50.000000  7.630000e+08    900.000000     19.000000      100.000000   \n",
       "\n",
       "       floors_total   living_area         floor  kitchen_area       balcony  \\\n",
       "count  23650.000000  23650.000000  23650.000000  23650.000000  23650.000000   \n",
       "mean      10.673784     34.577306      5.893277     10.474956      0.591712   \n",
       "std        6.593455     22.355180      4.883317      6.017172      0.959662   \n",
       "min        1.000000      2.000000      1.000000      1.300000      0.000000   \n",
       "25%        5.000000     19.000000      2.000000      7.000000      0.000000   \n",
       "50%        9.000000     30.000000      4.000000      9.000000      0.000000   \n",
       "75%       16.000000     42.100000      8.000000     12.000000      1.000000   \n",
       "max       60.000000    409.700000     33.000000    112.000000      5.000000   \n",
       "\n",
       "       airports_nearest  city_centers_nearest  parks_around_3000  \\\n",
       "count      18116.000000          18139.000000       18140.000000   \n",
       "mean       28803.225878          14197.860742           0.611577   \n",
       "std        12637.314144           8606.830295           0.802003   \n",
       "min            0.000000            181.000000           0.000000   \n",
       "25%        18575.750000           9241.000000           0.000000   \n",
       "50%        26756.500000          13105.000000           0.000000   \n",
       "75%        37294.000000          16293.000000           1.000000   \n",
       "max        84869.000000          65968.000000           3.000000   \n",
       "\n",
       "       parks_nearest  ponds_around_3000  ponds_nearest  days_exposition  \n",
       "count    8064.000000       18140.000000    9085.000000     20470.000000  \n",
       "mean      490.830729           0.769680     518.059879       180.753200  \n",
       "std       342.554386           0.937948     277.841733       219.777916  \n",
       "min         1.000000           0.000000      13.000000         1.000000  \n",
       "25%       288.000000           0.000000     293.000000        45.000000  \n",
       "50%       454.500000           1.000000     502.000000        95.000000  \n",
       "75%       612.000000           1.000000     730.000000       231.000000  \n",
       "max      3190.000000           3.000000    1344.000000      1580.000000  "
      ]
     },
     "execution_count": 78,
     "metadata": {},
     "output_type": "execute_result"
    }
   ],
   "source": [
    "data.describe()"
   ]
  },
  {
   "cell_type": "code",
   "execution_count": 79,
   "metadata": {},
   "outputs": [
    {
     "data": {
      "image/png": "[encoded data removed]",
      "text/plain": [
       "<Figure size 432x288 with 1 Axes>"
      ]
     },
     "metadata": {
      "needs_background": "light"
     },
     "output_type": "display_data"
    }
   ],
   "source": [
    "# диаграмма размаха для высоты потолка\n",
    "data.boxplot(column='ceiling_height')\n",
    "plt.title('Диаграмма размаха высоты потолка')\n",
    "plt.ylabel('Высота потолка в метрах')\n",
    "plt.show()"
   ]
  },
  {
   "cell_type": "code",
   "execution_count": 80,
   "metadata": {},
   "outputs": [
    {
     "name": "stdout",
     "output_type": "stream",
     "text": [
      "[1.0, 1.0, 1.2, 1.4, 1.8, 2.0, 2.2, 2.2, 2.3, 2.3, 2.3, 2.4, 2.4, 2.5, 2.5, 2.5, 2.5, 2.5, 2.5, 2.5, 2.5, 2.5, 2.6, 2.6, 2.6, 2.6, 2.6, 2.6, 2.6, 2.6, 2.6, 2.6, 2.6, 2.7, 2.7, 2.7, 2.7, 2.7, 2.7, 2.7, 2.7, 2.7, 2.8, 2.8, 2.8, 2.8, 2.8, 2.8, 2.8, 2.8, 2.8, 2.8, 2.8, 2.9, 2.9, 2.9, 2.9, 2.9, 2.9, 2.9, 2.9, 2.9, 3.0, 3.0, 3.0, 3.0, 3.0, 3.0, 3.0, 3.0, 3.0, 3.0, 3.0, 3.1, 3.1, 3.1, 3.1, 3.1, 3.1, 3.1, 3.1, 3.1, 3.2, 3.2, 3.2, 3.2, 3.2, 3.2, 3.2, 3.2, 3.2, 3.2, 3.3, 3.3, 3.3, 3.3, 3.3, 3.3, 3.3, 3.3, 3.3, 3.4, 3.4, 3.4, 3.4, 3.4, 3.4, 3.4, 3.4, 3.4, 3.4, 3.5, 3.5, 3.5, 3.5, 3.5, 3.5, 3.5, 3.5, 3.5, 3.6, 3.6, 3.6, 3.6, 3.6, 3.6, 3.6, 3.6, 3.6, 3.7, 3.7, 3.7, 3.7, 3.7, 3.8, 3.8, 3.8, 3.8, 3.8, 3.8, 3.8, 3.8, 3.9, 3.9, 3.9, 3.9, 3.9, 4.0, 4.0, 4.0, 4.1, 4.1, 4.1, 4.2, 4.2, 4.2, 4.2, 4.3, 4.4, 4.4, 4.4, 4.5, 4.6, 4.7, 4.8, 4.9, 5.0, 5.2, 5.3, 5.5, 5.6, 5.8, 6.0, 8.0, 8.3, 10.0]\n"
     ]
    }
   ],
   "source": [
    "data.loc[data['ceiling_height'] > 10, 'ceiling_height'] = data.loc[data['ceiling_height'] > 10, 'ceiling_height']/10\n",
    "print(sorted(data['ceiling_height'].unique().round(1)))"
   ]
  },
  {
   "cell_type": "code",
   "execution_count": 81,
   "metadata": {},
   "outputs": [
    {
     "data": {
      "image/png": "[encoded data removed]",
      "text/plain": [
       "<Figure size 432x288 with 1 Axes>"
      ]
     },
     "metadata": {
      "needs_background": "light"
     },
     "output_type": "display_data"
    }
   ],
   "source": [
    "data['ceiling_height'].plot(bins=50, title='ceiling_height', kind='hist')\n",
    "plt.title('Распределение высоты потолка')\n",
    "plt.xlabel('Высота потолка')\n",
    "plt.ylabel('Количество квартир')\n",
    "plt.show()"
   ]
  },
  {
   "cell_type": "code",
   "execution_count": 82,
   "metadata": {},
   "outputs": [
    {
     "data": {
      "text/plain": [
       "count    23650.000000\n",
       "mean         2.697695\n",
       "std          0.237603\n",
       "min          1.000000\n",
       "25%          2.600000\n",
       "50%          2.650000\n",
       "75%          2.700000\n",
       "max         10.000000\n",
       "Name: ceiling_height, dtype: float64"
      ]
     },
     "execution_count": 82,
     "metadata": {},
     "output_type": "execute_result"
    }
   ],
   "source": [
    "data['ceiling_height'].describe()"
   ]
  },
  {
   "cell_type": "markdown",
   "metadata": {},
   "source": [
    " Будем считать, что диапазон высоты потолка начинается от 2.4 метра до 4.2 метра"
   ]
  },
  {
   "cell_type": "markdown",
   "metadata": {},
   "source": [
    "<div class=\"alert alert-info\"> <b>🎓 Комментарий студента:</b> \n",
    "    Замечание выполнено!\n",
    "</div>"
   ]
  },
  {
   "cell_type": "markdown",
   "metadata": {},
   "source": [
    "<div class=\"alert alert-info\"> <b>🎓 Комментарий студента V2:</b> \n",
    "    Заменим минимальное значения потолков равное 1м на медиану.\n",
    "</div>"
   ]
  },
  {
   "cell_type": "code",
   "execution_count": 83,
   "metadata": {},
   "outputs": [],
   "source": [
    "median_ceiling_height = data['ceiling_height'].median()\n",
    "data.loc[data['ceiling_height'] < 2.0, 'ceiling_height'] = median_ceiling_height\n"
   ]
  },
  {
   "cell_type": "markdown",
   "metadata": {},
   "source": [
    "<div class=\"alert alert-danger\">\n",
    "<b>😔 Необходимо исправить V2:</b> Я вижу, что обработаны большие значения, но минимальное значение потолкв по прежнему 1 м, стоит заменить эти данные на медиану\n",
    "</div>"
   ]
  },
  {
   "cell_type": "code",
   "execution_count": null,
   "metadata": {},
   "outputs": [],
   "source": []
  },
  {
   "cell_type": "markdown",
   "metadata": {},
   "source": [
    "**rooms:**"
   ]
  },
  {
   "cell_type": "code",
   "execution_count": 36,
   "metadata": {},
   "outputs": [],
   "source": [
    "# Поиск аномальных значений в rooms\n",
    "# print(sorted(data['rooms'].unique()))\n",
    "# print(len(data['rooms'].unique()))\n",
    "# print(data['rooms'].describe())\n",
    "\n",
    "# print()\n",
    "\n",
    "# # построим диаграмму размаха для числа комнат\n",
    "# data.boxplot('rooms')\n",
    "# plt.ylabel('число комнат')\n",
    "# plt.ylim(0, 20)\n",
    "# plt.show()"
   ]
  },
  {
   "cell_type": "code",
   "execution_count": 37,
   "metadata": {},
   "outputs": [],
   "source": [
    "# Устраним аномальное значение rooms\n",
    "# data = data.query('rooms != 0 & rooms < 7')\n",
    "\n",
    "# print('Количество уникальных значений:', len(data['rooms'].unique()))\n",
    "# print(data['rooms'].describe())\n",
    "# print()\n",
    "\n",
    "# # построим диаграмму размаха для числа комнат\n",
    "# data.boxplot('rooms')\n",
    "# plt.ylabel('число комнат')\n",
    "# plt.ylim(0.5, 10)\n",
    "# plt.show()\n"
   ]
  },
  {
   "cell_type": "markdown",
   "metadata": {},
   "source": [
    "<div class=\"alert alert-danger\">\n",
    "<s><b>😔 Необходимо исправить:</b> При продаже комнат в коммунальных квартирах или общежитиях обычно указывают много комнат в кваритре</s>\n",
    "</div>"
   ]
  },
  {
   "cell_type": "code",
   "execution_count": 87,
   "metadata": {},
   "outputs": [
    {
     "data": {
      "image/png": "[encoded data removed]",
      "text/plain": [
       "<Figure size 432x288 with 1 Axes>"
      ]
     },
     "metadata": {
      "needs_background": "light"
     },
     "output_type": "display_data"
    }
   ],
   "source": [
    "# диаграмма размаха для количества комнат\n",
    "data.boxplot(column='rooms')\n",
    "plt.title('Диаграмма размаха количества комнат')\n",
    "plt.ylabel('Количество комнат')\n",
    "plt.show()"
   ]
  },
  {
   "cell_type": "code",
   "execution_count": 88,
   "metadata": {},
   "outputs": [
    {
     "data": {
      "text/plain": [
       "[0, 1, 2, 3, 4, 5, 6, 7, 8, 9, 10, 11, 12, 14, 15, 16, 19]"
      ]
     },
     "execution_count": 88,
     "metadata": {},
     "output_type": "execute_result"
    }
   ],
   "source": [
    "sorted(data['rooms'].unique())"
   ]
  },
  {
   "cell_type": "markdown",
   "metadata": {},
   "source": [
    "Возьмем максимальное значение по правому усу диаграммы равной 6 комнатам. Больше 6 комнат может быть в комунальных квартирах или общежитиях. Комнаты равные 0, будем считать студию."
   ]
  },
  {
   "cell_type": "code",
   "execution_count": 89,
   "metadata": {},
   "outputs": [
    {
     "data": {
      "text/plain": [
       "count    23650.000000\n",
       "mean         2.070106\n",
       "std          1.078620\n",
       "min          0.000000\n",
       "25%          1.000000\n",
       "50%          2.000000\n",
       "75%          3.000000\n",
       "max         19.000000\n",
       "Name: rooms, dtype: float64"
      ]
     },
     "execution_count": 89,
     "metadata": {},
     "output_type": "execute_result"
    }
   ],
   "source": [
    "data['rooms'].describe()"
   ]
  },
  {
   "cell_type": "markdown",
   "metadata": {},
   "source": [
    "<div class=\"alert alert-info\"> <b>🎓 Комментарий студента:</b> \n",
    "    Оставил данные без изменения!\n",
    "</div>"
   ]
  },
  {
   "cell_type": "markdown",
   "metadata": {},
   "source": [
    "<div class=\"alert alert-success\">\n",
    "<b>👍 Успех:</b> Все верно!\n",
    "</div>"
   ]
  },
  {
   "cell_type": "markdown",
   "metadata": {},
   "source": [
    "**floors_total:**"
   ]
  },
  {
   "cell_type": "code",
   "execution_count": 41,
   "metadata": {},
   "outputs": [],
   "source": [
    "#проверим значения в столбце floors_total\n",
    "#sorted(data['floors_total'].unique())\n",
    "\n",
    "# print(sorted(data['floors_total'].unique()))\n",
    "# print(len(data['floors_total'].unique()))\n",
    "# print(data['floors_total'].describe())\n",
    "\n",
    "# print()\n",
    "\n",
    "# data.boxplot('floors_total')\n",
    "# plt.ylabel('количество этажей')\n",
    "# plt.ylim(0, 70)\n",
    "# plt.show()\n"
   ]
  },
  {
   "cell_type": "markdown",
   "metadata": {},
   "source": [
    "В таблице несколько аномально больших значений. По отсортированным уникальным данным предположим, что здания больше 36 этажей - является аномалией. Так же 0 - тоже является аномальным значением."
   ]
  },
  {
   "cell_type": "markdown",
   "metadata": {},
   "source": [
    "<div class=\"alert alert-danger\">\n",
    "<s><b>😔 Необходимо исправить:</b> В Санкт-Петербурге есть здания высотой 60 этажей, не нужно их удалять</s>\n",
    "</div>"
   ]
  },
  {
   "cell_type": "code",
   "execution_count": 42,
   "metadata": {},
   "outputs": [],
   "source": [
    "# # Так как всего 2 строки содержат аномальные значения, избавимся от них.\n",
    "# data = data.query('floors_total != 0  & floors_total < 37')\n",
    "\n",
    "# print('Количество уникальных значений:', len(data['floors_total'].unique()))\n",
    "# print(data['floors_total'].describe())\n",
    "\n",
    "# # построим диаграмму размаха для количества этажей в доме\n",
    "# data.boxplot('floors_total')\n",
    "# plt.ylabel('количество этажей')\n",
    "# plt.ylim(1, 37)\n",
    "# plt.show()"
   ]
  },
  {
   "cell_type": "code",
   "execution_count": null,
   "metadata": {},
   "outputs": [],
   "source": []
  },
  {
   "cell_type": "code",
   "execution_count": 90,
   "metadata": {},
   "outputs": [
    {
     "data": {
      "image/png": "[encoded data removed]",
      "text/plain": [
       "<Figure size 432x288 with 1 Axes>"
      ]
     },
     "metadata": {
      "needs_background": "light"
     },
     "output_type": "display_data"
    }
   ],
   "source": [
    "# диаграмма размаха для количества этажей\n",
    "data.boxplot(column='floors_total')\n",
    "plt.title('Диаграмма размаха количества этажей')\n",
    "plt.ylabel('Количество этажей')\n",
    "plt.show()"
   ]
  },
  {
   "cell_type": "code",
   "execution_count": 91,
   "metadata": {},
   "outputs": [
    {
     "name": "stdout",
     "output_type": "stream",
     "text": [
      "[1, 2, 3, 4, 5, 6, 7, 8, 9, 10, 11, 12, 13, 14, 15, 16, 17, 18, 19, 20, 21, 22, 23, 24, 25, 26, 27, 28, 29, 33, 34, 35, 36, 37, 52, 60]\n"
     ]
    }
   ],
   "source": [
    "print(sorted(data['floors_total'].unique()))"
   ]
  },
  {
   "cell_type": "markdown",
   "metadata": {},
   "source": [
    "Самое высокое жилое здание в Санкт-Петербурге: жилой комплекс \"Князь Александр Невский\". Общая высота этажей 37 метров. По правому усу диаграммы размаха максимум составляет примерно 29 метров."
   ]
  },
  {
   "cell_type": "markdown",
   "metadata": {},
   "source": [
    "<div class=\"alert alert-info\"> <b>🎓 Комментарий студента:</b> \n",
    "    Учел, что в Санкт-Петербурге есть здания высотой в 60 этажей.\n",
    "</div>"
   ]
  },
  {
   "cell_type": "markdown",
   "metadata": {},
   "source": [
    "<div class=\"alert alert-success\">\n",
    "<b>👍 Успех:</b> Все верно!\n",
    "</div>"
   ]
  },
  {
   "cell_type": "markdown",
   "metadata": {},
   "source": [
    "**balcony:**"
   ]
  },
  {
   "cell_type": "code",
   "execution_count": 45,
   "metadata": {},
   "outputs": [],
   "source": [
    "# проверим значения в столбце balcony\n",
    "\n",
    "# print(sorted(data['balcony'].unique()))\n",
    "# print(len(data['balcony'].unique()))\n",
    "# print(data['balcony'].describe())\n",
    "\n",
    "# print()\n",
    "\n",
    "# data.boxplot('balcony')\n",
    "# plt.ylabel('количество балконов')\n",
    "# plt.ylim(0, 8)\n",
    "# plt.show()\n"
   ]
  },
  {
   "cell_type": "code",
   "execution_count": 46,
   "metadata": {},
   "outputs": [],
   "source": [
    "# обработаем данные \n",
    "# data = data.query('balcony != 0')\n",
    "\n",
    "# print('Количество уникальных значений:', len(data['balcony'].unique()))\n",
    "# print(data['balcony'].describe())\n",
    "\n",
    "# print()\n",
    "\n",
    "# data.boxplot('balcony')\n",
    "# plt.ylabel('количество балконов')\n",
    "# plt.ylim(0, 6)\n",
    "# plt.show()\n",
    "\n"
   ]
  },
  {
   "cell_type": "markdown",
   "metadata": {},
   "source": [
    "<div class=\"alert alert-danger\">\n",
    "<s><b>😔 Необходимо исправить:</b> Почему ты удалил кваритры без балконов? Сколько данных ты уже удалил? Нельзя проводить удаление не посчитав, какой процент данных теряется. Допустимо удалить не более 10% от датасета (всего). Твой анализ ниже недостоверен, данные очень сильно искажены, поэтому проверить работу я не смогу. Сразу отмечу, что стоит исправить цену за квадратный метр, сейчас не понятно в каких она единицах (принято писать ее в тыс. рублей). Корреляцию Пирсона в работе использовать не нужно, не по всем даных ее можно считать, а даже если можно, то она показывает только линейную зависимость.</s>\n",
    "</div>"
   ]
  },
  {
   "cell_type": "code",
   "execution_count": 92,
   "metadata": {},
   "outputs": [
    {
     "data": {
      "image/png": "[encoded data removed]",
      "text/plain": [
       "<Figure size 432x288 with 1 Axes>"
      ]
     },
     "metadata": {
      "needs_background": "light"
     },
     "output_type": "display_data"
    }
   ],
   "source": [
    "# диаграмма размаха для количества этажей\n",
    "data.boxplot(column='balcony')\n",
    "plt.title('Диаграмма размаха количества балконов')\n",
    "plt.ylabel('Количество балконов')\n",
    "plt.show()"
   ]
  },
  {
   "cell_type": "code",
   "execution_count": 93,
   "metadata": {},
   "outputs": [
    {
     "name": "stdout",
     "output_type": "stream",
     "text": [
      "[0, 1, 2, 3, 4, 5]\n"
     ]
    }
   ],
   "source": [
    "print(sorted(data['balcony'].unique()))"
   ]
  },
  {
   "cell_type": "markdown",
   "metadata": {},
   "source": [
    "Балконы могут отсутствовать, Нулевое значение считаем корректным. По правому усу количество ровняется 2. Более двух - это уже редкость либо это может быть лоджия."
   ]
  },
  {
   "cell_type": "markdown",
   "metadata": {},
   "source": [
    "<div class=\"alert alert-info\"> <b>🎓 Комментарий студента:</b> \n",
    "    Устранил замечание!\n",
    "</div>"
   ]
  },
  {
   "cell_type": "markdown",
   "metadata": {},
   "source": [
    "<div class=\"alert alert-success\">\n",
    "<b>👍 Успех:</b> Все верно!\n",
    "</div>"
   ]
  },
  {
   "cell_type": "markdown",
   "metadata": {},
   "source": [
    "**last_price:**"
   ]
  },
  {
   "cell_type": "code",
   "execution_count": 94,
   "metadata": {},
   "outputs": [
    {
     "data": {
      "image/png": "[encoded data removed]",
      "text/plain": [
       "<Figure size 432x288 with 1 Axes>"
      ]
     },
     "metadata": {
      "needs_background": "light"
     },
     "output_type": "display_data"
    }
   ],
   "source": [
    "#построим диаграмму размаха для цены на момент снятия публикации\n",
    "data.boxplot(column='last_price')\n",
    "plt.title('Диаграмма размаха для цены на момент снятия публикации')\n",
    "plt.ylabel('Цена в рублях')\n",
    "plt.show()"
   ]
  },
  {
   "cell_type": "code",
   "execution_count": 95,
   "metadata": {},
   "outputs": [
    {
     "data": {
      "text/plain": [
       "count    2.365000e+04\n",
       "mean     6.541127e+06\n",
       "std      1.089640e+07\n",
       "min      1.219000e+04\n",
       "25%      3.400000e+06\n",
       "50%      4.650000e+06\n",
       "75%      6.799000e+06\n",
       "max      7.630000e+08\n",
       "Name: last_price, dtype: float64"
      ]
     },
     "execution_count": 95,
     "metadata": {},
     "output_type": "execute_result"
    }
   ],
   "source": [
    "data['last_price'].describe()"
   ]
  },
  {
   "cell_type": "code",
   "execution_count": 96,
   "metadata": {},
   "outputs": [
    {
     "name": "stdout",
     "output_type": "stream",
     "text": [
      "[12190.0, 430000.0, 440000.0, 450000.0, 470000.0, 480000.0, 490000.0, 500000.0, 520000.0, 530000.0, 550000.0, 560000.0, 565000.0, 580000.0, 585000.0, 590000.0, 600000.0, 620000.0, 630000.0, 650000.0, 660000.0, 680000.0, 690000.0, 700000.0, 710000.0, 720000.0, 730000.0, 740000.0, 750000.0, 760000.0, 770000.0, 777000.0, 780000.0, 790000.0, 799000.0, 800000.0, 820000.0, 850000.0, 860000.0, 869000.0, 870000.0, 880000.0, 890000.0, 900000.0, 910000.0, 920000.0, 945750.0, 950000.0, 965780.0, 970000.0, 980000.0, 990000.0, 995000.0, 999000.0, 999999.0, 1000000.0, 1010000.0, 1020000.0, 1030000.0, 1050000.0, 1060000.0, 1070000.0, 1080000.0, 1090000.0, 1099000.0, 1100000.0, 1110000.0, 1130000.0, 1150000.0, 1170000.0, 1180000.0, 1190000.0, 1199000.0, 1200000.0, 1220000.0, 1230000.0, 1240000.0, 1249000.0, 1250000.0, 1260000.0, 1270000.0, 1280000.0, 1290000.0, 1300000.0, 1310000.0, 1315000.0, 1320000.0, 1330000.0, 1350000.0, 1353000.0, 1360000.0, 1370000.0, 1380000.0, 1390000.0, 1399000.0, 1400000.0, 1420000.0, 1430000.0, 1440000.0, 1449900.0, 1450000.0, 1470000.0, 1480000.0, 1490000.0, 1495000.0, 1499000.0, 1500000.0, 1510000.0, 1540000.0, 1550000.0, 1555000.0, 1560000.0, 1570000.0, 1580000.0, 1590000.0, 1599000.0, 1600000.0, 1625000.0, 1630000.0, 1634000.0, 1640000.0, 1650000.0, 1670000.0, 1671240.0, 1678000.0, 1680000.0, 1686000.0, 1690000.0, 1690715.0, 1700000.0, 1704062.0, 1718857.0, 1720000.0, 1730000.0, 1737000.0, 1740000.0, 1748700.0, 1750000.0, 1760000.0, 1770000.0, 1780000.0, 1790000.0, 1799000.0, 1800000.0, 1810000.0, 1811250.0, 1820000.0, 1830000.0, 1840000.0, 1846230.0, 1846648.0, 1850000.0, 1860000.0, 1870000.0, 1880000.0, 1888000.0, 1890000.0, 1897000.0, 1899000.0, 1899400.0, 1900000.0, 1920000.0, 1930000.0, 1935000.0, 1938000.0, 1940000.0, 1945000.0, 1950000.0, 1960000.0, 1961100.0, 1968000.0, 1970000.0, 1980000.0, 1987584.0, 1990000.0, 1995000.0, 1999000.0, 1999999.0, 2000000.0, 2006000.0, 2030000.0, 2034000.0, 2050000.0, 2060000.0, 2070000.0, 2080000.0, 2090000.0, 2096864.0, 2098800.0, 2099000.0, 2100000.0, 2106799.0, 2112000.0, 2120000.0, 2130000.0, 2140000.0, 2148188.0, 2149000.0, 2150000.0, 2156000.0, 2160000.0, 2170000.0, 2175000.0, 2176000.0, 2179000.0, 2180000.0, 2182000.0, 2190000.0, 2194000.0, 2199000.0, 2200000.0, 2204000.0, 2205000.0, 2208000.0, 2210000.0, 2211000.0, 2220000.0, 2222222.0, 2228000.0, 2230000.0, 2235000.0, 2237962.0, 2241000.0, 2244375.0, 2250000.0, 2260000.0, 2268000.0, 2270000.0, 2280000.0, 2288800.0, 2290000.0, 2299000.0, 2300000.0, 2310000.0, 2320000.0, 2325000.0, 2330000.0, 2334420.0, 2340000.0, 2346000.0, 2348500.0, 2349000.0, 2350000.0, 2356000.0, 2360000.0, 2370000.0, 2380000.0, 2385000.0, 2390000.0, 2391000.0, 2399000.0, 2400000.0, 2401200.0, 2405000.0, 2406450.0, 2414306.0, 2414400.0, 2420000.0, 2426000.0, 2430000.0, 2438033.0, 2440000.0, 2442000.0, 2445000.0, 2449000.0, 2450000.0, 2454000.0, 2460000.0, 2470000.0, 2475000.0, 2479750.0, 2480000.0, 2490000.0, 2494000.0, 2495000.0, 2498540.0, 2499999.0, 2500000.0, 2515000.0, 2520000.0, 2527570.0, 2530000.0, 2533531.0, 2537830.0, 2539460.0, 2539492.0, 2540000.0, 2545454.0, 2549000.0, 2550000.0, 2555000.0, 2558000.0, 2560000.0, 2561000.0, 2565000.0, 2566270.0, 2568000.0, 2570000.0, 2574000.0, 2575000.0, 2580000.0, 2583900.0, 2590000.0, 2595000.0, 2596200.0, 2596800.0, 2599000.0, 2600000.0, 2609170.0, 2612347.0, 2620000.0, 2625000.0, 2630000.0, 2635000.0, 2636000.0, 2640000.0, 2645000.0, 2650000.0, 2653525.0, 2654000.0, 2655000.0, 2660000.0, 2664000.0, 2668000.0, 2670000.0, 2680000.0, 2685000.0, 2690000.0, 2695000.0, 2698000.0, 2699000.0, 2700000.0, 2710000.0, 2720000.0, 2730000.0, 2736214.0, 2740000.0, 2746000.0, 2750000.0, 2756000.0, 2760000.0, 2765000.0, 2766000.0, 2770000.0, 2780000.0, 2790000.0, 2795000.0, 2799000.0, 2799900.0, 2800000.0, 2804250.0, 2805000.0, 2810000.0, 2815000.0, 2820000.0, 2830000.0, 2840000.0, 2846000.0, 2848000.0, 2849000.0, 2849999.0, 2850000.0, 2851000.0, 2855000.0, 2860000.0, 2860200.0, 2865000.0, 2870000.0, 2871000.0, 2874906.0, 2875000.0, 2876100.0, 2880000.0, 2885000.0, 2888000.0, 2890000.0, 2895000.0, 2897000.0, 2899000.0, 2899900.0, 2900000.0, 2903659.0, 2920000.0, 2925000.0, 2926000.0, 2930000.0, 2940000.0, 2945000.0, 2945600.0, 2948000.0, 2950000.0, 2952500.0, 2953000.0, 2960000.0, 2960431.0, 2967000.0, 2970000.0, 2975000.0, 2980000.0, 2982847.0, 2985000.0, 2990000.0, 2995000.0, 2997342.0, 2998000.0, 2999000.0, 2999999.0, 3000000.0, 3000060.0, 3001767.0, 3015000.0, 3019260.0, 3020000.0, 3024353.0, 3025000.0, 3030000.0, 3035000.0, 3040000.0, 3041000.0, 3045000.0, 3050000.0, 3055000.0, 3060000.0, 3062796.0, 3063600.0, 3070000.0, 3075000.0, 3080000.0, 3085000.0, 3085024.0, 3088000.0, 3089722.0, 3090000.0, 3094680.0, 3095000.0, 3099000.0, 3100000.0, 3100001.0, 3103000.0, 3109347.0, 3110000.0, 3114406.0, 3120000.0, 3122000.0, 3125000.0, 3128418.0, 3130000.0, 3134850.0, 3140000.0, 3145000.0, 3148000.0, 3149000.0, 3150000.0, 3150021.0, 3160000.0, 3170000.0, 3176737.0, 3180000.0, 3180500.0, 3182400.0, 3185000.0, 3190000.0, 3195000.0, 3198000.0, 3199000.0, 3200000.0, 3204000.0, 3210000.0, 3210440.0, 3215000.0, 3216089.0, 3218008.0, 3220000.0, 3225000.0, 3227000.0, 3230000.0, 3230765.0, 3233007.0, 3237314.0, 3238000.0, 3240000.0, 3240352.0, 3241540.0, 3244000.0, 3245000.0, 3247000.0, 3249000.0, 3250000.0, 3253000.0, 3255000.0, 3258925.0, 3260000.0, 3270000.0, 3275000.0, 3277000.0, 3280000.0, 3286000.0, 3288000.0, 3288600.0, 3290000.0, 3295000.0, 3299000.0, 3300000.0, 3302520.0, 3305000.0, 3307095.0, 3310000.0, 3315000.0, 3316541.0, 3320000.0, 3324108.0, 3328000.0, 3330000.0, 3331500.0, 3335000.0, 3340000.0, 3342000.0, 3343000.0, 3345000.0, 3349000.0, 3350000.0, 3355000.0, 3358000.0, 3360000.0, 3364930.0, 3369000.0, 3370000.0, 3375000.0, 3380000.0, 3381777.0, 3385000.0, 3390000.0, 3392333.0, 3394152.0, 3395000.0, 3398000.0, 3399000.0, 3400000.0, 3405000.0, 3406000.0, 3408000.0, 3413000.0, 3415000.0, 3420000.0, 3425000.0, 3429000.0, 3430000.0, 3433500.0, 3434000.0, 3435000.0, 3439200.0, 3440000.0, 3444000.0, 3445000.0, 3449000.0, 3450000.0, 3455000.0, 3456000.0, 3457000.0, 3458944.0, 3460000.0, 3465000.0, 3469000.0, 3469200.0, 3470000.0, 3470502.0, 3475000.0, 3480000.0, 3485000.0, 3490000.0, 3490304.0, 3495000.0, 3498000.0, 3499000.0, 3499999.0, 3500000.0, 3500100.0, 3503296.0, 3511000.0, 3515000.0, 3520000.0, 3521100.0, 3524454.0, 3525000.0, 3530000.0, 3535000.0, 3540000.0, 3546000.0, 3549000.0, 3550000.0, 3555000.0, 3556740.0, 3560000.0, 3564000.0, 3570000.0, 3575000.0, 3577388.0, 3579280.0, 3580000.0, 3584000.0, 3585000.0, 3589000.0, 3590000.0, 3595000.0, 3599000.0, 3599999.0, 3600000.0, 3604000.0, 3610000.0, 3620000.0, 3621000.0, 3624000.0, 3629000.0, 3630000.0, 3638724.0, 3640000.0, 3643000.0, 3644640.0, 3645000.0, 3649000.0, 3650000.0, 3650217.0, 3660000.0, 3666000.0, 3670000.0, 3675000.0, 3675420.0, 3676365.0, 3680000.0, 3681288.0, 3685000.0, 3687397.0, 3687480.0, 3687503.0, 3689762.0, 3690000.0, 3692000.0, 3695000.0, 3699000.0, 3700000.0, 3701000.0, 3702400.0, 3707000.0, 3710000.0, 3715000.0, 3715100.0, 3720000.0, 3724812.0, 3725000.0, 3730000.0, 3735000.0, 3735325.0, 3737000.0, 3740000.0, 3745000.0, 3749000.0, 3750000.0, 3753180.0, 3758556.0, 3759000.0, 3760000.0, 3770000.0, 3777000.0, 3780000.0, 3785000.0, 3785080.0, 3786000.0, 3790000.0, 3794000.0, 3795000.0, 3796000.0, 3797250.0, 3799000.0, 3800000.0, 3805000.0, 3806504.0, 3810000.0, 3814524.0, 3815000.0, 3820000.0, 3825000.0, 3830000.0, 3833000.0, 3835000.0, 3837000.0, 3840000.0, 3845000.0, 3849000.0, 3850000.0, 3859000.0, 3860000.0, 3865000.0, 3870000.0, 3875000.0, 3880000.0, 3885000.0, 3886000.0, 3890000.0, 3895000.0, 3899000.0, 3899999.0, 3900000.0, 3905000.0, 3910000.0, 3920000.0, 3925000.0, 3930000.0, 3935000.0, 3936700.0, 3937424.0, 3940000.0, 3949000.0, 3950000.0, 3950134.0, 3959600.0, 3960000.0, 3960396.0, 3961140.0, 3965000.0, 3970000.0, 3973464.0, 3975000.0, 3978000.0, 3980000.0, 3986000.0, 3987000.0, 3988000.0, 3990000.0, 3990900.0, 3992300.0, 3994000.0, 3995000.0, 3997000.0, 3999000.0, 3999999.0, 4000000.0, 4006000.0, 4010000.0, 4020000.0, 4025000.0, 4027000.0, 4030000.0, 4032000.0, 4032740.0, 4040000.0, 4045000.0, 4049000.0, 4050000.0, 4060000.0, 4070000.0, 4072000.0, 4075000.0, 4078000.0, 4080000.0, 4089000.0, 4090000.0, 4094000.0, 4098000.0, 4099000.0, 4100000.0, 4101534.0, 4103288.0, 4108100.0, 4110000.0, 4111200.0, 4115000.0, 4120000.0, 4125000.0, 4128115.0, 4129000.0, 4130000.0, 4132020.0, 4134000.0, 4135000.0, 4135800.0, 4136843.0, 4139000.0, 4140000.0, 4142016.0, 4145000.0, 4147200.0, 4148000.0, 4149000.0, 4150000.0, 4157000.0, 4157100.0, 4160000.0, 4167000.0, 4169000.0, 4170000.0, 4175000.0, 4178000.0, 4180000.0, 4185000.0, 4190000.0, 4195000.0, 4198000.0, 4198017.0, 4199000.0, 4200000.0, 4201475.0, 4213395.0, 4217000.0, 4217233.0, 4220000.0, 4225000.0, 4229988.0, 4230000.0, 4238000.0, 4240000.0, 4243000.0, 4245000.0, 4246000.0, 4250000.0, 4252249.0, 4253000.0, 4260000.0, 4262941.0, 4270000.0, 4275000.0, 4275062.0, 4277000.0, 4280000.0, 4282546.0, 4283300.0, 4285000.0, 4288000.0, 4290000.0, 4295000.0, 4296240.0, 4299000.0, 4300000.0, 4307000.0, 4310000.0, 4318000.0, 4319000.0, 4320000.0, 4325000.0, 4330000.0, 4340000.0, 4342000.0, 4345000.0, 4349000.0, 4350000.0, 4360000.0, 4365000.0, 4368750.0, 4369268.0, 4370000.0, 4371192.0, 4375000.0, 4380000.0, 4385000.0, 4386000.0, 4390000.0, 4395000.0, 4398307.0, 4399000.0, 4400000.0, 4403541.0, 4410000.0, 4412094.0, 4420000.0, 4421650.0, 4425000.0, 4430000.0, 4433484.0, 4435000.0, 4440000.0, 4448520.0, 4449000.0, 4450000.0, 4460000.0, 4465000.0, 4470000.0, 4472000.0, 4475000.0, 4478000.0, 4479300.0, 4480000.0, 4482900.0, 4488000.0, 4490000.0, 4495000.0, 4498000.0, 4499000.0, 4499999.0, 4500000.0, 4510000.0, 4512000.0, 4520000.0, 4522000.0, 4525000.0, 4530000.0, 4538000.0, 4540000.0, 4544000.0, 4550000.0, 4555000.0, 4558637.0, 4560000.0, 4570000.0, 4574160.0, 4575000.0, 4580000.0, 4581000.0, 4585000.0, 4589000.0, 4590000.0, 4593600.0, 4594000.0, 4595000.0, 4599000.0, 4600000.0, 4600006.0, 4610000.0, 4620000.0, 4625000.0, 4626540.0, 4630000.0, 4632000.0, 4635000.0, 4636000.0, 4640000.0, 4644000.0, 4646000.0, 4647000.0, 4650000.0, 4650259.0, 4658000.0, 4658410.0, 4660000.0, 4660400.0, 4665000.0, 4670000.0, 4675000.0, 4680000.0, 4685000.0, 4690000.0, 4692000.0, 4695000.0, 4699000.0, 4700000.0, 4700284.0, 4709190.0, 4710000.0, 4712500.0, 4720000.0, 4725000.0, 4730000.0, 4740000.0, 4745000.0, 4746000.0, 4749000.0, 4750000.0, 4754940.0, 4755000.0, 4755962.0, 4760935.0, 4768714.0, 4769000.0, 4770000.0, 4770338.0, 4775000.0, 4776000.0, 4777000.0, 4779000.0, 4779014.0, 4780000.0, 4785000.0, 4789500.0, 4790000.0, 4792000.0, 4794000.0, 4796000.0, 4798000.0, 4799000.0, 4799500.0, 4800000.0, 4800227.0, 4802250.0, 4820000.0, 4823000.0, 4825000.0, 4830000.0, 4833675.0, 4835000.0, 4838050.0, 4840000.0, 4845000.0, 4846000.0, 4847000.0, 4850000.0, 4852000.0, 4860000.0, 4861000.0, 4865000.0, 4868000.0, 4870000.0, 4873503.0, 4875000.0, 4880000.0, 4883913.0, 4885000.0, 4887000.0, 4890000.0, 4895796.0, 4897000.0, 4898000.0, 4899000.0, 4900000.0, 4904000.0, 4907999.0, 4919880.0, 4920000.0, 4924000.0, 4925000.0, 4928000.0, 4930000.0, 4931398.0, 4935000.0, 4939000.0, 4940000.0, 4940790.0, 4949000.0, 4950000.0, 4960000.0, 4970000.0, 4972336.0, 4974820.0, 4980000.0, 4985000.0, 4990000.0, 4995000.0, 4996750.0, 4998000.0, 4999000.0, 4999999.0, 5000000.0, 5000456.0, 5009000.0, 5015195.0, 5020000.0, 5026719.0, 5026792.0, 5030000.0, 5035000.0, 5040000.0, 5045000.0, 5047000.0, 5048000.0, 5049000.0, 5049998.0, 5050000.0, 5051000.0, 5055000.0, 5060000.0, 5067000.0, 5070000.0, 5080000.0, 5090000.0, 5095000.0, 5097439.0, 5098000.0, 5099000.0, 5100000.0, 5110000.0, 5120000.0, 5125000.0, 5127100.0, 5129783.0, 5130000.0, 5140000.0, 5142565.0, 5144000.0, 5148000.0, 5150000.0, 5155000.0, 5160000.0, 5170000.0, 5180000.0, 5182000.0, 5185000.0, 5190000.0, 5194638.0, 5195000.0, 5196000.0, 5199000.0, 5199999.0, 5200000.0, 5200140.0, 5201200.0, 5205000.0, 5210000.0, 5215000.0, 5216000.0, 5220000.0, 5228000.0, 5230000.0, 5235000.0, 5235450.0, 5239000.0, 5240000.0, 5248000.0, 5249000.0, 5249478.0, 5250000.0, 5251000.0, 5254628.0, 5255000.0, 5260000.0, 5265000.0, 5270000.0, 5270670.0, 5280000.0, 5289476.0, 5290000.0, 5295000.0, 5299000.0, 5300000.0, 5301000.0, 5302405.0, 5307000.0, 5310000.0, 5310196.0, 5310655.0, 5318994.0, 5320000.0, 5324000.0, 5325000.0, 5329100.0, 5330000.0, 5336000.0, 5340000.0, 5342000.0, 5350000.0, 5353300.0, 5355000.0, 5360000.0, 5370000.0, 5374015.0, 5380000.0, 5380992.0, 5386325.0, 5390000.0, 5395000.0, 5395770.0, 5399000.0, 5400000.0, 5400043.0, 5410000.0, 5411124.0, 5420000.0, 5424570.0, 5425000.0, 5426412.0, 5427000.0, 5430000.0, 5437000.0, 5438000.0, 5440000.0, 5442000.0, 5446075.0, 5449000.0, 5450000.0, 5460000.0, 5461890.0, 5467707.0, 5467950.0, 5470000.0, 5480000.0, 5482990.0, 5486000.0, 5488787.0, 5490000.0, 5491060.0, 5495000.0, 5496074.0, 5499000.0, 5500000.0, 5508000.0, 5510000.0, 5515000.0, 5520000.0, 5525000.0, 5530000.0, 5535000.0, 5537072.0, 5540000.0, 5550000.0, 5552240.0, 5556275.0, 5558560.0, 5560000.0, 5570000.0, 5571360.0, 5575000.0, 5578000.0, 5578947.0, 5580000.0, 5580279.0, 5580791.0, 5589000.0, 5590000.0, 5595000.0, 5595400.0, 5597000.0, 5599000.0, 5599725.0, 5600000.0, 5602774.0, 5604000.0, 5610000.0, 5613390.0, 5614800.0, 5616379.0, 5618733.0, 5619468.0, 5620020.0, 5620111.0, 5625000.0, 5630000.0, 5633000.0, 5635000.0, 5636656.0, 5637500.0, 5645078.0, 5649000.0, 5650000.0, 5654000.0, 5670000.0, 5672000.0, 5675000.0, 5677050.0, 5679678.0, 5680000.0, 5684221.0, 5690000.0, 5691410.0, 5694000.0, 5695000.0, 5696000.0, 5699000.0, 5700000.0, 5705000.0, 5720000.0, 5723761.0, 5725000.0, 5726475.0, 5730000.0, 5740000.0, 5748000.0, 5749000.0, 5750000.0, 5752000.0, 5760000.0, 5766000.0, 5770757.0, 5772000.0, 5777000.0, 5779000.0, 5780000.0, 5786000.0, 5790000.0, 5794000.0, 5799000.0, 5800000.0, 5804404.0, 5809000.0, 5810000.0, 5812413.0, 5812504.0, 5815000.0, 5817600.0, 5820000.0, 5825000.0, 5827690.0, 5830000.0, 5830007.0, 5830160.0, 5830583.0, 5832558.0, 5835000.0, 5840000.0, 5844438.0, 5849000.0, 5850000.0, 5863140.0, 5865000.0, 5867500.0, 5870000.0, 5874000.0, 5875000.0, 5880000.0, 5881000.0, 5881384.0, 5882539.0, 5885900.0, 5890000.0, 5894000.0, 5898000.0, 5899900.0, 5900000.0, 5901000.0, 5910000.0, 5911757.0, 5913000.0, 5915000.0, 5920000.0, 5923340.0, 5925000.0, 5925657.0, 5930000.0, 5930908.0, 5935000.0, 5940000.0, 5941091.0, 5949000.0, 5950000.0, 5951934.0, 5953044.0, 5954000.0, 5955103.0, 5960000.0, 5963000.0, 5966000.0, 5967734.0, 5968644.0, 5970000.0, 5971494.0, 5980000.0, 5984000.0, 5985000.0, 5990000.0, 5993000.0, 5995000.0, 5999000.0, 5999999.0, 6000000.0, 6000001.0, 6012000.0, 6021683.0, 6025000.0, 6029433.0, 6030000.0, 6036000.0, 6040000.0, 6042477.0, 6048770.0, 6049000.0, 6050000.0, 6051191.0, 6051250.0, 6060000.0, 6070000.0, 6075000.0, 6080000.0, 6082790.0, 6084227.0, 6085000.0, 6088000.0, 6090000.0, 6090700.0, 6099000.0, 6100000.0, 6100330.0, 6106066.0, 6110000.0, 6120000.0, 6140000.0, 6140693.0, 6142000.0, 6148000.0, 6150000.0, 6151120.0, 6160000.0, 6165000.0, 6170000.0, 6174438.0, 6177600.0, 6177643.0, 6180000.0, 6188957.0, 6190000.0, 6195000.0, 6199000.0, 6199424.0, 6200000.0, 6201000.0, 6204472.0, 6208824.0, 6209835.0, 6210000.0, 6215000.0, 6216981.0, 6220000.0, 6222000.0, 6225000.0, 6225832.0, 6230000.0, 6233148.0, 6234000.0, 6240000.0, 6248700.0, 6249600.0, 6250000.0, 6255000.0, 6260000.0, 6264000.0, 6265000.0, 6270000.0, 6272743.0, 6275000.0, 6276000.0, 6276110.0, 6280000.0, 6283000.0, 6285000.0, 6285480.0, 6287251.0, 6290000.0, 6295000.0, 6297880.0, 6299000.0, 6300000.0, 6300050.0, 6315000.0, 6317640.0, 6320000.0, 6324000.0, 6325000.0, 6329970.0, 6338000.0, 6350000.0, 6360136.0, 6361772.0, 6365000.0, 6366658.0, 6375000.0, 6379000.0, 6380000.0, 6385000.0, 6390000.0, 6394800.0, 6395000.0, 6399000.0, 6400000.0, 6400333.0, 6405000.0, 6413182.0, 6416000.0, 6417500.0, 6420000.0, 6425000.0, 6430000.0, 6435720.0, 6440000.0, 6447744.0, 6450000.0, 6460000.0, 6464000.0, 6470000.0, 6480000.0, 6485000.0, 6490000.0, 6494357.0, 6495000.0, 6497000.0, 6498000.0, 6499000.0, 6499999.0, 6500000.0, 6507813.0, 6519750.0, 6520000.0, 6525000.0, 6529500.0, 6540000.0, 6549999.0, 6550000.0, 6552700.0, 6555000.0, 6570000.0, 6575000.0, 6580000.0, 6590000.0, 6590220.0, 6595000.0, 6595420.0, 6596000.0, 6598000.0, 6599000.0, 6600000.0, 6607000.0, 6610000.0, 6615000.0, 6620000.0, 6625000.0, 6628500.0, 6630000.0, 6640000.0, 6649000.0, 6650000.0, 6660000.0, 6670000.0, 6680000.0, 6681000.0, 6685000.0, 6690000.0, 6695000.0, 6698000.0, 6699000.0, 6700000.0, 6712399.0, 6720000.0, 6725000.0, 6735600.0, 6740000.0, 6750000.0, 6755060.0, 6757702.0, 6760000.0, 6763392.0, 6770000.0, 6772762.0, 6775000.0, 6780000.0, 6790000.0, 6799000.0, 6800000.0, 6812033.0, 6816150.0, 6830000.0, 6834000.0, 6849000.0, 6850000.0, 6860000.0, 6864000.0, 6868120.0, 6870000.0, 6875055.0, 6880000.0, 6890000.0, 6899000.0, 6900000.0, 6903805.0, 6910000.0, 6920000.0, 6921909.0, 6925000.0, 6930000.0, 6935760.0, 6940637.0, 6945000.0, 6950000.0, 6958000.0, 6960000.0, 6968000.0, 6970000.0, 6980000.0, 6985230.0, 6990000.0, 6992000.0, 6995000.0, 6996000.0, 6997000.0, 6997502.0, 6999000.0, 7000000.0, 7002000.0, 7008000.0, 7018000.0, 7020000.0, 7030000.0, 7040000.0, 7049000.0, 7050000.0, 7066624.0, 7070434.0, 7076583.0, 7080000.0, 7090000.0, 7098000.0, 7099000.0, 7100000.0, 7102793.0, 7115634.0, 7120000.0, 7125000.0, 7130000.0, 7139645.0, 7140000.0, 7143060.0, 7145000.0, 7150000.0, 7160000.0, 7169260.0, 7170000.0, 7180000.0, 7190000.0, 7200000.0, 7201000.0, 7203654.0, 7210000.0, 7225000.0, 7228254.0, 7232310.0, 7240000.0, 7249000.0, 7250000.0, 7253540.0, 7257317.0, 7260000.0, 7263760.0, 7265000.0, 7270000.0, 7280000.0, 7283286.0, 7285000.0, 7290000.0, 7297000.0, 7299000.0, 7300000.0, 7305000.0, 7310000.0, 7347000.0, 7350000.0, 7350290.0, 7350900.0, 7360000.0, 7365000.0, 7367016.0, 7370000.0, 7375000.0, 7380000.0, 7390000.0, 7398000.0, 7399000.0, 7400000.0, 7407105.0, 7410000.0, 7430000.0, 7433186.0, 7440000.0, 7444176.0, 7445866.0, 7448000.0, 7450000.0, 7455637.0, 7470000.0, 7475000.0, 7476560.0, 7480000.0, 7490000.0, 7497600.0, 7499000.0, 7500000.0, 7500800.0, 7501000.0, 7515162.0, 7520000.0, 7535000.0, 7540000.0, 7545600.0, 7548000.0, 7550000.0, 7550875.0, 7557000.0, 7560000.0, 7563000.0, 7570000.0, 7575000.0, 7580000.0, 7585000.0, 7590000.0, 7600000.0, 7602000.0, 7610814.0, 7620000.0, 7625000.0, 7640000.0, 7650000.0, 7678000.0, 7680000.0, 7685993.0, 7690000.0, 7697000.0, 7700000.0, 7701650.0, 7703451.0, 7722600.0, 7725000.0, 7728000.0, 7730000.0, 7740000.0, 7750000.0, 7753921.0, 7760000.0, 7769900.0, 7770000.0, 7775417.0, 7777000.0, 7777777.0, 7778000.0, 7780000.0, 7790000.0, 7795000.0, 7799000.0, 7799999.0, 7800000.0, 7803000.0, 7806000.0, 7807800.0, 7810000.0, 7820000.0, 7825000.0, 7829000.0, 7835000.0, 7849000.0, 7850000.0, 7867616.0, 7870000.0, 7875000.0, 7888000.0, 7890000.0, 7894000.0, 7895000.0, 7900000.0, 7905000.0, 7907820.0, 7915000.0, 7920000.0, 7930000.0, 7940000.0, 7950000.0, 7952000.0, 7952112.0, 7957000.0, 7960000.0, 7970000.0, 7980000.0, 7985250.0, 7986000.0, 7990000.0, 7995000.0, 7999000.0, 7999999.0, 8000000.0, 8001805.0, 8010000.0, 8029000.0, 8037000.0, 8040000.0, 8045000.0, 8047185.0, 8050000.0, 8055000.0, 8060000.0, 8080000.0, 8090000.0, 8090518.0, 8100000.0, 8107000.0, 8130000.0, 8137395.0, 8150000.0, 8157700.0, 8160000.0, 8170000.0, 8176000.0, 8179000.0, 8180000.0, 8183000.0, 8190000.0, 8200000.0, 8209300.0, 8210000.0, 8220312.0, 8235000.0, 8245000.0, 8250000.0, 8255565.0, 8260000.0, 8270000.0, 8274950.0, 8275000.0, 8280000.0, 8290000.0, 8299000.0, 8300000.0, 8320000.0, 8326824.0, 8346152.0, 8350000.0, 8351000.0, 8353000.0, 8354205.0, 8364000.0, 8370000.0, 8380000.0, 8385000.0, 8389000.0, 8390000.0, 8399000.0, 8400000.0, 8418000.0, 8420000.0, 8435051.0, 8440000.0, 8449000.0, 8450000.0, 8455000.0, 8466000.0, 8470000.0, 8477000.0, 8480000.0, 8484000.0, 8484786.0, 8488000.0, 8490000.0, 8495000.0, 8499000.0, 8500000.0, 8520000.0, 8540000.0, 8544000.0, 8545000.0, 8548000.0, 8549000.0, 8550000.0, 8555000.0, 8555400.0, 8560000.0, 8570000.0, 8577905.0, 8580000.0, 8585256.0, 8589000.0, 8590000.0, 8595000.0, 8599999.0, 8600000.0, 8603000.0, 8625000.0, 8630000.0, 8635000.0, 8639000.0, 8641044.0, 8650000.0, 8660000.0, 8680000.0, 8690000.0, 8700000.0, 8703493.0, 8715000.0, 8715960.0, 8721680.0, 8725246.0, 8740000.0, 8750000.0, 8755014.0, 8760000.0, 8765000.0, 8770000.0, 8772000.0, 8778000.0, 8780000.0, 8787819.0, 8800000.0, 8810000.0, 8812000.0, 8820000.0, 8820890.0, 8822000.0, 8825000.0, 8835000.0, 8840000.0, 8850000.0, 8860000.0, 8865000.0, 8870000.0, 8880000.0, 8888888.0, 8890000.0, 8899000.0, 8900000.0, 8920262.0, 8925000.0, 8927070.0, 8931645.0, 8940000.0, 8945261.0, 8950000.0, 8970000.0, 8971000.0, 8975000.0, 8980000.0, 8985000.0, 8987413.0, 8990000.0, 8993202.0, 8995000.0, 8999000.0, 8999999.0, 9000000.0, 9009000.0, 9016000.0, 9020000.0, 9025000.0, 9046130.0, 9050000.0, 9060000.0, 9070000.0, 9072000.0, 9080000.0, 9090000.0, 9095000.0, 9100000.0, 9133890.0, 9140000.0, 9150000.0, 9170000.0, 9190000.0, 9199000.0, 9199888.0, 9200000.0, 9206000.0, 9211000.0, 9230000.0, 9240000.0, 9246000.0, 9250000.0, 9270000.0, 9272765.0, 9278000.0, 9280000.0, 9283468.0, 9290000.0, 9295000.0, 9300000.0, 9315000.0, 9329693.0, 9330000.0, 9333333.0, 9349988.0, 9350000.0, 9354231.0, 9359901.0, 9360000.0, 9380000.0, 9386000.0, 9390000.0, 9398000.0, 9400000.0, 9410000.0, 9411080.0, 9420000.0, 9442409.0, 9450000.0, 9470000.0, 9476000.0, 9480000.0, 9480400.0, 9490000.0, 9495000.0, 9499000.0, 9500000.0, 9516000.0, 9520000.0, 9525760.0, 9530000.0, 9555000.0, 9565000.0, 9567276.0, 9570000.0, 9590000.0, 9591727.0, 9599000.0, 9600000.0, 9607000.0, 9609600.0, 9610305.0, 9635000.0, 9635328.0, 9640000.0, 9649000.0, 9650000.0, 9680000.0, 9684619.0, 9685000.0, 9690000.0, 9699000.0, 9700000.0, 9735000.0, 9742915.0, 9750000.0, 9753380.0, 9788348.0, 9790000.0, 9792000.0, 9799000.0, 9800000.0, 9822904.0, 9828000.0, 9830000.0, 9833970.0, 9847530.0, 9850000.0, 9856000.0, 9860000.0, 9870000.0, 9888247.0, 9890000.0, 9897258.0, 9899000.0, 9900000.0, 9917600.0, 9950000.0, 9960000.0, 9962480.0, 9970000.0, 9973000.0, 9975000.0, 9977000.0, 9980000.0, 9980833.0, 9983000.0, 9990000.0, 9994000.0, 9998000.0, 9999000.0, 9999870.0, 9999999.0, 10000000.0, 10005649.0, 10012800.0, 10018000.0, 10019000.0, 10030000.0, 10038000.0, 10048500.0, 10050000.0, 10078000.0, 10090000.0, 10100000.0, 10117500.0, 10120000.0, 10130000.0, 10140000.0, 10150000.0, 10186401.0, 10197200.0, 10198000.0, 10200000.0, 10213688.0, 10225000.0, 10243350.0, 10250000.0, 10260000.0, 10296437.0, 10296911.0, 10300000.0, 10304000.0, 10305000.0, 10335000.0, 10338200.0, 10348000.0, 10350000.0, 10360000.0, 10366538.0, 10376552.0, 10379600.0, 10398000.0, 10400000.0, 10411000.0, 10412000.0, 10430000.0, 10440000.0, 10450000.0, 10480000.0, 10487000.0, 10490000.0, 10499000.0, 10500000.0, 10510000.0, 10517631.0, 10540000.0, 10550000.0, 10573000.0, 10580800.0, 10590000.0, 10599999.0, 10600000.0, 10624000.0, 10626000.0, 10635000.0, 10644939.0, 10648000.0, 10650000.0, 10651230.0, 10660000.0, 10665000.0, 10681500.0, 10690000.0, 10700000.0, 10737350.0, 10750000.0, 10767773.0, 10770000.0, 10778000.0, 10788000.0, 10790000.0, 10800000.0, 10815000.0, 10824000.0, 10828140.0, 10850000.0, 10860000.0, 10861350.0, 10880000.0, 10880100.0, 10890000.0, 10895000.0, 10898000.0, 10900000.0, 10912400.0, 10921556.0, 10949000.0, 10950000.0, 10965000.0, 10980000.0, 10990000.0, 10999000.0, 11000000.0, 11050000.0, 11060000.0, 11066961.0, 11067416.0, 11080008.0, 11083220.0, 11094336.0, 11100000.0, 11150000.0, 11170500.0, 11199000.0, 11200000.0, 11204000.0, 11207364.0, 11230000.0, 11250000.0, 11270000.0, 11277800.0, 11300000.0, 11305000.0, 11315000.0, 11320000.0, 11350000.0, 11359000.0, 11390000.0, 11399700.0, 11400000.0, 11403209.0, 11441000.0, 11446000.0, 11450000.0, 11464000.0, 11472552.0, 11475000.0, 11475975.0, 11490000.0, 11498000.0, 11499000.0, 11500000.0, 11507200.0, 11520000.0, 11545000.0, 11562376.0, 11564288.0, 11599000.0, 11600000.0, 11609000.0, 11615600.0, 11615928.0, 11620701.0, 11634919.0, 11640000.0, 11650000.0, 11675484.0, 11700000.0, 11703000.0, 11703236.0, 11730000.0, 11748225.0, 11750000.0, 11757590.0, 11768000.0, 11790000.0, 11793000.0, 11795000.0, 11800000.0, 11809670.0, 11820000.0, 11840000.0, 11850000.0, 11858000.0, 11866860.0, 11879250.0, 11880000.0, 11894400.0, 11900000.0, 11935000.0, 11939000.0, 11940000.0, 11950000.0, 11965000.0, 11967575.0, 11968000.0, 11970000.0, 11980000.0, 11983878.0, 11990000.0, 11995000.0, 11996000.0, 11997000.0, 11999000.0, 12000000.0, 12036000.0, 12054000.0, 12084000.0, 12100000.0, 12150000.0, 12160000.0, 12180000.0, 12185600.0, 12190000.0, 12200000.0, 12231091.0, 12250000.0, 12263600.0, 12288000.0, 12300000.0, 12303979.0, 12306168.0, 12350000.0, 12354000.0, 12360000.0, 12371278.0, 12390000.0, 12399000.0, 12400000.0, 12450000.0, 12480000.0, 12480750.0, 12490000.0, 12499000.0, 12500000.0, 12508697.0, 12511000.0, 12530000.0, 12561120.0, 12580000.0, 12585022.0, 12590000.0, 12596900.0, 12600000.0, 12610000.0, 12614850.0, 12615831.0, 12645000.0, 12650000.0, 12665000.0, 12680000.0, 12687600.0, 12690000.0, 12699000.0, 12700000.0, 12703590.0, 12705000.0, 12710000.0, 12734000.0, 12738000.0, 12740070.0, 12750000.0, 12780000.0, 12789000.0, 12790000.0, 12800000.0, 12849209.0, 12850000.0, 12870000.0, 12890000.0, 12900000.0, 12922000.0, 12925653.0, 12950000.0, 12959000.0, 12980000.0, 12990000.0, 12997000.0, 12998000.0, 12999000.0, 13000000.0, 13005105.0, 13030000.0, 13040000.0, 13043000.0, 13043097.0, 13050000.0, 13100000.0, 13150000.0, 13179000.0, 13180000.0, 13200000.0, 13230000.0, 13235000.0, 13250000.0, 13289860.0, 13290000.0, 13299000.0, 13300000.0, 13310800.0, 13330000.0, 13333000.0, 13351000.0, 13400000.0, 13450000.0, 13460000.0, 13479200.0, 13480000.0, 13490000.0, 13499000.0, 13500000.0, 13520000.0, 13544976.0, 13545000.0, 13550000.0, 13580000.0, 13590000.0, 13595000.0, 13605800.0, 13650000.0, 13660000.0, 13684000.0, 13690000.0, 13700000.0, 13705200.0, 13744000.0, 13750000.0, 13800000.0, 13833930.0, 13850000.0, 13880000.0, 13890000.0, 13900000.0, 13922460.0, 13950000.0, 13975000.0, 13978000.0, 13986000.0, 13990000.0, 13994500.0, 13999000.0, 14000000.0, 14050000.0, 14073620.0, 14100000.0, 14108500.0, 14145000.0, 14150000.0, 14166000.0, 14174400.0, 14200000.0, 14214000.0, 14220000.0, 14240000.0, 14250000.0, 14300000.0, 14343480.0, 14350000.0, 14380000.0, 14400000.0, 14450000.0, 14485000.0, 14490000.0, 14500000.0, 14501000.0, 14535000.0, 14538350.0, 14550000.0, 14569263.0, 14586000.0, 14600000.0, 14700000.0, 14750000.0, 14780000.0, 14790000.0, 14799000.0, 14800000.0, 14825041.0, 14850000.0, 14890000.0, 14898509.0, 14900000.0, 14948000.0, 14950000.0, 14970000.0, 14980000.0, 14990000.0, 14998000.0, 14999000.0, 14999999.0, 15000000.0, 15093000.0, 15098000.0, 15100000.0, 15104000.0, 15120000.0, 15129600.0, 15190500.0, 15200000.0, 15276000.0, 15300000.0, 15350000.0, 15357000.0, 15373187.0, 15398992.0, 15400000.0, 15450000.0, 15490000.0, 15499000.0, 15500000.0, 15520000.0, 15525000.0, 15600000.0, 15642981.0, 15680000.0, 15700000.0, 15715440.0, 15728409.0, 15748800.0, 15750000.0, 15772260.0, 15782000.0, 15786435.0, 15800000.0, 15801000.0, 15884000.0, 15888600.0, 15890000.0, 15900000.0, 15950000.0, 15990000.0, 16000000.0, 16008000.0, 16010211.0, 16051000.0, 16052837.0, 16070000.0, 16073000.0, 16080000.0, 16100000.0, 16120000.0, 16137000.0, 16150000.0, 16177174.0, 16200000.0, 16218000.0, 16250000.0, 16300000.0, 16359000.0, 16399282.0, 16400000.0, 16436127.0, 16450000.0, 16457760.0, 16471698.0, 16490000.0, 16499000.0, 16500000.0, 16512000.0, 16550000.0, 16600000.0, 16650000.0, 16698000.0, 16700000.0, 16730000.0, 16775132.0, 16800000.0, 16830000.0, 16850000.0, 16900000.0, 16912000.0, 16913068.0, 16990000.0, 17000000.0, 17051000.0, 17072640.0, 17100000.0, 17200000.0, 17212500.0, 17226000.0, 17250000.0, 17299000.0, 17300000.0, 17350000.0, 17385000.0, 17390000.0, 17400000.0, 17414720.0, 17480000.0, 17500000.0, 17508600.0, 17537000.0, 17600000.0, 17630000.0, 17667280.0, 17671500.0, 17675000.0, 17700000.0, 17753472.0, 17800000.0, 17807836.0, 17850000.0, 17860000.0, 17900000.0, 17990000.0, 17998000.0, 18000000.0, 18010000.0, 18055216.0, 18100000.0, 18120000.0, 18130500.0, 18200000.0, 18206548.0, 18250000.0, 18280000.0, 18300000.0, 18312000.0, 18326016.0, 18333732.0, 18350000.0, 18353328.0, 18358968.0, 18400000.0, 18450000.0, 18480000.0, 18490000.0, 18500000.0, 18600884.0, 18700000.0, 18777000.0, 18800000.0, 18813900.0, 18850000.0, 18900000.0, 18924000.0, 18950000.0, 18990000.0, 19000000.0, 19084000.0, 19090000.0, 19150000.0, 19173000.0, 19200000.0, 19270682.0, 19300000.0, 19327000.0, 19335000.0, 19354948.0, 19370000.0, 19400000.0, 19471000.0, 19500000.0, 19600000.0, 19700000.0, 19713740.0, 19770000.0, 19800000.0, 19818230.0, 19837000.0, 19900000.0, 19950000.0, 19980000.0, 19990000.0, 19999000.0, 20000000.0, 20040000.0, 20100000.0, 20275036.0, 20295200.0, 20300000.0, 20338132.0, 20345000.0, 20350000.0, 20370000.0, 20445000.0, 20471250.0, 20490000.0, 20500000.0, 20600000.0, 20632000.0, 20646648.0, 20680000.0, 20700000.0, 20786000.0, 20800000.0, 20850000.0, 20851478.0, 20900000.0, 20950000.0, 20990000.0, 21000000.0, 21042018.0, 21071500.0, 21161062.0, 21187872.0, 21280000.0, 21300000.0, 21321556.0, 21387000.0, 21400000.0, 21453004.0, 21500000.0, 21501000.0, 21598936.0, 21600000.0, 21615000.0, 21663000.0, 21700000.0, 21750000.0, 21800000.0, 21821800.0, 21840000.0, 21900000.0, 21988800.0, 21990000.0, 22000000.0, 22057100.0, 22100000.0, 22160000.0, 22190000.0, 22200000.0, 22212254.0, 22220000.0, 22250000.0, 22315000.0, 22400000.0, 22450000.0, 22500000.0, 22520000.0, 22523032.0, 22529250.0, 22642800.0, 22743212.0, 22800000.0, 22900000.0, 22932404.0, 22950000.0, 22990000.0, 23000000.0, 23169000.0, 23200000.0, 23290000.0, 23300000.0, 23321944.0, 23411700.0, 23417400.0, 23500000.0, 23600000.0, 23617000.0, 23684000.0, 23716800.0, 23750000.0, 23800000.0, 23900000.0, 23990000.0, 23999088.0, 24000000.0, 24300000.0, 24359088.0, 24412900.0, 24432000.0, 24466724.0, 24499000.0, 24500000.0, 24700000.0, 24719904.0, 24800000.0, 24821600.0, 24900000.0, 25000000.0, 25023000.0, 25092624.0, 25200000.0, 25300000.0, 25398000.0, 25476800.0, 25490000.0, 25500000.0, 25600000.0, 25717300.0, 25779030.0, 25800000.0, 25835000.0, 25897000.0, 25900000.0, 25990000.0, 26000000.0, 26037742.0, 26107410.0, 26259820.0, 26300000.0, 26310000.0, 26360000.0, 26391824.0, 26400000.0, 26450000.0, 26477136.0, 26500000.0, 26557000.0, 26558000.0, 26750000.0, 26800000.0, 26900000.0, 26990000.0, 27000000.0, 27243166.0, 27250000.0, 27273000.0, 27420000.0, 27500000.0, 27577200.0, 27600000.0, 27700000.0, 27840000.0, 27850000.0, 27900000.0, 27933600.0, 28000000.0, 28050000.0, 28099500.0, 28114000.0, 28177652.0, 28500000.0, 28521092.0, 28570000.0, 28659000.0, 28789000.0, 28800000.0, 28899000.0, 29000000.0, 29216000.0, 29370000.0, 29375000.0, 29500000.0, 29800000.0, 29849500.0, 29900000.0, 29990000.0, 29999000.0, 30000000.0, 30050000.0, 30500000.0, 30600000.0, 30750000.0, 30877260.0, 30891300.0, 30899000.0, 30900000.0, 31000000.0, 31099000.0, 31490000.0, 31500000.0, 31557860.0, 31750000.0, 32000000.0, 32100000.0, 32238780.0, 32250000.0, 32260000.0, 32350000.0, 32500000.0, 32524000.0, 32550000.0, 32894076.0, 33000000.0, 33300000.0, 33415200.0, 33500000.0, 33800000.0, 33990000.0, 34000000.0, 34315000.0, 34400000.0, 34500000.0, 34551000.0, 34878556.0, 34979000.0, 35000000.0, 35107000.0, 35290000.0, 35300000.0, 35499000.0, 35500000.0, 35900000.0, 35953504.0, 36000000.0, 36001900.0, 36500000.0, 36700000.0, 36750000.0, 36800000.0, 36900000.0, 37000000.0, 37199888.0, 37272000.0, 37500000.0, 37800000.0, 37900000.0, 37998000.0, 37999000.0, 38000000.0, 38500000.0, 38600000.0, 38900000.0, 39000000.0, 39744000.0, 39773280.0, 39900000.0, 39990000.0, 40000000.0, 40348248.0, 40488000.0, 40662000.0, 41484000.0, 41900000.0, 42000000.0, 42738000.0, 43000000.0, 43185328.0, 43500000.0, 43511000.0, 43900000.0, 44000000.0, 44500000.0, 45000000.0, 45900000.0, 46000000.0, 46424072.0, 46950000.0, 47000000.0, 47500000.0, 47700000.0, 48000000.0, 48763000.0, 49000000.0, 49500000.0, 49798000.0, 49900000.0, 49950000.0, 49968900.0, 50000000.0, 50788000.0, 51000000.0, 52000000.0, 53000000.0, 53250000.0, 53800000.0, 54000000.0, 55000000.0, 55800000.0, 55845000.0, 55900000.0, 55969724.0, 56000000.0, 56844500.0, 57000000.0, 57906000.0, 58000000.0, 58500000.0, 59000000.0, 59534892.0, 59800000.0, 59914124.0, 60309900.0, 60999000.0, 62171920.0, 62316000.0, 63900000.0, 64500000.0, 64900000.0, 64990000.0, 65000000.0, 65138176.0, 65850000.0, 66500000.0, 66571000.0, 67000000.0, 68000000.0, 68500000.0, 71000000.0, 72000000.0, 72375000.0, 73884056.0, 73900000.0, 74000000.0, 75000000.0, 76837000.0, 77000000.0, 77349000.0, 77612080.0, 79000000.0, 79339000.0, 80000000.0, 81960000.0, 82000000.0, 82400000.0, 83000000.0, 83820000.0, 84000000.0, 84382000.0, 85000000.0, 86738800.0, 87000000.0, 88000000.0, 90000000.0, 91075000.0, 91500000.0, 95000000.0, 96000000.0, 98000000.0, 99000000.0, 115490000.0, 118000000.0, 119000000.0, 120000000.0, 122000000.0, 124000000.0, 124350000.0, 124480000.0, 125000000.0, 130000000.0, 130278280.0, 131000000.0, 135000000.0, 140000000.0, 148000000.0, 150000000.0, 155000000.0, 159000000.0, 159984000.0, 160000000.0, 180000000.0, 190870000.0, 230000000.0, 240000000.0, 245000000.0, 289238400.0, 300000000.0, 330000000.0, 401300000.0, 420000000.0, 763000000.0]\n"
     ]
    }
   ],
   "source": [
    "print(sorted(data['last_price'].unique()))\n",
    "\n",
    "# преобразуем цену в удобочитаемы вид\n",
    "#data['last_price'] = data['last_price']/1000000"
   ]
  },
  {
   "cell_type": "code",
   "execution_count": 52,
   "metadata": {},
   "outputs": [],
   "source": [
    " #data['last_price'].describe()"
   ]
  },
  {
   "cell_type": "markdown",
   "metadata": {},
   "source": [
    "**Проверим данные повторно.**"
   ]
  },
  {
   "cell_type": "code",
   "execution_count": 97,
   "metadata": {},
   "outputs": [
    {
     "data": {
      "text/plain": [
       "total_images                 0\n",
       "last_price                   0\n",
       "total_area                   0\n",
       "first_day_exposition         0\n",
       "rooms                        0\n",
       "ceiling_height               0\n",
       "floors_total                 0\n",
       "living_area                  0\n",
       "floor                        0\n",
       "is_apartment                 0\n",
       "studio                       0\n",
       "open_plan                    0\n",
       "kitchen_area                 0\n",
       "balcony                      0\n",
       "locality_name                0\n",
       "airports_nearest          5534\n",
       "city_centers_nearest      5511\n",
       "parks_around_3000         5510\n",
       "parks_nearest            15586\n",
       "ponds_around_3000         5510\n",
       "ponds_nearest            14565\n",
       "days_exposition           3180\n",
       "locality_name_replace        0\n",
       "dtype: int64"
      ]
     },
     "execution_count": 97,
     "metadata": {},
     "output_type": "execute_result"
    }
   ],
   "source": [
    "data.isna().sum()"
   ]
  },
  {
   "cell_type": "code",
   "execution_count": 98,
   "metadata": {},
   "outputs": [
    {
     "name": "stdout",
     "output_type": "stream",
     "text": [
      "<class 'pandas.core.frame.DataFrame'>\n",
      "Int64Index: 23650 entries, 0 to 23698\n",
      "Data columns (total 23 columns):\n",
      " #   Column                 Non-Null Count  Dtype         \n",
      "---  ------                 --------------  -----         \n",
      " 0   total_images           23650 non-null  int64         \n",
      " 1   last_price             23650 non-null  float64       \n",
      " 2   total_area             23650 non-null  float64       \n",
      " 3   first_day_exposition   23650 non-null  datetime64[ns]\n",
      " 4   rooms                  23650 non-null  int64         \n",
      " 5   ceiling_height         23650 non-null  float64       \n",
      " 6   floors_total           23650 non-null  int64         \n",
      " 7   living_area            23650 non-null  float64       \n",
      " 8   floor                  23650 non-null  int64         \n",
      " 9   is_apartment           23650 non-null  bool          \n",
      " 10  studio                 23650 non-null  bool          \n",
      " 11  open_plan              23650 non-null  bool          \n",
      " 12  kitchen_area           23650 non-null  float64       \n",
      " 13  balcony                23650 non-null  int64         \n",
      " 14  locality_name          23650 non-null  object        \n",
      " 15  airports_nearest       18116 non-null  float64       \n",
      " 16  city_centers_nearest   18139 non-null  float64       \n",
      " 17  parks_around_3000      18140 non-null  float64       \n",
      " 18  parks_nearest          8064 non-null   float64       \n",
      " 19  ponds_around_3000      18140 non-null  float64       \n",
      " 20  ponds_nearest          9085 non-null   float64       \n",
      " 21  days_exposition        20470 non-null  float64       \n",
      " 22  locality_name_replace  23650 non-null  object        \n",
      "dtypes: bool(3), datetime64[ns](1), float64(12), int64(5), object(2)\n",
      "memory usage: 3.9+ MB\n"
     ]
    }
   ],
   "source": [
    "data.info()"
   ]
  },
  {
   "cell_type": "code",
   "execution_count": 99,
   "metadata": {},
   "outputs": [
    {
     "data": {
      "text/html": [
       "<div>\n",
       "<style scoped>\n",
       "    .dataframe tbody tr th:only-of-type {\n",
       "        vertical-align: middle;\n",
       "    }\n",
       "\n",
       "    .dataframe tbody tr th {\n",
       "        vertical-align: top;\n",
       "    }\n",
       "\n",
       "    .dataframe thead th {\n",
       "        text-align: right;\n",
       "    }\n",
       "</style>\n",
       "<table border=\"1\" class=\"dataframe\">\n",
       "  <thead>\n",
       "    <tr style=\"text-align: right;\">\n",
       "      <th></th>\n",
       "      <th>total_images</th>\n",
       "      <th>last_price</th>\n",
       "      <th>total_area</th>\n",
       "      <th>first_day_exposition</th>\n",
       "      <th>rooms</th>\n",
       "      <th>ceiling_height</th>\n",
       "      <th>floors_total</th>\n",
       "      <th>living_area</th>\n",
       "      <th>floor</th>\n",
       "      <th>is_apartment</th>\n",
       "      <th>...</th>\n",
       "      <th>balcony</th>\n",
       "      <th>locality_name</th>\n",
       "      <th>airports_nearest</th>\n",
       "      <th>city_centers_nearest</th>\n",
       "      <th>parks_around_3000</th>\n",
       "      <th>parks_nearest</th>\n",
       "      <th>ponds_around_3000</th>\n",
       "      <th>ponds_nearest</th>\n",
       "      <th>days_exposition</th>\n",
       "      <th>locality_name_replace</th>\n",
       "    </tr>\n",
       "  </thead>\n",
       "  <tbody>\n",
       "    <tr>\n",
       "      <th>0</th>\n",
       "      <td>20</td>\n",
       "      <td>13000000.0</td>\n",
       "      <td>108.0</td>\n",
       "      <td>2019-03-07</td>\n",
       "      <td>3</td>\n",
       "      <td>2.70</td>\n",
       "      <td>16</td>\n",
       "      <td>51.00</td>\n",
       "      <td>8</td>\n",
       "      <td>False</td>\n",
       "      <td>...</td>\n",
       "      <td>0</td>\n",
       "      <td>санкт-петербург</td>\n",
       "      <td>18863.0</td>\n",
       "      <td>16028.0</td>\n",
       "      <td>1.0</td>\n",
       "      <td>482.0</td>\n",
       "      <td>2.0</td>\n",
       "      <td>755.0</td>\n",
       "      <td>NaN</td>\n",
       "      <td>санкт-петербург</td>\n",
       "    </tr>\n",
       "    <tr>\n",
       "      <th>1</th>\n",
       "      <td>7</td>\n",
       "      <td>3350000.0</td>\n",
       "      <td>40.4</td>\n",
       "      <td>2018-12-04</td>\n",
       "      <td>1</td>\n",
       "      <td>2.65</td>\n",
       "      <td>11</td>\n",
       "      <td>18.60</td>\n",
       "      <td>1</td>\n",
       "      <td>False</td>\n",
       "      <td>...</td>\n",
       "      <td>2</td>\n",
       "      <td>посёлок шушары</td>\n",
       "      <td>12817.0</td>\n",
       "      <td>18603.0</td>\n",
       "      <td>0.0</td>\n",
       "      <td>NaN</td>\n",
       "      <td>0.0</td>\n",
       "      <td>NaN</td>\n",
       "      <td>81.0</td>\n",
       "      <td>поселок шушары</td>\n",
       "    </tr>\n",
       "    <tr>\n",
       "      <th>2</th>\n",
       "      <td>10</td>\n",
       "      <td>5196000.0</td>\n",
       "      <td>56.0</td>\n",
       "      <td>2015-08-20</td>\n",
       "      <td>2</td>\n",
       "      <td>2.65</td>\n",
       "      <td>5</td>\n",
       "      <td>34.30</td>\n",
       "      <td>4</td>\n",
       "      <td>False</td>\n",
       "      <td>...</td>\n",
       "      <td>0</td>\n",
       "      <td>санкт-петербург</td>\n",
       "      <td>21741.0</td>\n",
       "      <td>13933.0</td>\n",
       "      <td>1.0</td>\n",
       "      <td>90.0</td>\n",
       "      <td>2.0</td>\n",
       "      <td>574.0</td>\n",
       "      <td>558.0</td>\n",
       "      <td>санкт-петербург</td>\n",
       "    </tr>\n",
       "    <tr>\n",
       "      <th>3</th>\n",
       "      <td>0</td>\n",
       "      <td>64900000.0</td>\n",
       "      <td>159.0</td>\n",
       "      <td>2015-07-24</td>\n",
       "      <td>3</td>\n",
       "      <td>2.65</td>\n",
       "      <td>14</td>\n",
       "      <td>90.63</td>\n",
       "      <td>9</td>\n",
       "      <td>False</td>\n",
       "      <td>...</td>\n",
       "      <td>0</td>\n",
       "      <td>санкт-петербург</td>\n",
       "      <td>28098.0</td>\n",
       "      <td>6800.0</td>\n",
       "      <td>2.0</td>\n",
       "      <td>84.0</td>\n",
       "      <td>3.0</td>\n",
       "      <td>234.0</td>\n",
       "      <td>424.0</td>\n",
       "      <td>санкт-петербург</td>\n",
       "    </tr>\n",
       "    <tr>\n",
       "      <th>4</th>\n",
       "      <td>2</td>\n",
       "      <td>10000000.0</td>\n",
       "      <td>100.0</td>\n",
       "      <td>2018-06-19</td>\n",
       "      <td>2</td>\n",
       "      <td>3.03</td>\n",
       "      <td>14</td>\n",
       "      <td>32.00</td>\n",
       "      <td>13</td>\n",
       "      <td>False</td>\n",
       "      <td>...</td>\n",
       "      <td>0</td>\n",
       "      <td>санкт-петербург</td>\n",
       "      <td>31856.0</td>\n",
       "      <td>8098.0</td>\n",
       "      <td>2.0</td>\n",
       "      <td>112.0</td>\n",
       "      <td>1.0</td>\n",
       "      <td>48.0</td>\n",
       "      <td>121.0</td>\n",
       "      <td>санкт-петербург</td>\n",
       "    </tr>\n",
       "  </tbody>\n",
       "</table>\n",
       "<p>5 rows × 23 columns</p>\n",
       "</div>"
      ],
      "text/plain": [
       "   total_images  last_price  total_area first_day_exposition  rooms  \\\n",
       "0            20  13000000.0       108.0           2019-03-07      3   \n",
       "1             7   3350000.0        40.4           2018-12-04      1   \n",
       "2            10   5196000.0        56.0           2015-08-20      2   \n",
       "3             0  64900000.0       159.0           2015-07-24      3   \n",
       "4             2  10000000.0       100.0           2018-06-19      2   \n",
       "\n",
       "   ceiling_height  floors_total  living_area  floor  is_apartment  ...  \\\n",
       "0            2.70            16        51.00      8         False  ...   \n",
       "1            2.65            11        18.60      1         False  ...   \n",
       "2            2.65             5        34.30      4         False  ...   \n",
       "3            2.65            14        90.63      9         False  ...   \n",
       "4            3.03            14        32.00     13         False  ...   \n",
       "\n",
       "   balcony    locality_name  airports_nearest  city_centers_nearest  \\\n",
       "0        0  санкт-петербург           18863.0               16028.0   \n",
       "1        2   посёлок шушары           12817.0               18603.0   \n",
       "2        0  санкт-петербург           21741.0               13933.0   \n",
       "3        0  санкт-петербург           28098.0                6800.0   \n",
       "4        0  санкт-петербург           31856.0                8098.0   \n",
       "\n",
       "  parks_around_3000  parks_nearest  ponds_around_3000  ponds_nearest  \\\n",
       "0               1.0          482.0                2.0          755.0   \n",
       "1               0.0            NaN                0.0            NaN   \n",
       "2               1.0           90.0                2.0          574.0   \n",
       "3               2.0           84.0                3.0          234.0   \n",
       "4               2.0          112.0                1.0           48.0   \n",
       "\n",
       "   days_exposition  locality_name_replace  \n",
       "0              NaN        санкт-петербург  \n",
       "1             81.0         поселок шушары  \n",
       "2            558.0        санкт-петербург  \n",
       "3            424.0        санкт-петербург  \n",
       "4            121.0        санкт-петербург  \n",
       "\n",
       "[5 rows x 23 columns]"
      ]
     },
     "execution_count": 99,
     "metadata": {},
     "output_type": "execute_result"
    }
   ],
   "source": [
    "data.head()"
   ]
  },
  {
   "cell_type": "markdown",
   "metadata": {},
   "source": [
    "**Вывод:**\n",
    "\n",
    "\n",
    "1. В данном датасете было найдено большое число пропусков:\n",
    "    - `ceiling_height`:            **9195**\n",
    "    - `floors_total`:                **86**\n",
    "    - `living_area`:               **1903**\n",
    "    - `is_apartment`:             **20924**\n",
    "    - `kitchen_area`:              **2278**\n",
    "    - `balcony`:                  **11519**\n",
    "    - `locality_name`:               **49**\n",
    "    - `airports_nearest`:          **5542**\n",
    "    - `cityCenters_nearest`:       **5519**\n",
    "    - `parks_around3000`:          **5518**\n",
    "    - `parks_nearest`:            **15620**\n",
    "    - `ponds_around3000`:          **5518**\n",
    "    - `ponds_nearest`:            **14589**\n",
    "    - `days_exposition`:           **3181**\n",
    "\n",
    "    Так как были найдены пропуски в числовых столбцах и строковых,  то возможно такое число пропусков было попричине человеческого фактора и технического факторов. Оператор мог не занести данные или пропустить ячейку или занести данные с ошибками и продолжить, забыв заполнить прошлые либо не было данных на момент внесения данных в таблицу. Еще пропуски могли образоваться по технологической причине. Например такие причины, как не корректно сохраненная таблица, сбой в базе данных, ошибка записи в базу, некорректно выгрузили данные с базы.\n",
    "    \n",
    "    `airports_nearest`, `city_centers_nearest`, `parks_nearest`, `ponds_nearest` - похоже пропуски возникли по техническим причинам.\n",
    "    \n",
    "\n",
    "\n",
    "2. Рассмотрены типы данных в каждом столбце. Есть не соответствие типов и поэтому переопределим эти данные в правильные.\n",
    "\n",
    "   - `first_day_exposition` объявлен как **object**, а должен быть **datetime**, так как данные являются датой.\n",
    "   - `is_apartment` объявлен как  **object**, а должен быть **bool** потому, что значения True либо False. \n",
    "   - `floors_total` объявлен как **float64**, а должен быть **int** не может быть количество этажей вещественным значением.\n",
    "   - `balcony` объявлен как **float64**, а должен быть **int** неможет быть количество балконов дробным числом.\n",
    "   - `parks_around_3000` объявлен как **float64**, а должен быть **int** потому, что число парков не может быть дробным.\n",
    "   - `ponds_around_3000`    объявлен как **float64**, а должен быть **int** потому, что число водоемов не может быть вещественным значением. \n",
    "   - `days_exposition` объявлен как **float64**, а должен быть **int**, так как дни не могут быть вещественным значением. \n",
    "    \n",
    "    \n",
    "\n",
    "3. Изучил уникальные значения и устранил неявные дубликаты.\n",
    "   \n",
    "   \n",
    "   В таблице `locality_name` до обработки было **365** уникальных значений, но эти данные имели неявные дубликаты. Одни и теже локации назывались по разному. После обработки и отсечения неявных дубликатов осталось **319** уникальных значений. Создал таблицу с уникальными названиями локаций и поместил новые данные в `locality_name_replace`.\n",
    " \n",
    " \n",
    "5. Аномальные значения выявлены:\n",
    "    - `ceiling_height`\n",
    "    - `rooms`\n",
    "    - `floors_total`\n",
    "    - `balcony`\n",
    "    - `last_price`\n"
   ]
  },
  {
   "cell_type": "markdown",
   "metadata": {},
   "source": [
    "<div class=\"alert alert-success\">\n",
    "<b>👍 Успех:</b> Даные обработаны и готовы к анализу!\n",
    "</div>"
   ]
  },
  {
   "cell_type": "markdown",
   "metadata": {
    "id": "QCcvyY6YAwb-"
   },
   "source": [
    "### Добавьте в таблицу новые столбцы"
   ]
  },
  {
   "cell_type": "markdown",
   "metadata": {
    "id": "Z8eJek3IAwb-"
   },
   "source": [
    "**Цена одного квадратного метра**"
   ]
  },
  {
   "cell_type": "code",
   "execution_count": 56,
   "metadata": {},
   "outputs": [],
   "source": [
    "# data.reset_index(drop=True, inplace=True)"
   ]
  },
  {
   "cell_type": "code",
   "execution_count": 100,
   "metadata": {},
   "outputs": [],
   "source": [
    "data['price_one_sqr_meter'] = data['last_price'] / data['total_area']"
   ]
  },
  {
   "cell_type": "code",
   "execution_count": 101,
   "metadata": {},
   "outputs": [],
   "source": [
    "# округлить до двух знаков после запятой\n",
    "# data['price_one_sqr_meter'] = data['price_one_sqr_meter'].round(2)"
   ]
  },
  {
   "cell_type": "code",
   "execution_count": 102,
   "metadata": {},
   "outputs": [
    {
     "name": "stdout",
     "output_type": "stream",
     "text": [
      "Максимальная цена за квадратный метр: 1907500.0\n",
      "Минимальная цена за квадратный метр: 111.8348623853211\n",
      "Средняя цена за квадратный метр: 99432.24715198229\n",
      "Медианная цена за квадратный метр: 95000.0\n"
     ]
    }
   ],
   "source": [
    "print('Максимальная цена за квадратный метр:', data['price_one_sqr_meter'].max())\n",
    "print('Минимальная цена за квадратный метр:', data['price_one_sqr_meter'].min())\n",
    "print('Средняя цена за квадратный метр:', data['price_one_sqr_meter'].mean())\n",
    "print('Медианная цена за квадратный метр:', data['price_one_sqr_meter'].median())"
   ]
  },
  {
   "cell_type": "code",
   "execution_count": 103,
   "metadata": {},
   "outputs": [
    {
     "data": {
      "text/html": [
       "<div>\n",
       "<style scoped>\n",
       "    .dataframe tbody tr th:only-of-type {\n",
       "        vertical-align: middle;\n",
       "    }\n",
       "\n",
       "    .dataframe tbody tr th {\n",
       "        vertical-align: top;\n",
       "    }\n",
       "\n",
       "    .dataframe thead th {\n",
       "        text-align: right;\n",
       "    }\n",
       "</style>\n",
       "<table border=\"1\" class=\"dataframe\">\n",
       "  <thead>\n",
       "    <tr style=\"text-align: right;\">\n",
       "      <th></th>\n",
       "      <th>total_images</th>\n",
       "      <th>last_price</th>\n",
       "      <th>total_area</th>\n",
       "      <th>first_day_exposition</th>\n",
       "      <th>rooms</th>\n",
       "      <th>ceiling_height</th>\n",
       "      <th>floors_total</th>\n",
       "      <th>living_area</th>\n",
       "      <th>floor</th>\n",
       "      <th>is_apartment</th>\n",
       "      <th>...</th>\n",
       "      <th>locality_name</th>\n",
       "      <th>airports_nearest</th>\n",
       "      <th>city_centers_nearest</th>\n",
       "      <th>parks_around_3000</th>\n",
       "      <th>parks_nearest</th>\n",
       "      <th>ponds_around_3000</th>\n",
       "      <th>ponds_nearest</th>\n",
       "      <th>days_exposition</th>\n",
       "      <th>locality_name_replace</th>\n",
       "      <th>price_one_sqr_meter</th>\n",
       "    </tr>\n",
       "  </thead>\n",
       "  <tbody>\n",
       "    <tr>\n",
       "      <th>0</th>\n",
       "      <td>20</td>\n",
       "      <td>13000000.0</td>\n",
       "      <td>108.0</td>\n",
       "      <td>2019-03-07</td>\n",
       "      <td>3</td>\n",
       "      <td>2.70</td>\n",
       "      <td>16</td>\n",
       "      <td>51.00</td>\n",
       "      <td>8</td>\n",
       "      <td>False</td>\n",
       "      <td>...</td>\n",
       "      <td>санкт-петербург</td>\n",
       "      <td>18863.0</td>\n",
       "      <td>16028.0</td>\n",
       "      <td>1.0</td>\n",
       "      <td>482.0</td>\n",
       "      <td>2.0</td>\n",
       "      <td>755.0</td>\n",
       "      <td>NaN</td>\n",
       "      <td>санкт-петербург</td>\n",
       "      <td>120370.370370</td>\n",
       "    </tr>\n",
       "    <tr>\n",
       "      <th>1</th>\n",
       "      <td>7</td>\n",
       "      <td>3350000.0</td>\n",
       "      <td>40.4</td>\n",
       "      <td>2018-12-04</td>\n",
       "      <td>1</td>\n",
       "      <td>2.65</td>\n",
       "      <td>11</td>\n",
       "      <td>18.60</td>\n",
       "      <td>1</td>\n",
       "      <td>False</td>\n",
       "      <td>...</td>\n",
       "      <td>посёлок шушары</td>\n",
       "      <td>12817.0</td>\n",
       "      <td>18603.0</td>\n",
       "      <td>0.0</td>\n",
       "      <td>NaN</td>\n",
       "      <td>0.0</td>\n",
       "      <td>NaN</td>\n",
       "      <td>81.0</td>\n",
       "      <td>поселок шушары</td>\n",
       "      <td>82920.792079</td>\n",
       "    </tr>\n",
       "    <tr>\n",
       "      <th>2</th>\n",
       "      <td>10</td>\n",
       "      <td>5196000.0</td>\n",
       "      <td>56.0</td>\n",
       "      <td>2015-08-20</td>\n",
       "      <td>2</td>\n",
       "      <td>2.65</td>\n",
       "      <td>5</td>\n",
       "      <td>34.30</td>\n",
       "      <td>4</td>\n",
       "      <td>False</td>\n",
       "      <td>...</td>\n",
       "      <td>санкт-петербург</td>\n",
       "      <td>21741.0</td>\n",
       "      <td>13933.0</td>\n",
       "      <td>1.0</td>\n",
       "      <td>90.0</td>\n",
       "      <td>2.0</td>\n",
       "      <td>574.0</td>\n",
       "      <td>558.0</td>\n",
       "      <td>санкт-петербург</td>\n",
       "      <td>92785.714286</td>\n",
       "    </tr>\n",
       "    <tr>\n",
       "      <th>3</th>\n",
       "      <td>0</td>\n",
       "      <td>64900000.0</td>\n",
       "      <td>159.0</td>\n",
       "      <td>2015-07-24</td>\n",
       "      <td>3</td>\n",
       "      <td>2.65</td>\n",
       "      <td>14</td>\n",
       "      <td>90.63</td>\n",
       "      <td>9</td>\n",
       "      <td>False</td>\n",
       "      <td>...</td>\n",
       "      <td>санкт-петербург</td>\n",
       "      <td>28098.0</td>\n",
       "      <td>6800.0</td>\n",
       "      <td>2.0</td>\n",
       "      <td>84.0</td>\n",
       "      <td>3.0</td>\n",
       "      <td>234.0</td>\n",
       "      <td>424.0</td>\n",
       "      <td>санкт-петербург</td>\n",
       "      <td>408176.100629</td>\n",
       "    </tr>\n",
       "    <tr>\n",
       "      <th>4</th>\n",
       "      <td>2</td>\n",
       "      <td>10000000.0</td>\n",
       "      <td>100.0</td>\n",
       "      <td>2018-06-19</td>\n",
       "      <td>2</td>\n",
       "      <td>3.03</td>\n",
       "      <td>14</td>\n",
       "      <td>32.00</td>\n",
       "      <td>13</td>\n",
       "      <td>False</td>\n",
       "      <td>...</td>\n",
       "      <td>санкт-петербург</td>\n",
       "      <td>31856.0</td>\n",
       "      <td>8098.0</td>\n",
       "      <td>2.0</td>\n",
       "      <td>112.0</td>\n",
       "      <td>1.0</td>\n",
       "      <td>48.0</td>\n",
       "      <td>121.0</td>\n",
       "      <td>санкт-петербург</td>\n",
       "      <td>100000.000000</td>\n",
       "    </tr>\n",
       "  </tbody>\n",
       "</table>\n",
       "<p>5 rows × 24 columns</p>\n",
       "</div>"
      ],
      "text/plain": [
       "   total_images  last_price  total_area first_day_exposition  rooms  \\\n",
       "0            20  13000000.0       108.0           2019-03-07      3   \n",
       "1             7   3350000.0        40.4           2018-12-04      1   \n",
       "2            10   5196000.0        56.0           2015-08-20      2   \n",
       "3             0  64900000.0       159.0           2015-07-24      3   \n",
       "4             2  10000000.0       100.0           2018-06-19      2   \n",
       "\n",
       "   ceiling_height  floors_total  living_area  floor  is_apartment  ...  \\\n",
       "0            2.70            16        51.00      8         False  ...   \n",
       "1            2.65            11        18.60      1         False  ...   \n",
       "2            2.65             5        34.30      4         False  ...   \n",
       "3            2.65            14        90.63      9         False  ...   \n",
       "4            3.03            14        32.00     13         False  ...   \n",
       "\n",
       "     locality_name  airports_nearest  city_centers_nearest  parks_around_3000  \\\n",
       "0  санкт-петербург           18863.0               16028.0                1.0   \n",
       "1   посёлок шушары           12817.0               18603.0                0.0   \n",
       "2  санкт-петербург           21741.0               13933.0                1.0   \n",
       "3  санкт-петербург           28098.0                6800.0                2.0   \n",
       "4  санкт-петербург           31856.0                8098.0                2.0   \n",
       "\n",
       "  parks_nearest  ponds_around_3000  ponds_nearest  days_exposition  \\\n",
       "0         482.0                2.0          755.0              NaN   \n",
       "1           NaN                0.0            NaN             81.0   \n",
       "2          90.0                2.0          574.0            558.0   \n",
       "3          84.0                3.0          234.0            424.0   \n",
       "4         112.0                1.0           48.0            121.0   \n",
       "\n",
       "   locality_name_replace  price_one_sqr_meter  \n",
       "0        санкт-петербург        120370.370370  \n",
       "1         поселок шушары         82920.792079  \n",
       "2        санкт-петербург         92785.714286  \n",
       "3        санкт-петербург        408176.100629  \n",
       "4        санкт-петербург        100000.000000  \n",
       "\n",
       "[5 rows x 24 columns]"
      ]
     },
     "execution_count": 103,
     "metadata": {},
     "output_type": "execute_result"
    }
   ],
   "source": [
    "data.head()"
   ]
  },
  {
   "cell_type": "markdown",
   "metadata": {},
   "source": [
    "<div class=\"alert alert-success\">\n",
    "<b>👍 Успех:</b> Все верно!\n",
    "</div>"
   ]
  },
  {
   "cell_type": "markdown",
   "metadata": {},
   "source": [
    "**День недели, меяц и год публикации объявления**"
   ]
  },
  {
   "cell_type": "markdown",
   "metadata": {},
   "source": [
    "День недели публикации объявления:\n",
    "  \n",
    "   - 0 -   понедельник\n",
    "   - 1 -   вторник\n",
    "   - 2 -   среда\n",
    "   - 3 -   четверг\n",
    "   - 4 -   пятница\n",
    "   - 5 -   суббота\n",
    "   - 6 -   воскресенье"
   ]
  },
  {
   "cell_type": "code",
   "execution_count": 104,
   "metadata": {},
   "outputs": [],
   "source": [
    "data['day_week_publication_advertisement'] = data['first_day_exposition'].dt.weekday\n",
    "data['month_publication_advertisement'] = data['first_day_exposition'].dt.month\n",
    "data['year_publication_advertisement'] = data['first_day_exposition'].dt.year"
   ]
  },
  {
   "cell_type": "code",
   "execution_count": 105,
   "metadata": {},
   "outputs": [
    {
     "data": {
      "text/plain": [
       "2018    8512\n",
       "2017    8185\n",
       "2019    2879\n",
       "2016    2765\n",
       "2015    1173\n",
       "2014     136\n",
       "Name: year_publication_advertisement, dtype: int64"
      ]
     },
     "execution_count": 105,
     "metadata": {},
     "output_type": "execute_result"
    }
   ],
   "source": [
    "data['year_publication_advertisement'].value_counts()"
   ]
  },
  {
   "cell_type": "markdown",
   "metadata": {},
   "source": [
    "Количество предложений на рынке было максимальным в 2017 и 2018 годах, а с 2019 года количество предложений\n",
    "стало сокращаться и спустилось на уровень 2016 года."
   ]
  },
  {
   "cell_type": "markdown",
   "metadata": {},
   "source": [
    "<div class=\"alert alert-success\">\n",
    "<b>👍 Успех:</b> Все верно!\n",
    "</div>"
   ]
  },
  {
   "cell_type": "markdown",
   "metadata": {},
   "source": [
    "**Тип этажа квартиры**"
   ]
  },
  {
   "cell_type": "code",
   "execution_count": 106,
   "metadata": {},
   "outputs": [],
   "source": [
    "# Категоризируем тип этажа квартиры: значения — 'первый', 'последний', 'другой'\n",
    "def categorize_floor_type(row):\n",
    "    try:\n",
    "        if row['floor'] == 1:\n",
    "            return 'первый'\n",
    "        elif row['floor'] == row['floors_total']:\n",
    "            return 'последний'\n",
    "        else:\n",
    "            return 'другой'\n",
    "    except:\n",
    "        return 'нет категории'"
   ]
  },
  {
   "cell_type": "code",
   "execution_count": 107,
   "metadata": {},
   "outputs": [],
   "source": [
    "data['floor_type_category'] = data.apply(categorize_floor_type, axis=1)"
   ]
  },
  {
   "cell_type": "code",
   "execution_count": 108,
   "metadata": {},
   "outputs": [
    {
     "data": {
      "text/plain": [
       "другой       17326\n",
       "последний     3412\n",
       "первый        2912\n",
       "Name: floor_type_category, dtype: int64"
      ]
     },
     "execution_count": 108,
     "metadata": {},
     "output_type": "execute_result"
    }
   ],
   "source": [
    "data['floor_type_category'].value_counts()"
   ]
  },
  {
   "cell_type": "markdown",
   "metadata": {},
   "source": [
    "Судя по результату, самыми востребованными являются квартиры выше первого этажа до предпоследнего."
   ]
  },
  {
   "cell_type": "markdown",
   "metadata": {},
   "source": [
    "<div class=\"alert alert-success\">\n",
    "<b>👍 Успех:</b> Все верно!\n",
    "</div>"
   ]
  },
  {
   "cell_type": "markdown",
   "metadata": {},
   "source": [
    "**Расстояние до центра города в километрах**"
   ]
  },
  {
   "cell_type": "code",
   "execution_count": 109,
   "metadata": {},
   "outputs": [],
   "source": [
    "# переведите из м в км и округлите до ближайших целых значений\n",
    "data['city_centers_nearest_km'] = data['city_centers_nearest'] // 1000\n",
    "# data['city_centers_nearest_km'] = data['city_centers_nearest_km'].round(2).astype('int')"
   ]
  },
  {
   "cell_type": "code",
   "execution_count": 110,
   "metadata": {},
   "outputs": [
    {
     "data": {
      "text/html": [
       "<div>\n",
       "<style scoped>\n",
       "    .dataframe tbody tr th:only-of-type {\n",
       "        vertical-align: middle;\n",
       "    }\n",
       "\n",
       "    .dataframe tbody tr th {\n",
       "        vertical-align: top;\n",
       "    }\n",
       "\n",
       "    .dataframe thead th {\n",
       "        text-align: right;\n",
       "    }\n",
       "</style>\n",
       "<table border=\"1\" class=\"dataframe\">\n",
       "  <thead>\n",
       "    <tr style=\"text-align: right;\">\n",
       "      <th></th>\n",
       "      <th>total_images</th>\n",
       "      <th>last_price</th>\n",
       "      <th>total_area</th>\n",
       "      <th>first_day_exposition</th>\n",
       "      <th>rooms</th>\n",
       "      <th>ceiling_height</th>\n",
       "      <th>floors_total</th>\n",
       "      <th>living_area</th>\n",
       "      <th>floor</th>\n",
       "      <th>is_apartment</th>\n",
       "      <th>...</th>\n",
       "      <th>ponds_around_3000</th>\n",
       "      <th>ponds_nearest</th>\n",
       "      <th>days_exposition</th>\n",
       "      <th>locality_name_replace</th>\n",
       "      <th>price_one_sqr_meter</th>\n",
       "      <th>day_week_publication_advertisement</th>\n",
       "      <th>month_publication_advertisement</th>\n",
       "      <th>year_publication_advertisement</th>\n",
       "      <th>floor_type_category</th>\n",
       "      <th>city_centers_nearest_km</th>\n",
       "    </tr>\n",
       "  </thead>\n",
       "  <tbody>\n",
       "    <tr>\n",
       "      <th>0</th>\n",
       "      <td>20</td>\n",
       "      <td>13000000.0</td>\n",
       "      <td>108.0</td>\n",
       "      <td>2019-03-07</td>\n",
       "      <td>3</td>\n",
       "      <td>2.70</td>\n",
       "      <td>16</td>\n",
       "      <td>51.00</td>\n",
       "      <td>8</td>\n",
       "      <td>False</td>\n",
       "      <td>...</td>\n",
       "      <td>2.0</td>\n",
       "      <td>755.0</td>\n",
       "      <td>NaN</td>\n",
       "      <td>санкт-петербург</td>\n",
       "      <td>120370.370370</td>\n",
       "      <td>3</td>\n",
       "      <td>3</td>\n",
       "      <td>2019</td>\n",
       "      <td>другой</td>\n",
       "      <td>16.0</td>\n",
       "    </tr>\n",
       "    <tr>\n",
       "      <th>1</th>\n",
       "      <td>7</td>\n",
       "      <td>3350000.0</td>\n",
       "      <td>40.4</td>\n",
       "      <td>2018-12-04</td>\n",
       "      <td>1</td>\n",
       "      <td>2.65</td>\n",
       "      <td>11</td>\n",
       "      <td>18.60</td>\n",
       "      <td>1</td>\n",
       "      <td>False</td>\n",
       "      <td>...</td>\n",
       "      <td>0.0</td>\n",
       "      <td>NaN</td>\n",
       "      <td>81.0</td>\n",
       "      <td>поселок шушары</td>\n",
       "      <td>82920.792079</td>\n",
       "      <td>1</td>\n",
       "      <td>12</td>\n",
       "      <td>2018</td>\n",
       "      <td>первый</td>\n",
       "      <td>18.0</td>\n",
       "    </tr>\n",
       "    <tr>\n",
       "      <th>2</th>\n",
       "      <td>10</td>\n",
       "      <td>5196000.0</td>\n",
       "      <td>56.0</td>\n",
       "      <td>2015-08-20</td>\n",
       "      <td>2</td>\n",
       "      <td>2.65</td>\n",
       "      <td>5</td>\n",
       "      <td>34.30</td>\n",
       "      <td>4</td>\n",
       "      <td>False</td>\n",
       "      <td>...</td>\n",
       "      <td>2.0</td>\n",
       "      <td>574.0</td>\n",
       "      <td>558.0</td>\n",
       "      <td>санкт-петербург</td>\n",
       "      <td>92785.714286</td>\n",
       "      <td>3</td>\n",
       "      <td>8</td>\n",
       "      <td>2015</td>\n",
       "      <td>другой</td>\n",
       "      <td>13.0</td>\n",
       "    </tr>\n",
       "    <tr>\n",
       "      <th>3</th>\n",
       "      <td>0</td>\n",
       "      <td>64900000.0</td>\n",
       "      <td>159.0</td>\n",
       "      <td>2015-07-24</td>\n",
       "      <td>3</td>\n",
       "      <td>2.65</td>\n",
       "      <td>14</td>\n",
       "      <td>90.63</td>\n",
       "      <td>9</td>\n",
       "      <td>False</td>\n",
       "      <td>...</td>\n",
       "      <td>3.0</td>\n",
       "      <td>234.0</td>\n",
       "      <td>424.0</td>\n",
       "      <td>санкт-петербург</td>\n",
       "      <td>408176.100629</td>\n",
       "      <td>4</td>\n",
       "      <td>7</td>\n",
       "      <td>2015</td>\n",
       "      <td>другой</td>\n",
       "      <td>6.0</td>\n",
       "    </tr>\n",
       "    <tr>\n",
       "      <th>4</th>\n",
       "      <td>2</td>\n",
       "      <td>10000000.0</td>\n",
       "      <td>100.0</td>\n",
       "      <td>2018-06-19</td>\n",
       "      <td>2</td>\n",
       "      <td>3.03</td>\n",
       "      <td>14</td>\n",
       "      <td>32.00</td>\n",
       "      <td>13</td>\n",
       "      <td>False</td>\n",
       "      <td>...</td>\n",
       "      <td>1.0</td>\n",
       "      <td>48.0</td>\n",
       "      <td>121.0</td>\n",
       "      <td>санкт-петербург</td>\n",
       "      <td>100000.000000</td>\n",
       "      <td>1</td>\n",
       "      <td>6</td>\n",
       "      <td>2018</td>\n",
       "      <td>другой</td>\n",
       "      <td>8.0</td>\n",
       "    </tr>\n",
       "  </tbody>\n",
       "</table>\n",
       "<p>5 rows × 29 columns</p>\n",
       "</div>"
      ],
      "text/plain": [
       "   total_images  last_price  total_area first_day_exposition  rooms  \\\n",
       "0            20  13000000.0       108.0           2019-03-07      3   \n",
       "1             7   3350000.0        40.4           2018-12-04      1   \n",
       "2            10   5196000.0        56.0           2015-08-20      2   \n",
       "3             0  64900000.0       159.0           2015-07-24      3   \n",
       "4             2  10000000.0       100.0           2018-06-19      2   \n",
       "\n",
       "   ceiling_height  floors_total  living_area  floor  is_apartment  ...  \\\n",
       "0            2.70            16        51.00      8         False  ...   \n",
       "1            2.65            11        18.60      1         False  ...   \n",
       "2            2.65             5        34.30      4         False  ...   \n",
       "3            2.65            14        90.63      9         False  ...   \n",
       "4            3.03            14        32.00     13         False  ...   \n",
       "\n",
       "   ponds_around_3000  ponds_nearest  days_exposition  locality_name_replace  \\\n",
       "0                2.0          755.0              NaN        санкт-петербург   \n",
       "1                0.0            NaN             81.0         поселок шушары   \n",
       "2                2.0          574.0            558.0        санкт-петербург   \n",
       "3                3.0          234.0            424.0        санкт-петербург   \n",
       "4                1.0           48.0            121.0        санкт-петербург   \n",
       "\n",
       "  price_one_sqr_meter  day_week_publication_advertisement  \\\n",
       "0       120370.370370                                   3   \n",
       "1        82920.792079                                   1   \n",
       "2        92785.714286                                   3   \n",
       "3       408176.100629                                   4   \n",
       "4       100000.000000                                   1   \n",
       "\n",
       "   month_publication_advertisement  year_publication_advertisement  \\\n",
       "0                                3                            2019   \n",
       "1                               12                            2018   \n",
       "2                                8                            2015   \n",
       "3                                7                            2015   \n",
       "4                                6                            2018   \n",
       "\n",
       "   floor_type_category  city_centers_nearest_km  \n",
       "0               другой                     16.0  \n",
       "1               первый                     18.0  \n",
       "2               другой                     13.0  \n",
       "3               другой                      6.0  \n",
       "4               другой                      8.0  \n",
       "\n",
       "[5 rows x 29 columns]"
      ]
     },
     "execution_count": 110,
     "metadata": {},
     "output_type": "execute_result"
    }
   ],
   "source": [
    "data.head()"
   ]
  },
  {
   "cell_type": "markdown",
   "metadata": {},
   "source": [
    "<div class=\"alert alert-success\">\n",
    "<b>👍 Успех:</b> Все верно!\n",
    "</div>"
   ]
  },
  {
   "cell_type": "markdown",
   "metadata": {
    "id": "pPyxrKWTAwb-"
   },
   "source": [
    "### Проведите исследовательский анализ данных"
   ]
  },
  {
   "cell_type": "markdown",
   "metadata": {
    "id": "V2f0D3kLAwb-"
   },
   "source": [
    "**Изучить перечисленные ниже параметры объектов и построить отдельные гистограммы для каждого из этих параметров**"
   ]
  },
  {
   "cell_type": "markdown",
   "metadata": {},
   "source": [
    "Список параметров которые изучим и опишем:\n",
    "   - общая площадь;\n",
    "   - жилая площадь;\n",
    "   - площадь кухни;\n",
    "   - цена объекта;\n",
    "   - количество комнат;\n",
    "   - высота потолков;\n",
    "   - тип этажа квартиры («первый», «последний», «другой»);\n",
    "   - общее количество этажей в доме;\n",
    "   - расстояние до центра города в метрах;\n",
    "   - расстояние до ближайшего парка"
   ]
  },
  {
   "cell_type": "markdown",
   "metadata": {},
   "source": [
    "**total_area (общая площадь)**"
   ]
  },
  {
   "cell_type": "code",
   "execution_count": 111,
   "metadata": {},
   "outputs": [
    {
     "data": {
      "text/plain": [
       "count    23650.000000\n",
       "mean        60.329069\n",
       "std         35.661808\n",
       "min         12.000000\n",
       "25%         40.000000\n",
       "50%         52.000000\n",
       "75%         69.700000\n",
       "max        900.000000\n",
       "Name: total_area, dtype: float64"
      ]
     },
     "execution_count": 111,
     "metadata": {},
     "output_type": "execute_result"
    }
   ],
   "source": [
    "data['total_area'].describe()"
   ]
  },
  {
   "cell_type": "code",
   "execution_count": 112,
   "metadata": {},
   "outputs": [
    {
     "data": {
      "image/png": "[encoded data removed]",
      "text/plain": [
       "<Figure size 432x288 with 1 Axes>"
      ]
     },
     "metadata": {
      "needs_background": "light"
     },
     "output_type": "display_data"
    }
   ],
   "source": [
    "data.boxplot(column='total_area')\n",
    "plt.title('Диаграмма размаха общей площади')\n",
    "plt.ylabel('Общая площадь в квадратных метрах')\n",
    "plt.show()"
   ]
  },
  {
   "cell_type": "code",
   "execution_count": 113,
   "metadata": {},
   "outputs": [
    {
     "data": {
      "image/png": "[encoded data removed]",
      "text/plain": [
       "<Figure size 432x288 with 1 Axes>"
      ]
     },
     "metadata": {
      "needs_background": "light"
     },
     "output_type": "display_data"
    }
   ],
   "source": [
    "data['total_area'].plot(bins=50, kind='hist')\n",
    "plt.xlabel('Общая площадь в квадратных метрах')\n",
    "plt.ylabel('Количество квартир')\n",
    "plt.title('Распределение общей площади квартиры')\n",
    "plt.show()"
   ]
  },
  {
   "cell_type": "code",
   "execution_count": 114,
   "metadata": {},
   "outputs": [],
   "source": [
    "data_total_area = data.query('total_area < 220')"
   ]
  },
  {
   "cell_type": "code",
   "execution_count": 115,
   "metadata": {},
   "outputs": [
    {
     "data": {
      "image/png": "[encoded data removed]",
      "text/plain": [
       "<Figure size 432x288 with 1 Axes>"
      ]
     },
     "metadata": {
      "needs_background": "light"
     },
     "output_type": "display_data"
    }
   ],
   "source": [
    "data_total_area['total_area'].plot(bins=50, kind='hist')\n",
    "plt.xlabel('Общая площадь в квадратных метрах')\n",
    "plt.ylabel('Количество квартир')\n",
    "plt.title('Распределение общей площади квартиры после фильтрации')\n",
    "plt.show()"
   ]
  },
  {
   "cell_type": "code",
   "execution_count": 116,
   "metadata": {},
   "outputs": [
    {
     "data": {
      "text/plain": [
       "count    23469.000000\n",
       "mean        58.450961\n",
       "std         27.319394\n",
       "min         12.000000\n",
       "25%         40.000000\n",
       "50%         52.000000\n",
       "75%         69.000000\n",
       "max        218.000000\n",
       "Name: total_area, dtype: float64"
      ]
     },
     "execution_count": 116,
     "metadata": {},
     "output_type": "execute_result"
    }
   ],
   "source": [
    "data_total_area['total_area'].describe()"
   ]
  },
  {
   "cell_type": "markdown",
   "metadata": {},
   "source": [
    "Медиана и среднее общей площади схожи, разбросов в данных не значительное количество. Общая площадь в Санкт-Петербурге исоседних населенных пунктах составляет примерно 58 кв.м."
   ]
  },
  {
   "cell_type": "markdown",
   "metadata": {},
   "source": [
    "<div class=\"alert alert-success\">\n",
    "<b>👍 Успех:</b> Все верно!\n",
    "</div>"
   ]
  },
  {
   "cell_type": "markdown",
   "metadata": {},
   "source": [
    "**living_area (жилая площадь)**"
   ]
  },
  {
   "cell_type": "code",
   "execution_count": 117,
   "metadata": {},
   "outputs": [
    {
     "data": {
      "text/plain": [
       "count    23650.000000\n",
       "mean        34.577306\n",
       "std         22.355180\n",
       "min          2.000000\n",
       "25%         19.000000\n",
       "50%         30.000000\n",
       "75%         42.100000\n",
       "max        409.700000\n",
       "Name: living_area, dtype: float64"
      ]
     },
     "execution_count": 117,
     "metadata": {},
     "output_type": "execute_result"
    }
   ],
   "source": [
    "data['living_area'].describe()"
   ]
  },
  {
   "cell_type": "code",
   "execution_count": 118,
   "metadata": {},
   "outputs": [
    {
     "data": {
      "image/png": "[encoded data removed]",
      "text/plain": [
       "<Figure size 432x288 with 1 Axes>"
      ]
     },
     "metadata": {
      "needs_background": "light"
     },
     "output_type": "display_data"
    }
   ],
   "source": [
    "data['living_area'].plot(kind='hist', grid=True, bins=50)\n",
    "plt.title('Распределение жилой площади квартир')\n",
    "plt.xlabel('квадратные метры')\n",
    "plt.ylabel('количество квартир')\n",
    "plt.show()"
   ]
  },
  {
   "cell_type": "markdown",
   "metadata": {},
   "source": [
    "Избавимся от разбросов:"
   ]
  },
  {
   "cell_type": "code",
   "execution_count": 119,
   "metadata": {},
   "outputs": [],
   "source": [
    "data_living_area = data.query('living_area < 80')"
   ]
  },
  {
   "cell_type": "code",
   "execution_count": 120,
   "metadata": {},
   "outputs": [
    {
     "data": {
      "image/png": "[encoded data removed]",
      "text/plain": [
       "<Figure size 432x288 with 1 Axes>"
      ]
     },
     "metadata": {
      "needs_background": "light"
     },
     "output_type": "display_data"
    }
   ],
   "source": [
    "data_living_area['living_area'].plot(kind='hist', grid=True, bins=50)\n",
    "plt.title('Распределение жилой площади квартир после фильтрации')\n",
    "plt.xlabel('квадратные метры')\n",
    "plt.ylabel('количество квартир')\n",
    "plt.show()"
   ]
  },
  {
   "cell_type": "code",
   "execution_count": 121,
   "metadata": {},
   "outputs": [
    {
     "data": {
      "text/plain": [
       "count    22854.000000\n",
       "mean        31.699861\n",
       "std         14.034382\n",
       "min          2.000000\n",
       "25%         18.714525\n",
       "50%         30.000000\n",
       "75%         40.942500\n",
       "max         79.740000\n",
       "Name: living_area, dtype: float64"
      ]
     },
     "execution_count": 121,
     "metadata": {},
     "output_type": "execute_result"
    }
   ],
   "source": [
    "data_living_area['living_area'].describe()"
   ]
  },
  {
   "cell_type": "markdown",
   "metadata": {},
   "source": [
    "Видим два пика: около 18 кв.м (скорей всего много студий в данных) и 31 кв.м. Медиана и среднее значение в общем схожи между собой. Разбросов в данных незначительное количество."
   ]
  },
  {
   "cell_type": "markdown",
   "metadata": {},
   "source": [
    "<div class=\"alert alert-success\">\n",
    "<b>👍 Успех:</b> Все верно!\n",
    "</div>"
   ]
  },
  {
   "cell_type": "markdown",
   "metadata": {},
   "source": [
    "**kitchen_area (площадь кухни)**"
   ]
  },
  {
   "cell_type": "code",
   "execution_count": 122,
   "metadata": {},
   "outputs": [
    {
     "data": {
      "text/plain": [
       "count    23650.000000\n",
       "mean        10.474956\n",
       "std          6.017172\n",
       "min          1.300000\n",
       "25%          7.000000\n",
       "50%          9.000000\n",
       "75%         12.000000\n",
       "max        112.000000\n",
       "Name: kitchen_area, dtype: float64"
      ]
     },
     "execution_count": 122,
     "metadata": {},
     "output_type": "execute_result"
    }
   ],
   "source": [
    "data['kitchen_area'].describe()"
   ]
  },
  {
   "cell_type": "code",
   "execution_count": 123,
   "metadata": {},
   "outputs": [
    {
     "data": {
      "image/png": "[encoded data removed]",
      "text/plain": [
       "<Figure size 432x288 with 1 Axes>"
      ]
     },
     "metadata": {
      "needs_background": "light"
     },
     "output_type": "display_data"
    }
   ],
   "source": [
    "data['kitchen_area'].plot(kind='hist', grid=True, bins=50)\n",
    "plt.title('Распределение площади площади кухни')\n",
    "plt.xlabel('квадратные метры')\n",
    "plt.ylabel('количество квартир')\n",
    "plt.show()"
   ]
  },
  {
   "cell_type": "markdown",
   "metadata": {},
   "source": [
    "Избавимся от разбросов:"
   ]
  },
  {
   "cell_type": "code",
   "execution_count": 124,
   "metadata": {},
   "outputs": [],
   "source": [
    "data_kitchen_area = data.query('kitchen_area < 30')"
   ]
  },
  {
   "cell_type": "code",
   "execution_count": 125,
   "metadata": {},
   "outputs": [
    {
     "data": {
      "image/png": "[encoded data removed]",
      "text/plain": [
       "<Figure size 432x288 with 1 Axes>"
      ]
     },
     "metadata": {
      "needs_background": "light"
     },
     "output_type": "display_data"
    }
   ],
   "source": [
    "data_kitchen_area['kitchen_area'].plot(kind='hist', grid=True, bins=50)\n",
    "plt.title('Распределение площади площади кухни после фильтрации')\n",
    "plt.xlabel('квадратные метры')\n",
    "plt.ylabel('количество квартир')\n",
    "plt.show()"
   ]
  },
  {
   "cell_type": "code",
   "execution_count": 126,
   "metadata": {},
   "outputs": [
    {
     "data": {
      "text/plain": [
       "count    23229.000000\n",
       "mean         9.925377\n",
       "std          4.117386\n",
       "min          1.300000\n",
       "25%          7.000000\n",
       "50%          9.000000\n",
       "75%         11.600000\n",
       "max         29.900000\n",
       "Name: kitchen_area, dtype: float64"
      ]
     },
     "execution_count": 126,
     "metadata": {},
     "output_type": "execute_result"
    }
   ],
   "source": [
    "data_kitchen_area['kitchen_area'].describe()"
   ]
  },
  {
   "cell_type": "markdown",
   "metadata": {},
   "source": [
    "Среднее значение площади кухни с медианным значением схожи. Разбросов в данных незначительное количество."
   ]
  },
  {
   "cell_type": "markdown",
   "metadata": {},
   "source": [
    "<div class=\"alert alert-success\">\n",
    "<b>👍 Успех:</b> Все верно!\n",
    "</div>"
   ]
  },
  {
   "cell_type": "markdown",
   "metadata": {},
   "source": [
    "**last_price (цена объекта)**"
   ]
  },
  {
   "cell_type": "code",
   "execution_count": 127,
   "metadata": {},
   "outputs": [
    {
     "name": "stdout",
     "output_type": "stream",
     "text": [
      "6541126.897928119\n",
      "4650000.0\n"
     ]
    }
   ],
   "source": [
    "print(data['last_price'].mean())\n",
    "print(data['last_price'].median())"
   ]
  },
  {
   "cell_type": "code",
   "execution_count": 128,
   "metadata": {},
   "outputs": [
    {
     "data": {
      "image/png": "[encoded data removed]",
      "text/plain": [
       "<Figure size 432x288 with 1 Axes>"
      ]
     },
     "metadata": {
      "needs_background": "light"
     },
     "output_type": "display_data"
    }
   ],
   "source": [
    "data.boxplot(column='last_price')\n",
    "plt.title('Диаграмма размаха цены объекта')\n",
    "plt.ylabel('Цена в руб')\n",
    "plt.show()"
   ]
  },
  {
   "cell_type": "code",
   "execution_count": 129,
   "metadata": {},
   "outputs": [
    {
     "data": {
      "image/png": "[encoded data removed]",
      "text/plain": [
       "<Figure size 432x288 with 1 Axes>"
      ]
     },
     "metadata": {
      "needs_background": "light"
     },
     "output_type": "display_data"
    }
   ],
   "source": [
    "data['last_price'].plot(kind='hist', grid=True, bins=50)\n",
    "plt.title('Распределение цены объекта')\n",
    "plt.xlabel('цена в рублях')\n",
    "plt.ylabel('количество квартир')\n",
    "plt.show()"
   ]
  },
  {
   "cell_type": "code",
   "execution_count": 130,
   "metadata": {},
   "outputs": [],
   "source": [
    "# Избавимся от разбросов\n",
    "data_last_price = data.query('last_price < 20000000')"
   ]
  },
  {
   "cell_type": "code",
   "execution_count": 131,
   "metadata": {},
   "outputs": [
    {
     "data": {
      "image/png": "[encoded data removed]",
      "text/plain": [
       "<Figure size 432x288 with 1 Axes>"
      ]
     },
     "metadata": {
      "needs_background": "light"
     },
     "output_type": "display_data"
    }
   ],
   "source": [
    "data_last_price.boxplot(column='last_price')\n",
    "plt.title('Диаграмма размаха цены объекта после фильтрации')\n",
    "plt.ylabel('Цена в руб')\n",
    "plt.show()"
   ]
  },
  {
   "cell_type": "code",
   "execution_count": 132,
   "metadata": {},
   "outputs": [
    {
     "data": {
      "image/png": "[encoded data removed]",
      "text/plain": [
       "<Figure size 432x288 with 1 Axes>"
      ]
     },
     "metadata": {
      "needs_background": "light"
     },
     "output_type": "display_data"
    }
   ],
   "source": [
    "data_last_price['last_price'].plot(kind='hist', grid=True, bins=50)\n",
    "plt.title('Распределение цены объекта после фильтрации')\n",
    "plt.xlabel('цена в рублях')\n",
    "plt.ylabel('количество квартир')\n",
    "plt.show()"
   ]
  },
  {
   "cell_type": "code",
   "execution_count": 133,
   "metadata": {},
   "outputs": [
    {
     "name": "stdout",
     "output_type": "stream",
     "text": [
      "Сократили данные на 1.03%\n"
     ]
    }
   ],
   "source": [
    "# Процент на сколько сократили данные\n",
    "print('Сократили данные на {:.2f}%'.format(data.shape[0]/data_last_price['last_price'].shape[0]))"
   ]
  },
  {
   "cell_type": "code",
   "execution_count": 134,
   "metadata": {},
   "outputs": [
    {
     "name": "stdout",
     "output_type": "stream",
     "text": [
      "5411420.908408932\n",
      "4550000.0\n"
     ]
    }
   ],
   "source": [
    "print(data_last_price['last_price'].mean())\n",
    "print(data_last_price['last_price'].median())"
   ]
  },
  {
   "cell_type": "markdown",
   "metadata": {},
   "source": [
    "Изначально среднее значение и медианное цены различались примерно в 2 раза. Разбросов было значительное количество. Удалили 1% данных, чтобы разбросы пришли к нормальному виду. Средняя цена за квартиры составляет примерно 4.5 млн. рублей."
   ]
  },
  {
   "cell_type": "markdown",
   "metadata": {},
   "source": [
    "<div class=\"alert alert-success\">\n",
    "<b>👍 Успех:</b> Все верно!\n",
    "</div>"
   ]
  },
  {
   "cell_type": "markdown",
   "metadata": {},
   "source": [
    "**rooms (количество комнат)**"
   ]
  },
  {
   "cell_type": "code",
   "execution_count": 135,
   "metadata": {},
   "outputs": [
    {
     "data": {
      "text/plain": [
       "count    23650.000000\n",
       "mean         2.070106\n",
       "std          1.078620\n",
       "min          0.000000\n",
       "25%          1.000000\n",
       "50%          2.000000\n",
       "75%          3.000000\n",
       "max         19.000000\n",
       "Name: rooms, dtype: float64"
      ]
     },
     "execution_count": 135,
     "metadata": {},
     "output_type": "execute_result"
    }
   ],
   "source": [
    "data['rooms'].describe()"
   ]
  },
  {
   "cell_type": "code",
   "execution_count": 136,
   "metadata": {},
   "outputs": [
    {
     "data": {
      "image/png": "[encoded data removed]",
      "text/plain": [
       "<Figure size 432x288 with 1 Axes>"
      ]
     },
     "metadata": {
      "needs_background": "light"
     },
     "output_type": "display_data"
    }
   ],
   "source": [
    "data.boxplot(column='rooms')\n",
    "plt.title('Диаграмма размаха количества комнат')\n",
    "plt.ylabel('Количество комнат')\n",
    "plt.show()"
   ]
  },
  {
   "cell_type": "code",
   "execution_count": 137,
   "metadata": {},
   "outputs": [
    {
     "data": {
      "image/png": "[encoded data removed]",
      "text/plain": [
       "<Figure size 432x288 with 1 Axes>"
      ]
     },
     "metadata": {
      "needs_background": "light"
     },
     "output_type": "display_data"
    }
   ],
   "source": [
    "data['rooms'].plot(kind='hist', grid=True, bins=50)\n",
    "plt.title('Распределение количества комнат')\n",
    "plt.xlabel('комнаты')\n",
    "plt.ylabel('количество квартир')\n",
    "plt.show()"
   ]
  },
  {
   "cell_type": "markdown",
   "metadata": {},
   "source": [
    "Чаще всего встречаются  квартиры с 1 и 2 комнатами."
   ]
  },
  {
   "cell_type": "markdown",
   "metadata": {},
   "source": [
    "<div class=\"alert alert-success\">\n",
    "<b>👍 Успех:</b> Все верно!\n",
    "</div>"
   ]
  },
  {
   "cell_type": "markdown",
   "metadata": {},
   "source": [
    "**ceiling_height (высота потолков)**"
   ]
  },
  {
   "cell_type": "code",
   "execution_count": 138,
   "metadata": {},
   "outputs": [
    {
     "data": {
      "text/plain": [
       "count    23650.000000\n",
       "mean         2.697986\n",
       "std          0.236668\n",
       "min          2.000000\n",
       "25%          2.600000\n",
       "50%          2.650000\n",
       "75%          2.700000\n",
       "max         10.000000\n",
       "Name: ceiling_height, dtype: float64"
      ]
     },
     "execution_count": 138,
     "metadata": {},
     "output_type": "execute_result"
    }
   ],
   "source": [
    "data['ceiling_height'].describe()"
   ]
  },
  {
   "cell_type": "code",
   "execution_count": 139,
   "metadata": {},
   "outputs": [
    {
     "data": {
      "image/png": "[encoded data removed]",
      "text/plain": [
       "<Figure size 432x288 with 1 Axes>"
      ]
     },
     "metadata": {
      "needs_background": "light"
     },
     "output_type": "display_data"
    }
   ],
   "source": [
    "data['ceiling_height'].plot(bins=10, kind='hist')\n",
    "plt.title('Распределение высоты потолков')\n",
    "plt.xlabel('высота комнат')\n",
    "plt.ylabel('Количество квартир')\n",
    "plt.show()"
   ]
  },
  {
   "cell_type": "markdown",
   "metadata": {},
   "source": [
    "Высота потолков в среднем 2.7 м, медиана 2.65 м. Также есть квартиры у которых потолки 3 м. Выше 3 м. встречаются очень редко."
   ]
  },
  {
   "cell_type": "markdown",
   "metadata": {},
   "source": [
    "<div class=\"alert alert-danger\">\n",
    "<b>😔 Необходимо исправить V2:</b> У тебя все еще остались потолки высотой 1 м\n",
    "</div>"
   ]
  },
  {
   "cell_type": "markdown",
   "metadata": {},
   "source": [
    "<div class=\"alert alert-info\"> <b>🎓 Комментарий студента:</b> \n",
    "    Устранил замечание!\n",
    "</div>"
   ]
  },
  {
   "cell_type": "markdown",
   "metadata": {},
   "source": [
    "**floor_type_category (тип этажа квартиры)**"
   ]
  },
  {
   "cell_type": "code",
   "execution_count": 140,
   "metadata": {},
   "outputs": [
    {
     "data": {
      "image/png": "[encoded data removed]",
      "text/plain": [
       "<Figure size 432x288 with 1 Axes>"
      ]
     },
     "metadata": {
      "needs_background": "light"
     },
     "output_type": "display_data"
    }
   ],
   "source": [
    "data['floor_type_category'].hist(bins=3)\n",
    "plt.title('Распределение типа этажа квартиры')\n",
    "plt.xlabel('тип этажа квартиры')\n",
    "plt.ylabel('количество квартир')\n",
    "plt.show()"
   ]
  },
  {
   "cell_type": "code",
   "execution_count": 141,
   "metadata": {},
   "outputs": [
    {
     "data": {
      "image/png": "[encoded data removed]",
      "text/plain": [
       "<Figure size 432x288 with 1 Axes>"
      ]
     },
     "metadata": {
      "needs_background": "light"
     },
     "output_type": "display_data"
    }
   ],
   "source": [
    "data['floor'].hist(bins=10)\n",
    "plt.title('Распределение этажа квартиры')\n",
    "plt.xlabel('этажи')\n",
    "plt.ylabel('количество квартир')\n",
    "plt.show()"
   ]
  },
  {
   "cell_type": "markdown",
   "metadata": {},
   "source": [
    "Большинство квартир распологаются на первых 5 этажах. Количество квартир в категории \"другой\" больше чем \"первый\" и \"последний\". Квартир в категории \"последний\" больше чем в \"первый\". Скорей всего это зависит от того, что на первые этажи чаще распологаются магазины либо какие нибудь учереждения."
   ]
  },
  {
   "cell_type": "markdown",
   "metadata": {},
   "source": [
    "<div class=\"alert alert-success\">\n",
    "<b>👍 Успех:</b> Все верно!\n",
    "</div>"
   ]
  },
  {
   "cell_type": "markdown",
   "metadata": {},
   "source": [
    "**floors_total (общее количество этажей в доме)**"
   ]
  },
  {
   "cell_type": "code",
   "execution_count": 142,
   "metadata": {},
   "outputs": [
    {
     "data": {
      "text/plain": [
       "count    23650.000000\n",
       "mean        10.673784\n",
       "std          6.593455\n",
       "min          1.000000\n",
       "25%          5.000000\n",
       "50%          9.000000\n",
       "75%         16.000000\n",
       "max         60.000000\n",
       "Name: floors_total, dtype: float64"
      ]
     },
     "execution_count": 142,
     "metadata": {},
     "output_type": "execute_result"
    }
   ],
   "source": [
    "data['floors_total'].describe()"
   ]
  },
  {
   "cell_type": "code",
   "execution_count": 143,
   "metadata": {},
   "outputs": [
    {
     "data": {
      "image/png": "[encoded data removed]",
      "text/plain": [
       "<Figure size 432x288 with 1 Axes>"
      ]
     },
     "metadata": {
      "needs_background": "light"
     },
     "output_type": "display_data"
    }
   ],
   "source": [
    "data.boxplot(column='floors_total')\n",
    "plt.title('Диаграмма размаха общего количества этажей в доме')\n",
    "plt.ylabel('Колиичество этажей')\n",
    "plt.show()"
   ]
  },
  {
   "cell_type": "code",
   "execution_count": 144,
   "metadata": {},
   "outputs": [
    {
     "data": {
      "image/png": "[encoded data removed]",
      "text/plain": [
       "<Figure size 432x288 with 1 Axes>"
      ]
     },
     "metadata": {
      "needs_background": "light"
     },
     "output_type": "display_data"
    }
   ],
   "source": [
    "data['floors_total'].plot(kind='hist', grid=True, bins=10)\n",
    "plt.title('Распределение общего количества этажей в доме')\n",
    "plt.xlabel('общее количество этажей')\n",
    "plt.ylabel('количество квартир')\n",
    "plt.show()"
   ]
  },
  {
   "cell_type": "code",
   "execution_count": 145,
   "metadata": {},
   "outputs": [
    {
     "name": "stdout",
     "output_type": "stream",
     "text": [
      "10.673784355179704\n",
      "9.0\n"
     ]
    }
   ],
   "source": [
    "print(data['floors_total'].mean())\n",
    "print(data['floors_total'].median())"
   ]
  },
  {
   "cell_type": "markdown",
   "metadata": {},
   "source": [
    "Чаще всего встречаются типы застроек 5 и 9 этажные дома."
   ]
  },
  {
   "cell_type": "markdown",
   "metadata": {},
   "source": [
    "<div class=\"alert alert-success\">\n",
    "<b>👍 Успех:</b> Все верно!\n",
    "</div>"
   ]
  },
  {
   "cell_type": "markdown",
   "metadata": {},
   "source": [
    "**city_centers_nearest (расстояние до цунтра города)**"
   ]
  },
  {
   "cell_type": "code",
   "execution_count": 146,
   "metadata": {},
   "outputs": [
    {
     "data": {
      "image/png": "[encoded data removed]",
      "text/plain": [
       "<Figure size 432x288 with 1 Axes>"
      ]
     },
     "metadata": {
      "needs_background": "light"
     },
     "output_type": "display_data"
    }
   ],
   "source": [
    "data.boxplot(column='city_centers_nearest')\n",
    "plt.title('Диаграмма размаха расстояние до центра города')\n",
    "plt.ylabel('расстояние')\n",
    "plt.show()"
   ]
  },
  {
   "cell_type": "code",
   "execution_count": 147,
   "metadata": {},
   "outputs": [
    {
     "data": {
      "image/png": "[encoded data removed]",
      "text/plain": [
       "<Figure size 432x288 with 1 Axes>"
      ]
     },
     "metadata": {
      "needs_background": "light"
     },
     "output_type": "display_data"
    }
   ],
   "source": [
    "data['city_centers_nearest'].plot(kind='hist', grid=True, bins=10)\n",
    "plt.title('Распределение расстояние до центра города')\n",
    "plt.xlabel('расстояние')\n",
    "plt.ylabel('количество квартир')\n",
    "plt.show()"
   ]
  },
  {
   "cell_type": "code",
   "execution_count": 105,
   "metadata": {},
   "outputs": [],
   "source": [
    "# Избавимся от разбросов\n",
    "# data_city_center_neares = data.query('city_centers_nearest < 40000')"
   ]
  },
  {
   "cell_type": "markdown",
   "metadata": {},
   "source": [
    "<div class=\"alert alert-danger\">\n",
    "<b>😔 Необходимо исправить V2:</b> Квартиры могут находиться и дальше 40 км от центра, эти данные не стоит удалять\n",
    "</div>"
   ]
  },
  {
   "cell_type": "markdown",
   "metadata": {},
   "source": [
    "<div class=\"alert alert-info\"> <b>🎓 Комментарий студента:</b> \n",
    "    Устранил замечание!\n",
    "</div>"
   ]
  },
  {
   "cell_type": "code",
   "execution_count": null,
   "metadata": {},
   "outputs": [],
   "source": []
  },
  {
   "cell_type": "markdown",
   "metadata": {},
   "source": [
    "Больше всего квартир продается недалеко от центра, так какони пользуются спросом."
   ]
  },
  {
   "cell_type": "markdown",
   "metadata": {},
   "source": [
    "**parks_nearest (асстояние до блидайшего парка)**"
   ]
  },
  {
   "cell_type": "code",
   "execution_count": 150,
   "metadata": {},
   "outputs": [
    {
     "data": {
      "image/png": "[encoded data removed]",
      "text/plain": [
       "<Figure size 432x288 with 1 Axes>"
      ]
     },
     "metadata": {
      "needs_background": "light"
     },
     "output_type": "display_data"
    }
   ],
   "source": [
    "data.boxplot(column='parks_nearest')\n",
    "plt.title('Диаграмма размаха расстояние до ближайшего парка')\n",
    "plt.ylabel('расстояние')\n",
    "plt.show()"
   ]
  },
  {
   "cell_type": "code",
   "execution_count": 151,
   "metadata": {},
   "outputs": [
    {
     "data": {
      "image/png": "[encoded data removed]",
      "text/plain": [
       "<Figure size 432x288 with 1 Axes>"
      ]
     },
     "metadata": {
      "needs_background": "light"
     },
     "output_type": "display_data"
    }
   ],
   "source": [
    "data['parks_nearest'].plot(kind='hist', grid=True, bins=10)\n",
    "plt.title('Распределение расстояние до ближайшего парка')\n",
    "plt.xlabel('расстояние')\n",
    "plt.ylabel('количество квартир')\n",
    "plt.show()"
   ]
  },
  {
   "cell_type": "code",
   "execution_count": 109,
   "metadata": {},
   "outputs": [],
   "source": [
    "# Избавимся от разбросов\n",
    "#data_park_neares = data.query('parks_nearest < 900')"
   ]
  },
  {
   "cell_type": "markdown",
   "metadata": {},
   "source": [
    "<div class=\"alert alert-danger\">\n",
    "<b>😔 Необходимо исправить V2:</b> Удаление от парка тоже не является причиной для удаления данных\n",
    "</div>"
   ]
  },
  {
   "cell_type": "markdown",
   "metadata": {},
   "source": [
    "<div class=\"alert alert-info\"> <b>🎓 Комментарий студента:</b> \n",
    "    Устранил замечание!\n",
    "</div>"
   ]
  },
  {
   "cell_type": "markdown",
   "metadata": {},
   "source": [
    "Чаще всего квартиры находятся в 400 - 500 м от ближайшего парка."
   ]
  },
  {
   "cell_type": "markdown",
   "metadata": {},
   "source": [
    "**Как быстро продавались квартиры**"
   ]
  },
  {
   "cell_type": "code",
   "execution_count": 152,
   "metadata": {},
   "outputs": [
    {
     "data": {
      "image/png": "[encoded data removed]",
      "text/plain": [
       "<Figure size 432x288 with 1 Axes>"
      ]
     },
     "metadata": {
      "needs_background": "light"
     },
     "output_type": "display_data"
    }
   ],
   "source": [
    "data['days_exposition'].plot(kind='hist', grid=True, bins=50)\n",
    "plt.title('Распределение динамики продажи квартир')\n",
    "plt.xlabel('дни')\n",
    "plt.ylabel('количество квартир')\n",
    "plt.show()"
   ]
  },
  {
   "cell_type": "code",
   "execution_count": 153,
   "metadata": {},
   "outputs": [
    {
     "data": {
      "text/plain": [
       "count    20470.000000\n",
       "mean       180.753200\n",
       "std        219.777916\n",
       "min          1.000000\n",
       "25%         45.000000\n",
       "50%         95.000000\n",
       "75%        231.000000\n",
       "max       1580.000000\n",
       "Name: days_exposition, dtype: float64"
      ]
     },
     "execution_count": 153,
     "metadata": {},
     "output_type": "execute_result"
    }
   ],
   "source": [
    "data['days_exposition'].describe()"
   ]
  },
  {
   "cell_type": "markdown",
   "metadata": {},
   "source": [
    "Быстрыми продажами считаем те которые были совершены в течении одного дня после публикации объявления. Медиана и среднее размещение отличается в 2 раза. Наблюдается большой разброс данных. "
   ]
  },
  {
   "cell_type": "code",
   "execution_count": 154,
   "metadata": {},
   "outputs": [
    {
     "data": {
      "text/html": [
       "<div>\n",
       "<style scoped>\n",
       "    .dataframe tbody tr th:only-of-type {\n",
       "        vertical-align: middle;\n",
       "    }\n",
       "\n",
       "    .dataframe tbody tr th {\n",
       "        vertical-align: top;\n",
       "    }\n",
       "\n",
       "    .dataframe thead th {\n",
       "        text-align: right;\n",
       "    }\n",
       "</style>\n",
       "<table border=\"1\" class=\"dataframe\">\n",
       "  <thead>\n",
       "    <tr style=\"text-align: right;\">\n",
       "      <th></th>\n",
       "      <th>total_images</th>\n",
       "      <th>last_price</th>\n",
       "      <th>total_area</th>\n",
       "      <th>first_day_exposition</th>\n",
       "      <th>rooms</th>\n",
       "      <th>ceiling_height</th>\n",
       "      <th>floors_total</th>\n",
       "      <th>living_area</th>\n",
       "      <th>floor</th>\n",
       "      <th>is_apartment</th>\n",
       "      <th>...</th>\n",
       "      <th>ponds_around_3000</th>\n",
       "      <th>ponds_nearest</th>\n",
       "      <th>days_exposition</th>\n",
       "      <th>locality_name_replace</th>\n",
       "      <th>price_one_sqr_meter</th>\n",
       "      <th>day_week_publication_advertisement</th>\n",
       "      <th>month_publication_advertisement</th>\n",
       "      <th>year_publication_advertisement</th>\n",
       "      <th>floor_type_category</th>\n",
       "      <th>city_centers_nearest_km</th>\n",
       "    </tr>\n",
       "  </thead>\n",
       "  <tbody>\n",
       "    <tr>\n",
       "      <th>18843</th>\n",
       "      <td>11</td>\n",
       "      <td>3500000.0</td>\n",
       "      <td>48.2</td>\n",
       "      <td>2014-12-15</td>\n",
       "      <td>2</td>\n",
       "      <td>2.5</td>\n",
       "      <td>5</td>\n",
       "      <td>27.4</td>\n",
       "      <td>2</td>\n",
       "      <td>False</td>\n",
       "      <td>...</td>\n",
       "      <td>NaN</td>\n",
       "      <td>NaN</td>\n",
       "      <td>1580.0</td>\n",
       "      <td>деревня новое девяткино</td>\n",
       "      <td>72614.107884</td>\n",
       "      <td>0</td>\n",
       "      <td>12</td>\n",
       "      <td>2014</td>\n",
       "      <td>другой</td>\n",
       "      <td>NaN</td>\n",
       "    </tr>\n",
       "  </tbody>\n",
       "</table>\n",
       "<p>1 rows × 29 columns</p>\n",
       "</div>"
      ],
      "text/plain": [
       "       total_images  last_price  total_area first_day_exposition  rooms  \\\n",
       "18843            11   3500000.0        48.2           2014-12-15      2   \n",
       "\n",
       "       ceiling_height  floors_total  living_area  floor  is_apartment  ...  \\\n",
       "18843             2.5             5         27.4      2         False  ...   \n",
       "\n",
       "       ponds_around_3000  ponds_nearest  days_exposition  \\\n",
       "18843                NaN            NaN           1580.0   \n",
       "\n",
       "         locality_name_replace price_one_sqr_meter  \\\n",
       "18843  деревня новое девяткино        72614.107884   \n",
       "\n",
       "       day_week_publication_advertisement  month_publication_advertisement  \\\n",
       "18843                                   0                               12   \n",
       "\n",
       "       year_publication_advertisement  floor_type_category  \\\n",
       "18843                            2014               другой   \n",
       "\n",
       "       city_centers_nearest_km  \n",
       "18843                      NaN  \n",
       "\n",
       "[1 rows x 29 columns]"
      ]
     },
     "execution_count": 154,
     "metadata": {},
     "output_type": "execute_result"
    }
   ],
   "source": [
    "# проверим с наибольшим количеством дней в объявлении\n",
    "data.query('days_exposition == 1580.0')"
   ]
  },
  {
   "cell_type": "markdown",
   "metadata": {},
   "source": [
    "Все данные выглядят реальными для строки **18843** за исключением количества дней размещения рекламы. Возможно продавец забыл убрать на сайте квартиру с продажи и скорее всего из-за этого среднее значение исказилось. Посмотрим диаграмму размаха."
   ]
  },
  {
   "cell_type": "code",
   "execution_count": 155,
   "metadata": {},
   "outputs": [
    {
     "data": {
      "image/png": "[encoded data removed]",
      "text/plain": [
       "<Figure size 432x288 with 1 Axes>"
      ]
     },
     "metadata": {
      "needs_background": "light"
     },
     "output_type": "display_data"
    }
   ],
   "source": [
    "data.boxplot(column='days_exposition')\n",
    "plt.title('Диаграмма размаха динамики продажи квартиры')\n",
    "plt.ylabel('динамика продажи квартиры')\n",
    "plt.show()"
   ]
  },
  {
   "cell_type": "code",
   "execution_count": 156,
   "metadata": {},
   "outputs": [
    {
     "name": "stdout",
     "output_type": "stream",
     "text": [
      "126.88905507184445\n",
      "84.0\n"
     ]
    }
   ],
   "source": [
    "# возьмем значение до 500\n",
    "data = data.query('days_exposition < 500')\n",
    "print(data['days_exposition'].mean())\n",
    "print(data['days_exposition'].median())\n"
   ]
  },
  {
   "cell_type": "markdown",
   "metadata": {},
   "source": [
    "Разница между медианой и средним значением сократилось. Выглядит более реальным."
   ]
  },
  {
   "cell_type": "code",
   "execution_count": 157,
   "metadata": {},
   "outputs": [
    {
     "data": {
      "image/png": "[encoded data removed]",
      "text/plain": [
       "<Figure size 432x288 with 1 Axes>"
      ]
     },
     "metadata": {
      "needs_background": "light"
     },
     "output_type": "display_data"
    }
   ],
   "source": [
    "data['days_exposition'].plot(kind='hist', grid=True, bins=100)\n",
    "plt.title('Распределение динамики продажи квартир после фильтрации < 500')\n",
    "plt.xlabel('дни')\n",
    "plt.ylabel('количество квартир')\n",
    "plt.show()"
   ]
  },
  {
   "cell_type": "markdown",
   "metadata": {},
   "source": [
    "Видны пики, но не понятны их происхождение. Посмотрим более подробно и уменьшим например до 100 дней."
   ]
  },
  {
   "cell_type": "code",
   "execution_count": 158,
   "metadata": {},
   "outputs": [],
   "source": [
    "data_days_exposition = data.query('days_exposition < 100')"
   ]
  },
  {
   "cell_type": "code",
   "execution_count": 159,
   "metadata": {},
   "outputs": [
    {
     "data": {
      "image/png": "[encoded data removed]",
      "text/plain": [
       "<Figure size 432x288 with 1 Axes>"
      ]
     },
     "metadata": {
      "needs_background": "light"
     },
     "output_type": "display_data"
    }
   ],
   "source": [
    "data_days_exposition['days_exposition'].plot(kind='hist', grid=True, bins=50)\n",
    "plt.title('Распределение динамики продажи квартир после фильтрации < 100')\n",
    "plt.xlabel('дни')\n",
    "plt.ylabel('количество квартир')\n",
    "plt.show()"
   ]
  },
  {
   "cell_type": "code",
   "execution_count": 160,
   "metadata": {},
   "outputs": [
    {
     "data": {
      "text/plain": [
       "count    10490.000000\n",
       "mean        44.691039\n",
       "std         26.749919\n",
       "min          1.000000\n",
       "25%         21.000000\n",
       "50%         45.000000\n",
       "75%         63.000000\n",
       "max         99.000000\n",
       "Name: days_exposition, dtype: float64"
      ]
     },
     "execution_count": 160,
     "metadata": {},
     "output_type": "execute_result"
    }
   ],
   "source": [
    "data_days_exposition['days_exposition'].describe()"
   ]
  },
  {
   "cell_type": "markdown",
   "metadata": {},
   "source": [
    " **Вывод:**\n",
    " \n",
    "   -  Среднее время продажи 44 дней, а медиана 45 дней. \n",
    "   -  Пики наблюдаются на 45, 60 и 90 дней.\n",
    "   -  Скорее всего это автоматическое закрытие объявления при условии например, что пользователь не продлил его."
   ]
  },
  {
   "cell_type": "markdown",
   "metadata": {},
   "source": [
    "<div class=\"alert alert-success\">\n",
    "<b>👍 Успех:</b> Все верно! 45, 60 и 90 дней - дни когда объявления снимаются автоматически\n",
    "</div>"
   ]
  },
  {
   "cell_type": "markdown",
   "metadata": {},
   "source": [
    "**Определить факторы, которые больше всего влияют на общую (полную) стоимость объекта**"
   ]
  },
  {
   "cell_type": "markdown",
   "metadata": {},
   "source": [
    "**Зависит ли цена от общей площади**"
   ]
  },
  {
   "cell_type": "code",
   "execution_count": 120,
   "metadata": {},
   "outputs": [
    {
     "data": {
      "image/png": "[encoded data removed]",
      "text/plain": [
       "<Figure size 432x288 with 1 Axes>"
      ]
     },
     "metadata": {
      "needs_background": "light"
     },
     "output_type": "display_data"
    },
    {
     "name": "stdout",
     "output_type": "stream",
     "text": [
      "Коэффициент корреляции =  0.6271980656038634\n"
     ]
    }
   ],
   "source": [
    "price_total_area_pivot_table = data.pivot_table(index='total_area', values='last_price', aggfunc=['mean', 'median', 'count'])\n",
    "price_total_area_pivot_table.columns = ['mean', 'median', 'count']\n",
    "\n",
    "price_total_area_pivot_table.sort_values(by='median', ascending=False)\n",
    "price_total_area_pivot_table.plot(y='median', style='o', grid=True)\n",
    "plt.title('Зависимость цены от общей площади')\n",
    "plt.xlabel('общая площадь')\n",
    "plt.ylabel('цена')\n",
    "plt.show()\n",
    "\n",
    "print('Коэффициент корреляции = ', data['total_area'].corr(data['last_price']))\n"
   ]
  },
  {
   "cell_type": "markdown",
   "metadata": {},
   "source": [
    " - Стоимость объекта положительно зависит от общей площади (коэф. корр. 0.62)"
   ]
  },
  {
   "cell_type": "markdown",
   "metadata": {},
   "source": [
    "<div class=\"alert alert-warning\">\n",
    "<b>🤔 Рекомендация:</b> Корреляцию Пирсона в этом проекте использовать не нужно, мы не ищем линейную зависимость, достаточно диаграмм рассеяния. Не ко всем данным можно применять такой расчет корреляции. Выводы здесь стоит делать только на основе визуализации\n",
    "</div>"
   ]
  },
  {
   "cell_type": "markdown",
   "metadata": {},
   "source": [
    "**Зависит ли цена от жилой площади**"
   ]
  },
  {
   "cell_type": "code",
   "execution_count": 161,
   "metadata": {},
   "outputs": [
    {
     "data": {
      "image/png": "[encoded data removed]",
      "text/plain": [
       "<Figure size 432x288 with 1 Axes>"
      ]
     },
     "metadata": {
      "needs_background": "light"
     },
     "output_type": "display_data"
    },
    {
     "name": "stdout",
     "output_type": "stream",
     "text": [
      "Коэффициент корреляции =  0.5581446847045279\n"
     ]
    }
   ],
   "source": [
    "living_total_area_pivot_table = data.pivot_table(index='living_area', values='last_price', aggfunc=['mean', 'median', 'count'])\n",
    "living_total_area_pivot_table.columns = ['mean', 'median', 'count']\n",
    "\n",
    "living_total_area_pivot_table.sort_values(by='median', ascending=False)\n",
    "living_total_area_pivot_table.plot(y='median', style='o', grid=True)\n",
    "\n",
    "plt.title('Зависимость цены от жилой площади')\n",
    "plt.xlabel('жилая площадь')\n",
    "plt.ylabel('цена')\n",
    "plt.show()\n",
    "\n",
    "\n",
    "print('Коэффициент корреляции = ', data['living_area'].corr(data['last_price']))\n"
   ]
  },
  {
   "cell_type": "markdown",
   "metadata": {},
   "source": [
    "   -  Стоимость объекта положительно зависит от жилой площади (коэф. корр. 0.55), но меньше, чем от общей площади."
   ]
  },
  {
   "cell_type": "markdown",
   "metadata": {},
   "source": [
    "**Зависит ли цена от площади кухни**"
   ]
  },
  {
   "cell_type": "code",
   "execution_count": 162,
   "metadata": {},
   "outputs": [
    {
     "data": {
      "image/png": "[encoded data removed]",
      "text/plain": [
       "<Figure size 432x288 with 1 Axes>"
      ]
     },
     "metadata": {
      "needs_background": "light"
     },
     "output_type": "display_data"
    },
    {
     "name": "stdout",
     "output_type": "stream",
     "text": [
      "Коэффициент корреляции =  0.47909547780731204\n"
     ]
    }
   ],
   "source": [
    "kitchen_total_area_pivot_table = data.pivot_table(index='kitchen_area', values='last_price', aggfunc=['mean', 'median', 'count'])\n",
    "kitchen_total_area_pivot_table.columns = ['mean', 'median', 'count']\n",
    "\n",
    "kitchen_total_area_pivot_table.sort_values(by='median', ascending=False)\n",
    "kitchen_total_area_pivot_table.plot(y='median', style='o', grid=True)\n",
    "\n",
    "plt.title('Зависимость цены от площади кухни')\n",
    "plt.xlabel('площадь кухни')\n",
    "plt.ylabel('цена')\n",
    "plt.show()\n",
    "\n",
    "print('Коэффициент корреляции = ', data['kitchen_area'].corr(data['last_price']))\n"
   ]
  },
  {
   "cell_type": "markdown",
   "metadata": {},
   "source": [
    "-  Стоимость объекта положительно зависит от площади кухни (коэф. корр. 0.47), но слабее чем от общей площади или от жилой площади."
   ]
  },
  {
   "cell_type": "markdown",
   "metadata": {},
   "source": [
    "**Зависит ли цена от количества комнат**"
   ]
  },
  {
   "cell_type": "code",
   "execution_count": 163,
   "metadata": {},
   "outputs": [
    {
     "data": {
      "image/png": "[encoded data removed]",
      "text/plain": [
       "<Figure size 432x288 with 1 Axes>"
      ]
     },
     "metadata": {
      "needs_background": "light"
     },
     "output_type": "display_data"
    },
    {
     "name": "stdout",
     "output_type": "stream",
     "text": [
      "Коэффициент корреляции =  0.3416063382078745\n"
     ]
    }
   ],
   "source": [
    "rooms_total_area_pivot_table = data.pivot_table(index='rooms', values='last_price', aggfunc=['mean', 'median', 'count'])\n",
    "rooms_total_area_pivot_table.columns = ['mean', 'median', 'count']\n",
    "\n",
    "rooms_total_area_pivot_table.sort_values(by='median', ascending=False)\n",
    "rooms_total_area_pivot_table.plot(y='median', style='o', grid=True)\n",
    "\n",
    "plt.title('Зависимость цены от количества комнат')\n",
    "plt.xlabel('количества комнат')\n",
    "plt.ylabel('цена')\n",
    "plt.show()\n",
    "\n",
    "print('Коэффициент корреляции = ', data['rooms'].corr(data['last_price']))\n"
   ]
  },
  {
   "cell_type": "markdown",
   "metadata": {},
   "source": [
    "  - Стоимость объекта положительно зависит от количесва комнат (коэф. корр. 0.34), но слабо."
   ]
  },
  {
   "cell_type": "markdown",
   "metadata": {},
   "source": [
    "**Зависит ли цена от этажа на котором расположена квартира**"
   ]
  },
  {
   "cell_type": "code",
   "execution_count": 164,
   "metadata": {},
   "outputs": [
    {
     "data": {
      "image/png": "[encoded data removed]",
      "text/plain": [
       "<Figure size 432x288 with 1 Axes>"
      ]
     },
     "metadata": {
      "needs_background": "light"
     },
     "output_type": "display_data"
    }
   ],
   "source": [
    "floor_type_total_area_pivot_table = \\\n",
    "    data.pivot_table(index='floor_type_category', values='last_price', aggfunc=['mean', 'median', 'count'])\n",
    "floor_type_total_area_pivot_table.columns = ['mean', 'median', 'count']\n",
    "\n",
    "floor_type_total_area_pivot_table.sort_values(by='median', ascending=False)\n",
    "floor_type_total_area_pivot_table.plot(y='median', grid=True)\n",
    "\n",
    "plt.title('Зависит ли цена от этажа на котором расположена квартира')\n",
    "plt.xlabel('тип этажа')\n",
    "plt.ylabel('цена')\n",
    "plt.show()\n"
   ]
  },
  {
   "cell_type": "markdown",
   "metadata": {},
   "source": [
    "  - Коффициент корреляции нельзя получит, так как в столбце не числовые значения.\n",
    "  - Квартиры которые находятся со 2-го до предпоследнего являются самыми дорогими, квартиры на последнем этаже дешевле, но дороже, чем на первом."
   ]
  },
  {
   "cell_type": "markdown",
   "metadata": {},
   "source": [
    "<div class=\"alert alert-success\">\n",
    "<b>👍 Успех:</b> Все верно!\n",
    "</div>"
   ]
  },
  {
   "cell_type": "markdown",
   "metadata": {},
   "source": [
    "**Зависит ли цена от даты размещения**"
   ]
  },
  {
   "cell_type": "markdown",
   "metadata": {},
   "source": [
    " День недели публикации объявления:\n",
    "  \n",
    "   - 0 -   понедельник\n",
    "   - 1 -   вторник\n",
    "   - 2 -   среда\n",
    "   - 3 -   четверг\n",
    "   - 4 -   пятница\n",
    "   - 5 -   суббота\n",
    "   - 6 -   воскресенье\n",
    "   "
   ]
  },
  {
   "cell_type": "code",
   "execution_count": 165,
   "metadata": {},
   "outputs": [
    {
     "data": {
      "image/png": "[encoded data removed]",
      "text/plain": [
       "<Figure size 432x288 with 1 Axes>"
      ]
     },
     "metadata": {
      "needs_background": "light"
     },
     "output_type": "display_data"
    }
   ],
   "source": [
    "day_week_total_area_pivot_table = data.pivot_table(index='day_week_publication_advertisement', values='last_price', aggfunc=['mean', 'median', 'count'])\n",
    "day_week_total_area_pivot_table.columns = ['mean', 'median', 'count']\n",
    "\n",
    "day_week_total_area_pivot_table.sort_values(by='median', ascending=False)\n",
    "day_week_total_area_pivot_table.plot(y='median', grid=True)\n",
    "plt.title('Зависит ли цена от даты размещения')\n",
    "plt.xlabel('день недели')\n",
    "plt.ylabel('цена')\n",
    "plt.show()\n",
    "\n"
   ]
  },
  {
   "cell_type": "markdown",
   "metadata": {},
   "source": [
    " - Наименьшее число объявлений размещено в выходные дни.\n",
    " - Самые низкие медианные значения выпало на выходные дни."
   ]
  },
  {
   "cell_type": "code",
   "execution_count": 166,
   "metadata": {},
   "outputs": [
    {
     "data": {
      "text/html": [
       "<div>\n",
       "<style scoped>\n",
       "    .dataframe tbody tr th:only-of-type {\n",
       "        vertical-align: middle;\n",
       "    }\n",
       "\n",
       "    .dataframe tbody tr th {\n",
       "        vertical-align: top;\n",
       "    }\n",
       "\n",
       "    .dataframe thead th {\n",
       "        text-align: right;\n",
       "    }\n",
       "</style>\n",
       "<table border=\"1\" class=\"dataframe\">\n",
       "  <thead>\n",
       "    <tr style=\"text-align: right;\">\n",
       "      <th></th>\n",
       "      <th>mean</th>\n",
       "      <th>median</th>\n",
       "      <th>count</th>\n",
       "    </tr>\n",
       "    <tr>\n",
       "      <th>month_publication_advertisement</th>\n",
       "      <th></th>\n",
       "      <th></th>\n",
       "      <th></th>\n",
       "    </tr>\n",
       "  </thead>\n",
       "  <tbody>\n",
       "    <tr>\n",
       "      <th>1</th>\n",
       "      <td>5.796617e+06</td>\n",
       "      <td>4499999.0</td>\n",
       "      <td>1169</td>\n",
       "    </tr>\n",
       "    <tr>\n",
       "      <th>2</th>\n",
       "      <td>6.005857e+06</td>\n",
       "      <td>4500000.0</td>\n",
       "      <td>2123</td>\n",
       "    </tr>\n",
       "    <tr>\n",
       "      <th>3</th>\n",
       "      <td>5.716548e+06</td>\n",
       "      <td>4400000.0</td>\n",
       "      <td>1757</td>\n",
       "    </tr>\n",
       "    <tr>\n",
       "      <th>4</th>\n",
       "      <td>6.570948e+06</td>\n",
       "      <td>4500000.0</td>\n",
       "      <td>1373</td>\n",
       "    </tr>\n",
       "    <tr>\n",
       "      <th>5</th>\n",
       "      <td>6.219396e+06</td>\n",
       "      <td>4450000.0</td>\n",
       "      <td>1005</td>\n",
       "    </tr>\n",
       "    <tr>\n",
       "      <th>6</th>\n",
       "      <td>5.981640e+06</td>\n",
       "      <td>4300000.0</td>\n",
       "      <td>1510</td>\n",
       "    </tr>\n",
       "    <tr>\n",
       "      <th>7</th>\n",
       "      <td>6.288003e+06</td>\n",
       "      <td>4500000.0</td>\n",
       "      <td>1457</td>\n",
       "    </tr>\n",
       "    <tr>\n",
       "      <th>8</th>\n",
       "      <td>5.757164e+06</td>\n",
       "      <td>4500000.0</td>\n",
       "      <td>1510</td>\n",
       "    </tr>\n",
       "    <tr>\n",
       "      <th>9</th>\n",
       "      <td>6.549644e+06</td>\n",
       "      <td>4594500.0</td>\n",
       "      <td>1716</td>\n",
       "    </tr>\n",
       "    <tr>\n",
       "      <th>10</th>\n",
       "      <td>5.656071e+06</td>\n",
       "      <td>4450000.0</td>\n",
       "      <td>1806</td>\n",
       "    </tr>\n",
       "    <tr>\n",
       "      <th>11</th>\n",
       "      <td>6.088903e+06</td>\n",
       "      <td>4590000.0</td>\n",
       "      <td>2010</td>\n",
       "    </tr>\n",
       "    <tr>\n",
       "      <th>12</th>\n",
       "      <td>6.212677e+06</td>\n",
       "      <td>4450000.0</td>\n",
       "      <td>1285</td>\n",
       "    </tr>\n",
       "  </tbody>\n",
       "</table>\n",
       "</div>"
      ],
      "text/plain": [
       "                                         mean     median  count\n",
       "month_publication_advertisement                                \n",
       "1                                5.796617e+06  4499999.0   1169\n",
       "2                                6.005857e+06  4500000.0   2123\n",
       "3                                5.716548e+06  4400000.0   1757\n",
       "4                                6.570948e+06  4500000.0   1373\n",
       "5                                6.219396e+06  4450000.0   1005\n",
       "6                                5.981640e+06  4300000.0   1510\n",
       "7                                6.288003e+06  4500000.0   1457\n",
       "8                                5.757164e+06  4500000.0   1510\n",
       "9                                6.549644e+06  4594500.0   1716\n",
       "10                               5.656071e+06  4450000.0   1806\n",
       "11                               6.088903e+06  4590000.0   2010\n",
       "12                               6.212677e+06  4450000.0   1285"
      ]
     },
     "metadata": {},
     "output_type": "display_data"
    },
    {
     "data": {
      "image/png": "[encoded data removed]",
      "text/plain": [
       "<Figure size 432x288 with 1 Axes>"
      ]
     },
     "metadata": {
      "needs_background": "light"
     },
     "output_type": "display_data"
    }
   ],
   "source": [
    "# месяц\n",
    "month_total_area_pivot_table = data.pivot_table(index='month_publication_advertisement', values='last_price', aggfunc=['mean', 'median', 'count'])\n",
    "month_total_area_pivot_table.columns = ['mean', 'median', 'count']\n",
    "\n",
    "month_total_area_pivot_table.sort_values(by='median', ascending=False)\n",
    "month_total_area_pivot_table.plot(y='median', grid=True)\n",
    "plt.title('Зависит ли цена от даты размещения')\n",
    "plt.xlabel('месяц')\n",
    "plt.ylabel('цена')\n",
    "\n",
    "\n",
    "display(month_total_area_pivot_table)"
   ]
  },
  {
   "cell_type": "markdown",
   "metadata": {},
   "source": [
    " - Наименьшее число объявлений по месяцам в мае и июне.\n",
    " - Спрос существует на квартиры в апреле, сентябре и ноябре.\n",
    " - Спады зависят скорее всего от праздников и отпусков."
   ]
  },
  {
   "cell_type": "code",
   "execution_count": 167,
   "metadata": {},
   "outputs": [
    {
     "data": {
      "text/html": [
       "<div>\n",
       "<style scoped>\n",
       "    .dataframe tbody tr th:only-of-type {\n",
       "        vertical-align: middle;\n",
       "    }\n",
       "\n",
       "    .dataframe tbody tr th {\n",
       "        vertical-align: top;\n",
       "    }\n",
       "\n",
       "    .dataframe thead th {\n",
       "        text-align: right;\n",
       "    }\n",
       "</style>\n",
       "<table border=\"1\" class=\"dataframe\">\n",
       "  <thead>\n",
       "    <tr style=\"text-align: right;\">\n",
       "      <th></th>\n",
       "      <th>mean</th>\n",
       "      <th>median</th>\n",
       "      <th>count</th>\n",
       "    </tr>\n",
       "    <tr>\n",
       "      <th>year_publication_advertisement</th>\n",
       "      <th></th>\n",
       "      <th></th>\n",
       "      <th></th>\n",
       "    </tr>\n",
       "  </thead>\n",
       "  <tbody>\n",
       "    <tr>\n",
       "      <th>2015</th>\n",
       "      <td>7.091866e+06</td>\n",
       "      <td>4750000.0</td>\n",
       "      <td>443</td>\n",
       "    </tr>\n",
       "    <tr>\n",
       "      <th>2016</th>\n",
       "      <td>6.489312e+06</td>\n",
       "      <td>4490000.0</td>\n",
       "      <td>2071</td>\n",
       "    </tr>\n",
       "    <tr>\n",
       "      <th>2017</th>\n",
       "      <td>6.351551e+06</td>\n",
       "      <td>4450000.0</td>\n",
       "      <td>7570</td>\n",
       "    </tr>\n",
       "    <tr>\n",
       "      <th>2018</th>\n",
       "      <td>5.611383e+06</td>\n",
       "      <td>4490000.0</td>\n",
       "      <td>7554</td>\n",
       "    </tr>\n",
       "    <tr>\n",
       "      <th>2019</th>\n",
       "      <td>5.868534e+06</td>\n",
       "      <td>4789500.0</td>\n",
       "      <td>1083</td>\n",
       "    </tr>\n",
       "  </tbody>\n",
       "</table>\n",
       "</div>"
      ],
      "text/plain": [
       "                                        mean     median  count\n",
       "year_publication_advertisement                                \n",
       "2015                            7.091866e+06  4750000.0    443\n",
       "2016                            6.489312e+06  4490000.0   2071\n",
       "2017                            6.351551e+06  4450000.0   7570\n",
       "2018                            5.611383e+06  4490000.0   7554\n",
       "2019                            5.868534e+06  4789500.0   1083"
      ]
     },
     "metadata": {},
     "output_type": "display_data"
    },
    {
     "data": {
      "image/png": "[encoded data removed]",
      "text/plain": [
       "<Figure size 432x288 with 1 Axes>"
      ]
     },
     "metadata": {
      "needs_background": "light"
     },
     "output_type": "display_data"
    }
   ],
   "source": [
    " # год\n",
    "years_total_area_pivot_table = data.pivot_table(index='year_publication_advertisement', values='last_price', aggfunc=['mean', 'median', 'count'])\n",
    "years_total_area_pivot_table.columns = ['mean', 'median', 'count']\n",
    "\n",
    "years_total_area_pivot_table.sort_values(by='median', ascending=False)\n",
    "years_total_area_pivot_table.plot(y='median', grid=True)\n",
    "plt.title('Зависит ли цена от даты размещения')\n",
    "plt.xlabel('год')\n",
    "plt.ylabel('цена')\n",
    "\n",
    "\n",
    "display(years_total_area_pivot_table)"
   ]
  },
  {
   "cell_type": "markdown",
   "metadata": {},
   "source": [
    " - Спад после 2015 года зависит скорей всего из-за санкций, ослабления рубля и ряда экономических факторов, которые могли повлиять на рынок недвижимости. После 2018 года начинается постепенный рост. "
   ]
  },
  {
   "cell_type": "markdown",
   "metadata": {},
   "source": [
    "<div class=\"alert alert-success\">\n",
    "<b>👍 Успех:</b> Все верно!\n",
    "</div>"
   ]
  },
  {
   "cell_type": "markdown",
   "metadata": {},
   "source": [
    "**Среднюю цену одного квадратного метра в 10 населённых пунктах с наибольшим числом объявлений**"
   ]
  },
  {
   "cell_type": "code",
   "execution_count": 168,
   "metadata": {},
   "outputs": [
    {
     "data": {
      "text/html": [
       "<div>\n",
       "<style scoped>\n",
       "    .dataframe tbody tr th:only-of-type {\n",
       "        vertical-align: middle;\n",
       "    }\n",
       "\n",
       "    .dataframe tbody tr th {\n",
       "        vertical-align: top;\n",
       "    }\n",
       "\n",
       "    .dataframe thead th {\n",
       "        text-align: right;\n",
       "    }\n",
       "</style>\n",
       "<table border=\"1\" class=\"dataframe\">\n",
       "  <thead>\n",
       "    <tr style=\"text-align: right;\">\n",
       "      <th></th>\n",
       "      <th>count</th>\n",
       "      <th>mean</th>\n",
       "    </tr>\n",
       "    <tr>\n",
       "      <th>locality_name_replace</th>\n",
       "      <th></th>\n",
       "      <th></th>\n",
       "    </tr>\n",
       "  </thead>\n",
       "  <tbody>\n",
       "    <tr>\n",
       "      <th>санкт-петербург</th>\n",
       "      <td>12417</td>\n",
       "      <td>111591.479445</td>\n",
       "    </tr>\n",
       "    <tr>\n",
       "      <th>поселок мурино</th>\n",
       "      <td>517</td>\n",
       "      <td>85983.765190</td>\n",
       "    </tr>\n",
       "    <tr>\n",
       "      <th>поселок шушары</th>\n",
       "      <td>385</td>\n",
       "      <td>77938.483694</td>\n",
       "    </tr>\n",
       "    <tr>\n",
       "      <th>всеволожск</th>\n",
       "      <td>308</td>\n",
       "      <td>68605.620450</td>\n",
       "    </tr>\n",
       "    <tr>\n",
       "      <th>колпино</th>\n",
       "      <td>293</td>\n",
       "      <td>74779.509490</td>\n",
       "    </tr>\n",
       "    <tr>\n",
       "      <th>поселок парголово</th>\n",
       "      <td>287</td>\n",
       "      <td>89186.224782</td>\n",
       "    </tr>\n",
       "    <tr>\n",
       "      <th>пушкин</th>\n",
       "      <td>278</td>\n",
       "      <td>101894.611356</td>\n",
       "    </tr>\n",
       "    <tr>\n",
       "      <th>деревня кудрово</th>\n",
       "      <td>266</td>\n",
       "      <td>92656.981467</td>\n",
       "    </tr>\n",
       "    <tr>\n",
       "      <th>гатчина</th>\n",
       "      <td>244</td>\n",
       "      <td>68065.179716</td>\n",
       "    </tr>\n",
       "    <tr>\n",
       "      <th>выборг</th>\n",
       "      <td>193</td>\n",
       "      <td>57011.264060</td>\n",
       "    </tr>\n",
       "  </tbody>\n",
       "</table>\n",
       "</div>"
      ],
      "text/plain": [
       "                       count           mean\n",
       "locality_name_replace                      \n",
       "санкт-петербург        12417  111591.479445\n",
       "поселок мурино           517   85983.765190\n",
       "поселок шушары           385   77938.483694\n",
       "всеволожск               308   68605.620450\n",
       "колпино                  293   74779.509490\n",
       "поселок парголово        287   89186.224782\n",
       "пушкин                   278  101894.611356\n",
       "деревня кудрово          266   92656.981467\n",
       "гатчина                  244   68065.179716\n",
       "выборг                   193   57011.264060"
      ]
     },
     "metadata": {},
     "output_type": "display_data"
    },
    {
     "data": {
      "text/html": [
       "<div>\n",
       "<style scoped>\n",
       "    .dataframe tbody tr th:only-of-type {\n",
       "        vertical-align: middle;\n",
       "    }\n",
       "\n",
       "    .dataframe tbody tr th {\n",
       "        vertical-align: top;\n",
       "    }\n",
       "\n",
       "    .dataframe thead th {\n",
       "        text-align: right;\n",
       "    }\n",
       "</style>\n",
       "<table border=\"1\" class=\"dataframe\">\n",
       "  <thead>\n",
       "    <tr style=\"text-align: right;\">\n",
       "      <th></th>\n",
       "      <th>count</th>\n",
       "      <th>mean</th>\n",
       "    </tr>\n",
       "    <tr>\n",
       "      <th>locality_name_replace</th>\n",
       "      <th></th>\n",
       "      <th></th>\n",
       "    </tr>\n",
       "  </thead>\n",
       "  <tbody>\n",
       "    <tr>\n",
       "      <th>санкт-петербург</th>\n",
       "      <td>12417</td>\n",
       "      <td>111591.479445</td>\n",
       "    </tr>\n",
       "  </tbody>\n",
       "</table>\n",
       "</div>"
      ],
      "text/plain": [
       "                       count           mean\n",
       "locality_name_replace                      \n",
       "санкт-петербург        12417  111591.479445"
      ]
     },
     "metadata": {},
     "output_type": "display_data"
    },
    {
     "data": {
      "text/html": [
       "<div>\n",
       "<style scoped>\n",
       "    .dataframe tbody tr th:only-of-type {\n",
       "        vertical-align: middle;\n",
       "    }\n",
       "\n",
       "    .dataframe tbody tr th {\n",
       "        vertical-align: top;\n",
       "    }\n",
       "\n",
       "    .dataframe thead th {\n",
       "        text-align: right;\n",
       "    }\n",
       "</style>\n",
       "<table border=\"1\" class=\"dataframe\">\n",
       "  <thead>\n",
       "    <tr style=\"text-align: right;\">\n",
       "      <th></th>\n",
       "      <th>count</th>\n",
       "      <th>mean</th>\n",
       "    </tr>\n",
       "    <tr>\n",
       "      <th>locality_name_replace</th>\n",
       "      <th></th>\n",
       "      <th></th>\n",
       "    </tr>\n",
       "  </thead>\n",
       "  <tbody>\n",
       "    <tr>\n",
       "      <th>выборг</th>\n",
       "      <td>193</td>\n",
       "      <td>57011.26406</td>\n",
       "    </tr>\n",
       "  </tbody>\n",
       "</table>\n",
       "</div>"
      ],
      "text/plain": [
       "                       count         mean\n",
       "locality_name_replace                    \n",
       "выборг                   193  57011.26406"
      ]
     },
     "metadata": {},
     "output_type": "display_data"
    }
   ],
   "source": [
    "average_price_one_sqr_locations_pivot_tab = data.pivot_table(index='locality_name_replace', values='price_one_sqr_meter', aggfunc=['count', 'mean'])\n",
    "average_price_one_sqr_locations_pivot_tab.columns=['count', 'mean']\n",
    "display(average_price_one_sqr_locations_pivot_tab.sort_values(by='count', ascending=False).head(10))\n",
    "\n",
    "# высокая стоимость\n",
    "display(average_price_one_sqr_locations_pivot_tab[average_price_one_sqr_locations_pivot_tab['mean'] == \\\n",
    "                                                  average_price_one_sqr_locations_pivot_tab\n",
    "                                                  .sort_values(by='count', ascending=False).head(10)['mean'].max()])\n",
    "# низкая стоимость\n",
    "display(average_price_one_sqr_locations_pivot_tab[average_price_one_sqr_locations_pivot_tab['mean'] == \\\n",
    "                                                  average_price_one_sqr_locations_pivot_tab\n",
    "                                                  .sort_values(by='count', ascending=False).head(10)['mean'].min()])\n",
    "\n"
   ]
  },
  {
   "cell_type": "markdown",
   "metadata": {},
   "source": [
    " - Самая высокая стоимость квадратного метра из 10 населенных пунктов в Санкт-Петербурге, а самая низкая Гатчине."
   ]
  },
  {
   "cell_type": "markdown",
   "metadata": {},
   "source": [
    "<div class=\"alert alert-danger\">\n",
    "<b>😔 Необходимо исправить V2:</b> Самая низкая стоимость в Выборге\n",
    "</div>"
   ]
  },
  {
   "cell_type": "markdown",
   "metadata": {},
   "source": [
    "<div class=\"alert alert-info\"> <b>🎓 Комментарий студента:</b> \n",
    "Самая высокая стоимость квадратного метра из 10 населенных пунктов в Санкт-Петербурге, а самая низкая Выборге.</div>\n"
   ]
  },
  {
   "cell_type": "markdown",
   "metadata": {},
   "source": [
    "Выделите квартиры в Санкт-Петербурге с помощью столбца `locality_name` и вычислите их среднюю стоимость на разном удалении от центра"
   ]
  },
  {
   "cell_type": "code",
   "execution_count": 169,
   "metadata": {},
   "outputs": [
    {
     "data": {
      "text/html": [
       "<div>\n",
       "<style scoped>\n",
       "    .dataframe tbody tr th:only-of-type {\n",
       "        vertical-align: middle;\n",
       "    }\n",
       "\n",
       "    .dataframe tbody tr th {\n",
       "        vertical-align: top;\n",
       "    }\n",
       "\n",
       "    .dataframe thead th {\n",
       "        text-align: right;\n",
       "    }\n",
       "</style>\n",
       "<table border=\"1\" class=\"dataframe\">\n",
       "  <thead>\n",
       "    <tr style=\"text-align: right;\">\n",
       "      <th></th>\n",
       "      <th>total_images</th>\n",
       "      <th>last_price</th>\n",
       "      <th>total_area</th>\n",
       "      <th>first_day_exposition</th>\n",
       "      <th>rooms</th>\n",
       "      <th>ceiling_height</th>\n",
       "      <th>floors_total</th>\n",
       "      <th>living_area</th>\n",
       "      <th>floor</th>\n",
       "      <th>is_apartment</th>\n",
       "      <th>...</th>\n",
       "      <th>ponds_around_3000</th>\n",
       "      <th>ponds_nearest</th>\n",
       "      <th>days_exposition</th>\n",
       "      <th>locality_name_replace</th>\n",
       "      <th>price_one_sqr_meter</th>\n",
       "      <th>day_week_publication_advertisement</th>\n",
       "      <th>month_publication_advertisement</th>\n",
       "      <th>year_publication_advertisement</th>\n",
       "      <th>floor_type_category</th>\n",
       "      <th>city_centers_nearest_km</th>\n",
       "    </tr>\n",
       "  </thead>\n",
       "  <tbody>\n",
       "    <tr>\n",
       "      <th>1</th>\n",
       "      <td>7</td>\n",
       "      <td>3350000.0</td>\n",
       "      <td>40.4</td>\n",
       "      <td>2018-12-04</td>\n",
       "      <td>1</td>\n",
       "      <td>2.65</td>\n",
       "      <td>11</td>\n",
       "      <td>18.60</td>\n",
       "      <td>1</td>\n",
       "      <td>False</td>\n",
       "      <td>...</td>\n",
       "      <td>0.0</td>\n",
       "      <td>NaN</td>\n",
       "      <td>81.0</td>\n",
       "      <td>поселок шушары</td>\n",
       "      <td>82920.792079</td>\n",
       "      <td>1</td>\n",
       "      <td>12</td>\n",
       "      <td>2018</td>\n",
       "      <td>первый</td>\n",
       "      <td>18.0</td>\n",
       "    </tr>\n",
       "    <tr>\n",
       "      <th>3</th>\n",
       "      <td>0</td>\n",
       "      <td>64900000.0</td>\n",
       "      <td>159.0</td>\n",
       "      <td>2015-07-24</td>\n",
       "      <td>3</td>\n",
       "      <td>2.65</td>\n",
       "      <td>14</td>\n",
       "      <td>90.63</td>\n",
       "      <td>9</td>\n",
       "      <td>False</td>\n",
       "      <td>...</td>\n",
       "      <td>3.0</td>\n",
       "      <td>234.0</td>\n",
       "      <td>424.0</td>\n",
       "      <td>санкт-петербург</td>\n",
       "      <td>408176.100629</td>\n",
       "      <td>4</td>\n",
       "      <td>7</td>\n",
       "      <td>2015</td>\n",
       "      <td>другой</td>\n",
       "      <td>6.0</td>\n",
       "    </tr>\n",
       "    <tr>\n",
       "      <th>4</th>\n",
       "      <td>2</td>\n",
       "      <td>10000000.0</td>\n",
       "      <td>100.0</td>\n",
       "      <td>2018-06-19</td>\n",
       "      <td>2</td>\n",
       "      <td>3.03</td>\n",
       "      <td>14</td>\n",
       "      <td>32.00</td>\n",
       "      <td>13</td>\n",
       "      <td>False</td>\n",
       "      <td>...</td>\n",
       "      <td>1.0</td>\n",
       "      <td>48.0</td>\n",
       "      <td>121.0</td>\n",
       "      <td>санкт-петербург</td>\n",
       "      <td>100000.000000</td>\n",
       "      <td>1</td>\n",
       "      <td>6</td>\n",
       "      <td>2018</td>\n",
       "      <td>другой</td>\n",
       "      <td>8.0</td>\n",
       "    </tr>\n",
       "    <tr>\n",
       "      <th>5</th>\n",
       "      <td>10</td>\n",
       "      <td>2890000.0</td>\n",
       "      <td>30.4</td>\n",
       "      <td>2018-09-10</td>\n",
       "      <td>1</td>\n",
       "      <td>2.65</td>\n",
       "      <td>12</td>\n",
       "      <td>14.40</td>\n",
       "      <td>5</td>\n",
       "      <td>False</td>\n",
       "      <td>...</td>\n",
       "      <td>NaN</td>\n",
       "      <td>NaN</td>\n",
       "      <td>55.0</td>\n",
       "      <td>поселок янино-1</td>\n",
       "      <td>95065.789474</td>\n",
       "      <td>0</td>\n",
       "      <td>9</td>\n",
       "      <td>2018</td>\n",
       "      <td>другой</td>\n",
       "      <td>NaN</td>\n",
       "    </tr>\n",
       "    <tr>\n",
       "      <th>6</th>\n",
       "      <td>6</td>\n",
       "      <td>3700000.0</td>\n",
       "      <td>37.3</td>\n",
       "      <td>2017-11-02</td>\n",
       "      <td>1</td>\n",
       "      <td>2.65</td>\n",
       "      <td>26</td>\n",
       "      <td>10.60</td>\n",
       "      <td>6</td>\n",
       "      <td>False</td>\n",
       "      <td>...</td>\n",
       "      <td>0.0</td>\n",
       "      <td>NaN</td>\n",
       "      <td>155.0</td>\n",
       "      <td>поселок парголово</td>\n",
       "      <td>99195.710456</td>\n",
       "      <td>3</td>\n",
       "      <td>11</td>\n",
       "      <td>2017</td>\n",
       "      <td>другой</td>\n",
       "      <td>19.0</td>\n",
       "    </tr>\n",
       "  </tbody>\n",
       "</table>\n",
       "<p>5 rows × 29 columns</p>\n",
       "</div>"
      ],
      "text/plain": [
       "   total_images  last_price  total_area first_day_exposition  rooms  \\\n",
       "1             7   3350000.0        40.4           2018-12-04      1   \n",
       "3             0  64900000.0       159.0           2015-07-24      3   \n",
       "4             2  10000000.0       100.0           2018-06-19      2   \n",
       "5            10   2890000.0        30.4           2018-09-10      1   \n",
       "6             6   3700000.0        37.3           2017-11-02      1   \n",
       "\n",
       "   ceiling_height  floors_total  living_area  floor  is_apartment  ...  \\\n",
       "1            2.65            11        18.60      1         False  ...   \n",
       "3            2.65            14        90.63      9         False  ...   \n",
       "4            3.03            14        32.00     13         False  ...   \n",
       "5            2.65            12        14.40      5         False  ...   \n",
       "6            2.65            26        10.60      6         False  ...   \n",
       "\n",
       "   ponds_around_3000  ponds_nearest  days_exposition  locality_name_replace  \\\n",
       "1                0.0            NaN             81.0         поселок шушары   \n",
       "3                3.0          234.0            424.0        санкт-петербург   \n",
       "4                1.0           48.0            121.0        санкт-петербург   \n",
       "5                NaN            NaN             55.0        поселок янино-1   \n",
       "6                0.0            NaN            155.0      поселок парголово   \n",
       "\n",
       "  price_one_sqr_meter  day_week_publication_advertisement  \\\n",
       "1        82920.792079                                   1   \n",
       "3       408176.100629                                   4   \n",
       "4       100000.000000                                   1   \n",
       "5        95065.789474                                   0   \n",
       "6        99195.710456                                   3   \n",
       "\n",
       "   month_publication_advertisement  year_publication_advertisement  \\\n",
       "1                               12                            2018   \n",
       "3                                7                            2015   \n",
       "4                                6                            2018   \n",
       "5                                9                            2018   \n",
       "6                               11                            2017   \n",
       "\n",
       "   floor_type_category  city_centers_nearest_km  \n",
       "1               первый                     18.0  \n",
       "3               другой                      6.0  \n",
       "4               другой                      8.0  \n",
       "5               другой                      NaN  \n",
       "6               другой                     19.0  \n",
       "\n",
       "[5 rows x 29 columns]"
      ]
     },
     "execution_count": 169,
     "metadata": {},
     "output_type": "execute_result"
    }
   ],
   "source": [
    "data.head()"
   ]
  },
  {
   "cell_type": "code",
   "execution_count": 170,
   "metadata": {},
   "outputs": [
    {
     "data": {
      "text/html": [
       "<div>\n",
       "<style scoped>\n",
       "    .dataframe tbody tr th:only-of-type {\n",
       "        vertical-align: middle;\n",
       "    }\n",
       "\n",
       "    .dataframe tbody tr th {\n",
       "        vertical-align: top;\n",
       "    }\n",
       "\n",
       "    .dataframe thead th {\n",
       "        text-align: right;\n",
       "    }\n",
       "</style>\n",
       "<table border=\"1\" class=\"dataframe\">\n",
       "  <thead>\n",
       "    <tr style=\"text-align: right;\">\n",
       "      <th></th>\n",
       "      <th>price_one_sqr_meter</th>\n",
       "    </tr>\n",
       "    <tr>\n",
       "      <th>city_centers_nearest_km</th>\n",
       "      <th></th>\n",
       "    </tr>\n",
       "  </thead>\n",
       "  <tbody>\n",
       "    <tr>\n",
       "      <th>0.0</th>\n",
       "      <td>166471.837449</td>\n",
       "    </tr>\n",
       "    <tr>\n",
       "      <th>1.0</th>\n",
       "      <td>162093.574510</td>\n",
       "    </tr>\n",
       "    <tr>\n",
       "      <th>2.0</th>\n",
       "      <td>142635.834325</td>\n",
       "    </tr>\n",
       "    <tr>\n",
       "      <th>3.0</th>\n",
       "      <td>126166.741481</td>\n",
       "    </tr>\n",
       "    <tr>\n",
       "      <th>4.0</th>\n",
       "      <td>135404.499120</td>\n",
       "    </tr>\n",
       "    <tr>\n",
       "      <th>5.0</th>\n",
       "      <td>142446.992959</td>\n",
       "    </tr>\n",
       "    <tr>\n",
       "      <th>6.0</th>\n",
       "      <td>141407.981058</td>\n",
       "    </tr>\n",
       "    <tr>\n",
       "      <th>7.0</th>\n",
       "      <td>140621.964978</td>\n",
       "    </tr>\n",
       "    <tr>\n",
       "      <th>8.0</th>\n",
       "      <td>118060.845072</td>\n",
       "    </tr>\n",
       "    <tr>\n",
       "      <th>9.0</th>\n",
       "      <td>108598.364663</td>\n",
       "    </tr>\n",
       "    <tr>\n",
       "      <th>10.0</th>\n",
       "      <td>109299.610027</td>\n",
       "    </tr>\n",
       "    <tr>\n",
       "      <th>11.0</th>\n",
       "      <td>104889.081093</td>\n",
       "    </tr>\n",
       "    <tr>\n",
       "      <th>12.0</th>\n",
       "      <td>107180.746009</td>\n",
       "    </tr>\n",
       "    <tr>\n",
       "      <th>13.0</th>\n",
       "      <td>105855.114985</td>\n",
       "    </tr>\n",
       "    <tr>\n",
       "      <th>14.0</th>\n",
       "      <td>103010.684493</td>\n",
       "    </tr>\n",
       "    <tr>\n",
       "      <th>15.0</th>\n",
       "      <td>99927.958996</td>\n",
       "    </tr>\n",
       "    <tr>\n",
       "      <th>16.0</th>\n",
       "      <td>98945.646585</td>\n",
       "    </tr>\n",
       "    <tr>\n",
       "      <th>17.0</th>\n",
       "      <td>93941.121307</td>\n",
       "    </tr>\n",
       "    <tr>\n",
       "      <th>18.0</th>\n",
       "      <td>93831.673162</td>\n",
       "    </tr>\n",
       "    <tr>\n",
       "      <th>19.0</th>\n",
       "      <td>96645.307594</td>\n",
       "    </tr>\n",
       "    <tr>\n",
       "      <th>20.0</th>\n",
       "      <td>104049.853533</td>\n",
       "    </tr>\n",
       "    <tr>\n",
       "      <th>21.0</th>\n",
       "      <td>91291.603355</td>\n",
       "    </tr>\n",
       "    <tr>\n",
       "      <th>22.0</th>\n",
       "      <td>86895.301306</td>\n",
       "    </tr>\n",
       "    <tr>\n",
       "      <th>23.0</th>\n",
       "      <td>91056.000415</td>\n",
       "    </tr>\n",
       "    <tr>\n",
       "      <th>24.0</th>\n",
       "      <td>82440.343912</td>\n",
       "    </tr>\n",
       "    <tr>\n",
       "      <th>25.0</th>\n",
       "      <td>91199.978672</td>\n",
       "    </tr>\n",
       "    <tr>\n",
       "      <th>26.0</th>\n",
       "      <td>75171.911041</td>\n",
       "    </tr>\n",
       "    <tr>\n",
       "      <th>27.0</th>\n",
       "      <td>132115.709459</td>\n",
       "    </tr>\n",
       "    <tr>\n",
       "      <th>28.0</th>\n",
       "      <td>80794.901711</td>\n",
       "    </tr>\n",
       "    <tr>\n",
       "      <th>29.0</th>\n",
       "      <td>65460.203079</td>\n",
       "    </tr>\n",
       "  </tbody>\n",
       "</table>\n",
       "</div>"
      ],
      "text/plain": [
       "                         price_one_sqr_meter\n",
       "city_centers_nearest_km                     \n",
       "0.0                            166471.837449\n",
       "1.0                            162093.574510\n",
       "2.0                            142635.834325\n",
       "3.0                            126166.741481\n",
       "4.0                            135404.499120\n",
       "5.0                            142446.992959\n",
       "6.0                            141407.981058\n",
       "7.0                            140621.964978\n",
       "8.0                            118060.845072\n",
       "9.0                            108598.364663\n",
       "10.0                           109299.610027\n",
       "11.0                           104889.081093\n",
       "12.0                           107180.746009\n",
       "13.0                           105855.114985\n",
       "14.0                           103010.684493\n",
       "15.0                            99927.958996\n",
       "16.0                            98945.646585\n",
       "17.0                            93941.121307\n",
       "18.0                            93831.673162\n",
       "19.0                            96645.307594\n",
       "20.0                           104049.853533\n",
       "21.0                            91291.603355\n",
       "22.0                            86895.301306\n",
       "23.0                            91056.000415\n",
       "24.0                            82440.343912\n",
       "25.0                            91199.978672\n",
       "26.0                            75171.911041\n",
       "27.0                           132115.709459\n",
       "28.0                            80794.901711\n",
       "29.0                            65460.203079"
      ]
     },
     "metadata": {},
     "output_type": "display_data"
    },
    {
     "data": {
      "image/png": "[encoded data removed]",
      "text/plain": [
       "<Figure size 432x288 with 1 Axes>"
      ]
     },
     "metadata": {
      "needs_background": "light"
     },
     "output_type": "display_data"
    }
   ],
   "source": [
    "spb_average_cost_center_km = data[data['locality_name_replace'] == 'санкт-петербург'].pivot_table(\n",
    "    index='city_centers_nearest_km',\n",
    "    values='price_one_sqr_meter',\n",
    "    aggfunc='mean'\n",
    ")\n",
    "\n",
    "\n",
    "display(spb_average_cost_center_km)\n",
    "\n",
    "spb_average_cost_center_km.plot(grid=True)\n",
    "\n",
    "plt.title('среднюю стоимость одного квадратного метра в Санкт-Петербурге в зависимости от расположения квартиры')\n",
    "plt.xlabel('километры от центра города')\n",
    "plt.ylabel('цена в рублях')\n",
    "plt.show()\n",
    "\n",
    "plt.show()"
   ]
  },
  {
   "cell_type": "markdown",
   "metadata": {},
   "source": [
    " - Между удаленностью от центра и ценой за квадратный метр недвижимости есть взаимосвязь. Чем дальше от центра, тем дешевле стоимость.\n",
    " - Центр заканчивается примерно на 7 км, так как наблюдается резкий спад цены."
   ]
  },
  {
   "cell_type": "markdown",
   "metadata": {},
   "source": [
    "<div class=\"alert alert-danger\">\n",
    "<b>😔 Необходимо исправить V2:</b> Какие есть особености на графике?\n",
    "</div>"
   ]
  },
  {
   "cell_type": "markdown",
   "metadata": {},
   "source": [
    "<div class=\"alert alert-info\"> <b>🎓 Комментарий студента:</b> \n",
    "    Наблюдается обратная зависимость цены от увеличения расстояния от центра города.\n",
    "</div>\n"
   ]
  },
  {
   "cell_type": "markdown",
   "metadata": {
    "id": "h7VpzkIDAwb-"
   },
   "source": [
    "### Напишите общий вывод"
   ]
  },
  {
   "cell_type": "markdown",
   "metadata": {
    "id": "3H4lnp_KAwb-"
   },
   "source": [
    "1. **Были поставлены задачи**\n",
    "       1.Откройте файл с данными и изучите общую информацию.\n",
    "       2.Предобработка данных, скорректировать типы данных, избавиться от дубликатов и аномальных данных.\n",
    "       3.Добавьте в таблицу новые столбцы с категориями.\n",
    "       4.Проведите исследовательский анализ данных.\n",
    "     \n",
    "    \n",
    "    \n",
    "2. **Обнаружены и исправлены**\n",
    "    \n",
    "        1.Высота потолков, этажи домов, количество комнат, цены на квартиры. Скорей всего возникли по причине                 пользователя при заполнении данных.\n",
    "    \n",
    "        2.В названиях населенных пунктов использовалось много синонимов одних и тех же названий локаций \n",
    "          (\"поселок\" и \"поселок городского типа\" или \"городской поселок\"), так же возникли по причине\n",
    "          пользователя, который заполнял данные.\n",
    "    \n",
    "        3.Были добавлены новые столбцы категоризации:\n",
    "    \n",
    "            -  день публикации объявления(0-Пн, 1-Вт, 2-Ср, 3-Чт, 4-Пт, 5-Сб, 6-Вс)\n",
    "            -  месяц публикации объявления\n",
    "            -  год публикации объявления\n",
    "            -  цена одного квадратного метра\n",
    "            -  тип этажа квартир\n",
    "            -  расстояния в км до центра города\n",
    "    \n",
    "    При помощи этих столбцов проанализируем формирование стоимости квартиры.\n",
    "    \n",
    "    \n",
    "    \n",
    "3. **Определили параметры**\n",
    "       \n",
    "      - медианная площадь кухни:  9 кв.м.\n",
    "      - большинство квартир: 1 - 2 комнатные\n",
    "      - средняя высота потолков: 2.7 м.\n",
    "      - средняя стоимость квартир: 4.5 млн.руб.\n",
    "      - площадь квартир не привышает: 58 кв.м.\n",
    "      - в основном этажность домов: 5 и 9 этажные\n",
    "      - большая часть квартир распологается не выше 5 этажа\n",
    "  \n",
    "  \n",
    "  \n",
    "4. **Скорость продаж квартир**\n",
    "\n",
    "      - Средняя длительность продажи составляет 44 день\n",
    "      - Пики продаж составили 45, 60 и 90 дней.\n",
    "      \n",
    "   Если квартира хорошая и соответствует определенным критериям, то она имеет большой шанс быть проданной.\n",
    "   \n",
    "   \n",
    "   \n",
    "5. **Факторы, которые больше всего влияют на общую стоимость жилья**\n",
    "\n",
    "      - Общая площадь влияет на стоимость квартиры.\n",
    "      - На стоимость квартиры влияет общая жилая площадь и площадь кухни.\n",
    "      - Зависимости между этажом и стоимостью прямой нет. Отметим тоько, что квартирв в промежутке со 2-го и предпоследнего этажа стоят дороже, чем на первом и последнем этаже. \n",
    "      \n",
    "      \n",
    "      \n",
    "6. **Средняя цена одного квадратного метра в 10 населённых пунктах с наибольшим числом объявлений**\n",
    "          \n",
    "    - санкт-петербург\t     :\t**111591.4**\n",
    "    - поселок мурино\t     :\t**85983.7**\n",
    "    - поселок шушары\t     :\t**77938.4**\n",
    "    - всеволожск\t         :\t**68605.6**\n",
    "    - колпино\t             :\t**74779.5**\n",
    "    - поселок парголово\t     :\t**89186.2**\n",
    "    - пушкин\t             :\t**101894.6**\n",
    "    - деревня кудрово        :\t**92656.9**\n",
    "    - гатчина\t             :\t**68065.1**\n",
    "    - выборг\t             :\t**57011.2**\n",
    "    \n",
    "   Самая высокая стоимость квадратного метра из 10 населенных пунктов в Санкт-Петербурге, а самая низкая Выборге.\n",
    "\n",
    "    \n",
    "     \n",
    "     \n",
    "     \n",
    "7. **Влияет расстояние до центра города В Санкт-Петербурге на стоимость**\n",
    "   Изучив данные о расстоянии до центра города определил, что наиболее дорогие квартиры находятся на расстоянии до 7 км от центра, а за пределами 7 км цена на квартиры падает. Наблюдается обратная зависимость цены от увеличения расстояния от центра города.\n",
    "     "
   ]
  },
  {
   "cell_type": "markdown",
   "metadata": {
    "id": "A90mc0BgAwb-"
   },
   "source": [
    "**Чек-лист готовности проекта**\n",
    "\n",
    "Поставьте 'x' в выполненных пунктах. Далее нажмите Shift+Enter."
   ]
  },
  {
   "cell_type": "markdown",
   "metadata": {
    "id": "ME3sTWm6Awb-"
   },
   "source": [
    "- [x]  Файл с данными открыт.\n",
    "- [x]  Файл с данными изучен: выведены первые строки, использован метод `info()`, построены гистограммы.\n",
    "- [x]  Найдены пропущенные значения.\n",
    "- [x]  Пропущенные значения заполнены там, где это возможно.\n",
    "- [x]  Объяснено, какие пропущенные значения обнаружены.\n",
    "- [x]  В каждом столбце установлен корректный тип данных.\n",
    "- [x]  Объяснено, в каких столбцах изменён тип данных и почему.\n",
    "- [x]  Устранены неявные дубликаты в названиях населённых пунктов.\n",
    "- [x]  Обработаны редкие и выбивающиеся значения (аномалии).\n",
    "- [x]  В таблицу добавлены новые параметры:\n",
    "       – цена одного квадратного метра;\n",
    "       – день публикации объявления (0 - понедельник, 1 - вторник и т. д.);\n",
    "       – месяц публикации объявления;\n",
    "       – год публикации объявления;\n",
    "       – тип этажа квартиры (значения — «первый», «последний», «другой»);\n",
    "       – расстояние до центра города в километрах.\n",
    "- [x]  Изучены и описаны параметры:\n",
    "        - общая площадь;\n",
    "        - жилая площадь;\n",
    "        - площадь кухни;\n",
    "        - цена объекта;\n",
    "        - количество комнат;\n",
    "        - высота потолков;\n",
    "        - тип этажа квартиры («первый», «последний», «другой»);\n",
    "        - общее количество этажей в доме;\n",
    "        - расстояние до центра города в метрах;\n",
    "        - расстояние до ближайшего парка.\n",
    "- [x]  Выполнено задание «Изучите, как быстро продавались квартиры (столбец `days_exposition`)»:\n",
    "    - построена гистограмма;\n",
    "    - рассчитаны среднее и медиана;\n",
    "    - описано, сколько обычно занимает продажа и указано, какие продажи можно считать быстрыми, а какие — необычно долгими.\n",
    "- [x]  Выполнено задание «Определите факторы, которые больше всего влияют на общую (полную) стоимость объекта». Построены графики, которые показывают зависимость цены от параметров:\n",
    "        - общая площадь;\n",
    "        - жилая площадь;\n",
    "        - площадь кухни;\n",
    "        - количество комнат;\n",
    "        - тип этажа, на котором расположена квартира (первый, последний, другой);\n",
    "        - дата размещения (день недели, месяц, год).\n",
    "- [x]  Выполнено задание «Посчитайте среднюю цену одного квадратного метра в 10 населённых пунктах с наибольшим числом объявлений»:\n",
    "    - выделены населённые пункты с самой высокой и низкой стоимостью квадратного метра.\n",
    "- [x]  Выполнено задание «Выделите квартиры в Санкт-Петербурге с помощью столбца `locality_name` и вычислите их среднюю стоимость на разном удалении от центра»:\n",
    "    -  учтён каждый километр расстояния, известны средние цены квартир в одном километре от центра, в двух и так далее;\n",
    "    -  описано, как стоимость объекта зависит от расстояния до центра города;\n",
    "    -  построен график изменения средней цены для каждого километра от центра Петербурга.\n",
    "- [x]  На каждом этапе сделаны промежуточные выводы.\n",
    "- [x]  В конце проекта сделан общий вывод."
   ]
  },
  {
   "cell_type": "code",
   "execution_count": null,
   "metadata": {},
   "outputs": [],
   "source": []
  }
 ],
 "metadata": {
  "ExecuteTimeLog": [
   {
    "duration": 1052,
    "start_time": "2024-03-15T21:06:18.915Z"
   },
   {
    "duration": 28,
    "start_time": "2024-03-15T21:06:23.367Z"
   },
   {
    "duration": 15,
    "start_time": "2024-03-15T21:06:45.034Z"
   },
   {
    "duration": 4,
    "start_time": "2024-03-15T21:07:02.176Z"
   },
   {
    "duration": 23,
    "start_time": "2024-03-15T21:07:26.667Z"
   },
   {
    "duration": 10,
    "start_time": "2024-03-15T21:07:44.762Z"
   },
   {
    "duration": 1912,
    "start_time": "2024-03-15T21:08:30.451Z"
   },
   {
    "duration": 5,
    "start_time": "2024-03-15T21:11:02.479Z"
   },
   {
    "duration": 8,
    "start_time": "2024-03-15T21:11:15.599Z"
   },
   {
    "duration": 6,
    "start_time": "2024-03-15T21:12:21.778Z"
   },
   {
    "duration": 10,
    "start_time": "2024-03-15T21:12:50.517Z"
   },
   {
    "duration": 9,
    "start_time": "2024-03-15T21:13:26.424Z"
   },
   {
    "duration": 7,
    "start_time": "2024-03-15T21:14:07.459Z"
   },
   {
    "duration": 99,
    "start_time": "2024-03-15T21:14:38.547Z"
   },
   {
    "duration": 25,
    "start_time": "2024-03-15T21:14:49.140Z"
   },
   {
    "duration": 114,
    "start_time": "2024-03-15T21:15:55.227Z"
   },
   {
    "duration": 139,
    "start_time": "2024-03-15T21:16:12.864Z"
   },
   {
    "duration": 116,
    "start_time": "2024-03-15T21:16:48.026Z"
   },
   {
    "duration": 112,
    "start_time": "2024-03-15T21:17:01.761Z"
   },
   {
    "duration": 122,
    "start_time": "2024-03-15T21:17:45.187Z"
   },
   {
    "duration": 118,
    "start_time": "2024-03-15T21:18:19.649Z"
   },
   {
    "duration": 182,
    "start_time": "2024-03-15T21:18:58.097Z"
   },
   {
    "duration": 107,
    "start_time": "2024-03-15T21:19:30.531Z"
   },
   {
    "duration": 91,
    "start_time": "2024-03-15T21:20:01.313Z"
   },
   {
    "duration": 9,
    "start_time": "2024-03-15T21:20:16.419Z"
   },
   {
    "duration": 8,
    "start_time": "2024-03-15T21:20:30.566Z"
   },
   {
    "duration": 8,
    "start_time": "2024-03-15T21:20:41.630Z"
   },
   {
    "duration": 8,
    "start_time": "2024-03-15T21:21:20.956Z"
   },
   {
    "duration": 12,
    "start_time": "2024-03-15T21:21:38.863Z"
   },
   {
    "duration": 25,
    "start_time": "2024-03-15T21:21:51.997Z"
   },
   {
    "duration": 2,
    "start_time": "2024-03-15T21:23:38.266Z"
   },
   {
    "duration": 3,
    "start_time": "2024-03-15T21:23:47.882Z"
   },
   {
    "duration": 4,
    "start_time": "2024-03-15T21:23:58.350Z"
   },
   {
    "duration": 6,
    "start_time": "2024-03-15T21:24:10.735Z"
   },
   {
    "duration": 8,
    "start_time": "2024-03-15T21:24:22.230Z"
   },
   {
    "duration": 7,
    "start_time": "2024-03-15T21:25:28.061Z"
   },
   {
    "duration": 5,
    "start_time": "2024-03-15T21:25:40.122Z"
   },
   {
    "duration": 4,
    "start_time": "2024-03-15T21:26:33.231Z"
   },
   {
    "duration": 118,
    "start_time": "2024-03-15T21:26:54.033Z"
   },
   {
    "duration": 6,
    "start_time": "2024-03-15T21:27:03.383Z"
   },
   {
    "duration": 4,
    "start_time": "2024-03-15T21:27:49.636Z"
   },
   {
    "duration": 29,
    "start_time": "2024-03-15T21:28:05.915Z"
   },
   {
    "duration": 9,
    "start_time": "2024-03-15T21:30:11.069Z"
   },
   {
    "duration": 288,
    "start_time": "2024-03-15T21:30:25.519Z"
   },
   {
    "duration": 9,
    "start_time": "2024-03-15T21:31:00.885Z"
   },
   {
    "duration": 281,
    "start_time": "2024-03-15T21:31:15.395Z"
   },
   {
    "duration": 11,
    "start_time": "2024-03-15T21:32:04.419Z"
   },
   {
    "duration": 275,
    "start_time": "2024-03-15T21:32:16.444Z"
   },
   {
    "duration": 8,
    "start_time": "2024-03-15T21:32:43.128Z"
   },
   {
    "duration": 317,
    "start_time": "2024-03-15T21:33:12.104Z"
   },
   {
    "duration": 8,
    "start_time": "2024-03-15T21:33:52.957Z"
   },
   {
    "duration": 139,
    "start_time": "2024-03-15T21:34:04.502Z"
   },
   {
    "duration": 8,
    "start_time": "2024-03-15T21:34:42.597Z"
   },
   {
    "duration": 224,
    "start_time": "2024-03-15T21:34:54.621Z"
   },
   {
    "duration": 8,
    "start_time": "2024-03-15T21:35:48.537Z"
   },
   {
    "duration": 119,
    "start_time": "2024-03-15T21:35:59.772Z"
   },
   {
    "duration": 7,
    "start_time": "2024-03-15T21:36:39.782Z"
   },
   {
    "duration": 219,
    "start_time": "2024-03-15T21:36:50.555Z"
   },
   {
    "duration": 18,
    "start_time": "2024-03-15T21:37:48.538Z"
   },
   {
    "duration": 525,
    "start_time": "2024-03-15T21:38:01.642Z"
   },
   {
    "duration": 279,
    "start_time": "2024-03-15T21:39:07.039Z"
   },
   {
    "duration": 361,
    "start_time": "2024-03-15T21:40:13.855Z"
   },
   {
    "duration": 9,
    "start_time": "2024-03-15T21:40:24.971Z"
   },
   {
    "duration": 10,
    "start_time": "2024-03-15T21:40:48.005Z"
   },
   {
    "duration": 149,
    "start_time": "2024-03-15T21:42:52.331Z"
   },
   {
    "duration": 83,
    "start_time": "2024-03-15T21:43:07.055Z"
   },
   {
    "duration": 144,
    "start_time": "2024-03-15T21:44:01.393Z"
   },
   {
    "duration": 139,
    "start_time": "2024-03-15T21:44:51.119Z"
   },
   {
    "duration": 144,
    "start_time": "2024-03-15T21:45:44.591Z"
   },
   {
    "duration": 150,
    "start_time": "2024-03-15T21:46:39.335Z"
   },
   {
    "duration": 153,
    "start_time": "2024-03-15T21:47:54.354Z"
   },
   {
    "duration": 167,
    "start_time": "2024-03-15T21:48:40.337Z"
   },
   {
    "duration": 143,
    "start_time": "2024-03-15T21:49:16.455Z"
   },
   {
    "duration": 29,
    "start_time": "2024-03-15T21:50:17.269Z"
   },
   {
    "duration": 162,
    "start_time": "2024-03-15T21:51:06.050Z"
   },
   {
    "duration": 653,
    "start_time": "2024-03-16T20:33:42.822Z"
   },
   {
    "duration": 27,
    "start_time": "2024-03-16T20:33:43.477Z"
   },
   {
    "duration": 14,
    "start_time": "2024-03-16T20:33:43.506Z"
   },
   {
    "duration": 3,
    "start_time": "2024-03-16T20:33:43.522Z"
   },
   {
    "duration": 41,
    "start_time": "2024-03-16T20:33:43.527Z"
   },
   {
    "duration": 9,
    "start_time": "2024-03-16T20:33:43.570Z"
   },
   {
    "duration": 1878,
    "start_time": "2024-03-16T20:33:43.580Z"
   },
   {
    "duration": 5,
    "start_time": "2024-03-16T20:33:45.465Z"
   },
   {
    "duration": 17,
    "start_time": "2024-03-16T20:33:45.472Z"
   },
   {
    "duration": 32,
    "start_time": "2024-03-16T20:33:45.492Z"
   },
   {
    "duration": 43,
    "start_time": "2024-03-16T20:33:45.526Z"
   },
   {
    "duration": 20,
    "start_time": "2024-03-16T20:33:45.571Z"
   },
   {
    "duration": 36,
    "start_time": "2024-03-16T20:33:45.592Z"
   },
   {
    "duration": 113,
    "start_time": "2024-03-16T20:33:45.629Z"
   },
   {
    "duration": 27,
    "start_time": "2024-03-16T20:33:45.743Z"
   },
   {
    "duration": 154,
    "start_time": "2024-03-16T20:33:45.772Z"
   },
   {
    "duration": 144,
    "start_time": "2024-03-16T20:33:45.928Z"
   },
   {
    "duration": 135,
    "start_time": "2024-03-16T20:33:46.074Z"
   },
   {
    "duration": 123,
    "start_time": "2024-03-16T20:33:46.211Z"
   },
   {
    "duration": 140,
    "start_time": "2024-03-16T20:33:46.336Z"
   },
   {
    "duration": 141,
    "start_time": "2024-03-16T20:33:46.478Z"
   },
   {
    "duration": 199,
    "start_time": "2024-03-16T20:33:46.620Z"
   },
   {
    "duration": 115,
    "start_time": "2024-03-16T20:33:46.820Z"
   },
   {
    "duration": 93,
    "start_time": "2024-03-16T20:33:46.936Z"
   },
   {
    "duration": 7,
    "start_time": "2024-03-16T20:33:47.030Z"
   },
   {
    "duration": 24,
    "start_time": "2024-03-16T20:33:47.039Z"
   },
   {
    "duration": 24,
    "start_time": "2024-03-16T20:33:47.064Z"
   },
   {
    "duration": 30,
    "start_time": "2024-03-16T20:33:47.092Z"
   },
   {
    "duration": 33,
    "start_time": "2024-03-16T20:33:47.123Z"
   },
   {
    "duration": 42,
    "start_time": "2024-03-16T20:33:47.158Z"
   },
   {
    "duration": 28,
    "start_time": "2024-03-16T20:33:47.201Z"
   },
   {
    "duration": 33,
    "start_time": "2024-03-16T20:33:47.230Z"
   },
   {
    "duration": 28,
    "start_time": "2024-03-16T20:33:47.264Z"
   },
   {
    "duration": 30,
    "start_time": "2024-03-16T20:33:47.293Z"
   },
   {
    "duration": 23,
    "start_time": "2024-03-16T20:33:47.325Z"
   },
   {
    "duration": 22,
    "start_time": "2024-03-16T20:33:47.350Z"
   },
   {
    "duration": 22,
    "start_time": "2024-03-16T20:33:47.373Z"
   },
   {
    "duration": 38,
    "start_time": "2024-03-16T20:33:47.397Z"
   },
   {
    "duration": 134,
    "start_time": "2024-03-16T20:33:47.436Z"
   },
   {
    "duration": 7,
    "start_time": "2024-03-16T20:33:47.572Z"
   },
   {
    "duration": 25,
    "start_time": "2024-03-16T20:33:47.580Z"
   },
   {
    "duration": 56,
    "start_time": "2024-03-16T20:33:47.606Z"
   },
   {
    "duration": 12,
    "start_time": "2024-03-16T20:33:47.663Z"
   },
   {
    "duration": 312,
    "start_time": "2024-03-16T20:33:47.676Z"
   },
   {
    "duration": 8,
    "start_time": "2024-03-16T20:33:47.990Z"
   },
   {
    "duration": 292,
    "start_time": "2024-03-16T20:33:47.999Z"
   },
   {
    "duration": 8,
    "start_time": "2024-03-16T20:33:48.293Z"
   },
   {
    "duration": 287,
    "start_time": "2024-03-16T20:33:48.302Z"
   },
   {
    "duration": 8,
    "start_time": "2024-03-16T20:33:48.590Z"
   },
   {
    "duration": 369,
    "start_time": "2024-03-16T20:33:48.600Z"
   },
   {
    "duration": 8,
    "start_time": "2024-03-16T20:33:48.971Z"
   },
   {
    "duration": 171,
    "start_time": "2024-03-16T20:33:48.980Z"
   },
   {
    "duration": 13,
    "start_time": "2024-03-16T20:33:49.153Z"
   },
   {
    "duration": 220,
    "start_time": "2024-03-16T20:33:49.167Z"
   },
   {
    "duration": 8,
    "start_time": "2024-03-16T20:33:49.388Z"
   },
   {
    "duration": 151,
    "start_time": "2024-03-16T20:33:49.397Z"
   },
   {
    "duration": 16,
    "start_time": "2024-03-16T20:33:49.550Z"
   },
   {
    "duration": 237,
    "start_time": "2024-03-16T20:33:49.567Z"
   },
   {
    "duration": 16,
    "start_time": "2024-03-16T20:33:49.806Z"
   },
   {
    "duration": 544,
    "start_time": "2024-03-16T20:33:49.823Z"
   },
   {
    "duration": 298,
    "start_time": "2024-03-16T20:33:50.369Z"
   },
   {
    "duration": 372,
    "start_time": "2024-03-16T20:33:50.669Z"
   },
   {
    "duration": 8,
    "start_time": "2024-03-16T20:33:51.043Z"
   },
   {
    "duration": 37,
    "start_time": "2024-03-16T20:33:51.052Z"
   },
   {
    "duration": 154,
    "start_time": "2024-03-16T20:33:51.091Z"
   },
   {
    "duration": 151,
    "start_time": "2024-03-16T20:33:51.246Z"
   },
   {
    "duration": 136,
    "start_time": "2024-03-16T20:33:51.399Z"
   },
   {
    "duration": 150,
    "start_time": "2024-03-16T20:33:51.537Z"
   },
   {
    "duration": 153,
    "start_time": "2024-03-16T20:33:51.688Z"
   },
   {
    "duration": 171,
    "start_time": "2024-03-16T20:33:51.843Z"
   },
   {
    "duration": 167,
    "start_time": "2024-03-16T20:33:52.015Z"
   },
   {
    "duration": 175,
    "start_time": "2024-03-16T20:33:52.184Z"
   },
   {
    "duration": 31,
    "start_time": "2024-03-16T20:33:52.360Z"
   },
   {
    "duration": 161,
    "start_time": "2024-03-16T20:33:52.393Z"
   },
   {
    "duration": 758,
    "start_time": "2024-03-19T23:31:16.730Z"
   },
   {
    "duration": 30,
    "start_time": "2024-03-19T23:31:17.490Z"
   },
   {
    "duration": 14,
    "start_time": "2024-03-19T23:31:17.521Z"
   },
   {
    "duration": 3,
    "start_time": "2024-03-19T23:31:17.537Z"
   },
   {
    "duration": 22,
    "start_time": "2024-03-19T23:31:17.541Z"
   },
   {
    "duration": 8,
    "start_time": "2024-03-19T23:31:17.565Z"
   },
   {
    "duration": 1905,
    "start_time": "2024-03-19T23:31:17.574Z"
   },
   {
    "duration": 6,
    "start_time": "2024-03-19T23:31:19.480Z"
   },
   {
    "duration": 12,
    "start_time": "2024-03-19T23:31:19.487Z"
   },
   {
    "duration": 17,
    "start_time": "2024-03-19T23:31:19.502Z"
   },
   {
    "duration": 16,
    "start_time": "2024-03-19T23:31:19.520Z"
   },
   {
    "duration": 12,
    "start_time": "2024-03-19T23:31:19.537Z"
   },
   {
    "duration": 4,
    "start_time": "2024-03-19T23:31:19.551Z"
   },
   {
    "duration": 7,
    "start_time": "2024-03-19T23:31:19.556Z"
   },
   {
    "duration": 7,
    "start_time": "2024-03-19T23:31:19.565Z"
   },
   {
    "duration": 17,
    "start_time": "2024-03-19T23:31:19.573Z"
   },
   {
    "duration": 7,
    "start_time": "2024-03-19T23:31:19.591Z"
   },
   {
    "duration": 17,
    "start_time": "2024-03-19T23:31:19.599Z"
   },
   {
    "duration": 2,
    "start_time": "2024-03-19T23:31:19.618Z"
   },
   {
    "duration": 5,
    "start_time": "2024-03-19T23:31:19.621Z"
   },
   {
    "duration": 3,
    "start_time": "2024-03-19T23:31:19.627Z"
   },
   {
    "duration": 4,
    "start_time": "2024-03-19T23:31:19.631Z"
   },
   {
    "duration": 148,
    "start_time": "2024-03-19T23:31:19.636Z"
   },
   {
    "duration": 5,
    "start_time": "2024-03-19T23:31:19.786Z"
   },
   {
    "duration": 22,
    "start_time": "2024-03-19T23:31:19.793Z"
   },
   {
    "duration": 6,
    "start_time": "2024-03-19T23:31:19.816Z"
   },
   {
    "duration": 23,
    "start_time": "2024-03-19T23:31:19.823Z"
   },
   {
    "duration": 9,
    "start_time": "2024-03-19T23:31:19.850Z"
   },
   {
    "duration": 2,
    "start_time": "2024-03-19T23:31:19.860Z"
   },
   {
    "duration": 4,
    "start_time": "2024-03-19T23:31:19.864Z"
   },
   {
    "duration": 94,
    "start_time": "2024-03-19T23:31:19.870Z"
   },
   {
    "duration": 135,
    "start_time": "2024-03-19T23:31:19.966Z"
   },
   {
    "duration": 25,
    "start_time": "2024-03-19T23:31:20.102Z"
   },
   {
    "duration": 175,
    "start_time": "2024-03-19T23:31:20.128Z"
   },
   {
    "duration": 15,
    "start_time": "2024-03-19T23:31:20.306Z"
   },
   {
    "duration": 3,
    "start_time": "2024-03-19T23:31:20.322Z"
   },
   {
    "duration": 5,
    "start_time": "2024-03-19T23:31:20.326Z"
   },
   {
    "duration": 138,
    "start_time": "2024-03-19T23:31:20.333Z"
   },
   {
    "duration": 4,
    "start_time": "2024-03-19T23:31:20.473Z"
   },
   {
    "duration": 13,
    "start_time": "2024-03-19T23:31:20.479Z"
   },
   {
    "duration": 3,
    "start_time": "2024-03-19T23:31:20.493Z"
   },
   {
    "duration": 18,
    "start_time": "2024-03-19T23:31:20.497Z"
   },
   {
    "duration": 123,
    "start_time": "2024-03-19T23:31:20.516Z"
   },
   {
    "duration": 4,
    "start_time": "2024-03-19T23:31:20.641Z"
   },
   {
    "duration": 13,
    "start_time": "2024-03-19T23:31:20.646Z"
   },
   {
    "duration": 7,
    "start_time": "2024-03-19T23:31:20.661Z"
   },
   {
    "duration": 125,
    "start_time": "2024-03-19T23:31:20.669Z"
   },
   {
    "duration": 4,
    "start_time": "2024-03-19T23:31:20.795Z"
   },
   {
    "duration": 139,
    "start_time": "2024-03-19T23:31:20.801Z"
   },
   {
    "duration": 9,
    "start_time": "2024-03-19T23:31:20.941Z"
   },
   {
    "duration": 7,
    "start_time": "2024-03-19T23:31:20.951Z"
   },
   {
    "duration": 8,
    "start_time": "2024-03-19T23:31:20.959Z"
   },
   {
    "duration": 10,
    "start_time": "2024-03-19T23:31:20.969Z"
   },
   {
    "duration": 34,
    "start_time": "2024-03-19T23:31:20.981Z"
   },
   {
    "duration": 113,
    "start_time": "2024-03-19T23:31:21.016Z"
   },
   {
    "duration": 7,
    "start_time": "2024-03-19T23:31:21.130Z"
   },
   {
    "duration": 10,
    "start_time": "2024-03-19T23:31:21.138Z"
   },
   {
    "duration": 9,
    "start_time": "2024-03-19T23:31:21.150Z"
   },
   {
    "duration": 13,
    "start_time": "2024-03-19T23:31:21.160Z"
   },
   {
    "duration": 25,
    "start_time": "2024-03-19T23:31:21.175Z"
   },
   {
    "duration": 21,
    "start_time": "2024-03-19T23:31:21.202Z"
   },
   {
    "duration": 6,
    "start_time": "2024-03-19T23:31:21.224Z"
   },
   {
    "duration": 11,
    "start_time": "2024-03-19T23:31:21.232Z"
   },
   {
    "duration": 346,
    "start_time": "2024-03-19T23:31:21.244Z"
   },
   {
    "duration": 7,
    "start_time": "2024-03-19T23:31:21.592Z"
   },
   {
    "duration": 16,
    "start_time": "2024-03-19T23:31:21.600Z"
   },
   {
    "duration": 23,
    "start_time": "2024-03-19T23:31:21.617Z"
   },
   {
    "duration": 8,
    "start_time": "2024-03-19T23:31:21.641Z"
   },
   {
    "duration": 130,
    "start_time": "2024-03-19T23:31:21.650Z"
   },
   {
    "duration": 181,
    "start_time": "2024-03-19T23:31:21.782Z"
   },
   {
    "duration": 11,
    "start_time": "2024-03-19T23:31:21.964Z"
   },
   {
    "duration": 188,
    "start_time": "2024-03-19T23:31:21.977Z"
   },
   {
    "duration": 8,
    "start_time": "2024-03-19T23:31:22.166Z"
   },
   {
    "duration": 7,
    "start_time": "2024-03-19T23:31:22.176Z"
   },
   {
    "duration": 217,
    "start_time": "2024-03-19T23:31:22.185Z"
   },
   {
    "duration": 14,
    "start_time": "2024-03-19T23:31:22.403Z"
   },
   {
    "duration": 201,
    "start_time": "2024-03-19T23:31:22.419Z"
   },
   {
    "duration": 8,
    "start_time": "2024-03-19T23:31:22.622Z"
   },
   {
    "duration": 8,
    "start_time": "2024-03-19T23:31:22.632Z"
   },
   {
    "duration": 205,
    "start_time": "2024-03-19T23:31:22.641Z"
   },
   {
    "duration": 10,
    "start_time": "2024-03-19T23:31:22.847Z"
   },
   {
    "duration": 279,
    "start_time": "2024-03-19T23:31:22.863Z"
   },
   {
    "duration": 8,
    "start_time": "2024-03-19T23:31:23.144Z"
   },
   {
    "duration": 4,
    "start_time": "2024-03-19T23:31:23.153Z"
   },
   {
    "duration": 135,
    "start_time": "2024-03-19T23:31:23.159Z"
   },
   {
    "duration": 188,
    "start_time": "2024-03-19T23:31:23.296Z"
   },
   {
    "duration": 10,
    "start_time": "2024-03-19T23:31:23.485Z"
   },
   {
    "duration": 149,
    "start_time": "2024-03-19T23:31:23.496Z"
   },
   {
    "duration": 207,
    "start_time": "2024-03-19T23:31:23.646Z"
   },
   {
    "duration": 3,
    "start_time": "2024-03-19T23:31:23.855Z"
   },
   {
    "duration": 8,
    "start_time": "2024-03-19T23:31:23.860Z"
   },
   {
    "duration": 15,
    "start_time": "2024-03-19T23:31:23.869Z"
   },
   {
    "duration": 134,
    "start_time": "2024-03-19T23:31:23.886Z"
   },
   {
    "duration": 204,
    "start_time": "2024-03-19T23:31:24.022Z"
   },
   {
    "duration": 8,
    "start_time": "2024-03-19T23:31:24.228Z"
   },
   {
    "duration": 145,
    "start_time": "2024-03-19T23:31:24.238Z"
   },
   {
    "duration": 125,
    "start_time": "2024-03-19T23:31:24.385Z"
   },
   {
    "duration": 245,
    "start_time": "2024-03-19T23:31:24.515Z"
   },
   {
    "duration": 8,
    "start_time": "2024-03-19T23:31:24.762Z"
   },
   {
    "duration": 128,
    "start_time": "2024-03-19T23:31:24.771Z"
   },
   {
    "duration": 153,
    "start_time": "2024-03-19T23:31:24.901Z"
   },
   {
    "duration": 4,
    "start_time": "2024-03-19T23:31:25.056Z"
   },
   {
    "duration": 146,
    "start_time": "2024-03-19T23:31:25.061Z"
   },
   {
    "duration": 150,
    "start_time": "2024-03-19T23:31:25.209Z"
   },
   {
    "duration": 8,
    "start_time": "2024-03-19T23:31:25.361Z"
   },
   {
    "duration": 161,
    "start_time": "2024-03-19T23:31:25.370Z"
   },
   {
    "duration": 117,
    "start_time": "2024-03-19T23:31:25.533Z"
   },
   {
    "duration": 164,
    "start_time": "2024-03-19T23:31:25.652Z"
   },
   {
    "duration": 7,
    "start_time": "2024-03-19T23:31:25.818Z"
   },
   {
    "duration": 153,
    "start_time": "2024-03-19T23:31:25.827Z"
   },
   {
    "duration": 213,
    "start_time": "2024-03-19T23:31:25.981Z"
   },
   {
    "duration": 9,
    "start_time": "2024-03-19T23:31:26.195Z"
   },
   {
    "duration": 28,
    "start_time": "2024-03-19T23:31:26.206Z"
   },
   {
    "duration": 143,
    "start_time": "2024-03-19T23:31:26.235Z"
   },
   {
    "duration": 11,
    "start_time": "2024-03-19T23:31:26.379Z"
   },
   {
    "duration": 334,
    "start_time": "2024-03-19T23:31:26.392Z"
   },
   {
    "duration": 8,
    "start_time": "2024-03-19T23:31:26.728Z"
   },
   {
    "duration": 191,
    "start_time": "2024-03-19T23:31:26.737Z"
   },
   {
    "duration": 8,
    "start_time": "2024-03-19T23:31:26.930Z"
   },
   {
    "duration": 190,
    "start_time": "2024-03-19T23:31:26.939Z"
   },
   {
    "duration": 168,
    "start_time": "2024-03-19T23:31:27.131Z"
   },
   {
    "duration": 179,
    "start_time": "2024-03-19T23:31:27.300Z"
   },
   {
    "duration": 161,
    "start_time": "2024-03-19T23:31:27.480Z"
   },
   {
    "duration": 153,
    "start_time": "2024-03-19T23:31:27.643Z"
   },
   {
    "duration": 162,
    "start_time": "2024-03-19T23:31:27.798Z"
   },
   {
    "duration": 182,
    "start_time": "2024-03-19T23:31:27.961Z"
   },
   {
    "duration": 305,
    "start_time": "2024-03-19T23:31:28.145Z"
   },
   {
    "duration": 34,
    "start_time": "2024-03-19T23:31:28.451Z"
   },
   {
    "duration": 39,
    "start_time": "2024-03-19T23:31:28.487Z"
   },
   {
    "duration": 182,
    "start_time": "2024-03-19T23:31:28.527Z"
   }
  ],
  "colab": {
   "provenance": []
  },
  "kernelspec": {
   "display_name": "Python 3 (ipykernel)",
   "language": "python",
   "name": "python3"
  },
  "language_info": {
   "codemirror_mode": {
    "name": "ipython",
    "version": 3
   },
   "file_extension": ".py",
   "mimetype": "text/x-python",
   "name": "python",
   "nbconvert_exporter": "python",
   "pygments_lexer": "ipython3",
   "version": "3.9.12"
  },
  "toc": {
   "base_numbering": 1,
   "nav_menu": {},
   "number_sections": true,
   "sideBar": true,
   "skip_h1_title": true,
   "title_cell": "Table of Contents",
   "title_sidebar": "Contents",
   "toc_cell": false,
   "toc_position": {},
   "toc_section_display": true,
   "toc_window_display": false
  }
 },
 "nbformat": 4,
 "nbformat_minor": 1
}
